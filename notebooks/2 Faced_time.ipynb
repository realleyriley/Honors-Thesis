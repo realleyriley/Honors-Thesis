{
 "cells": [
  {
   "cell_type": "markdown",
   "metadata": {},
   "source": [
    "# Faced_time\n",
    "Time the face detector from [this repo](https://github.com/iitzco/faced?source=post_page---------------------------) which was discovered from [this great article](https://towardsdatascience.com/faced-cpu-real-time-face-detection-using-deep-learning-1488681c1602)\n",
    "\n",
    "Actually use [this repo](https://github.com/Rysias/faced.git) which fixed an installation error"
   ]
  },
  {
   "cell_type": "code",
   "execution_count": null,
   "metadata": {
    "ExecuteTime": {
     "end_time": "2019-08-10T18:41:04.802738Z",
     "start_time": "2019-08-10T18:41:02.402648Z"
    },
    "scrolled": true
   },
   "outputs": [],
   "source": [
    "import cv2\n",
    "import os\n",
    "import sys\n",
    "import pdb\n",
    "import imutils\n",
    "\n",
    "from faced import FaceDetector\n",
    "from faced.utils import annotate_image\n",
    "\n",
    "face_detector = FaceDetector()"
   ]
  },
  {
   "cell_type": "code",
   "execution_count": 2,
   "metadata": {
    "ExecuteTime": {
     "end_time": "2019-08-10T18:41:04.820726Z",
     "start_time": "2019-08-10T18:41:04.809719Z"
    }
   },
   "outputs": [],
   "source": [
    "images_list = os.listdir('..//data//images')\n",
    "\n",
    "img_path = '..//data//images//'"
   ]
  },
  {
   "cell_type": "code",
   "execution_count": null,
   "metadata": {
    "ExecuteTime": {
     "end_time": "2019-08-10T03:58:26.812547Z",
     "start_time": "2019-08-10T03:58:23.860526Z"
    }
   },
   "outputs": [],
   "source": [
    "img = cv2.imread(img_path + images_list[i])\n",
    "rgb_img = cv2.cvtColor(img.copy(), cv2.COLOR_BGR2RGB)\n",
    "\n",
    "# Receives RGB numpy image (HxWxC) and\n",
    "# returns (x_center, y_center, width, height, confidence) tuples. \n",
    "bboxes = face_detector.predict(rgb_img, thresh=.85)\n",
    "bboxes"
   ]
  },
  {
   "cell_type": "code",
   "execution_count": 3,
   "metadata": {
    "ExecuteTime": {
     "end_time": "2019-08-10T18:41:09.614876Z",
     "start_time": "2019-08-10T18:41:09.607897Z"
    }
   },
   "outputs": [],
   "source": [
    "# Use this utils function to annotate the image.\n",
    "def annotate_and_show(img, bboxes, title='image'):\n",
    "    ann_img = annotate_image(img, bboxes)\n",
    "    cv2.imshow(title,ann_img)\n",
    "    cv2.waitKey(0)\n",
    "    cv2.destroyAllWindows()"
   ]
  },
  {
   "cell_type": "markdown",
   "metadata": {},
   "source": [
    "# Test the predictor\n",
    "We want to get the accuracy and precision of the model for our 4-class classification problem."
   ]
  },
  {
   "cell_type": "code",
   "execution_count": 18,
   "metadata": {
    "ExecuteTime": {
     "end_time": "2019-08-10T19:40:48.989489Z",
     "start_time": "2019-08-10T19:40:48.974568Z"
    }
   },
   "outputs": [],
   "source": [
    "# feed in rgb images\n",
    "def predict_orientation(image, thresh=0.85, debug=False):\n",
    "    def get_confidence(rgb_img):\n",
    "#         pdb.set_trace()\n",
    "        bboxes = face_detector.predict(rgb_img, thresh=thresh)\n",
    "        if(len(bboxes)>1):\n",
    "            annotate_and_show(rgb_img, bboxes, 'get_confidence')\n",
    "        if(len(bboxes) < 1):\n",
    "            return -1       # returns -1 if it doesn't find a face\n",
    "        best_box = bboxes[0][4]\n",
    "        if(len(bboxes) > 1):   # if we detect more than one face\n",
    "            print(bboxes)\n",
    "            annotate_and_show(rgb_img, bboxes, 'get_confidence')\n",
    "            best_box = 0       # keep the max probability box (best_box)\n",
    "            for box in bboxes:\n",
    "                if(box[4] > best_box):\n",
    "                    best_box = box[4]\n",
    "        return best_box    # return the confidence\n",
    "    \n",
    "    # test vertical orientation:\n",
    "    max_confidence = get_confidence(image)\n",
    "    if(debug):\n",
    "        print(max_confidence)\n",
    "        \n",
    "    if(max_confidence == -1):\n",
    "        return_class = -1\n",
    "    else:\n",
    "        return_class = 0\n",
    "        \n",
    "    for angle in [90, 180, 270]:    # rotating clockwise\n",
    "        temp = get_confidence(imutils.rotate(image, angle))\n",
    "        if(temp > max_confidence):      # rotate image and get confidence\n",
    "            max_confidence = temp\n",
    "            return_class = 360-angle\n",
    "           \n",
    "    return return_class"
   ]
  },
  {
   "cell_type": "markdown",
   "metadata": {},
   "source": [
    "Test a few images to make sure the function works"
   ]
  },
  {
   "cell_type": "code",
   "execution_count": 19,
   "metadata": {
    "ExecuteTime": {
     "end_time": "2019-08-10T19:40:53.407220Z",
     "start_time": "2019-08-10T19:40:53.130959Z"
    }
   },
   "outputs": [
    {
     "name": "stdout",
     "output_type": "stream",
     "text": [
      "face_000205.jpg\n"
     ]
    },
    {
     "data": {
      "text/plain": [
       "0"
      ]
     },
     "execution_count": 19,
     "metadata": {},
     "output_type": "execute_result"
    }
   ],
   "source": [
    "t = 5\n",
    "print(images_list[t])\n",
    "img = cv2.imread(img_path + imag es_list[t])\n",
    "rgb_img = cv2.cvtColor(img.copy(), cv2.COLOR_BGR2RGB)\n",
    "predict_orientation(rgb_img)"
   ]
  },
  {
   "cell_type": "code",
   "execution_count": null,
   "metadata": {},
   "outputs": [],
   "source": []
  },
  {
   "cell_type": "markdown",
   "metadata": {},
   "source": [
    "## Get the Confusion matrix"
   ]
  },
  {
   "cell_type": "code",
   "execution_count": 7,
   "metadata": {
    "ExecuteTime": {
     "end_time": "2019-08-10T19:12:13.609100Z",
     "start_time": "2019-08-10T19:12:13.600124Z"
    }
   },
   "outputs": [],
   "source": [
    "def test_correct(o, image):\n",
    "    if(o == 0 and len(image) < 16):\n",
    "        return True\n",
    "    if(str(o) == image[12:14]):\n",
    "        return True\n",
    "    if(str(o) == image[12:15]):\n",
    "        return True\n",
    "    return False"
   ]
  },
  {
   "cell_type": "code",
   "execution_count": 8,
   "metadata": {
    "ExecuteTime": {
     "end_time": "2019-08-10T19:12:16.571310Z",
     "start_time": "2019-08-10T19:12:16.566323Z"
    }
   },
   "outputs": [
    {
     "name": "stdout",
     "output_type": "stream",
     "text": [
      "Testing 100 images\n"
     ]
    }
   ],
   "source": [
    "correct_class = 0\n",
    "incorrect_class = 0\n",
    "no_class = 0\n",
    "total = len(images_list)\n",
    "print(\"Testing \" + str(total) + \" images\")"
   ]
  },
  {
   "cell_type": "code",
   "execution_count": 12,
   "metadata": {
    "ExecuteTime": {
     "end_time": "2019-08-10T19:13:38.054857Z",
     "start_time": "2019-08-10T19:12:57.513451Z"
    },
    "scrolled": true
   },
   "outputs": [
    {
     "name": "stdout",
     "output_type": "stream",
     "text": [
      "[(256, 250, 149, 145, 0.99454486), (459, 246, 55, 90, 0.8662616)]\n",
      "[(257, 250, 150, 145, 0.9943738), (459, 246, 55, 90, 0.86768675)]\n",
      "[(256, 250, 150, 145, 0.99443626), (458, 244, 54, 89, 0.8618542)]\n",
      "[(257, 250, 150, 145, 0.9945204), (459, 244, 54, 89, 0.86929214)]\n"
     ]
    }
   ],
   "source": [
    "for image in images_list:\n",
    "    img = cv2.imread(img_path + image)\n",
    "    rgb_img = cv2.cvtColor(img.copy(), cv2.COLOR_BGR2RGB)\n",
    "#     pdb.set_trace()\n",
    "    orientation = predict_orientation(rgb_img)\n",
    "    \n",
    "    if(orientation == -1):\n",
    "        no_class += 1\n",
    "    elif(test_correct(orientation, image)):\n",
    "        correct_class += 1\n",
    "    else:\n",
    "        incorrect_class += 1"
   ]
  },
  {
   "cell_type": "code",
   "execution_count": 16,
   "metadata": {
    "ExecuteTime": {
     "end_time": "2019-08-10T19:19:37.843139Z",
     "start_time": "2019-08-10T19:19:37.837155Z"
    }
   },
   "outputs": [
    {
     "name": "stdout",
     "output_type": "stream",
     "text": [
      "Correct Class: 0.760\n",
      "Incorrect Class: 0.200\n",
      "No Class: 0.040\n"
     ]
    }
   ],
   "source": [
    "print(\"Correct Class: {:.3f}\\nIncorrect Class: {:.3f}\\nNo Class: {:.3f}\".format(correct_class/total, incorrect_class/total, no_class/total))"
   ]
  },
  {
   "cell_type": "code",
   "execution_count": null,
   "metadata": {
    "ExecuteTime": {
     "start_time": "2019-08-10T18:40:47.545Z"
    }
   },
   "outputs": [],
   "source": [
    "cv2.destroyAllWindows()"
   ]
  },
  {
   "cell_type": "markdown",
   "metadata": {},
   "source": [
    "# Results\n",
    "The pre-trained model scored 0.76 accuracy. I think I can do better with my own classifier :)"
   ]
  }
 ],
 "metadata": {
  "kernelspec": {
   "display_name": "thesis",
   "language": "python",
   "name": "thesis"
  },
  "language_info": {
   "codemirror_mode": {
    "name": "ipython",
    "version": 3
   },
   "file_extension": ".py",
   "mimetype": "text/x-python",
   "name": "python",
   "nbconvert_exporter": "python",
   "pygments_lexer": "ipython3",
   "version": "3.6.8"
  },
  "toc": {
   "base_numbering": 1,
   "nav_menu": {},
   "number_sections": true,
   "sideBar": true,
   "skip_h1_title": false,
   "title_cell": "Table of Contents",
   "title_sidebar": "Contents",
   "toc_cell": false,
   "toc_position": {},
   "toc_section_display": true,
   "toc_window_display": false
  }
 },
 "nbformat": 4,
 "nbformat_minor": 2
}
