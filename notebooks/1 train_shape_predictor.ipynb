{
 "cells": [
  {
   "cell_type": "markdown",
   "metadata": {},
   "source": [
    "# Train Shape Predictor\n",
    "This notebook will be used to run various tests on training shape predictors\n",
    "\n",
    "Original Predictor: [github site link](https://github.com/davisking/dlib-models)\n",
    "Original Data: [direct downnload link](http://dlib.net/files/data/dlib_faces_5points.tar)\n",
    "\n"
   ]
  },
  {
   "cell_type": "code",
   "execution_count": 25,
   "metadata": {},
   "outputs": [],
   "source": [
    "import os\n",
    "import sys\n",
    "import glob\n",
    "import dlib\n",
    "from timeit import default_timer as timer\n",
    "\n",
    "og_folder = '..//dlib_faces_5points_og//'\n",
    "faces_folder = '..//images//'\n",
    "models = '..//models//'\n",
    "training_xml_path = '..//train_rotated.xml'\n",
    "testing_xml_path = '..//test_rotated.xml'"
   ]
  },
  {
   "cell_type": "markdown",
   "metadata": {},
   "source": [
    "# The pre-trained predictor\n",
    "There is a pre-trained predictor called `shape_predictor_5_face_landmarks.dat`. Lets see what it's accuracy is on the original training and testing images."
   ]
  },
  {
   "cell_type": "code",
   "execution_count": 26,
   "metadata": {},
   "outputs": [
    {
     "name": "stdout",
     "output_type": "stream",
     "text": [
      "Training accuracy: 1.9639046996281124\n",
      " Testing accuracy: 2.913862487560856\n"
     ]
    }
   ],
   "source": [
    "print(\"Training accuracy: {0:.2f}\\n\".format(\n",
    "    dlib.test_shape_predictor(og_folder+'train_cleaned.xml', models+'shape_predictor_5_face_landmarks_og.dat')),\n",
    "     \"Testing accuracy: {0:.2f}\".format(\n",
    "     dlib.test_shape_predictor(og_folder+'test_cleaned.xml', models+'shape_predictor_5_face_landmarks_og.dat')))"
   ]
  },
  {
   "cell_type": "markdown",
   "metadata": {},
   "source": [
    "We want our predictor to have similar accuracy\n",
    "\n",
    "//TODO: figure out what those numbers mean\n",
    "\n",
    "Just for fun, lets see what the og predictor gets for the rotated images"
   ]
  },
  {
   "cell_type": "code",
   "execution_count": 33,
   "metadata": {},
   "outputs": [
    {
     "name": "stdout",
     "output_type": "stream",
     "text": [
      "Training accuracy: 64.47\n",
      " Testing accuracy: 75.06\n"
     ]
    }
   ],
   "source": [
    "print(\"Training accuracy: {0:.2f}\\n\".format(\n",
    "    dlib.test_shape_predictor(training_xml_path, models+'shape_predictor_5_face_landmarks_og.dat')),\n",
    "     \"Testing accuracy: {0:.2f}\".format(\n",
    "     dlib.test_shape_predictor(testing_xml_path, models+'shape_predictor_5_face_landmarks_og.dat')))"
   ]
  },
  {
   "cell_type": "code",
   "execution_count": null,
   "metadata": {},
   "outputs": [],
   "source": []
  },
  {
   "cell_type": "markdown",
   "metadata": {},
   "source": [
    "# Train a Model\n",
    "We are going to train on 56 rotated images"
   ]
  },
  {
   "cell_type": "code",
   "execution_count": 37,
   "metadata": {},
   "outputs": [
    {
     "name": "stdout",
     "output_type": "stream",
     "text": [
      "Original Model Sample_56 accuracy: 58.28\n",
      "\n"
     ]
    }
   ],
   "source": [
    "print(\"Original Model Sample_56 accuracy: {0:.2f}\\n\".format(\n",
    "    dlib.test_shape_predictor('..//train_rotated_56.xml', models+'shape_predictor_5_face_landmarks_og.dat')))"
   ]
  },
  {
   "cell_type": "markdown",
   "metadata": {},
   "source": [
    "[Documentation for options](http://dlib.net/python/index.html)"
   ]
  },
  {
   "cell_type": "code",
   "execution_count": 39,
   "metadata": {},
   "outputs": [],
   "source": [
    "options = dlib.shape_predictor_training_options()\n",
    "options.oversampling_amount = 100\n",
    "options.be_verbose = True\n",
    "options.cascade_depth = 10      # lets bump this up from 10\n",
    "options.num_threads = 4\n",
    "\n",
    "model_name = '10_cascades_56.dat'\n",
    "\n",
    "print('Beginning to train....')\n",
    "start_time = timer()\n",
    "dlib.train_shape_predictor('..//train_rotated_56.xml', models+model_name, options)\n",
    "\n",
    "print('Training took ', timer() - start_time)\n",
    "\n",
    "print(new_model_name+' testing accuracy: {0:.2f}\\n'.format(\n",
    "    dlib.test_shape_predictor('..//test_rotated.xml', models+new_model_name)))"
   ]
  },
  {
   "cell_type": "markdown",
   "metadata": {},
   "source": [
    "We are already better than the original! Not by much though"
   ]
  },
  {
   "cell_type": "markdown",
   "metadata": {},
   "source": [
    "# Sample 56 #2\n",
    "cascade_depth:  10 &rarr; 15"
   ]
  },
  {
   "cell_type": "code",
   "execution_count": 50,
   "metadata": {},
   "outputs": [
    {
     "name": "stdout",
     "output_type": "stream",
     "text": [
      "Beginning to train....\n",
      "Training took  71.0444562629109\n",
      "15_cascades_56.dat testing accuracy: 71.53\n",
      "\n"
     ]
    }
   ],
   "source": [
    "options.cascade_depth = 15\n",
    "\n",
    "model_name = '15_cascades_56.dat'\n",
    "\n",
    "start_time = timer()\n",
    "dlib.train_shape_predictor('..//train_rotated_56.xml', models+model_name, options)\n",
    "\n",
    "print('Training took ', timer() - start_time)\n",
    "\n",
    "print(model_name+' testing accuracy: {0:.2f}\\n'.format(\n",
    "    dlib.test_shape_predictor('..//test_rotated.xml', models+model_name)))"
   ]
  },
  {
   "cell_type": "code",
   "execution_count": null,
   "metadata": {},
   "outputs": [],
   "source": []
  },
  {
   "cell_type": "markdown",
   "metadata": {},
   "source": [
    "#### Lets compare the rotated scores to non-rotated scores\n",
    "Using 14 images (56/4 = 14)"
   ]
  },
  {
   "cell_type": "code",
   "execution_count": 56,
   "metadata": {},
   "outputs": [
    {
     "name": "stdout",
     "output_type": "stream",
     "text": [
      "Training took  19.533745276994523\n",
      "15_cascades_56_no_rotate.dat testing accuracy: 14.52\n",
      "\n"
     ]
    }
   ],
   "source": [
    "options.cascade_depth = 15\n",
    "\n",
    "model_name = '15_cascades_56_no_rotate.dat'\n",
    "\n",
    "start_time = timer()\n",
    "dlib.train_shape_predictor('..//dlib_faces_5points_og//train_cleaned_56.xml', models+model_name, options)\n",
    "\n",
    "print('Training took ', timer() - start_time)\n",
    "\n",
    "print(model_name+' testing accuracy: {0:.2f}\\n'.format(\n",
    "    dlib.test_shape_predictor('..//dlib_faces_5points_og//test_cleaned.xml', models+model_name)))"
   ]
  },
  {
   "cell_type": "code",
   "execution_count": null,
   "metadata": {},
   "outputs": [],
   "source": []
  },
  {
   "cell_type": "markdown",
   "metadata": {},
   "source": [
    "# Sample 56 #3\n",
    "feature_pool_size:  400 &rarr; 800"
   ]
  },
  {
   "cell_type": "code",
   "execution_count": 67,
   "metadata": {},
   "outputs": [
    {
     "name": "stdout",
     "output_type": "stream",
     "text": [
      "Training took  75.77482636619789\n",
      "15_cascades_56.dat testing accuracy: 71.16\n",
      "\n"
     ]
    }
   ],
   "source": [
    "options.feature_pool_size = 800\n",
    "\n",
    "model_name = '15_cascades_56.dat'\n",
    "try:\n",
    "    os.remove(models+model_name)\n",
    "except:\n",
    "    print(end='')\n",
    "    \n",
    "start_time = timer()\n",
    "dlib.train_shape_predictor('..//train_rotated_56.xml', models+model_name, options)\n",
    "\n",
    "print('Training took ', timer() - start_time)\n",
    "\n",
    "print(model_name+' testing accuracy: {0:.2f}\\n'.format(\n",
    "    dlib.test_shape_predictor('..//test_rotated.xml', models+model_name)))"
   ]
  },
  {
   "cell_type": "markdown",
   "metadata": {},
   "source": [
    "# Sample 56 #4\n",
    "tree_depth:  4 &rarr; 6"
   ]
  },
  {
   "cell_type": "code",
   "execution_count": 69,
   "metadata": {},
   "outputs": [
    {
     "name": "stdout",
     "output_type": "stream",
     "text": [
      "Training took  114.83811996244185\n",
      "15_cascades_56.dat testing accuracy: 71.32\n",
      "\n"
     ]
    }
   ],
   "source": [
    "options.tree_depth = 6\n",
    "\n",
    "model_name = '15_cascades_56.dat'\n",
    "try:\n",
    "    os.remove(models+model_name)\n",
    "except:\n",
    "    print(end='')\n",
    "    \n",
    "start_time = timer()\n",
    "dlib.train_shape_predictor('..//train_rotated_56.xml', models+model_name, options)\n",
    "\n",
    "print('Training took ', timer() - start_time)\n",
    "\n",
    "print(model_name+' testing accuracy: {0:.2f}\\n'.format(\n",
    "    dlib.test_shape_predictor('..//test_rotated.xml', models+model_name)))"
   ]
  },
  {
   "cell_type": "code",
   "execution_count": 68,
   "metadata": {},
   "outputs": [
    {
     "data": {
      "text/plain": [
       "4"
      ]
     },
     "execution_count": 68,
     "metadata": {},
     "output_type": "execute_result"
    }
   ],
   "source": [
    "options.tree_depth"
   ]
  },
  {
   "cell_type": "code",
   "execution_count": null,
   "metadata": {},
   "outputs": [],
   "source": []
  }
 ],
 "metadata": {
  "kernelspec": {
   "display_name": "Python 3",
   "language": "python",
   "name": "python3"
  },
  "language_info": {
   "codemirror_mode": {
    "name": "ipython",
    "version": 3
   },
   "file_extension": ".py",
   "mimetype": "text/x-python",
   "name": "python",
   "nbconvert_exporter": "python",
   "pygments_lexer": "ipython3",
   "version": "3.6.8"
  }
 },
 "nbformat": 4,
 "nbformat_minor": 2
}
