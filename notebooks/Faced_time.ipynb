{
 "cells": [
  {
   "cell_type": "markdown",
   "metadata": {},
   "source": [
    "# Faced_time\n",
    "Time the face detector from [this repo](https://github.com/iitzco/faced?source=post_page---------------------------)"
   ]
  },
  {
   "cell_type": "code",
   "execution_count": 4,
   "metadata": {},
   "outputs": [],
   "source": [
    "import cv2\n",
    "import os\n",
    "import sys\n",
    "\n",
    "from faced import FaceDetector\n",
    "from faced.utils import annotate_image\n",
    "\n",
    "face_detector = FaceDetector()"
   ]
  },
  {
   "cell_type": "code",
   "execution_count": 7,
   "metadata": {},
   "outputs": [],
   "source": [
    "images_list = os.listdir('..//data//images')\n",
    "\n",
    "img_path = '..//data//images//'"
   ]
  },
  {
   "cell_type": "code",
   "execution_count": 8,
   "metadata": {},
   "outputs": [
    {
     "name": "stdout",
     "output_type": "stream",
     "text": [
      "Processing file: face_000159.jpg\n"
     ]
    }
   ],
   "source": [
    "for i in range(50):\n",
    "    print(\"Processing file: {}\".format(images_list[i]))\n",
    "    \n",
    "    break\n",
    "    "
   ]
  },
  {
   "cell_type": "code",
   "execution_count": null,
   "metadata": {},
   "outputs": [],
   "source": [
    "img = cv2.imread(img_path)\n",
    "rgb_img = cv2.cvtColor(img.copy(), cv2.COLOR_BGR2RGB)\n",
    "\n",
    "# Receives RGB numpy image (HxWxC) and\n",
    "# returns (x_center, y_center, width, height, prob) tuples. \n",
    "bboxes = face_detector.predict(rgb_img, thresh)\n",
    "\n",
    "# Use this utils function to annotate the image.\n",
    "ann_img = annotate_image(img, bboxes)\n",
    "\n",
    "# Show the image\n",
    "cv2.imshow('image',ann_img)\n",
    "cv2.waitKey(0)\n",
    "cv2.destroyAllWindows()"
   ]
  },
  {
   "cell_type": "code",
   "execution_count": null,
   "metadata": {},
   "outputs": [],
   "source": [
    "for f in glob.glob(os.path.join(faces_folder, \"*.jpg\")):\n",
    "    print(\"Processing file: {}\".format(f))"
   ]
  },
  {
   "cell_type": "code",
   "execution_count": null,
   "metadata": {},
   "outputs": [],
   "source": []
  }
 ],
 "metadata": {
  "kernelspec": {
   "display_name": "Python 3",
   "language": "python",
   "name": "python3"
  },
  "language_info": {
   "codemirror_mode": {
    "name": "ipython",
    "version": 3
   },
   "file_extension": ".py",
   "mimetype": "text/x-python",
   "name": "python",
   "nbconvert_exporter": "python",
   "pygments_lexer": "ipython3",
   "version": "3.6.8"
  }
 },
 "nbformat": 4,
 "nbformat_minor": 2
}
