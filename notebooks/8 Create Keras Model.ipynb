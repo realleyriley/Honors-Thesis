{
 "cells": [
  {
   "cell_type": "markdown",
   "metadata": {},
   "source": [
    "# Create Keras Model\n",
    "CoreMLTools needs a keras model to convert instead of a tensorflow.keras model😒 so this notebook is for creating a keras model."
   ]
  },
  {
   "cell_type": "markdown",
   "metadata": {},
   "source": [
    "#### Imports and functions"
   ]
  },
  {
   "cell_type": "code",
   "execution_count": 1,
   "metadata": {
    "ExecuteTime": {
     "end_time": "2019-09-06T21:45:31.727666Z",
     "start_time": "2019-09-06T21:45:29.777749Z"
    }
   },
   "outputs": [
    {
     "name": "stderr",
     "output_type": "stream",
     "text": [
      "Using TensorFlow backend.\n"
     ]
    },
    {
     "data": {
      "text/plain": [
       "'2.2.5'"
      ]
     },
     "execution_count": 1,
     "metadata": {},
     "output_type": "execute_result"
    }
   ],
   "source": [
    "import keras\n",
    "keras.__version__"
   ]
  },
  {
   "cell_type": "code",
   "execution_count": 2,
   "metadata": {
    "ExecuteTime": {
     "end_time": "2019-09-06T21:45:38.123740Z",
     "start_time": "2019-09-06T21:45:37.673847Z"
    }
   },
   "outputs": [],
   "source": [
    "from keras import optimizers\n",
    "from keras.layers import Conv2D, MaxPooling2D, AveragePooling2D, BatchNormalization\n",
    "from keras.layers import Input, Dense, Flatten, Dropout, BatchNormalization, Activation\n",
    "from keras import layers\n",
    "from keras.models import Sequential\n",
    "from keras import callbacks\n",
    "from keras.preprocessing import image\n",
    "from keras.preprocessing.image import ImageDataGenerator\n",
    "import numpy as np\n",
    "import matplotlib.pyplot as plt\n",
    "from PIL import Image\n",
    "import os\n",
    "import pdb\n",
    "\n",
    "train_path = '..//data//helen//train_rotated//'\n",
    "test_path = '..//data//helen//test_rotated//'\n",
    "num_classes = 4\n",
    "\n",
    "\n",
    "def plot_figures(figures, nrows=1, ncols=1, size=8):\n",
    "    \"\"\"Plot a dictionary of figures.\n",
    "\n",
    "    Parameters\n",
    "    ----------\n",
    "    figures : <title, figure> dictionary\n",
    "    ncols : number of columns of subplots wanted in the display\n",
    "    nrows : number of rows of subplots wanted in the figure\n",
    "    \"\"\"\n",
    "\n",
    "    fig, axeslist = plt.subplots(\n",
    "        ncols=ncols, nrows=nrows, figsize=(size, size))\n",
    "    for ind, title in enumerate(figures):\n",
    "        axeslist[ind].imshow(figures[title], cmap=plt.gray())\n",
    "        axeslist[ind].set_title(title)\n",
    "        axeslist[ind].set_axis_off()\n",
    "    plt.tight_layout()  # optional\n",
    "\n",
    "\n",
    "def plot_train_history(history):\n",
    "    plt.subplot(1, 2, 1)\n",
    "    plt.plot(history.history['acc'])\n",
    "    plt.plot(history.history['val_acc'])\n",
    "    plt.title('Model accuracy')\n",
    "    plt.ylabel('Accuracy')\n",
    "    plt.xlabel('Epoch')\n",
    "    plt.legend(['Train', 'Test'], loc='upper left')\n",
    "\n",
    "    plt.subplot(1, 2, 2)\n",
    "    plt.plot(history.history['loss'])\n",
    "    plt.plot(history.history['val_loss'])\n",
    "    plt.title('Model loss')\n",
    "    plt.ylabel('Loss')\n",
    "    plt.xlabel('Epoch')\n",
    "    plt.legend(['Train', 'Test'], loc='upper left')\n",
    "    plt.show()\n",
    "\n",
    "\n",
    "x_train = np.load(train_path+'x_train_rotated_bilinear.npy')\n",
    "y_train = np.load(train_path+'y_train_rotated_bilinear.npy')\n",
    "x_test = np.load(test_path+'x_test_rotated_bilinear.npy')\n",
    "y_test = np.load(test_path+'y_test_rotated_bilinear.npy')"
   ]
  },
  {
   "cell_type": "markdown",
   "metadata": {},
   "source": [
    "# Current Best - VGG (standardized, Adam) - 0.9924 (epoch 67)\n",
    "Scaling - Standardize (subtract mean pixel value and divide by standard deviation)\n",
    "\n",
    "Optimizer - Adam\n",
    "\n",
    "We will use the same model architecture as the previous notebook, 4-Class-CNN. We just want to make sure everything is working as expected and test the speed improvements from using images in RAM"
   ]
  },
  {
   "cell_type": "markdown",
   "metadata": {
    "heading_collapsed": true
   },
   "source": [
    "#### Define Train function"
   ]
  },
  {
   "cell_type": "code",
   "execution_count": 3,
   "metadata": {
    "ExecuteTime": {
     "end_time": "2019-09-06T21:45:50.009529Z",
     "start_time": "2019-09-06T21:45:49.998555Z"
    },
    "code_folding": [],
    "hidden": true
   },
   "outputs": [],
   "source": [
    "my_callbacks = [callbacks.EarlyStopping(monitor='val_acc', patience=18, verbose=1, restore_best_weights=True),\n",
    "                callbacks.ReduceLROnPlateau(monitor='val_acc', factor=0.5, patience=5, min_lr=1e-9, mode='auto', verbose=1)]\n",
    "\n",
    "def train(model, epochs=100, initial_epoch=0, batch_size=128, lr=0.01, opt=None, plot_hist='True'):\n",
    "    if not opt:   # if opt is None,\n",
    "        opt = optimizers.Adam(lr=lr, beta_1=0.9, beta_2=0.999, epsilon=None, decay=0.0, amsgrad=False)\n",
    "        \n",
    "    model.compile(loss='sparse_categorical_crossentropy',\n",
    "                  optimizer=opt,\n",
    "                  metrics=['accuracy'])\n",
    "\n",
    "#     can test augmentation techniques like brightness and rotation\n",
    "    train_generator = ImageDataGenerator(featurewise_center=True, featurewise_std_normalization=True)\n",
    "    train_generator.fit(x_train)\n",
    "    train_generator = train_generator.flow(x_train, y_train, seed=11, batch_size=batch_size, shuffle=True)\n",
    "    validation_generator = ImageDataGenerator(featurewise_center=True, featurewise_std_normalization=True)\n",
    "    validation_generator.fit(x_train)\n",
    "    validation_generator = validation_generator.flow(x_test, y_test, seed=11, batch_size=batch_size, shuffle=True)\n",
    "\n",
    "    history = model.fit_generator(generator=train_generator,\n",
    "                                  epochs=epochs+initial_epoch,\n",
    "                                  verbose=1,\n",
    "                                  callbacks=my_callbacks,\n",
    "                                  validation_data=validation_generator,\n",
    "                                  shuffle=True,\n",
    "                                  initial_epoch=initial_epoch)\n",
    "    if(plot_hist):\n",
    "        plot_train_history(history)\n",
    "                \n",
    "    index = history.history['val_acc'].index(max(history.history['val_acc']))\n",
    "    print('Best val_acc - {:.4} (epoch {:})'.format(history.history['val_acc'][index], index+1))\n",
    "    return history, model"
   ]
  },
  {
   "cell_type": "markdown",
   "metadata": {
    "heading_collapsed": true
   },
   "source": [
    "#### Define Model"
   ]
  },
  {
   "cell_type": "code",
   "execution_count": 42,
   "metadata": {
    "ExecuteTime": {
     "end_time": "2019-08-24T00:23:32.317882Z",
     "start_time": "2019-08-24T00:23:31.674816Z"
    },
    "code_folding": [],
    "collapsed": true,
    "hidden": true
   },
   "outputs": [
    {
     "name": "stdout",
     "output_type": "stream",
     "text": [
      "Model: \"sequential_17\"\n",
      "_________________________________________________________________\n",
      "Layer (type)                 Output Shape              Param #   \n",
      "=================================================================\n",
      "conv2d_64 (Conv2D)           (None, 126, 126, 16)      448       \n",
      "_________________________________________________________________\n",
      "batch_normalization_64 (Batc (None, 126, 126, 16)      64        \n",
      "_________________________________________________________________\n",
      "activation_98 (Activation)   (None, 126, 126, 16)      0         \n",
      "_________________________________________________________________\n",
      "conv2d_65 (Conv2D)           (None, 124, 124, 24)      3480      \n",
      "_________________________________________________________________\n",
      "batch_normalization_65 (Batc (None, 124, 124, 24)      96        \n",
      "_________________________________________________________________\n",
      "activation_99 (Activation)   (None, 124, 124, 24)      0         \n",
      "_________________________________________________________________\n",
      "max_pooling2d_40 (MaxPooling (None, 62, 62, 24)        0         \n",
      "_________________________________________________________________\n",
      "dropout_40 (Dropout)         (None, 62, 62, 24)        0         \n",
      "_________________________________________________________________\n",
      "conv2d_66 (Conv2D)           (None, 60, 60, 32)        6944      \n",
      "_________________________________________________________________\n",
      "batch_normalization_66 (Batc (None, 60, 60, 32)        128       \n",
      "_________________________________________________________________\n",
      "activation_100 (Activation)  (None, 60, 60, 32)        0         \n",
      "_________________________________________________________________\n",
      "conv2d_67 (Conv2D)           (None, 58, 58, 32)        9248      \n",
      "_________________________________________________________________\n",
      "batch_normalization_67 (Batc (None, 58, 58, 32)        128       \n",
      "_________________________________________________________________\n",
      "activation_101 (Activation)  (None, 58, 58, 32)        0         \n",
      "_________________________________________________________________\n",
      "max_pooling2d_41 (MaxPooling (None, 29, 29, 32)        0         \n",
      "_________________________________________________________________\n",
      "dropout_41 (Dropout)         (None, 29, 29, 32)        0         \n",
      "_________________________________________________________________\n",
      "conv2d_68 (Conv2D)           (None, 27, 27, 24)        6936      \n",
      "_________________________________________________________________\n",
      "batch_normalization_68 (Batc (None, 27, 27, 24)        96        \n",
      "_________________________________________________________________\n",
      "activation_102 (Activation)  (None, 27, 27, 24)        0         \n",
      "_________________________________________________________________\n",
      "conv2d_69 (Conv2D)           (None, 25, 25, 16)        3472      \n",
      "_________________________________________________________________\n",
      "batch_normalization_69 (Batc (None, 25, 25, 16)        64        \n",
      "_________________________________________________________________\n",
      "activation_103 (Activation)  (None, 25, 25, 16)        0         \n",
      "_________________________________________________________________\n",
      "max_pooling2d_42 (MaxPooling (None, 12, 12, 16)        0         \n",
      "_________________________________________________________________\n",
      "dropout_42 (Dropout)         (None, 12, 12, 16)        0         \n",
      "_________________________________________________________________\n",
      "flatten_17 (Flatten)         (None, 2304)              0         \n",
      "_________________________________________________________________\n",
      "dense_34 (Dense)             (None, 128)               295040    \n",
      "_________________________________________________________________\n",
      "activation_104 (Activation)  (None, 128)               0         \n",
      "_________________________________________________________________\n",
      "dense_35 (Dense)             (None, 4)                 516       \n",
      "_________________________________________________________________\n",
      "activation_105 (Activation)  (None, 4)                 0         \n",
      "=================================================================\n",
      "Total params: 326,660\n",
      "Trainable params: 326,372\n",
      "Non-trainable params: 288\n",
      "_________________________________________________________________\n"
     ]
    }
   ],
   "source": [
    "model_11 = Sequential([\n",
    "    Conv2D(16, (3, 3), strides=(1, 1), input_shape=(128, 128, 3), data_format=\"channels_last\", padding='valid'),   # RGB\n",
    "    BatchNormalization(),\n",
    "    Activation('relu'),\n",
    "    Conv2D(24, (3, 3), strides=(1, 1), padding='valid'),\n",
    "    BatchNormalization(),\n",
    "    Activation('relu'),\n",
    "    MaxPooling2D(pool_size=(2, 2)),\n",
    "    Dropout(0.3),\n",
    "    \n",
    "    Conv2D(32, (3, 3), strides=(1, 1), input_shape=(128, 128, 3), data_format=\"channels_last\", padding='valid'),   # RGB\n",
    "    BatchNormalization(),\n",
    "    Activation('relu'),\n",
    "    Conv2D(32, (3, 3), strides=(1, 1), padding='valid'),\n",
    "    BatchNormalization(),\n",
    "    Activation('relu'),\n",
    "    MaxPooling2D(pool_size=(2, 2)),\n",
    "    Dropout(0.3),\n",
    "    \n",
    "    Conv2D(24, (3, 3), strides=(1, 1), input_shape=(128, 128, 3), data_format=\"channels_last\", padding='valid'),   # RGB\n",
    "    BatchNormalization(),\n",
    "    Activation('relu'),\n",
    "    Conv2D(16, (3, 3), strides=(1, 1), padding='valid'),\n",
    "    BatchNormalization(),\n",
    "    Activation('relu'),\n",
    "    MaxPooling2D(pool_size=(2, 2)),\n",
    "    Dropout(0.3),\n",
    "    \n",
    "    Flatten(),\n",
    "    Dense(128),\n",
    "    Activation('relu'),\n",
    "    Dense(num_classes),\n",
    "    Activation('softmax')\n",
    "])\n",
    "model_11.summary()"
   ]
  },
  {
   "cell_type": "markdown",
   "metadata": {
    "heading_collapsed": true
   },
   "source": [
    "#### Execute Training"
   ]
  },
  {
   "cell_type": "code",
   "execution_count": 43,
   "metadata": {
    "ExecuteTime": {
     "end_time": "2019-08-24T00:32:15.117830Z",
     "start_time": "2019-08-24T00:23:43.560011Z"
    },
    "collapsed": true,
    "hidden": true
   },
   "outputs": [
    {
     "name": "stdout",
     "output_type": "stream",
     "text": [
      "Epoch 1/100\n",
      "63/63 [==============================] - 11s 167ms/step - loss: 1.6212 - acc: 0.3277 - val_loss: 1.3849 - val_acc: 0.2508\n",
      "Epoch 2/100\n",
      "63/63 [==============================] - 6s 93ms/step - loss: 1.1788 - acc: 0.4868 - val_loss: 1.3834 - val_acc: 0.2833\n",
      "Epoch 3/100\n",
      "63/63 [==============================] - 6s 94ms/step - loss: 0.9728 - acc: 0.6028 - val_loss: 1.3487 - val_acc: 0.3371\n",
      "Epoch 4/100\n",
      "63/63 [==============================] - 6s 94ms/step - loss: 0.7689 - acc: 0.6946 - val_loss: 1.2224 - val_acc: 0.5038\n",
      "Epoch 5/100\n",
      "63/63 [==============================] - 6s 95ms/step - loss: 0.5795 - acc: 0.7747 - val_loss: 0.8567 - val_acc: 0.6955\n",
      "Epoch 6/100\n",
      "63/63 [==============================] - 6s 95ms/step - loss: 0.4451 - acc: 0.8389 - val_loss: 0.4774 - val_acc: 0.8333\n",
      "Epoch 7/100\n",
      "63/63 [==============================] - 6s 93ms/step - loss: 0.3595 - acc: 0.8686 - val_loss: 0.3883 - val_acc: 0.8538\n",
      "Epoch 8/100\n",
      "63/63 [==============================] - 6s 93ms/step - loss: 0.2925 - acc: 0.8945 - val_loss: 0.3075 - val_acc: 0.8788\n",
      "Epoch 9/100\n",
      "63/63 [==============================] - 6s 95ms/step - loss: 0.2451 - acc: 0.9136 - val_loss: 0.3648 - val_acc: 0.8682\n",
      "Epoch 10/100\n",
      "63/63 [==============================] - 6s 95ms/step - loss: 0.2056 - acc: 0.9273 - val_loss: 0.1766 - val_acc: 0.9371\n",
      "Epoch 11/100\n",
      "63/63 [==============================] - 6s 93ms/step - loss: 0.1748 - acc: 0.9388 - val_loss: 0.1840 - val_acc: 0.9348\n",
      "Epoch 12/100\n",
      "63/63 [==============================] - 6s 93ms/step - loss: 0.1442 - acc: 0.9489 - val_loss: 0.1587 - val_acc: 0.9470\n",
      "Epoch 13/100\n",
      "63/63 [==============================] - 6s 92ms/step - loss: 0.1224 - acc: 0.9575 - val_loss: 0.1251 - val_acc: 0.9485\n",
      "Epoch 14/100\n",
      "63/63 [==============================] - 6s 93ms/step - loss: 0.1014 - acc: 0.9657 - val_loss: 0.1397 - val_acc: 0.9508\n",
      "Epoch 15/100\n",
      "63/63 [==============================] - 6s 92ms/step - loss: 0.0823 - acc: 0.9729 - val_loss: 0.1566 - val_acc: 0.9364\n",
      "Epoch 16/100\n",
      "63/63 [==============================] - 6s 94ms/step - loss: 0.0755 - acc: 0.9722 - val_loss: 0.1299 - val_acc: 0.9545\n",
      "Epoch 17/100\n",
      "63/63 [==============================] - 6s 94ms/step - loss: 0.0643 - acc: 0.9781 - val_loss: 0.0890 - val_acc: 0.9667\n",
      "Epoch 18/100\n",
      "63/63 [==============================] - 6s 97ms/step - loss: 0.0548 - acc: 0.9810 - val_loss: 0.1007 - val_acc: 0.9598\n",
      "Epoch 19/100\n",
      "63/63 [==============================] - 6s 96ms/step - loss: 0.0461 - acc: 0.9843 - val_loss: 0.0878 - val_acc: 0.9636\n",
      "Epoch 20/100\n",
      "63/63 [==============================] - 6s 96ms/step - loss: 0.0463 - acc: 0.9839 - val_loss: 0.0722 - val_acc: 0.9705\n",
      "Epoch 21/100\n",
      "63/63 [==============================] - 6s 92ms/step - loss: 0.0338 - acc: 0.9887 - val_loss: 0.0689 - val_acc: 0.9697\n",
      "Epoch 22/100\n",
      "63/63 [==============================] - 6s 92ms/step - loss: 0.0373 - acc: 0.9876 - val_loss: 0.1037 - val_acc: 0.9606\n",
      "Epoch 23/100\n",
      "63/63 [==============================] - 6s 92ms/step - loss: 0.0361 - acc: 0.9875 - val_loss: 0.0972 - val_acc: 0.9667\n",
      "Epoch 24/100\n",
      "63/63 [==============================] - 6s 92ms/step - loss: 0.0261 - acc: 0.9918 - val_loss: 0.0781 - val_acc: 0.9720\n",
      "Epoch 25/100\n",
      "63/63 [==============================] - 6s 93ms/step - loss: 0.0306 - acc: 0.9893 - val_loss: 0.0731 - val_acc: 0.9735\n",
      "Epoch 26/100\n",
      "63/63 [==============================] - 6s 92ms/step - loss: 0.0247 - acc: 0.9925 - val_loss: 0.0796 - val_acc: 0.9705\n",
      "Epoch 27/100\n",
      "63/63 [==============================] - 6s 92ms/step - loss: 0.0246 - acc: 0.9920 - val_loss: 0.0913 - val_acc: 0.9735\n",
      "Epoch 28/100\n",
      "63/63 [==============================] - 6s 93ms/step - loss: 0.0269 - acc: 0.9914 - val_loss: 0.0927 - val_acc: 0.9705\n",
      "Epoch 29/100\n",
      "63/63 [==============================] - 6s 92ms/step - loss: 0.0279 - acc: 0.9910 - val_loss: 0.0917 - val_acc: 0.9773\n",
      "Epoch 30/100\n",
      "63/63 [==============================] - 6s 92ms/step - loss: 0.0171 - acc: 0.9946 - val_loss: 0.0617 - val_acc: 0.9765\n",
      "Epoch 31/100\n",
      "63/63 [==============================] - 6s 92ms/step - loss: 0.0190 - acc: 0.9934 - val_loss: 0.0746 - val_acc: 0.9773\n",
      "Epoch 32/100\n",
      "63/63 [==============================] - 6s 92ms/step - loss: 0.0160 - acc: 0.9952 - val_loss: 0.0463 - val_acc: 0.9818\n",
      "Epoch 33/100\n",
      "63/63 [==============================] - 6s 92ms/step - loss: 0.0124 - acc: 0.9956 - val_loss: 0.0697 - val_acc: 0.9803\n",
      "Epoch 34/100\n",
      "63/63 [==============================] - 6s 92ms/step - loss: 0.0180 - acc: 0.9940 - val_loss: 0.0899 - val_acc: 0.9795\n",
      "Epoch 35/100\n",
      "63/63 [==============================] - 6s 93ms/step - loss: 0.0157 - acc: 0.9936 - val_loss: 0.0717 - val_acc: 0.9833\n",
      "Epoch 36/100\n",
      "63/63 [==============================] - 6s 93ms/step - loss: 0.0118 - acc: 0.9965 - val_loss: 0.0752 - val_acc: 0.9795\n",
      "Epoch 37/100\n",
      "63/63 [==============================] - 6s 92ms/step - loss: 0.0237 - acc: 0.9914 - val_loss: 0.0884 - val_acc: 0.9735\n",
      "Epoch 38/100\n",
      "63/63 [==============================] - 6s 93ms/step - loss: 0.0165 - acc: 0.9946 - val_loss: 0.1484 - val_acc: 0.9636\n",
      "Epoch 39/100\n",
      "62/63 [============================>.] - ETA: 0s - loss: 0.0139 - acc: 0.9958\n",
      "Epoch 00039: ReduceLROnPlateau reducing learning rate to 0.0005000000237487257.\n",
      "63/63 [==============================] - 6s 100ms/step - loss: 0.0137 - acc: 0.9959 - val_loss: 0.0840 - val_acc: 0.9765\n",
      "Epoch 40/100\n",
      "63/63 [==============================] - 6s 92ms/step - loss: 0.0070 - acc: 0.9979 - val_loss: 0.0554 - val_acc: 0.9833\n",
      "Epoch 41/100\n",
      "63/63 [==============================] - 6s 95ms/step - loss: 0.0078 - acc: 0.9977 - val_loss: 0.0572 - val_acc: 0.9841\n",
      "Epoch 42/100\n",
      "63/63 [==============================] - 6s 93ms/step - loss: 0.0055 - acc: 0.9983 - val_loss: 0.0531 - val_acc: 0.9811\n",
      "Epoch 43/100\n",
      "63/63 [==============================] - 6s 94ms/step - loss: 0.0062 - acc: 0.9979 - val_loss: 0.0549 - val_acc: 0.9833\n",
      "Epoch 44/100\n",
      "63/63 [==============================] - 6s 92ms/step - loss: 0.0053 - acc: 0.9989 - val_loss: 0.0555 - val_acc: 0.9833\n",
      "Epoch 45/100\n",
      "63/63 [==============================] - 6s 92ms/step - loss: 0.0033 - acc: 0.9994 - val_loss: 0.0427 - val_acc: 0.9871\n",
      "Epoch 46/100\n",
      "63/63 [==============================] - 6s 92ms/step - loss: 0.0047 - acc: 0.9989 - val_loss: 0.0476 - val_acc: 0.9879\n",
      "Epoch 47/100\n",
      "63/63 [==============================] - 6s 92ms/step - loss: 0.0036 - acc: 0.9989 - val_loss: 0.0315 - val_acc: 0.9879\n",
      "Epoch 48/100\n",
      "63/63 [==============================] - 6s 92ms/step - loss: 0.0053 - acc: 0.9981 - val_loss: 0.0295 - val_acc: 0.9871\n",
      "Epoch 49/100\n",
      "63/63 [==============================] - 6s 92ms/step - loss: 0.0050 - acc: 0.9985 - val_loss: 0.0455 - val_acc: 0.9856\n",
      "Epoch 50/100\n",
      "62/63 [============================>.] - ETA: 0s - loss: 0.0041 - acc: 0.9986\n",
      "Epoch 00050: ReduceLROnPlateau reducing learning rate to 0.0002500000118743628.\n",
      "63/63 [==============================] - 6s 93ms/step - loss: 0.0041 - acc: 0.9986 - val_loss: 0.0337 - val_acc: 0.9871\n",
      "Epoch 51/100\n",
      "63/63 [==============================] - 6s 94ms/step - loss: 0.0038 - acc: 0.9992 - val_loss: 0.0312 - val_acc: 0.9864\n",
      "Epoch 52/100\n",
      "63/63 [==============================] - 6s 93ms/step - loss: 0.0023 - acc: 0.9998 - val_loss: 0.0350 - val_acc: 0.9886\n",
      "Epoch 53/100\n",
      "63/63 [==============================] - 6s 92ms/step - loss: 0.0027 - acc: 0.9994 - val_loss: 0.0424 - val_acc: 0.9864\n",
      "Epoch 54/100\n",
      "63/63 [==============================] - 6s 92ms/step - loss: 0.0034 - acc: 0.9989 - val_loss: 0.0299 - val_acc: 0.9909\n",
      "Epoch 55/100\n",
      "63/63 [==============================] - 6s 92ms/step - loss: 0.0020 - acc: 0.9994 - val_loss: 0.0287 - val_acc: 0.9894\n",
      "Epoch 56/100\n",
      "63/63 [==============================] - 6s 93ms/step - loss: 0.0023 - acc: 0.9994 - val_loss: 0.0293 - val_acc: 0.9917\n",
      "Epoch 57/100\n",
      "63/63 [==============================] - 6s 94ms/step - loss: 0.0025 - acc: 0.9994 - val_loss: 0.0300 - val_acc: 0.9894\n",
      "Epoch 58/100\n",
      "63/63 [==============================] - 6s 92ms/step - loss: 0.0030 - acc: 0.9992 - val_loss: 0.0425 - val_acc: 0.9879\n",
      "Epoch 59/100\n",
      "63/63 [==============================] - 6s 92ms/step - loss: 0.0023 - acc: 0.9998 - val_loss: 0.0327 - val_acc: 0.9902\n",
      "Epoch 60/100\n",
      "62/63 [============================>.] - ETA: 0s - loss: 0.0016 - acc: 0.9996\n",
      "Epoch 00060: ReduceLROnPlateau reducing learning rate to 0.0001250000059371814.\n",
      "63/63 [==============================] - 6s 94ms/step - loss: 0.0016 - acc: 0.9996 - val_loss: 0.0374 - val_acc: 0.9902\n",
      "Epoch 61/100\n",
      "63/63 [==============================] - 6s 94ms/step - loss: 0.0016 - acc: 0.9998 - val_loss: 0.0334 - val_acc: 0.9902\n",
      "Epoch 62/100\n",
      "63/63 [==============================] - 6s 98ms/step - loss: 0.0024 - acc: 0.9994 - val_loss: 0.0342 - val_acc: 0.9902\n",
      "Epoch 63/100\n",
      "63/63 [==============================] - 6s 95ms/step - loss: 0.0017 - acc: 0.9996 - val_loss: 0.0325 - val_acc: 0.9894\n",
      "Epoch 64/100\n",
      "62/63 [============================>.] - ETA: 0s - loss: 0.0029 - acc: 0.9990\n",
      "Epoch 00064: ReduceLROnPlateau reducing learning rate to 6.25000029685907e-05.\n",
      "63/63 [==============================] - 6s 94ms/step - loss: 0.0029 - acc: 0.9990 - val_loss: 0.0286 - val_acc: 0.9886\n",
      "Epoch 65/100\n",
      "63/63 [==============================] - 6s 94ms/step - loss: 0.0021 - acc: 0.9996 - val_loss: 0.0295 - val_acc: 0.9909\n",
      "Epoch 66/100\n",
      "63/63 [==============================] - 6s 93ms/step - loss: 0.0018 - acc: 0.9994 - val_loss: 0.0317 - val_acc: 0.9917\n",
      "Epoch 67/100\n",
      "63/63 [==============================] - 6s 95ms/step - loss: 0.0018 - acc: 0.9996 - val_loss: 0.0325 - val_acc: 0.9924\n",
      "Epoch 68/100\n",
      "63/63 [==============================] - 6s 94ms/step - loss: 0.0016 - acc: 0.9995 - val_loss: 0.0330 - val_acc: 0.9902\n",
      "Epoch 69/100\n",
      "63/63 [==============================] - 6s 93ms/step - loss: 0.0015 - acc: 0.9996 - val_loss: 0.0327 - val_acc: 0.9894\n",
      "Epoch 70/100\n",
      "63/63 [==============================] - 6s 92ms/step - loss: 0.0015 - acc: 0.9998 - val_loss: 0.0305 - val_acc: 0.9902\n",
      "Epoch 71/100\n",
      "62/63 [============================>.] - ETA: 0s - loss: 0.0014 - acc: 0.9997\n",
      "Epoch 00071: ReduceLROnPlateau reducing learning rate to 3.125000148429535e-05.\n",
      "63/63 [==============================] - 6s 94ms/step - loss: 0.0014 - acc: 0.9998 - val_loss: 0.0287 - val_acc: 0.9924\n",
      "Epoch 72/100\n",
      "63/63 [==============================] - 6s 93ms/step - loss: 0.0019 - acc: 0.9994 - val_loss: 0.0310 - val_acc: 0.9902\n",
      "Epoch 73/100\n",
      "63/63 [==============================] - 6s 93ms/step - loss: 0.0015 - acc: 0.9996 - val_loss: 0.0297 - val_acc: 0.9917\n",
      "Epoch 74/100\n",
      "63/63 [==============================] - 6s 94ms/step - loss: 8.7262e-04 - acc: 1.0000 - val_loss: 0.0286 - val_acc: 0.9924\n",
      "Epoch 75/100\n",
      "62/63 [============================>.] - ETA: 0s - loss: 0.0011 - acc: 0.9999\n",
      "Epoch 00075: ReduceLROnPlateau reducing learning rate to 1.5625000742147677e-05.\n",
      "63/63 [==============================] - 6s 94ms/step - loss: 0.0011 - acc: 0.9999 - val_loss: 0.0277 - val_acc: 0.9924\n",
      "Epoch 76/100\n",
      "63/63 [==============================] - 6s 96ms/step - loss: 0.0018 - acc: 0.9994 - val_loss: 0.0263 - val_acc: 0.9924\n",
      "Epoch 77/100\n",
      "63/63 [==============================] - 6s 95ms/step - loss: 0.0016 - acc: 0.9996 - val_loss: 0.0274 - val_acc: 0.9924\n",
      "Epoch 78/100\n",
      "63/63 [==============================] - 6s 97ms/step - loss: 0.0010 - acc: 0.9999 - val_loss: 0.0274 - val_acc: 0.9924\n",
      "Epoch 79/100\n",
      "62/63 [============================>.] - ETA: 0s - loss: 0.0012 - acc: 0.9997\n",
      "Epoch 00079: ReduceLROnPlateau reducing learning rate to 7.812500371073838e-06.\n",
      "63/63 [==============================] - 6s 95ms/step - loss: 0.0012 - acc: 0.9998 - val_loss: 0.0278 - val_acc: 0.9924\n",
      "Epoch 80/100\n",
      "63/63 [==============================] - 6s 97ms/step - loss: 0.0016 - acc: 0.9996 - val_loss: 0.0284 - val_acc: 0.9924\n",
      "Epoch 81/100\n",
      "63/63 [==============================] - 6s 98ms/step - loss: 0.0013 - acc: 0.9996 - val_loss: 0.0283 - val_acc: 0.9924\n",
      "Epoch 82/100\n",
      "62/63 [============================>.] - ETA: 0s - loss: 0.0012 - acc: 0.9997Restoring model weights from the end of the best epoch.\n",
      "63/63 [==============================] - 7s 105ms/step - loss: 0.0012 - acc: 0.9998 - val_loss: 0.0257 - val_acc: 0.9924\n",
      "Epoch 00082: early stopping\n"
     ]
    },
    {
     "data": {
      "image/png": "[encoded data removed]",
      "text/plain": [
       "<Figure size 432x288 with 2 Axes>"
      ]
     },
     "metadata": {
      "needs_background": "light"
     },
     "output_type": "display_data"
    },
    {
     "name": "stdout",
     "output_type": "stream",
     "text": [
      "Best val_acc - 0.9924 (epoch 67)\n"
     ]
    }
   ],
   "source": [
    "opt = optimizers.Adam(lr=0.001, beta_1=0.9, beta_2=0.999, epsilon=None, decay=0.0, amsgrad=False)\n",
    "history, model_11 = train(model_11, opt=opt)"
   ]
  },
  {
   "cell_type": "markdown",
   "metadata": {},
   "source": [
    "# New Architectures"
   ]
  },
  {
   "cell_type": "markdown",
   "metadata": {
    "heading_collapsed": true
   },
   "source": [
    "## Model 1: Dense(32) - 0.9902 (epoch 36) 158,388\n",
    "(This is like the original model from `4 Load Images into Memory`)\n",
    "VGG Model"
   ]
  },
  {
   "cell_type": "markdown",
   "metadata": {
    "heading_collapsed": true,
    "hidden": true
   },
   "source": [
    "#### Define Train function"
   ]
  },
  {
   "cell_type": "code",
   "execution_count": 9,
   "metadata": {
    "ExecuteTime": {
     "end_time": "2019-08-23T21:55:19.668240Z",
     "start_time": "2019-08-23T21:55:19.659262Z"
    },
    "code_folding": [],
    "hidden": true
   },
   "outputs": [],
   "source": [
    "my_callbacks = [callbacks.EarlyStopping(monitor='val_acc', patience=15, verbose=1, restore_best_weights=True),\n",
    "                callbacks.ReduceLROnPlateau(monitor='val_acc', factor=0.5, patience=4, min_lr=1e-6, mode='auto', verbose=1)]\n",
    "\n",
    "def train(model, epochs=100, initial_epoch=0, batch_size=128, lr=0.01, opt='adadelta', plot_hist='True'):\n",
    "    model.compile(loss='sparse_categorical_crossentropy',\n",
    "                  optimizer=opt,\n",
    "                  metrics=['accuracy'])\n",
    "\n",
    "#     can test augmentation techniques like brightness and rotation\n",
    "    train_generator = ImageDataGenerator(featurewise_center=True, featurewise_std_normalization=True)\n",
    "    train_generator.fit(x_train)\n",
    "    train_generator = train_generator.flow(x_train, y_train, seed=11, batch_size=batch_size)\n",
    "    validation_generator = ImageDataGenerator(featurewise_center=True, featurewise_std_normalization=True)\n",
    "    validation_generator.fit(x_train)\n",
    "    validation_generator = validation_generator.flow(x_test, y_test, seed=11, batch_size=batch_size)\n",
    "\n",
    "    history = model.fit_generator(generator=train_generator,\n",
    "                                  epochs=epochs+initial_epoch,\n",
    "                                  verbose=1,\n",
    "                                  callbacks=my_callbacks,\n",
    "                                  validation_data=validation_generator,\n",
    "                                  shuffle=True,\n",
    "                                  initial_epoch=initial_epoch)\n",
    "    if(plot_hist):\n",
    "        plot_train_history(history)\n",
    "                \n",
    "    index = history.history['val_acc'].index(max(history.history['val_acc']))\n",
    "    print('Best val_acc - {:.4} (epoch {:})'.format(history.history['val_acc'][index], index+1))\n",
    "    return history, model"
   ]
  },
  {
   "cell_type": "markdown",
   "metadata": {
    "heading_collapsed": true,
    "hidden": true
   },
   "source": [
    "#### Define Model"
   ]
  },
  {
   "cell_type": "code",
   "execution_count": 3,
   "metadata": {
    "ExecuteTime": {
     "end_time": "2019-08-26T17:53:10.039950Z",
     "start_time": "2019-08-26T17:53:09.308564Z"
    },
    "code_folding": [],
    "hidden": true,
    "scrolled": true
   },
   "outputs": [
    {
     "name": "stderr",
     "output_type": "stream",
     "text": [
      "WARNING: Logging before flag parsing goes to stderr.\n",
      "W0826 10:53:09.315520  9436 deprecation.py:506] From C:\\Users\\kendy\\Anaconda3\\envs\\tf-gpu\\lib\\site-packages\\tensorflow\\python\\ops\\init_ops.py:1251: calling VarianceScaling.__init__ (from tensorflow.python.ops.init_ops) with dtype is deprecated and will be removed in a future version.\n",
      "Instructions for updating:\n",
      "Call initializer instance with the dtype argument instead of passing it to the constructor\n"
     ]
    },
    {
     "name": "stdout",
     "output_type": "stream",
     "text": [
      "Model: \"sequential\"\n",
      "_________________________________________________________________\n",
      "Layer (type)                 Output Shape              Param #   \n",
      "=================================================================\n",
      "conv2d (Conv2D)              (None, 126, 126, 16)      448       \n",
      "_________________________________________________________________\n",
      "batch_normalization (BatchNo (None, 126, 126, 16)      64        \n",
      "_________________________________________________________________\n",
      "activation (Activation)      (None, 126, 126, 16)      0         \n",
      "_________________________________________________________________\n",
      "conv2d_1 (Conv2D)            (None, 124, 124, 32)      4640      \n",
      "_________________________________________________________________\n",
      "batch_normalization_1 (Batch (None, 124, 124, 32)      128       \n",
      "_________________________________________________________________\n",
      "activation_1 (Activation)    (None, 124, 124, 32)      0         \n",
      "_________________________________________________________________\n",
      "max_pooling2d (MaxPooling2D) (None, 62, 62, 32)        0         \n",
      "_________________________________________________________________\n",
      "dropout (Dropout)            (None, 62, 62, 32)        0         \n",
      "_________________________________________________________________\n",
      "conv2d_2 (Conv2D)            (None, 60, 60, 64)        18496     \n",
      "_________________________________________________________________\n",
      "batch_normalization_2 (Batch (None, 60, 60, 64)        256       \n",
      "_________________________________________________________________\n",
      "activation_2 (Activation)    (None, 60, 60, 64)        0         \n",
      "_________________________________________________________________\n",
      "conv2d_3 (Conv2D)            (None, 58, 58, 64)        36928     \n",
      "_________________________________________________________________\n",
      "batch_normalization_3 (Batch (None, 58, 58, 64)        256       \n",
      "_________________________________________________________________\n",
      "activation_3 (Activation)    (None, 58, 58, 64)        0         \n",
      "_________________________________________________________________\n",
      "max_pooling2d_1 (MaxPooling2 (None, 29, 29, 64)        0         \n",
      "_________________________________________________________________\n",
      "dropout_1 (Dropout)          (None, 29, 29, 64)        0         \n",
      "_________________________________________________________________\n",
      "conv2d_4 (Conv2D)            (None, 27, 27, 32)        18464     \n",
      "_________________________________________________________________\n",
      "batch_normalization_4 (Batch (None, 27, 27, 32)        128       \n",
      "_________________________________________________________________\n",
      "activation_4 (Activation)    (None, 27, 27, 32)        0         \n",
      "_________________________________________________________________\n",
      "conv2d_5 (Conv2D)            (None, 25, 25, 16)        4624      \n",
      "_________________________________________________________________\n",
      "batch_normalization_5 (Batch (None, 25, 25, 16)        64        \n",
      "_________________________________________________________________\n",
      "activation_5 (Activation)    (None, 25, 25, 16)        0         \n",
      "_________________________________________________________________\n",
      "max_pooling2d_2 (MaxPooling2 (None, 12, 12, 16)        0         \n",
      "_________________________________________________________________\n",
      "dropout_2 (Dropout)          (None, 12, 12, 16)        0         \n",
      "_________________________________________________________________\n",
      "flatten (Flatten)            (None, 2304)              0         \n",
      "_________________________________________________________________\n",
      "dense (Dense)                (None, 32)                73760     \n",
      "_________________________________________________________________\n",
      "activation_6 (Activation)    (None, 32)                0         \n",
      "_________________________________________________________________\n",
      "dense_1 (Dense)              (None, 4)                 132       \n",
      "_________________________________________________________________\n",
      "activation_7 (Activation)    (None, 4)                 0         \n",
      "=================================================================\n",
      "Total params: 158,388\n",
      "Trainable params: 157,940\n",
      "Non-trainable params: 448\n",
      "_________________________________________________________________\n"
     ]
    }
   ],
   "source": [
    "model_1 = Sequential([\n",
    "    Conv2D(16, (3, 3), strides=(1, 1), input_shape=(128, 128, 3), data_format=\"channels_last\", padding='valid'),   # RGB\n",
    "    BatchNormalization(),\n",
    "    Activation('relu'),\n",
    "    Conv2D(32, (3, 3), strides=(1, 1), padding='valid'),\n",
    "    BatchNormalization(),\n",
    "    Activation('relu'),\n",
    "    MaxPooling2D(pool_size=(2, 2)),\n",
    "    Dropout(0.3),\n",
    "    \n",
    "    Conv2D(64, (3, 3), strides=(1, 1), input_shape=(128, 128, 3), data_format=\"channels_last\", padding='valid'),   # RGB\n",
    "    BatchNormalization(),\n",
    "    Activation('relu'),\n",
    "    Conv2D(64, (3, 3), strides=(1, 1), padding='valid'),\n",
    "    BatchNormalization(),\n",
    "    Activation('relu'),\n",
    "    MaxPooling2D(pool_size=(2, 2)),\n",
    "    Dropout(0.3),\n",
    "    \n",
    "    Conv2D(32, (3, 3), strides=(1, 1), input_shape=(128, 128, 3), data_format=\"channels_last\", padding='valid'),   # RGB\n",
    "    BatchNormalization(),\n",
    "    Activation('relu'),\n",
    "    Conv2D(16, (3, 3), strides=(1, 1), padding='valid'),\n",
    "    BatchNormalization(),\n",
    "    Activation('relu'),\n",
    "    MaxPooling2D(pool_size=(2, 2)),\n",
    "    Dropout(0.3),\n",
    "    \n",
    "    Flatten(),\n",
    "    Dense(32),\n",
    "    Activation('relu'),\n",
    "    Dense(num_classes),\n",
    "    Activation('softmax')\n",
    "])\n",
    "model_1.summary()"
   ]
  },
  {
   "cell_type": "markdown",
   "metadata": {
    "heading_collapsed": true,
    "hidden": true
   },
   "source": [
    "#### Execute Training"
   ]
  },
  {
   "cell_type": "code",
   "execution_count": 4,
   "metadata": {
    "ExecuteTime": {
     "end_time": "2019-08-26T18:01:32.053358Z",
     "start_time": "2019-08-26T17:53:20.331289Z"
    },
    "hidden": true,
    "scrolled": true
   },
   "outputs": [
    {
     "name": "stdout",
     "output_type": "stream",
     "text": [
      "Epoch 1/100\n",
      "63/63 [==============================] - 16s 250ms/step - loss: 1.4721 - acc: 0.2600 - val_loss: 1.3703 - val_acc: 0.2773\n",
      "Epoch 2/100\n",
      "63/63 [==============================] - 7s 119ms/step - loss: 1.3541 - acc: 0.3052 - val_loss: 1.3794 - val_acc: 0.3197\n",
      "Epoch 3/100\n",
      "63/63 [==============================] - 7s 119ms/step - loss: 1.2913 - acc: 0.3901 - val_loss: 1.3439 - val_acc: 0.4136\n",
      "Epoch 4/100\n",
      "63/63 [==============================] - 8s 120ms/step - loss: 1.1614 - acc: 0.4839 - val_loss: 1.1680 - val_acc: 0.4795\n",
      "Epoch 5/100\n",
      "63/63 [==============================] - 8s 124ms/step - loss: 1.0348 - acc: 0.5996 - val_loss: 1.0209 - val_acc: 0.6333\n",
      "Epoch 6/100\n",
      "63/63 [==============================] - 8s 125ms/step - loss: 0.8630 - acc: 0.6926 - val_loss: 0.8800 - val_acc: 0.6848\n",
      "Epoch 7/100\n",
      "63/63 [==============================] - 8s 123ms/step - loss: 0.7123 - acc: 0.7659 - val_loss: 0.6868 - val_acc: 0.7985\n",
      "Epoch 8/100\n",
      "63/63 [==============================] - 7s 118ms/step - loss: 0.5917 - acc: 0.8156 - val_loss: 0.5539 - val_acc: 0.8326\n",
      "Epoch 9/100\n",
      "63/63 [==============================] - 7s 119ms/step - loss: 0.5075 - acc: 0.8549 - val_loss: 0.4390 - val_acc: 0.8992\n",
      "Epoch 10/100\n",
      "63/63 [==============================] - 8s 120ms/step - loss: 0.4376 - acc: 0.8895 - val_loss: 0.3976 - val_acc: 0.9083\n",
      "Epoch 11/100\n",
      "63/63 [==============================] - 8s 126ms/step - loss: 0.3887 - acc: 0.9074 - val_loss: 0.3702 - val_acc: 0.9174\n",
      "Epoch 12/100\n",
      "63/63 [==============================] - 8s 123ms/step - loss: 0.3450 - acc: 0.9221 - val_loss: 0.3436 - val_acc: 0.9280\n",
      "Epoch 13/100\n",
      "63/63 [==============================] - 8s 128ms/step - loss: 0.3104 - acc: 0.9336 - val_loss: 0.2878 - val_acc: 0.9447\n",
      "Epoch 14/100\n",
      "63/63 [==============================] - 8s 124ms/step - loss: 0.2638 - acc: 0.9517 - val_loss: 0.2734 - val_acc: 0.9439\n",
      "Epoch 15/100\n",
      "63/63 [==============================] - 8s 124ms/step - loss: 0.2384 - acc: 0.9600 - val_loss: 0.2912 - val_acc: 0.9402\n",
      "Epoch 16/100\n",
      "63/63 [==============================] - 8s 125ms/step - loss: 0.2135 - acc: 0.9661 - val_loss: 0.2378 - val_acc: 0.9606\n",
      "Epoch 17/100\n",
      "63/63 [==============================] - 8s 125ms/step - loss: 0.1840 - acc: 0.9663 - val_loss: 0.1798 - val_acc: 0.9447\n",
      "Epoch 18/100\n",
      "63/63 [==============================] - 8s 129ms/step - loss: 0.0807 - acc: 0.9741 - val_loss: 0.2165 - val_acc: 0.9386\n",
      "Epoch 19/100\n",
      "63/63 [==============================] - 8s 128ms/step - loss: 0.0688 - acc: 0.9790 - val_loss: 0.0857 - val_acc: 0.9667\n",
      "Epoch 20/100\n",
      "63/63 [==============================] - 8s 127ms/step - loss: 0.0523 - acc: 0.9831 - val_loss: 0.0983 - val_acc: 0.9674\n",
      "Epoch 21/100\n",
      "63/63 [==============================] - 8s 131ms/step - loss: 0.0389 - acc: 0.9866 - val_loss: 0.0563 - val_acc: 0.9780\n",
      "Epoch 22/100\n",
      "63/63 [==============================] - 8s 130ms/step - loss: 0.0481 - acc: 0.9827 - val_loss: 0.1000 - val_acc: 0.9712\n",
      "Epoch 23/100\n",
      "63/63 [==============================] - 8s 131ms/step - loss: 0.0371 - acc: 0.9869 - val_loss: 0.0881 - val_acc: 0.9689\n",
      "Epoch 24/100\n",
      "63/63 [==============================] - 8s 130ms/step - loss: 0.0290 - acc: 0.9906 - val_loss: 0.0801 - val_acc: 0.9712\n",
      "Epoch 25/100\n",
      "62/63 [============================>.] - ETA: 0s - loss: 0.0283 - acc: 0.9897\n",
      "Epoch 00025: ReduceLROnPlateau reducing learning rate to 0.0005000000237487257.\n",
      "63/63 [==============================] - 8s 131ms/step - loss: 0.0282 - acc: 0.9898 - val_loss: 0.1269 - val_acc: 0.9644\n",
      "Epoch 26/100\n",
      "63/63 [==============================] - 8s 130ms/step - loss: 0.0196 - acc: 0.9939 - val_loss: 0.0406 - val_acc: 0.9848\n",
      "Epoch 27/100\n",
      "63/63 [==============================] - 8s 130ms/step - loss: 0.0146 - acc: 0.9956 - val_loss: 0.0687 - val_acc: 0.9788\n",
      "Epoch 28/100\n",
      "63/63 [==============================] - 8s 130ms/step - loss: 0.0120 - acc: 0.9966 - val_loss: 0.0349 - val_acc: 0.9864\n",
      "Epoch 29/100\n",
      "63/63 [==============================] - 8s 131ms/step - loss: 0.0123 - acc: 0.9973 - val_loss: 0.0417 - val_acc: 0.9841\n",
      "Epoch 30/100\n",
      "63/63 [==============================] - 8s 131ms/step - loss: 0.0106 - acc: 0.9969 - val_loss: 0.0352 - val_acc: 0.9879\n",
      "Epoch 31/100\n",
      "63/63 [==============================] - 8s 131ms/step - loss: 0.0145 - acc: 0.9952 - val_loss: 0.0510 - val_acc: 0.9818\n",
      "Epoch 32/100\n",
      "63/63 [==============================] - 8s 131ms/step - loss: 0.0110 - acc: 0.9967 - val_loss: 0.0431 - val_acc: 0.9841\n",
      "Epoch 33/100\n",
      "63/63 [==============================] - 8s 130ms/step - loss: 0.0099 - acc: 0.9967 - val_loss: 0.0437 - val_acc: 0.9841\n",
      "Epoch 34/100\n",
      "62/63 [============================>.] - ETA: 0s - loss: 0.0085 - acc: 0.9976\n",
      "Epoch 00034: ReduceLROnPlateau reducing learning rate to 0.0002500000118743628.\n",
      "63/63 [==============================] - 8s 130ms/step - loss: 0.0084 - acc: 0.9976 - val_loss: 0.0476 - val_acc: 0.9818\n",
      "Epoch 35/100\n",
      "63/63 [==============================] - 8s 130ms/step - loss: 0.0090 - acc: 0.9971 - val_loss: 0.0284 - val_acc: 0.9879\n",
      "Epoch 36/100\n",
      "63/63 [==============================] - 8s 130ms/step - loss: 0.0053 - acc: 0.9990 - val_loss: 0.0321 - val_acc: 0.9902\n",
      "Epoch 37/100\n",
      "63/63 [==============================] - 8s 131ms/step - loss: 0.0051 - acc: 0.9989 - val_loss: 0.0323 - val_acc: 0.9909\n",
      "Epoch 38/100\n",
      "63/63 [==============================] - 8s 130ms/step - loss: 0.0058 - acc: 0.9983 - val_loss: 0.0388 - val_acc: 0.9879\n",
      "Epoch 39/100\n",
      "63/63 [==============================] - 8s 130ms/step - loss: 0.0047 - acc: 0.9994 - val_loss: 0.0237 - val_acc: 0.9894\n",
      "Epoch 40/100\n",
      "63/63 [==============================] - 8s 130ms/step - loss: 0.0063 - acc: 0.9983 - val_loss: 0.0533 - val_acc: 0.9848\n",
      "Epoch 41/100\n",
      "62/63 [============================>.] - ETA: 0s - loss: 0.0069 - acc: 0.9980\n",
      "Epoch 00041: ReduceLROnPlateau reducing learning rate to 0.0001250000059371814.\n",
      "63/63 [==============================] - 8s 130ms/step - loss: 0.0068 - acc: 0.9980 - val_loss: 0.0361 - val_acc: 0.9871\n",
      "Epoch 42/100\n",
      "63/63 [==============================] - 8s 130ms/step - loss: 0.0048 - acc: 0.9985 - val_loss: 0.0324 - val_acc: 0.9894\n",
      "Epoch 43/100\n",
      "63/63 [==============================] - 8s 131ms/step - loss: 0.0038 - acc: 0.9991 - val_loss: 0.0368 - val_acc: 0.9848\n",
      "Epoch 44/100\n",
      "63/63 [==============================] - 8s 131ms/step - loss: 0.0037 - acc: 0.9989 - val_loss: 0.0448 - val_acc: 0.9826\n",
      "Epoch 45/100\n",
      "62/63 [============================>.] - ETA: 0s - loss: 0.0037 - acc: 0.9992\n",
      "Epoch 00045: ReduceLROnPlateau reducing learning rate to 6.25000029685907e-05.\n",
      "63/63 [==============================] - 8s 131ms/step - loss: 0.0037 - acc: 0.9992 - val_loss: 0.0344 - val_acc: 0.9894\n",
      "Epoch 46/100\n",
      "63/63 [==============================] - 8s 130ms/step - loss: 0.0042 - acc: 0.9991 - val_loss: 0.0338 - val_acc: 0.9902\n",
      "Epoch 47/100\n",
      "63/63 [==============================] - 8s 131ms/step - loss: 0.0033 - acc: 0.9995 - val_loss: 0.0385 - val_acc: 0.9871\n",
      "Epoch 48/100\n",
      "63/63 [==============================] - 8s 130ms/step - loss: 0.0039 - acc: 0.9989 - val_loss: 0.0359 - val_acc: 0.9886\n",
      "Epoch 49/100\n",
      "62/63 [============================>.] - ETA: 0s - loss: 0.0042 - acc: 0.9992\n",
      "Epoch 00049: ReduceLROnPlateau reducing learning rate to 3.125000148429535e-05.\n",
      "63/63 [==============================] - 8s 128ms/step - loss: 0.0042 - acc: 0.9992 - val_loss: 0.0343 - val_acc: 0.9879\n",
      "Epoch 50/100\n",
      "63/63 [==============================] - 8s 124ms/step - loss: 0.0035 - acc: 0.9991 - val_loss: 0.0319 - val_acc: 0.9894\n",
      "Epoch 51/100\n",
      "63/63 [==============================] - 8s 124ms/step - loss: 0.0028 - acc: 0.9996 - val_loss: 0.0333 - val_acc: 0.9886\n",
      "Epoch 52/100\n",
      "63/63 [==============================] - 8s 125ms/step - loss: 0.0036 - acc: 0.9990 - val_loss: 0.0335 - val_acc: 0.9871\n",
      "Epoch 53/100\n",
      "62/63 [============================>.] - ETA: 0s - loss: 0.0043 - acc: 0.9987\n",
      "Epoch 00053: ReduceLROnPlateau reducing learning rate to 1.5625000742147677e-05.\n",
      "63/63 [==============================] - 8s 123ms/step - loss: 0.0043 - acc: 0.9987 - val_loss: 0.0324 - val_acc: 0.9894\n",
      "Epoch 54/100\n",
      "63/63 [==============================] - 8s 122ms/step - loss: 0.0036 - acc: 0.9989 - val_loss: 0.0320 - val_acc: 0.9879\n",
      "Epoch 55/100\n",
      "63/63 [==============================] - 8s 121ms/step - loss: 0.0035 - acc: 0.9991 - val_loss: 0.0332 - val_acc: 0.9879\n",
      "Epoch 56/100\n",
      "63/63 [==============================] - 8s 124ms/step - loss: 0.0030 - acc: 0.9994 - val_loss: 0.0338 - val_acc: 0.9871\n",
      "Epoch 57/100\n",
      "62/63 [============================>.] - ETA: 0s - loss: 0.0035 - acc: 0.9990Restoring model weights from the end of the best epoch.\n",
      "\n",
      "Epoch 00057: ReduceLROnPlateau reducing learning rate to 7.812500371073838e-06.\n",
      "63/63 [==============================] - 8s 124ms/step - loss: 0.0035 - acc: 0.9990 - val_loss: 0.0314 - val_acc: 0.9894\n",
      "Epoch 00057: early stopping\n"
     ]
    },
    {
     "data": {
      "image/png": "[encoded data removed]",
      "text/plain": [
       "<Figure size 432x288 with 2 Axes>"
      ]
     },
     "metadata": {
      "needs_background": "light"
     },
     "output_type": "display_data"
    },
    {
     "ename": "TypeError",
     "evalue": "unsupported format string passed to list.__format__",
     "output_type": "error",
     "traceback": [
      "\u001b[1;31m---------------------------------------------------------------------------\u001b[0m",
      "\u001b[1;31mTypeError\u001b[0m                                 Traceback (most recent call last)",
      "\u001b[1;32m<ipython-input-4-3efcbb69b8bd>\u001b[0m in \u001b[0;36m<module>\u001b[1;34m\u001b[0m\n\u001b[0;32m      1\u001b[0m \u001b[0mopt\u001b[0m \u001b[1;33m=\u001b[0m \u001b[0moptimizers\u001b[0m\u001b[1;33m.\u001b[0m\u001b[0mAdam\u001b[0m\u001b[1;33m(\u001b[0m\u001b[0mlr\u001b[0m\u001b[1;33m=\u001b[0m\u001b[1;36m0.001\u001b[0m\u001b[1;33m,\u001b[0m \u001b[0mbeta_1\u001b[0m\u001b[1;33m=\u001b[0m\u001b[1;36m0.9\u001b[0m\u001b[1;33m,\u001b[0m \u001b[0mbeta_2\u001b[0m\u001b[1;33m=\u001b[0m\u001b[1;36m0.999\u001b[0m\u001b[1;33m,\u001b[0m \u001b[0mepsilon\u001b[0m\u001b[1;33m=\u001b[0m\u001b[1;32mNone\u001b[0m\u001b[1;33m,\u001b[0m \u001b[0mdecay\u001b[0m\u001b[1;33m=\u001b[0m\u001b[1;36m0.0\u001b[0m\u001b[1;33m,\u001b[0m \u001b[0mamsgrad\u001b[0m\u001b[1;33m=\u001b[0m\u001b[1;32mFalse\u001b[0m\u001b[1;33m)\u001b[0m\u001b[1;33m\u001b[0m\u001b[1;33m\u001b[0m\u001b[0m\n\u001b[1;32m----> 2\u001b[1;33m \u001b[0mhistory\u001b[0m\u001b[1;33m,\u001b[0m \u001b[0mmodel_1\u001b[0m \u001b[1;33m=\u001b[0m \u001b[0mtrain\u001b[0m\u001b[1;33m(\u001b[0m\u001b[0mmodel_1\u001b[0m\u001b[1;33m,\u001b[0m \u001b[0mopt\u001b[0m\u001b[1;33m=\u001b[0m\u001b[0mopt\u001b[0m\u001b[1;33m)\u001b[0m\u001b[1;33m\u001b[0m\u001b[1;33m\u001b[0m\u001b[0m\n\u001b[0m",
      "\u001b[1;32m<ipython-input-2-3b211f5706d1>\u001b[0m in \u001b[0;36mtrain\u001b[1;34m(model, epochs, initial_epoch, batch_size, lr, opt, plot_hist)\u001b[0m\n\u001b[0;32m     26\u001b[0m \u001b[1;33m\u001b[0m\u001b[0m\n\u001b[0;32m     27\u001b[0m     \u001b[0mindex\u001b[0m \u001b[1;33m=\u001b[0m \u001b[0mhistory\u001b[0m\u001b[1;33m.\u001b[0m\u001b[0mhistory\u001b[0m\u001b[1;33m[\u001b[0m\u001b[1;34m'val_acc'\u001b[0m\u001b[1;33m]\u001b[0m\u001b[1;33m.\u001b[0m\u001b[0mindex\u001b[0m\u001b[1;33m(\u001b[0m\u001b[0mmax\u001b[0m\u001b[1;33m(\u001b[0m\u001b[0mhistory\u001b[0m\u001b[1;33m.\u001b[0m\u001b[0mhistory\u001b[0m\u001b[1;33m[\u001b[0m\u001b[1;34m'val_acc'\u001b[0m\u001b[1;33m]\u001b[0m\u001b[1;33m)\u001b[0m\u001b[1;33m)\u001b[0m\u001b[1;33m\u001b[0m\u001b[1;33m\u001b[0m\u001b[0m\n\u001b[1;32m---> 28\u001b[1;33m     \u001b[0mprint\u001b[0m\u001b[1;33m(\u001b[0m\u001b[1;34m'Best val_acc - {:.4} (epoch {:})'\u001b[0m\u001b[1;33m.\u001b[0m\u001b[0mformat\u001b[0m\u001b[1;33m(\u001b[0m\u001b[0mhistory\u001b[0m\u001b[1;33m.\u001b[0m\u001b[0mhistory\u001b[0m\u001b[1;33m[\u001b[0m\u001b[1;34m'val_acc'\u001b[0m\u001b[1;33m]\u001b[0m\u001b[1;33m,\u001b[0m \u001b[0mindex\u001b[0m\u001b[1;33m+\u001b[0m\u001b[1;36m1\u001b[0m\u001b[1;33m)\u001b[0m\u001b[1;33m)\u001b[0m\u001b[1;33m\u001b[0m\u001b[1;33m\u001b[0m\u001b[0m\n\u001b[0m\u001b[0;32m     29\u001b[0m     \u001b[1;32mreturn\u001b[0m \u001b[0mhistory\u001b[0m\u001b[1;33m,\u001b[0m \u001b[0mmodel\u001b[0m\u001b[1;33m\u001b[0m\u001b[1;33m\u001b[0m\u001b[0m\n",
      "\u001b[1;31mTypeError\u001b[0m: unsupported format string passed to list.__format__"
     ]
    }
   ],
   "source": [
    "opt = optimizers.Adam(lr=0.001, beta_1=0.9, beta_2=0.999, epsilon=None, decay=0.0, amsgrad=False)\n",
    "history, model_1 = train(model_1, opt=opt)"
   ]
  },
  {
   "cell_type": "markdown",
   "metadata": {
    "heading_collapsed": true
   },
   "source": [
    "## Model 2: m1 Dense(16) 121,444 - 0.9924 (epoch 38)"
   ]
  },
  {
   "cell_type": "markdown",
   "metadata": {
    "heading_collapsed": true,
    "hidden": true
   },
   "source": [
    "#### Define Train function"
   ]
  },
  {
   "cell_type": "code",
   "execution_count": 10,
   "metadata": {
    "ExecuteTime": {
     "end_time": "2019-08-23T22:08:01.452172Z",
     "start_time": "2019-08-23T22:08:01.442198Z"
    },
    "code_folding": [],
    "hidden": true
   },
   "outputs": [],
   "source": [
    "my_callbacks = [callbacks.EarlyStopping(monitor='val_acc', patience=15, verbose=1, restore_best_weights=True),\n",
    "                callbacks.ReduceLROnPlateau(monitor='val_acc', factor=0.5, patience=4, min_lr=1e-6, mode='auto', verbose=1)]\n",
    "\n",
    "def train(model, epochs=100, initial_epoch=0, batch_size=128, lr=0.01, opt='adadelta', plot_hist='True'):\n",
    "    model.compile(loss='sparse_categorical_crossentropy',\n",
    "                  optimizer=opt,\n",
    "                  metrics=['accuracy'])\n",
    "\n",
    "#     can test augmentation techniques like brightness and rotation\n",
    "    train_generator = ImageDataGenerator(featurewise_center=True, featurewise_std_normalization=True)\n",
    "    train_generator.fit(x_train)\n",
    "    train_generator = train_generator.flow(x_train, y_train, seed=11, batch_size=batch_size)\n",
    "    validation_generator = ImageDataGenerator(featurewise_center=True, featurewise_std_normalization=True)\n",
    "    validation_generator.fit(x_train)\n",
    "    validation_generator = validation_generator.flow(x_test, y_test, seed=11, batch_size=batch_size)\n",
    "\n",
    "    history = model.fit_generator(generator=train_generator,\n",
    "                                  epochs=epochs+initial_epoch,\n",
    "                                  verbose=1,\n",
    "                                  callbacks=my_callbacks,\n",
    "                                  validation_data=validation_generator,\n",
    "                                  shuffle=True,\n",
    "                                  initial_epoch=initial_epoch)\n",
    "    if(plot_hist):\n",
    "        plot_train_history(history)\n",
    "                \n",
    "    index = history.history['val_acc'].index(max(history.history['val_acc']))\n",
    "    print('Best val_acc - {:.4} (epoch {:})'.format(history.history['val_acc'][index], index+1))\n",
    "    return history, model"
   ]
  },
  {
   "cell_type": "markdown",
   "metadata": {
    "heading_collapsed": true,
    "hidden": true
   },
   "source": [
    "#### Define Model"
   ]
  },
  {
   "cell_type": "code",
   "execution_count": 8,
   "metadata": {
    "ExecuteTime": {
     "end_time": "2019-08-26T18:16:38.577030Z",
     "start_time": "2019-08-26T18:16:38.067894Z"
    },
    "code_folding": [],
    "hidden": true,
    "scrolled": true
   },
   "outputs": [
    {
     "name": "stdout",
     "output_type": "stream",
     "text": [
      "Model: \"sequential_3\"\n",
      "_________________________________________________________________\n",
      "Layer (type)                 Output Shape              Param #   \n",
      "=================================================================\n",
      "conv2d_18 (Conv2D)           (None, 126, 126, 16)      448       \n",
      "_________________________________________________________________\n",
      "batch_normalization_18 (Batc (None, 126, 126, 16)      64        \n",
      "_________________________________________________________________\n",
      "activation_24 (Activation)   (None, 126, 126, 16)      0         \n",
      "_________________________________________________________________\n",
      "conv2d_19 (Conv2D)           (None, 124, 124, 32)      4640      \n",
      "_________________________________________________________________\n",
      "batch_normalization_19 (Batc (None, 124, 124, 32)      128       \n",
      "_________________________________________________________________\n",
      "activation_25 (Activation)   (None, 124, 124, 32)      0         \n",
      "_________________________________________________________________\n",
      "max_pooling2d_9 (MaxPooling2 (None, 62, 62, 32)        0         \n",
      "_________________________________________________________________\n",
      "dropout_9 (Dropout)          (None, 62, 62, 32)        0         \n",
      "_________________________________________________________________\n",
      "conv2d_20 (Conv2D)           (None, 60, 60, 64)        18496     \n",
      "_________________________________________________________________\n",
      "batch_normalization_20 (Batc (None, 60, 60, 64)        256       \n",
      "_________________________________________________________________\n",
      "activation_26 (Activation)   (None, 60, 60, 64)        0         \n",
      "_________________________________________________________________\n",
      "conv2d_21 (Conv2D)           (None, 58, 58, 64)        36928     \n",
      "_________________________________________________________________\n",
      "batch_normalization_21 (Batc (None, 58, 58, 64)        256       \n",
      "_________________________________________________________________\n",
      "activation_27 (Activation)   (None, 58, 58, 64)        0         \n",
      "_________________________________________________________________\n",
      "max_pooling2d_10 (MaxPooling (None, 29, 29, 64)        0         \n",
      "_________________________________________________________________\n",
      "dropout_10 (Dropout)         (None, 29, 29, 64)        0         \n",
      "_________________________________________________________________\n",
      "conv2d_22 (Conv2D)           (None, 27, 27, 32)        18464     \n",
      "_________________________________________________________________\n",
      "batch_normalization_22 (Batc (None, 27, 27, 32)        128       \n",
      "_________________________________________________________________\n",
      "activation_28 (Activation)   (None, 27, 27, 32)        0         \n",
      "_________________________________________________________________\n",
      "conv2d_23 (Conv2D)           (None, 25, 25, 16)        4624      \n",
      "_________________________________________________________________\n",
      "batch_normalization_23 (Batc (None, 25, 25, 16)        64        \n",
      "_________________________________________________________________\n",
      "activation_29 (Activation)   (None, 25, 25, 16)        0         \n",
      "_________________________________________________________________\n",
      "max_pooling2d_11 (MaxPooling (None, 12, 12, 16)        0         \n",
      "_________________________________________________________________\n",
      "dropout_11 (Dropout)         (None, 12, 12, 16)        0         \n",
      "_________________________________________________________________\n",
      "flatten_3 (Flatten)          (None, 2304)              0         \n",
      "_________________________________________________________________\n",
      "dense_6 (Dense)              (None, 16)                36880     \n",
      "_________________________________________________________________\n",
      "activation_30 (Activation)   (None, 16)                0         \n",
      "_________________________________________________________________\n",
      "dense_7 (Dense)              (None, 4)                 68        \n",
      "_________________________________________________________________\n",
      "activation_31 (Activation)   (None, 4)                 0         \n",
      "=================================================================\n",
      "Total params: 121,444\n",
      "Trainable params: 120,996\n",
      "Non-trainable params: 448\n",
      "_________________________________________________________________\n"
     ]
    }
   ],
   "source": [
    "model_2 = Sequential([\n",
    "    Conv2D(16, (3, 3), strides=(1, 1), input_shape=(128, 128, 3), data_format=\"channels_last\", padding='valid'),   # RGB\n",
    "    BatchNormalization(),\n",
    "    Activation('relu'),\n",
    "    Conv2D(32, (3, 3), strides=(1, 1), padding='valid'),\n",
    "    BatchNormalization(),\n",
    "    Activation('relu'),\n",
    "    MaxPooling2D(pool_size=(2, 2)),\n",
    "    Dropout(0.3),\n",
    "    \n",
    "    Conv2D(64, (3, 3), strides=(1, 1), input_shape=(128, 128, 3), data_format=\"channels_last\", padding='valid'),   # RGB\n",
    "    BatchNormalization(),\n",
    "    Activation('relu'),\n",
    "    Conv2D(64, (3, 3), strides=(1, 1), padding='valid'),\n",
    "    BatchNormalization(),\n",
    "    Activation('relu'),\n",
    "    MaxPooling2D(pool_size=(2, 2)),\n",
    "    Dropout(0.3),\n",
    "    \n",
    "    Conv2D(32, (3, 3), strides=(1, 1), input_shape=(128, 128, 3), data_format=\"channels_last\", padding='valid'),   # RGB\n",
    "    BatchNormalization(),\n",
    "    Activation('relu'),\n",
    "    Conv2D(16, (3, 3), strides=(1, 1), padding='valid'),\n",
    "    BatchNormalization(),\n",
    "    Activation('relu'),\n",
    "    MaxPooling2D(pool_size=(2, 2)),\n",
    "    Dropout(0.3),\n",
    "    \n",
    "    Flatten(),\n",
    "    Dense(16),\n",
    "    Activation('relu'),\n",
    "    Dense(num_classes),\n",
    "    Activation('softmax')\n",
    "])\n",
    "model_2.summary()"
   ]
  },
  {
   "cell_type": "markdown",
   "metadata": {
    "heading_collapsed": true,
    "hidden": true
   },
   "source": [
    "#### Execute Training"
   ]
  },
  {
   "cell_type": "code",
   "execution_count": 9,
   "metadata": {
    "ExecuteTime": {
     "end_time": "2019-08-26T18:24:00.368180Z",
     "start_time": "2019-08-26T18:16:48.779977Z"
    },
    "hidden": true,
    "scrolled": true
   },
   "outputs": [
    {
     "name": "stdout",
     "output_type": "stream",
     "text": [
      "Epoch 1/100\n",
      "63/63 [==============================] - 10s 154ms/step - loss: 1.4233 - acc: 0.2592 - val_loss: 1.3828 - val_acc: 0.2402\n",
      "Epoch 2/100\n",
      "63/63 [==============================] - 8s 122ms/step - loss: 1.3261 - acc: 0.3520 - val_loss: 1.3801 - val_acc: 0.2932\n",
      "Epoch 3/100\n",
      "63/63 [==============================] - 8s 121ms/step - loss: 1.2216 - acc: 0.4397 - val_loss: 1.3407 - val_acc: 0.3553\n",
      "Epoch 4/100\n",
      "63/63 [==============================] - 8s 122ms/step - loss: 1.0811 - acc: 0.5635 - val_loss: 1.1925 - val_acc: 0.4970\n",
      "Epoch 5/100\n",
      "63/63 [==============================] - 8s 121ms/step - loss: 0.9076 - acc: 0.6690 - val_loss: 1.5090 - val_acc: 0.4295\n",
      "Epoch 6/100\n",
      "63/63 [==============================] - 8s 125ms/step - loss: 0.7487 - acc: 0.7620 - val_loss: 1.2725 - val_acc: 0.5432\n",
      "Epoch 7/100\n",
      "63/63 [==============================] - 8s 128ms/step - loss: 0.6128 - acc: 0.8216 - val_loss: 1.2474 - val_acc: 0.6106\n",
      "Epoch 8/100\n",
      "63/63 [==============================] - 8s 123ms/step - loss: 0.5110 - acc: 0.8641 - val_loss: 0.6212 - val_acc: 0.8205\n",
      "Epoch 9/100\n",
      "63/63 [==============================] - 8s 125ms/step - loss: 0.4106 - acc: 0.9074 - val_loss: 0.4059 - val_acc: 0.9121\n",
      "Epoch 10/100\n",
      "63/63 [==============================] - 8s 123ms/step - loss: 0.3567 - acc: 0.9289 - val_loss: 0.3795 - val_acc: 0.9091\n",
      "Epoch 11/100\n",
      "63/63 [==============================] - 8s 121ms/step - loss: 0.2988 - acc: 0.9464 - val_loss: 0.5781 - val_acc: 0.8417\n",
      "Epoch 12/100\n",
      "63/63 [==============================] - 8s 122ms/step - loss: 0.2613 - acc: 0.9579 - val_loss: 0.3042 - val_acc: 0.9326\n",
      "Epoch 13/100\n",
      "63/63 [==============================] - 8s 121ms/step - loss: 0.2398 - acc: 0.9610 - val_loss: 0.2821 - val_acc: 0.9371\n",
      "Epoch 14/100\n",
      "63/63 [==============================] - 8s 121ms/step - loss: 0.2055 - acc: 0.9718 - val_loss: 0.2856 - val_acc: 0.9379\n",
      "Epoch 15/100\n",
      "63/63 [==============================] - 8s 122ms/step - loss: 0.1912 - acc: 0.9751 - val_loss: 0.2275 - val_acc: 0.9553\n",
      "Epoch 16/100\n",
      "63/63 [==============================] - 8s 124ms/step - loss: 0.1728 - acc: 0.9816 - val_loss: 0.2697 - val_acc: 0.9394\n",
      "Epoch 17/100\n",
      "63/63 [==============================] - 8s 121ms/step - loss: 0.1524 - acc: 0.9844 - val_loss: 0.1531 - val_acc: 0.9803\n",
      "Epoch 18/100\n",
      "63/63 [==============================] - 8s 121ms/step - loss: 0.1474 - acc: 0.9820 - val_loss: 0.1643 - val_acc: 0.9720\n",
      "Epoch 19/100\n",
      "63/63 [==============================] - 8s 121ms/step - loss: 0.1436 - acc: 0.9801 - val_loss: 0.2003 - val_acc: 0.9614\n",
      "Epoch 20/100\n",
      "63/63 [==============================] - 8s 122ms/step - loss: 0.1332 - acc: 0.9831 - val_loss: 0.1675 - val_acc: 0.9674\n",
      "Epoch 21/100\n",
      "62/63 [============================>.] - ETA: 0s - loss: 0.1154 - acc: 0.9895\n",
      "Epoch 00021: ReduceLROnPlateau reducing learning rate to 0.0005000000237487257.\n",
      "63/63 [==============================] - 8s 124ms/step - loss: 0.1156 - acc: 0.9893 - val_loss: 0.1374 - val_acc: 0.9758\n",
      "Epoch 22/100\n",
      "63/63 [==============================] - 8s 123ms/step - loss: 0.0631 - acc: 0.9915 - val_loss: 0.0529 - val_acc: 0.9780\n",
      "Epoch 23/100\n",
      "63/63 [==============================] - 8s 122ms/step - loss: 0.0267 - acc: 0.9933 - val_loss: 0.0422 - val_acc: 0.9856\n",
      "Epoch 24/100\n",
      "63/63 [==============================] - 8s 121ms/step - loss: 0.0268 - acc: 0.9923 - val_loss: 0.0331 - val_acc: 0.9879\n",
      "Epoch 25/100\n",
      "63/63 [==============================] - 8s 121ms/step - loss: 0.0234 - acc: 0.9937 - val_loss: 0.0719 - val_acc: 0.9750\n",
      "Epoch 26/100\n",
      "63/63 [==============================] - 8s 122ms/step - loss: 0.0223 - acc: 0.9933 - val_loss: 0.0524 - val_acc: 0.9803\n",
      "Epoch 27/100\n",
      "63/63 [==============================] - 8s 122ms/step - loss: 0.0214 - acc: 0.9930 - val_loss: 0.0546 - val_acc: 0.9795\n",
      "Epoch 28/100\n",
      "63/63 [==============================] - 8s 123ms/step - loss: 0.0166 - acc: 0.9960 - val_loss: 0.0272 - val_acc: 0.9917\n",
      "Epoch 29/100\n",
      "63/63 [==============================] - 8s 121ms/step - loss: 0.0165 - acc: 0.9949 - val_loss: 0.0538 - val_acc: 0.9833\n",
      "Epoch 30/100\n",
      "63/63 [==============================] - 8s 121ms/step - loss: 0.0182 - acc: 0.9946 - val_loss: 0.0393 - val_acc: 0.9833\n",
      "Epoch 31/100\n",
      "63/63 [==============================] - 8s 121ms/step - loss: 0.0136 - acc: 0.9961 - val_loss: 0.0464 - val_acc: 0.9917\n",
      "Epoch 32/100\n",
      "62/63 [============================>.] - ETA: 0s - loss: 0.0182 - acc: 0.9948\n",
      "Epoch 00032: ReduceLROnPlateau reducing learning rate to 0.0002500000118743628.\n",
      "63/63 [==============================] - 8s 121ms/step - loss: 0.0181 - acc: 0.9949 - val_loss: 0.0408 - val_acc: 0.9864\n",
      "Epoch 33/100\n",
      "63/63 [==============================] - 8s 121ms/step - loss: 0.0118 - acc: 0.9971 - val_loss: 0.0317 - val_acc: 0.9871\n",
      "Epoch 34/100\n",
      "63/63 [==============================] - 8s 121ms/step - loss: 0.0106 - acc: 0.9973 - val_loss: 0.0331 - val_acc: 0.9864\n",
      "Epoch 35/100\n",
      "63/63 [==============================] - 8s 121ms/step - loss: 0.0094 - acc: 0.9973 - val_loss: 0.0365 - val_acc: 0.9871\n",
      "Epoch 36/100\n",
      "62/63 [============================>.] - ETA: 0s - loss: 0.0086 - acc: 0.9975\n",
      "Epoch 00036: ReduceLROnPlateau reducing learning rate to 0.0001250000059371814.\n",
      "63/63 [==============================] - 8s 123ms/step - loss: 0.0090 - acc: 0.9974 - val_loss: 0.0415 - val_acc: 0.9833\n",
      "Epoch 37/100\n",
      "63/63 [==============================] - 8s 121ms/step - loss: 0.0077 - acc: 0.9980 - val_loss: 0.0308 - val_acc: 0.9879\n",
      "Epoch 38/100\n",
      "63/63 [==============================] - 8s 122ms/step - loss: 0.0078 - acc: 0.9980 - val_loss: 0.0222 - val_acc: 0.9924\n",
      "Epoch 39/100\n",
      "63/63 [==============================] - 8s 121ms/step - loss: 0.0079 - acc: 0.9984 - val_loss: 0.0315 - val_acc: 0.9894\n",
      "Epoch 40/100\n",
      "63/63 [==============================] - 8s 124ms/step - loss: 0.0066 - acc: 0.9986 - val_loss: 0.0341 - val_acc: 0.9886\n",
      "Epoch 41/100\n",
      "63/63 [==============================] - 8s 123ms/step - loss: 0.0059 - acc: 0.9989 - val_loss: 0.0305 - val_acc: 0.9894\n",
      "Epoch 42/100\n",
      "62/63 [============================>.] - ETA: 0s - loss: 0.0061 - acc: 0.9986\n",
      "Epoch 00042: ReduceLROnPlateau reducing learning rate to 6.25000029685907e-05.\n",
      "63/63 [==============================] - 8s 123ms/step - loss: 0.0061 - acc: 0.9986 - val_loss: 0.0276 - val_acc: 0.9909\n",
      "Epoch 43/100\n",
      "63/63 [==============================] - 8s 123ms/step - loss: 0.0050 - acc: 0.9990 - val_loss: 0.0268 - val_acc: 0.9894\n",
      "Epoch 44/100\n",
      "63/63 [==============================] - 8s 122ms/step - loss: 0.0063 - acc: 0.9990 - val_loss: 0.0317 - val_acc: 0.9864\n",
      "Epoch 45/100\n",
      "63/63 [==============================] - 8s 123ms/step - loss: 0.0063 - acc: 0.9983 - val_loss: 0.0349 - val_acc: 0.9871\n",
      "Epoch 46/100\n",
      "62/63 [============================>.] - ETA: 0s - loss: 0.0059 - acc: 0.9987\n",
      "Epoch 00046: ReduceLROnPlateau reducing learning rate to 3.125000148429535e-05.\n",
      "63/63 [==============================] - 8s 121ms/step - loss: 0.0058 - acc: 0.9987 - val_loss: 0.0325 - val_acc: 0.9864\n",
      "Epoch 47/100\n",
      "63/63 [==============================] - 8s 125ms/step - loss: 0.0051 - acc: 0.9991 - val_loss: 0.0292 - val_acc: 0.9886\n",
      "Epoch 48/100\n",
      "63/63 [==============================] - 8s 127ms/step - loss: 0.0063 - acc: 0.9979 - val_loss: 0.0305 - val_acc: 0.9902\n",
      "Epoch 49/100\n",
      "63/63 [==============================] - 8s 125ms/step - loss: 0.0048 - acc: 0.9990 - val_loss: 0.0284 - val_acc: 0.9894\n",
      "Epoch 50/100\n",
      "62/63 [============================>.] - ETA: 0s - loss: 0.0064 - acc: 0.9983\n",
      "Epoch 00050: ReduceLROnPlateau reducing learning rate to 1.5625000742147677e-05.\n",
      "63/63 [==============================] - 8s 125ms/step - loss: 0.0063 - acc: 0.9984 - val_loss: 0.0308 - val_acc: 0.9902\n",
      "Epoch 51/100\n",
      "63/63 [==============================] - 8s 125ms/step - loss: 0.0056 - acc: 0.9987 - val_loss: 0.0291 - val_acc: 0.9886\n",
      "Epoch 52/100\n",
      "63/63 [==============================] - 8s 126ms/step - loss: 0.0037 - acc: 0.9995 - val_loss: 0.0273 - val_acc: 0.9894\n",
      "Epoch 53/100\n",
      "62/63 [============================>.] - ETA: 0s - loss: 0.0058 - acc: 0.9981Restoring model weights from the end of the best epoch.\n",
      "63/63 [==============================] - 8s 128ms/step - loss: 0.0057 - acc: 0.9981 - val_loss: 0.0283 - val_acc: 0.9886\n",
      "Epoch 00053: early stopping\n"
     ]
    },
    {
     "data": {
      "image/png": "[encoded data removed]",
      "text/plain": [
       "<Figure size 432x288 with 2 Axes>"
      ]
     },
     "metadata": {
      "needs_background": "light"
     },
     "output_type": "display_data"
    },
    {
     "name": "stdout",
     "output_type": "stream",
     "text": [
      "Best val_acc - 0.9924 (epoch 38)\n"
     ]
    }
   ],
   "source": [
    "opt = optimizers.Adam(lr=0.001, beta_1=0.9, beta_2=0.999, epsilon=None, decay=0.0, amsgrad=False)\n",
    "history, model_2 = train(model_2, opt=opt)"
   ]
  },
  {
   "cell_type": "markdown",
   "metadata": {
    "heading_collapsed": true
   },
   "source": [
    "## Model 3: m2 filter size shrink 75,044 - 0.9917 (epoch 43)\n",
    "Take the past model and make it smaller."
   ]
  },
  {
   "cell_type": "markdown",
   "metadata": {
    "heading_collapsed": true,
    "hidden": true
   },
   "source": [
    "#### Define Model"
   ]
  },
  {
   "cell_type": "code",
   "execution_count": 16,
   "metadata": {
    "ExecuteTime": {
     "end_time": "2019-09-03T20:11:50.315464Z",
     "start_time": "2019-09-03T20:11:49.497662Z"
    },
    "code_folding": [],
    "hidden": true
   },
   "outputs": [
    {
     "name": "stdout",
     "output_type": "stream",
     "text": [
      "Model: \"sequential_1\"\n",
      "_________________________________________________________________\n",
      "Layer (type)                 Output Shape              Param #   \n",
      "=================================================================\n",
      "conv2d_6 (Conv2D)            (None, 126, 126, 16)      448       \n",
      "_________________________________________________________________\n",
      "batch_normalization_6 (Batch (None, 126, 126, 16)      64        \n",
      "_________________________________________________________________\n",
      "activation_8 (Activation)    (None, 126, 126, 16)      0         \n",
      "_________________________________________________________________\n",
      "conv2d_7 (Conv2D)            (None, 124, 124, 32)      4640      \n",
      "_________________________________________________________________\n",
      "batch_normalization_7 (Batch (None, 124, 124, 32)      128       \n",
      "_________________________________________________________________\n",
      "activation_9 (Activation)    (None, 124, 124, 32)      0         \n",
      "_________________________________________________________________\n",
      "max_pooling2d_3 (MaxPooling2 (None, 62, 62, 32)        0         \n",
      "_________________________________________________________________\n",
      "dropout_3 (Dropout)          (None, 62, 62, 32)        0         \n",
      "_________________________________________________________________\n",
      "conv2d_8 (Conv2D)            (None, 60, 60, 32)        9248      \n",
      "_________________________________________________________________\n",
      "batch_normalization_8 (Batch (None, 60, 60, 32)        128       \n",
      "_________________________________________________________________\n",
      "activation_10 (Activation)   (None, 60, 60, 32)        0         \n",
      "_________________________________________________________________\n",
      "conv2d_9 (Conv2D)            (None, 58, 58, 32)        9248      \n",
      "_________________________________________________________________\n",
      "batch_normalization_9 (Batch (None, 58, 58, 32)        128       \n",
      "_________________________________________________________________\n",
      "activation_11 (Activation)   (None, 58, 58, 32)        0         \n",
      "_________________________________________________________________\n",
      "max_pooling2d_4 (MaxPooling2 (None, 29, 29, 32)        0         \n",
      "_________________________________________________________________\n",
      "dropout_4 (Dropout)          (None, 29, 29, 32)        0         \n",
      "_________________________________________________________________\n",
      "conv2d_10 (Conv2D)           (None, 27, 27, 32)        9248      \n",
      "_________________________________________________________________\n",
      "batch_normalization_10 (Batc (None, 27, 27, 32)        128       \n",
      "_________________________________________________________________\n",
      "activation_12 (Activation)   (None, 27, 27, 32)        0         \n",
      "_________________________________________________________________\n",
      "conv2d_11 (Conv2D)           (None, 25, 25, 16)        4624      \n",
      "_________________________________________________________________\n",
      "batch_normalization_11 (Batc (None, 25, 25, 16)        64        \n",
      "_________________________________________________________________\n",
      "activation_13 (Activation)   (None, 25, 25, 16)        0         \n",
      "_________________________________________________________________\n",
      "max_pooling2d_5 (MaxPooling2 (None, 12, 12, 16)        0         \n",
      "_________________________________________________________________\n",
      "dropout_5 (Dropout)          (None, 12, 12, 16)        0         \n",
      "_________________________________________________________________\n",
      "flatten_1 (Flatten)          (None, 2304)              0         \n",
      "_________________________________________________________________\n",
      "dense_2 (Dense)              (None, 16)                36880     \n",
      "_________________________________________________________________\n",
      "activation_14 (Activation)   (None, 16)                0         \n",
      "_________________________________________________________________\n",
      "dense_3 (Dense)              (None, 4)                 68        \n",
      "_________________________________________________________________\n",
      "activation_15 (Activation)   (None, 4)                 0         \n",
      "=================================================================\n",
      "Total params: 75,044\n",
      "Trainable params: 74,724\n",
      "Non-trainable params: 320\n",
      "_________________________________________________________________\n"
     ]
    }
   ],
   "source": [
    "model_3 = Sequential([\n",
    "    Conv2D(16, (3, 3), strides=(1, 1), input_shape=(128, 128, 3), data_format=\"channels_last\", padding='valid'),   # RGB\n",
    "    BatchNormalization(),\n",
    "    Activation('relu'),\n",
    "    Conv2D(32, (3, 3), strides=(1, 1), padding='valid'),\n",
    "    BatchNormalization(),\n",
    "    Activation('relu'),\n",
    "    MaxPooling2D(pool_size=(2, 2)),\n",
    "    Dropout(0.3),\n",
    "    \n",
    "    Conv2D(32, (3, 3), strides=(1, 1), input_shape=(128, 128, 3), data_format=\"channels_last\", padding='valid'),   # RGB\n",
    "    BatchNormalization(),\n",
    "    Activation('relu'),\n",
    "    Conv2D(32, (3, 3), strides=(1, 1), padding='valid'),\n",
    "    BatchNormalization(),\n",
    "    Activation('relu'),\n",
    "    MaxPooling2D(pool_size=(2, 2)),\n",
    "    Dropout(0.3),\n",
    "    \n",
    "    Conv2D(32, (3, 3), strides=(1, 1), input_shape=(128, 128, 3), data_format=\"channels_last\", padding='valid'),   # RGB\n",
    "    BatchNormalization(),\n",
    "    Activation('relu'),\n",
    "    Conv2D(16, (3, 3), strides=(1, 1), padding='valid'),\n",
    "    BatchNormalization(),\n",
    "    Activation('relu'),\n",
    "    MaxPooling2D(pool_size=(2, 2)),\n",
    "    Dropout(0.3),\n",
    "    \n",
    "    Flatten(),\n",
    "    Dense(16),\n",
    "    Activation('relu'),\n",
    "    Dense(num_classes),\n",
    "    Activation('softmax')\n",
    "])\n",
    "model_3.summary()"
   ]
  },
  {
   "cell_type": "markdown",
   "metadata": {
    "hidden": true
   },
   "source": [
    "#### Execute Training"
   ]
  },
  {
   "cell_type": "code",
   "execution_count": 17,
   "metadata": {
    "ExecuteTime": {
     "end_time": "2019-09-03T20:16:27.153004Z",
     "start_time": "2019-09-03T20:11:51.568921Z"
    },
    "hidden": true
   },
   "outputs": [
    {
     "name": "stdout",
     "output_type": "stream",
     "text": [
      "Epoch 1/100\n",
      "63/63 [==============================] - 8s 133ms/step - loss: 1.4150 - acc: 0.2615 - val_loss: 1.3683 - val_acc: 0.2955\n",
      "Epoch 2/100\n",
      "63/63 [==============================] - 6s 98ms/step - loss: 1.3409 - acc: 0.3086 - val_loss: 1.3477 - val_acc: 0.2947\n",
      "Epoch 3/100\n",
      "63/63 [==============================] - 6s 98ms/step - loss: 1.2459 - acc: 0.3695 - val_loss: 1.2906 - val_acc: 0.3462\n",
      "Epoch 4/100\n",
      "63/63 [==============================] - 6s 98ms/step - loss: 1.0511 - acc: 0.4706 - val_loss: 0.9954 - val_acc: 0.5235\n",
      "Epoch 5/100\n",
      "63/63 [==============================] - 6s 98ms/step - loss: 0.8809 - acc: 0.5567 - val_loss: 0.7963 - val_acc: 0.6205\n",
      "Epoch 6/100\n",
      "63/63 [==============================] - 6s 98ms/step - loss: 0.6612 - acc: 0.7168 - val_loss: 0.5668 - val_acc: 0.7636\n",
      "Epoch 7/100\n",
      "63/63 [==============================] - 6s 98ms/step - loss: 0.5130 - acc: 0.7871 - val_loss: 0.4516 - val_acc: 0.8205\n",
      "Epoch 8/100\n",
      "63/63 [==============================] - 6s 98ms/step - loss: 0.4055 - acc: 0.8300 - val_loss: 0.3802 - val_acc: 0.8568\n",
      "Epoch 9/100\n",
      "63/63 [==============================] - 6s 96ms/step - loss: 0.3523 - acc: 0.8580 - val_loss: 0.3287 - val_acc: 0.8659\n",
      "Epoch 10/100\n",
      "63/63 [==============================] - 6s 96ms/step - loss: 0.3035 - acc: 0.8773 - val_loss: 0.2863 - val_acc: 0.8909\n",
      "Epoch 11/100\n",
      "63/63 [==============================] - 6s 98ms/step - loss: 0.2692 - acc: 0.8949 - val_loss: 0.2398 - val_acc: 0.9038\n",
      "Epoch 12/100\n",
      "63/63 [==============================] - 6s 98ms/step - loss: 0.2471 - acc: 0.9022 - val_loss: 0.2042 - val_acc: 0.9159\n",
      "Epoch 13/100\n",
      "63/63 [==============================] - 6s 96ms/step - loss: 0.2128 - acc: 0.9180 - val_loss: 0.1832 - val_acc: 0.9303\n",
      "Epoch 14/100\n",
      "63/63 [==============================] - 6s 96ms/step - loss: 0.1816 - acc: 0.9304 - val_loss: 0.2181 - val_acc: 0.9159\n",
      "Epoch 15/100\n",
      "63/63 [==============================] - 6s 98ms/step - loss: 0.1637 - acc: 0.9409 - val_loss: 0.1322 - val_acc: 0.9417\n",
      "Epoch 16/100\n",
      "63/63 [==============================] - 6s 99ms/step - loss: 0.1469 - acc: 0.9445 - val_loss: 0.2072 - val_acc: 0.9242\n",
      "Epoch 17/100\n",
      "63/63 [==============================] - 6s 99ms/step - loss: 0.1311 - acc: 0.9503 - val_loss: 0.1376 - val_acc: 0.9447\n",
      "Epoch 18/100\n",
      "63/63 [==============================] - 6s 99ms/step - loss: 0.1185 - acc: 0.9565 - val_loss: 0.1563 - val_acc: 0.9462\n",
      "Epoch 19/100\n",
      "63/63 [==============================] - 6s 98ms/step - loss: 0.1169 - acc: 0.9570 - val_loss: 0.1240 - val_acc: 0.9553\n",
      "Epoch 20/100\n",
      "63/63 [==============================] - 6s 97ms/step - loss: 0.1074 - acc: 0.9631 - val_loss: 0.1678 - val_acc: 0.9409\n",
      "Epoch 21/100\n",
      "63/63 [==============================] - 6s 97ms/step - loss: 0.0932 - acc: 0.9654 - val_loss: 0.0747 - val_acc: 0.9697\n",
      "Epoch 22/100\n",
      "63/63 [==============================] - 6s 97ms/step - loss: 0.0785 - acc: 0.9715 - val_loss: 0.0767 - val_acc: 0.9682\n",
      "Epoch 23/100\n",
      "63/63 [==============================] - 6s 97ms/step - loss: 0.0755 - acc: 0.9721 - val_loss: 0.2233 - val_acc: 0.9295\n",
      "Epoch 24/100\n",
      "62/63 [============================>.] - ETA: 0s - loss: 0.0712 - acc: 0.9769\n",
      "Epoch 00024: ReduceLROnPlateau reducing learning rate to 0.0005000000237487257.\n",
      "63/63 [==============================] - 6s 99ms/step - loss: 0.0709 - acc: 0.9768 - val_loss: 0.0871 - val_acc: 0.9636\n",
      "Epoch 25/100\n",
      "63/63 [==============================] - 6s 97ms/step - loss: 0.0503 - acc: 0.9836 - val_loss: 0.0462 - val_acc: 0.9826\n",
      "Epoch 26/100\n",
      "63/63 [==============================] - 6s 98ms/step - loss: 0.0446 - acc: 0.9847 - val_loss: 0.0533 - val_acc: 0.9773\n",
      "Epoch 27/100\n",
      "63/63 [==============================] - 6s 97ms/step - loss: 0.0470 - acc: 0.9836 - val_loss: 0.0597 - val_acc: 0.9788\n",
      "Epoch 28/100\n",
      "62/63 [============================>.] - ETA: 0s - loss: 0.0431 - acc: 0.9855\n",
      "Epoch 00028: ReduceLROnPlateau reducing learning rate to 0.0002500000118743628.\n",
      "63/63 [==============================] - 6s 97ms/step - loss: 0.0435 - acc: 0.9852 - val_loss: 0.0754 - val_acc: 0.9742\n",
      "Epoch 29/100\n",
      "63/63 [==============================] - 6s 96ms/step - loss: 0.0371 - acc: 0.9894 - val_loss: 0.0466 - val_acc: 0.9864\n",
      "Epoch 30/100\n",
      "63/63 [==============================] - 6s 95ms/step - loss: 0.0336 - acc: 0.9898 - val_loss: 0.0555 - val_acc: 0.9811\n",
      "Epoch 31/100\n",
      "63/63 [==============================] - 6s 97ms/step - loss: 0.0335 - acc: 0.9899 - val_loss: 0.0475 - val_acc: 0.9841\n",
      "Epoch 32/100\n",
      "62/63 [============================>.] - ETA: 0s - loss: 0.0321 - acc: 0.9886\n",
      "Epoch 00032: ReduceLROnPlateau reducing learning rate to 0.0001250000059371814.\n",
      "63/63 [==============================] - 6s 101ms/step - loss: 0.0320 - acc: 0.9886 - val_loss: 0.0417 - val_acc: 0.9848\n",
      "Epoch 33/100\n",
      "63/63 [==============================] - 6s 98ms/step - loss: 0.0276 - acc: 0.9915 - val_loss: 0.0367 - val_acc: 0.9871\n",
      "Epoch 34/100\n",
      "63/63 [==============================] - 6s 99ms/step - loss: 0.0268 - acc: 0.9920 - val_loss: 0.0412 - val_acc: 0.9848\n",
      "Epoch 35/100\n",
      "63/63 [==============================] - 6s 97ms/step - loss: 0.0281 - acc: 0.9909 - val_loss: 0.0427 - val_acc: 0.9841\n",
      "Epoch 36/100\n",
      "62/63 [============================>.] - ETA: 0s - loss: 0.0245 - acc: 0.9919\n",
      "Epoch 00036: ReduceLROnPlateau reducing learning rate to 6.25000029685907e-05.\n",
      "63/63 [==============================] - 6s 99ms/step - loss: 0.0249 - acc: 0.9918 - val_loss: 0.0389 - val_acc: 0.9864\n",
      "Epoch 37/100\n",
      "63/63 [==============================] - 6s 97ms/step - loss: 0.0251 - acc: 0.9925 - val_loss: 0.0386 - val_acc: 0.9864\n",
      "Epoch 38/100\n",
      "63/63 [==============================] - 6s 97ms/step - loss: 0.0237 - acc: 0.9930 - val_loss: 0.0396 - val_acc: 0.9841\n",
      "Epoch 39/100\n",
      "62/63 [============================>.] - ETA: 0s - loss: 0.0234 - acc: 0.9925\n",
      "Epoch 00039: ReduceLROnPlateau reducing learning rate to 3.125000148429535e-05.\n",
      "63/63 [==============================] - 6s 98ms/step - loss: 0.0233 - acc: 0.9925 - val_loss: 0.0380 - val_acc: 0.9856\n",
      "Epoch 40/100\n",
      "63/63 [==============================] - 6s 102ms/step - loss: 0.0240 - acc: 0.9934 - val_loss: 0.0396 - val_acc: 0.9856\n",
      "Epoch 41/100\n",
      "62/63 [============================>.] - ETA: 0s - loss: 0.0264 - acc: 0.9919Restoring model weights from the end of the best epoch.\n",
      "63/63 [==============================] - 6s 103ms/step - loss: 0.0264 - acc: 0.9919 - val_loss: 0.0401 - val_acc: 0.9856\n",
      "Epoch 00041: early stopping\n"
     ]
    },
    {
     "data": {
      "image/png": "[encoded data removed]",
      "text/plain": [
       "<Figure size 432x288 with 2 Axes>"
      ]
     },
     "metadata": {
      "needs_background": "light"
     },
     "output_type": "display_data"
    },
    {
     "name": "stdout",
     "output_type": "stream",
     "text": [
      "Best val_acc - 0.9871 (epoch 33)\n"
     ]
    }
   ],
   "source": [
    "opt = optimizers.Adam(lr=0.001, beta_1=0.9, beta_2=0.999, epsilon=None, decay=0.0, amsgrad=False)\n",
    "history, model_3 = train(model_3, opt=opt)"
   ]
  },
  {
   "cell_type": "markdown",
   "metadata": {
    "heading_collapsed": true,
    "hidden": true
   },
   "source": [
    "#### Predict validation set\n",
    "Everything looks good. The predictions sum to one and it is predicting the correct class"
   ]
  },
  {
   "cell_type": "code",
   "execution_count": 38,
   "metadata": {
    "ExecuteTime": {
     "end_time": "2019-09-03T20:34:24.320241Z",
     "start_time": "2019-09-03T20:34:24.168626Z"
    },
    "hidden": true
   },
   "outputs": [
    {
     "name": "stderr",
     "output_type": "stream",
     "text": [
      "W0903 13:34:24.179629 10560 image.py:693] Clipping input data to the valid range for imshow with RGB data ([0..1] for floats or [0..255] for integers).\n"
     ]
    },
    {
     "data": {
      "text/plain": [
       "<matplotlib.image.AxesImage at 0x24a99e0c908>"
      ]
     },
     "execution_count": 38,
     "metadata": {},
     "output_type": "execute_result"
    },
    {
     "data": {
      "image/png": "[encoded data removed]",
      "text/plain": [
       "<Figure size 432x288 with 1 Axes>"
      ]
     },
     "metadata": {
      "needs_background": "light"
     },
     "output_type": "display_data"
    }
   ],
   "source": [
    "batchx, batchy = validation_generator.next()\n",
    "plt.imshow(batchx[3])"
   ]
  },
  {
   "cell_type": "code",
   "execution_count": 44,
   "metadata": {
    "ExecuteTime": {
     "end_time": "2019-09-03T20:39:32.630646Z",
     "start_time": "2019-09-03T20:39:32.377296Z"
    },
    "hidden": true
   },
   "outputs": [
    {
     "data": {
      "text/plain": [
       "(128, 4)"
      ]
     },
     "execution_count": 44,
     "metadata": {},
     "output_type": "execute_result"
    }
   ],
   "source": [
    "batchx_pred = model_3.predict(batchx)\n",
    "batchx_pred.shape"
   ]
  },
  {
   "cell_type": "code",
   "execution_count": 47,
   "metadata": {
    "ExecuteTime": {
     "end_time": "2019-09-03T20:39:55.742325Z",
     "start_time": "2019-09-03T20:39:55.737366Z"
    },
    "hidden": true
   },
   "outputs": [
    {
     "data": {
      "text/plain": [
       "3"
      ]
     },
     "execution_count": 47,
     "metadata": {},
     "output_type": "execute_result"
    }
   ],
   "source": [
    "batchx_pred[3].argmax()"
   ]
  },
  {
   "cell_type": "code",
   "execution_count": 48,
   "metadata": {
    "ExecuteTime": {
     "end_time": "2019-09-03T20:40:08.748796Z",
     "start_time": "2019-09-03T20:40:08.584240Z"
    },
    "hidden": true
   },
   "outputs": [
    {
     "name": "stderr",
     "output_type": "stream",
     "text": [
      "W0903 13:40:08.598204 10560 image.py:693] Clipping input data to the valid range for imshow with RGB data ([0..1] for floats or [0..255] for integers).\n"
     ]
    },
    {
     "data": {
      "text/plain": [
       "<matplotlib.image.AxesImage at 0x24a99f12e88>"
      ]
     },
     "execution_count": 48,
     "metadata": {},
     "output_type": "execute_result"
    },
    {
     "data": {
      "image/png": "[encoded data removed]",
      "text/plain": [
       "<Figure size 432x288 with 1 Axes>"
      ]
     },
     "metadata": {
      "needs_background": "light"
     },
     "output_type": "display_data"
    }
   ],
   "source": [
    "plt.imshow(batchx[0])"
   ]
  },
  {
   "cell_type": "code",
   "execution_count": 51,
   "metadata": {
    "ExecuteTime": {
     "end_time": "2019-09-03T20:41:32.878218Z",
     "start_time": "2019-09-03T20:41:32.872221Z"
    },
    "hidden": true
   },
   "outputs": [
    {
     "data": {
      "text/plain": [
       "array([9.9954468e-01, 3.8588532e-09, 4.5532439e-04, 5.4802951e-15],\n",
       "      dtype=float32)"
      ]
     },
     "execution_count": 51,
     "metadata": {},
     "output_type": "execute_result"
    }
   ],
   "source": [
    "batchx_pred[0]"
   ]
  },
  {
   "cell_type": "code",
   "execution_count": 49,
   "metadata": {
    "ExecuteTime": {
     "end_time": "2019-09-03T20:40:22.253316Z",
     "start_time": "2019-09-03T20:40:22.248307Z"
    },
    "hidden": true
   },
   "outputs": [
    {
     "data": {
      "text/plain": [
       "0"
      ]
     },
     "execution_count": 49,
     "metadata": {},
     "output_type": "execute_result"
    }
   ],
   "source": [
    "batchx_pred[0].argmax()"
   ]
  },
  {
   "cell_type": "code",
   "execution_count": 50,
   "metadata": {
    "ExecuteTime": {
     "end_time": "2019-09-03T20:41:12.221656Z",
     "start_time": "2019-09-03T20:41:12.216670Z"
    },
    "hidden": true
   },
   "outputs": [
    {
     "data": {
      "text/plain": [
       "1.0"
      ]
     },
     "execution_count": 50,
     "metadata": {},
     "output_type": "execute_result"
    }
   ],
   "source": [
    "batchx_pred[0].sum()"
   ]
  },
  {
   "cell_type": "markdown",
   "metadata": {
    "heading_collapsed": true
   },
   "source": [
    "## Model 4: m3 less filters 45,026 - \n"
   ]
  },
  {
   "cell_type": "markdown",
   "metadata": {
    "hidden": true
   },
   "source": [
    "#### Define Model"
   ]
  },
  {
   "cell_type": "code",
   "execution_count": 3,
   "metadata": {
    "ExecuteTime": {
     "end_time": "2019-09-03T19:53:53.773218Z",
     "start_time": "2019-09-03T19:53:53.066110Z"
    },
    "code_folding": [],
    "hidden": true,
    "scrolled": true
   },
   "outputs": [
    {
     "name": "stderr",
     "output_type": "stream",
     "text": [
      "WARNING: Logging before flag parsing goes to stderr.\n",
      "W0903 12:53:53.072096 10560 deprecation.py:506] From C:\\Users\\kendy\\Anaconda3\\envs\\tf-gpu\\lib\\site-packages\\tensorflow\\python\\ops\\init_ops.py:1251: calling VarianceScaling.__init__ (from tensorflow.python.ops.init_ops) with dtype is deprecated and will be removed in a future version.\n",
      "Instructions for updating:\n",
      "Call initializer instance with the dtype argument instead of passing it to the constructor\n"
     ]
    },
    {
     "name": "stdout",
     "output_type": "stream",
     "text": [
      "Model: \"sequential\"\n",
      "_________________________________________________________________\n",
      "Layer (type)                 Output Shape              Param #   \n",
      "=================================================================\n",
      "conv2d (Conv2D)              (None, 126, 126, 16)      448       \n",
      "_________________________________________________________________\n",
      "batch_normalization (BatchNo (None, 126, 126, 16)      64        \n",
      "_________________________________________________________________\n",
      "activation (Activation)      (None, 126, 126, 16)      0         \n",
      "_________________________________________________________________\n",
      "conv2d_1 (Conv2D)            (None, 124, 124, 20)      2900      \n",
      "_________________________________________________________________\n",
      "batch_normalization_1 (Batch (None, 124, 124, 20)      80        \n",
      "_________________________________________________________________\n",
      "activation_1 (Activation)    (None, 124, 124, 20)      0         \n",
      "_________________________________________________________________\n",
      "max_pooling2d (MaxPooling2D) (None, 62, 62, 20)        0         \n",
      "_________________________________________________________________\n",
      "dropout (Dropout)            (None, 62, 62, 20)        0         \n",
      "_________________________________________________________________\n",
      "conv2d_2 (Conv2D)            (None, 60, 60, 20)        3620      \n",
      "_________________________________________________________________\n",
      "batch_normalization_2 (Batch (None, 60, 60, 20)        80        \n",
      "_________________________________________________________________\n",
      "activation_2 (Activation)    (None, 60, 60, 20)        0         \n",
      "_________________________________________________________________\n",
      "conv2d_3 (Conv2D)            (None, 58, 58, 32)        5792      \n",
      "_________________________________________________________________\n",
      "batch_normalization_3 (Batch (None, 58, 58, 32)        128       \n",
      "_________________________________________________________________\n",
      "activation_3 (Activation)    (None, 58, 58, 32)        0         \n",
      "_________________________________________________________________\n",
      "max_pooling2d_1 (MaxPooling2 (None, 29, 29, 32)        0         \n",
      "_________________________________________________________________\n",
      "dropout_1 (Dropout)          (None, 29, 29, 32)        0         \n",
      "_________________________________________________________________\n",
      "conv2d_4 (Conv2D)            (None, 27, 27, 20)        5780      \n",
      "_________________________________________________________________\n",
      "batch_normalization_4 (Batch (None, 27, 27, 20)        80        \n",
      "_________________________________________________________________\n",
      "activation_4 (Activation)    (None, 27, 27, 20)        0         \n",
      "_________________________________________________________________\n",
      "conv2d_5 (Conv2D)            (None, 25, 25, 16)        2896      \n",
      "_________________________________________________________________\n",
      "batch_normalization_5 (Batch (None, 25, 25, 16)        64        \n",
      "_________________________________________________________________\n",
      "activation_5 (Activation)    (None, 25, 25, 16)        0         \n",
      "_________________________________________________________________\n",
      "max_pooling2d_2 (MaxPooling2 (None, 12, 12, 16)        0         \n",
      "_________________________________________________________________\n",
      "dropout_2 (Dropout)          (None, 12, 12, 16)        0         \n",
      "_________________________________________________________________\n",
      "flatten (Flatten)            (None, 2304)              0         \n",
      "_________________________________________________________________\n",
      "dense (Dense)                (None, 16)                36880     \n",
      "_________________________________________________________________\n",
      "activation_6 (Activation)    (None, 16)                0         \n",
      "_________________________________________________________________\n",
      "dense_1 (Dense)              (None, 4)                 68        \n",
      "_________________________________________________________________\n",
      "activation_7 (Activation)    (None, 4)                 0         \n",
      "=================================================================\n",
      "Total params: 58,880\n",
      "Trainable params: 58,632\n",
      "Non-trainable params: 248\n",
      "_________________________________________________________________\n"
     ]
    }
   ],
   "source": [
    "model_4 = Sequential([\n",
    "    Conv2D(16, (3, 3), strides=(1, 1), input_shape=(128, 128, 3), data_format=\"channels_last\", padding='valid'),   # RGB\n",
    "    BatchNormalization(),\n",
    "    Activation('relu'),\n",
    "    Conv2D(20, (3, 3), strides=(1, 1), padding='valid'),\n",
    "    BatchNormalization(),\n",
    "    Activation('relu'),\n",
    "    MaxPooling2D(pool_size=(2, 2)),\n",
    "    Dropout(0.3),\n",
    "    \n",
    "    Conv2D(20, (3, 3), strides=(1, 1), input_shape=(128, 128, 3), data_format=\"channels_last\", padding='valid'),   # RGB\n",
    "    BatchNormalization(),\n",
    "    Activation('relu'),\n",
    "    Conv2D(32, (3, 3), strides=(1, 1), padding='valid'),\n",
    "    BatchNormalization(),\n",
    "    Activation('relu'),\n",
    "    MaxPooling2D(pool_size=(2, 2)),\n",
    "    Dropout(0.3),\n",
    "    \n",
    "    Conv2D(20, (3, 3), strides=(1, 1), input_shape=(128, 128, 3), data_format=\"channels_last\", padding='valid'),   # RGB\n",
    "    BatchNormalization(),\n",
    "    Activation('relu'),\n",
    "    Conv2D(16, (3, 3), strides=(1, 1), padding='valid'),\n",
    "    BatchNormalization(),\n",
    "    Activation('relu'),\n",
    "    MaxPooling2D(pool_size=(2, 2)),\n",
    "    Dropout(0.3),\n",
    "    \n",
    "    Flatten(),\n",
    "    Dense(16),\n",
    "    Activation('relu'),\n",
    "    Dense(num_classes),\n",
    "    Activation('softmax')\n",
    "])\n",
    "model_4.summary()"
   ]
  },
  {
   "cell_type": "markdown",
   "metadata": {
    "hidden": true
   },
   "source": [
    "#### Execute Training"
   ]
  },
  {
   "cell_type": "code",
   "execution_count": 4,
   "metadata": {
    "ExecuteTime": {
     "end_time": "2019-09-03T19:55:21.906854Z",
     "start_time": "2019-09-03T19:53:59.674033Z"
    },
    "hidden": true,
    "scrolled": true
   },
   "outputs": [
    {
     "name": "stdout",
     "output_type": "stream",
     "text": [
      "Epoch 1/100\n",
      "63/63 [==============================] - 13s 200ms/step - loss: 3.2866 - acc: 0.2499 - val_loss: 1.3872 - val_acc: 0.2500\n",
      "Epoch 2/100\n",
      "63/63 [==============================] - 5s 81ms/step - loss: 1.3887 - acc: 0.2403 - val_loss: 1.3900 - val_acc: 0.2500\n",
      "Epoch 3/100\n",
      "63/63 [==============================] - 5s 80ms/step - loss: 1.3890 - acc: 0.2477 - val_loss: 1.3882 - val_acc: 0.2500\n",
      "Epoch 4/100\n",
      "62/63 [============================>.] - ETA: 0s - loss: 1.3884 - acc: 0.2459\n",
      "Epoch 00004: ReduceLROnPlateau reducing learning rate to 0.05000000074505806.\n",
      "63/63 [==============================] - 5s 81ms/step - loss: 1.3885 - acc: 0.2457 - val_loss: 1.3878 - val_acc: 0.2500\n",
      "Epoch 5/100\n",
      "63/63 [==============================] - 5s 80ms/step - loss: 1.3878 - acc: 0.2529 - val_loss: 1.3886 - val_acc: 0.2500\n",
      "Epoch 6/100\n",
      "63/63 [==============================] - 5s 82ms/step - loss: 1.3885 - acc: 0.2439 - val_loss: 1.3889 - val_acc: 0.2500\n",
      "Epoch 7/100\n",
      "62/63 [============================>.] - ETA: 0s - loss: 1.3885 - acc: 0.2491\n",
      "Epoch 00007: ReduceLROnPlateau reducing learning rate to 0.02500000037252903.\n",
      "63/63 [==============================] - 5s 82ms/step - loss: 1.3885 - acc: 0.2490 - val_loss: 1.3870 - val_acc: 0.2500\n",
      "Epoch 8/100\n",
      "63/63 [==============================] - 5s 82ms/step - loss: 1.3873 - acc: 0.2369 - val_loss: 1.3867 - val_acc: 0.2500\n",
      "Epoch 9/100\n",
      "62/63 [============================>.] - ETA: 0s - loss: 1.3871 - acc: 0.2440Restoring model weights from the end of the best epoch.\n",
      "63/63 [==============================] - 5s 84ms/step - loss: 1.3871 - acc: 0.2447 - val_loss: 1.3864 - val_acc: 0.2500\n",
      "Epoch 00009: early stopping\n"
     ]
    },
    {
     "data": {
      "image/png": "[encoded data removed]",
      "text/plain": [
       "<Figure size 432x288 with 2 Axes>"
      ]
     },
     "metadata": {
      "needs_background": "light"
     },
     "output_type": "display_data"
    },
    {
     "name": "stdout",
     "output_type": "stream",
     "text": [
      "Best val_acc - 0.25 (epoch 1)\n"
     ]
    }
   ],
   "source": [
    "opt = optimizers.Adam(lr=0.1, beta_1=0.9, beta_2=0.999, epsilon=None, decay=0.0, amsgrad=False)\n",
    "history, model_4 = train(model_4, opt=opt)"
   ]
  },
  {
   "cell_type": "markdown",
   "metadata": {
    "hidden": true
   },
   "source": [
    "Something isn't right. Lets [debug](https://stackoverflow.com/questions/43674411/training-and-loss-not-changing-in-keras-cnn-model)\n",
    "\n",
    "1. Get the counts of each class in predictions and check if it's predicting all one class."
   ]
  },
  {
   "cell_type": "code",
   "execution_count": 13,
   "metadata": {
    "ExecuteTime": {
     "end_time": "2019-09-03T20:10:16.498982Z",
     "start_time": "2019-09-03T20:10:06.712058Z"
    },
    "hidden": true
   },
   "outputs": [],
   "source": [
    "validation_generator = ImageDataGenerator(featurewise_center=True, featurewise_std_normalization=True)\n",
    "validation_generator.fit(x_train)\n",
    "validation_generator = validation_generator.flow(x_test, y_test, seed=11, batch_size=128)\n",
    "preds = model_4.predict(validation_generator)"
   ]
  },
  {
   "cell_type": "code",
   "execution_count": 14,
   "metadata": {
    "ExecuteTime": {
     "end_time": "2019-09-03T20:10:16.565703Z",
     "start_time": "2019-09-03T20:10:16.560716Z"
    },
    "hidden": true
   },
   "outputs": [
    {
     "data": {
      "text/plain": [
       "(1320, 4)"
      ]
     },
     "execution_count": 14,
     "metadata": {},
     "output_type": "execute_result"
    }
   ],
   "source": [
    "preds.shape"
   ]
  },
  {
   "cell_type": "code",
   "execution_count": 15,
   "metadata": {
    "ExecuteTime": {
     "end_time": "2019-09-03T20:11:22.558628Z",
     "start_time": "2019-09-03T20:11:22.553630Z"
    },
    "hidden": true
   },
   "outputs": [
    {
     "data": {
      "text/plain": [
       "array([0.25195855, 0.23209201, 0.25229964, 0.2636498 ], dtype=float32)"
      ]
     },
     "execution_count": 15,
     "metadata": {},
     "output_type": "execute_result"
    }
   ],
   "source": [
    "preds[0]"
   ]
  },
  {
   "cell_type": "code",
   "execution_count": 52,
   "metadata": {
    "ExecuteTime": {
     "end_time": "2019-09-03T20:45:59.790828Z",
     "start_time": "2019-09-03T20:45:59.785868Z"
    },
    "hidden": true
   },
   "outputs": [
    {
     "data": {
      "text/plain": [
       "array([0.25195855, 0.23209201, 0.25229964, 0.2636498 ], dtype=float32)"
      ]
     },
     "execution_count": 52,
     "metadata": {},
     "output_type": "execute_result"
    }
   ],
   "source": [
    "preds[1]"
   ]
  },
  {
   "cell_type": "code",
   "execution_count": 53,
   "metadata": {
    "ExecuteTime": {
     "end_time": "2019-09-03T20:46:04.205919Z",
     "start_time": "2019-09-03T20:46:04.200933Z"
    },
    "hidden": true
   },
   "outputs": [
    {
     "data": {
      "text/plain": [
       "array([0.25195855, 0.23209201, 0.25229964, 0.2636498 ], dtype=float32)"
      ]
     },
     "execution_count": 53,
     "metadata": {},
     "output_type": "execute_result"
    }
   ],
   "source": [
    "preds[2]"
   ]
  },
  {
   "cell_type": "markdown",
   "metadata": {
    "hidden": true
   },
   "source": [
    "So its predicting the exact same probabilities for every prediction.."
   ]
  },
  {
   "cell_type": "code",
   "execution_count": null,
   "metadata": {
    "hidden": true
   },
   "outputs": [],
   "source": []
  },
  {
   "cell_type": "markdown",
   "metadata": {
    "heading_collapsed": true
   },
   "source": [
    "## Model 5: m4 reduce learning rate 58,880 - 0.9447 (epoch 214?)\n",
    "The [stackoverflow page](https://stackoverflow.com/questions/43674411/training-and-loss-not-changing-in-keras-cnn-model) recommends reducing the learning rate by a factor of ten."
   ]
  },
  {
   "cell_type": "markdown",
   "metadata": {
    "heading_collapsed": true,
    "hidden": true
   },
   "source": [
    "#### Define Model"
   ]
  },
  {
   "cell_type": "code",
   "execution_count": 74,
   "metadata": {
    "ExecuteTime": {
     "end_time": "2019-09-03T21:13:29.823543Z",
     "start_time": "2019-09-03T21:13:29.296944Z"
    },
    "code_folding": [],
    "hidden": true,
    "scrolled": true
   },
   "outputs": [
    {
     "name": "stdout",
     "output_type": "stream",
     "text": [
      "Model: \"sequential_9\"\n",
      "_________________________________________________________________\n",
      "Layer (type)                 Output Shape              Param #   \n",
      "=================================================================\n",
      "conv2d_54 (Conv2D)           (None, 126, 126, 16)      448       \n",
      "_________________________________________________________________\n",
      "batch_normalization_54 (Batc (None, 126, 126, 16)      64        \n",
      "_________________________________________________________________\n",
      "activation_72 (Activation)   (None, 126, 126, 16)      0         \n",
      "_________________________________________________________________\n",
      "conv2d_55 (Conv2D)           (None, 124, 124, 20)      2900      \n",
      "_________________________________________________________________\n",
      "batch_normalization_55 (Batc (None, 124, 124, 20)      80        \n",
      "_________________________________________________________________\n",
      "activation_73 (Activation)   (None, 124, 124, 20)      0         \n",
      "_________________________________________________________________\n",
      "max_pooling2d_27 (MaxPooling (None, 62, 62, 20)        0         \n",
      "_________________________________________________________________\n",
      "dropout_27 (Dropout)         (None, 62, 62, 20)        0         \n",
      "_________________________________________________________________\n",
      "conv2d_56 (Conv2D)           (None, 60, 60, 20)        3620      \n",
      "_________________________________________________________________\n",
      "batch_normalization_56 (Batc (None, 60, 60, 20)        80        \n",
      "_________________________________________________________________\n",
      "activation_74 (Activation)   (None, 60, 60, 20)        0         \n",
      "_________________________________________________________________\n",
      "conv2d_57 (Conv2D)           (None, 58, 58, 32)        5792      \n",
      "_________________________________________________________________\n",
      "batch_normalization_57 (Batc (None, 58, 58, 32)        128       \n",
      "_________________________________________________________________\n",
      "activation_75 (Activation)   (None, 58, 58, 32)        0         \n",
      "_________________________________________________________________\n",
      "max_pooling2d_28 (MaxPooling (None, 29, 29, 32)        0         \n",
      "_________________________________________________________________\n",
      "dropout_28 (Dropout)         (None, 29, 29, 32)        0         \n",
      "_________________________________________________________________\n",
      "conv2d_58 (Conv2D)           (None, 27, 27, 20)        5780      \n",
      "_________________________________________________________________\n",
      "batch_normalization_58 (Batc (None, 27, 27, 20)        80        \n",
      "_________________________________________________________________\n",
      "activation_76 (Activation)   (None, 27, 27, 20)        0         \n",
      "_________________________________________________________________\n",
      "conv2d_59 (Conv2D)           (None, 25, 25, 16)        2896      \n",
      "_________________________________________________________________\n",
      "batch_normalization_59 (Batc (None, 25, 25, 16)        64        \n",
      "_________________________________________________________________\n",
      "activation_77 (Activation)   (None, 25, 25, 16)        0         \n",
      "_________________________________________________________________\n",
      "max_pooling2d_29 (MaxPooling (None, 12, 12, 16)        0         \n",
      "_________________________________________________________________\n",
      "dropout_29 (Dropout)         (None, 12, 12, 16)        0         \n",
      "_________________________________________________________________\n",
      "flatten_9 (Flatten)          (None, 2304)              0         \n",
      "_________________________________________________________________\n",
      "dense_18 (Dense)             (None, 16)                36880     \n",
      "_________________________________________________________________\n",
      "activation_78 (Activation)   (None, 16)                0         \n",
      "_________________________________________________________________\n",
      "dense_19 (Dense)             (None, 4)                 68        \n",
      "_________________________________________________________________\n",
      "activation_79 (Activation)   (None, 4)                 0         \n",
      "=================================================================\n",
      "Total params: 58,880\n",
      "Trainable params: 58,632\n",
      "Non-trainable params: 248\n",
      "_________________________________________________________________\n"
     ]
    }
   ],
   "source": [
    "model_5 = Sequential([\n",
    "    Conv2D(16, (3, 3), strides=(1, 1), input_shape=(128, 128, 3), data_format=\"channels_last\", padding='valid'),   # RGB\n",
    "    BatchNormalization(),\n",
    "    Activation('relu'),\n",
    "    Conv2D(20, (3, 3), strides=(1, 1), padding='valid'),\n",
    "    BatchNormalization(),\n",
    "    Activation('relu'),\n",
    "    MaxPooling2D(pool_size=(2, 2)),\n",
    "    Dropout(0.3),\n",
    "    \n",
    "    Conv2D(20, (3, 3), strides=(1, 1), input_shape=(128, 128, 3), data_format=\"channels_last\", padding='valid'),   # RGB\n",
    "    BatchNormalization(),\n",
    "    Activation('relu'),\n",
    "    Conv2D(32, (3, 3), strides=(1, 1), padding='valid'),\n",
    "    BatchNormalization(),\n",
    "    Activation('relu'),\n",
    "    MaxPooling2D(pool_size=(2, 2)),\n",
    "    Dropout(0.3),\n",
    "    \n",
    "    Conv2D(20, (3, 3), strides=(1, 1), input_shape=(128, 128, 3), data_format=\"channels_last\", padding='valid'),   # RGB\n",
    "    BatchNormalization(),\n",
    "    Activation('relu'),\n",
    "    Conv2D(16, (3, 3), strides=(1, 1), padding='valid'),\n",
    "    BatchNormalization(),\n",
    "    Activation('relu'),\n",
    "    MaxPooling2D(pool_size=(2, 2)),\n",
    "    Dropout(0.3),\n",
    "    \n",
    "    Flatten(),\n",
    "    Dense(16),\n",
    "    Activation('relu'),\n",
    "    Dense(num_classes),\n",
    "    Activation('softmax')\n",
    "])\n",
    "model_5.summary()"
   ]
  },
  {
   "cell_type": "markdown",
   "metadata": {
    "hidden": true
   },
   "source": [
    "#### Execute Training"
   ]
  },
  {
   "cell_type": "code",
   "execution_count": 75,
   "metadata": {
    "ExecuteTime": {
     "end_time": "2019-09-03T21:25:12.253662Z",
     "start_time": "2019-09-03T21:13:30.008465Z"
    },
    "hidden": true,
    "scrolled": true
   },
   "outputs": [
    {
     "name": "stdout",
     "output_type": "stream",
     "text": [
      "Epoch 1/200\n",
      "63/63 [==============================] - 8s 133ms/step - loss: 1.5054 - acc: 0.2522 - val_loss: 1.3837 - val_acc: 0.3182\n",
      "Epoch 2/200\n",
      "63/63 [==============================] - 5s 81ms/step - loss: 1.3894 - acc: 0.2548 - val_loss: 1.3827 - val_acc: 0.3129\n",
      "Epoch 3/200\n",
      "63/63 [==============================] - 5s 81ms/step - loss: 1.3873 - acc: 0.2569 - val_loss: 1.3820 - val_acc: 0.2955\n",
      "Epoch 4/200\n",
      "63/63 [==============================] - 5s 81ms/step - loss: 1.3863 - acc: 0.2571 - val_loss: 1.3832 - val_acc: 0.2970\n",
      "Epoch 5/200\n",
      "63/63 [==============================] - 5s 81ms/step - loss: 1.3862 - acc: 0.2595 - val_loss: 1.3849 - val_acc: 0.2780\n",
      "Epoch 6/200\n",
      "62/63 [============================>.] - ETA: 0s - loss: 1.3809 - acc: 0.2698\n",
      "Epoch 00006: ReduceLROnPlateau reducing learning rate to 4.999999873689376e-05.\n",
      "63/63 [==============================] - 6s 90ms/step - loss: 1.3811 - acc: 0.2685 - val_loss: 1.3845 - val_acc: 0.2780\n",
      "Epoch 7/200\n",
      "63/63 [==============================] - 5s 81ms/step - loss: 1.3791 - acc: 0.2795 - val_loss: 1.3841 - val_acc: 0.2765\n",
      "Epoch 8/200\n",
      "63/63 [==============================] - 5s 81ms/step - loss: 1.3738 - acc: 0.2848 - val_loss: 1.3822 - val_acc: 0.2765\n",
      "Epoch 9/200\n",
      "63/63 [==============================] - 5s 81ms/step - loss: 1.3710 - acc: 0.2895 - val_loss: 1.3794 - val_acc: 0.2841\n",
      "Epoch 10/200\n",
      "63/63 [==============================] - 5s 81ms/step - loss: 1.3616 - acc: 0.3060 - val_loss: 1.3700 - val_acc: 0.3015\n",
      "Epoch 11/200\n",
      "63/63 [==============================] - 5s 81ms/step - loss: 1.3482 - acc: 0.3270 - val_loss: 1.3584 - val_acc: 0.3348\n",
      "Epoch 12/200\n",
      "63/63 [==============================] - 5s 81ms/step - loss: 1.3396 - acc: 0.3290 - val_loss: 1.3465 - val_acc: 0.3492\n",
      "Epoch 13/200\n",
      "63/63 [==============================] - 5s 81ms/step - loss: 1.3305 - acc: 0.3355 - val_loss: 1.3399 - val_acc: 0.3553\n",
      "Epoch 14/200\n",
      "63/63 [==============================] - 5s 81ms/step - loss: 1.3227 - acc: 0.3450 - val_loss: 1.3295 - val_acc: 0.3636\n",
      "Epoch 15/200\n",
      "63/63 [==============================] - 5s 81ms/step - loss: 1.3075 - acc: 0.3490 - val_loss: 1.3111 - val_acc: 0.3598\n",
      "Epoch 16/200\n",
      "63/63 [==============================] - 5s 81ms/step - loss: 1.2899 - acc: 0.3565 - val_loss: 1.2985 - val_acc: 0.3598\n",
      "Epoch 17/200\n",
      "63/63 [==============================] - 5s 83ms/step - loss: 1.2753 - acc: 0.3629 - val_loss: 1.2884 - val_acc: 0.3697\n",
      "Epoch 18/200\n",
      "63/63 [==============================] - 5s 85ms/step - loss: 1.2603 - acc: 0.3749 - val_loss: 1.2742 - val_acc: 0.3788\n",
      "Epoch 19/200\n",
      "63/63 [==============================] - 5s 82ms/step - loss: 1.2448 - acc: 0.3925 - val_loss: 1.2684 - val_acc: 0.3765\n",
      "Epoch 20/200\n",
      "63/63 [==============================] - 5s 80ms/step - loss: 1.2286 - acc: 0.4121 - val_loss: 1.2529 - val_acc: 0.3886\n",
      "Epoch 21/200\n",
      "63/63 [==============================] - 5s 80ms/step - loss: 1.2156 - acc: 0.4111 - val_loss: 1.2338 - val_acc: 0.3947\n",
      "Epoch 22/200\n",
      "63/63 [==============================] - 5s 80ms/step - loss: 1.2023 - acc: 0.4168 - val_loss: 1.2256 - val_acc: 0.3939\n",
      "Epoch 23/200\n",
      "63/63 [==============================] - 5s 80ms/step - loss: 1.1867 - acc: 0.4252 - val_loss: 1.2200 - val_acc: 0.3864\n",
      "Epoch 24/200\n",
      "63/63 [==============================] - 5s 81ms/step - loss: 1.1709 - acc: 0.4316 - val_loss: 1.2082 - val_acc: 0.3962\n",
      "Epoch 25/200\n",
      "63/63 [==============================] - 5s 80ms/step - loss: 1.1591 - acc: 0.4375 - val_loss: 1.1767 - val_acc: 0.4152\n",
      "Epoch 26/200\n",
      "63/63 [==============================] - 5s 80ms/step - loss: 1.1485 - acc: 0.4486 - val_loss: 1.1788 - val_acc: 0.4220\n",
      "Epoch 27/200\n",
      "63/63 [==============================] - 5s 80ms/step - loss: 1.1336 - acc: 0.4627 - val_loss: 1.1620 - val_acc: 0.4515\n",
      "Epoch 28/200\n",
      "63/63 [==============================] - 5s 80ms/step - loss: 1.1139 - acc: 0.4806 - val_loss: 1.1446 - val_acc: 0.4773\n",
      "Epoch 29/200\n",
      "63/63 [==============================] - 5s 80ms/step - loss: 1.0928 - acc: 0.4991 - val_loss: 1.1103 - val_acc: 0.4909\n",
      "Epoch 30/200\n",
      "63/63 [==============================] - 5s 80ms/step - loss: 1.0681 - acc: 0.5220 - val_loss: 1.0724 - val_acc: 0.5295\n",
      "Epoch 31/200\n",
      "63/63 [==============================] - 5s 81ms/step - loss: 1.0447 - acc: 0.5416 - val_loss: 1.0624 - val_acc: 0.5583\n",
      "Epoch 32/200\n",
      "63/63 [==============================] - 5s 80ms/step - loss: 1.0294 - acc: 0.5561 - val_loss: 1.0284 - val_acc: 0.5818\n",
      "Epoch 33/200\n",
      "63/63 [==============================] - 5s 80ms/step - loss: 1.0010 - acc: 0.5709 - val_loss: 1.0021 - val_acc: 0.5939\n",
      "Epoch 34/200\n",
      "63/63 [==============================] - 5s 80ms/step - loss: 0.9846 - acc: 0.5831 - val_loss: 0.9822 - val_acc: 0.6136\n",
      "Epoch 35/200\n",
      "63/63 [==============================] - 5s 80ms/step - loss: 0.9621 - acc: 0.6029 - val_loss: 0.9612 - val_acc: 0.6167\n",
      "Epoch 36/200\n",
      "63/63 [==============================] - 5s 81ms/step - loss: 0.9455 - acc: 0.6129 - val_loss: 0.9335 - val_acc: 0.6417\n",
      "Epoch 37/200\n",
      "63/63 [==============================] - 5s 81ms/step - loss: 0.9140 - acc: 0.6291 - val_loss: 0.8971 - val_acc: 0.6515\n",
      "Epoch 38/200\n",
      "63/63 [==============================] - 5s 80ms/step - loss: 0.9005 - acc: 0.6354 - val_loss: 0.8891 - val_acc: 0.6576\n",
      "Epoch 39/200\n",
      "63/63 [==============================] - 5s 80ms/step - loss: 0.8776 - acc: 0.6401 - val_loss: 0.8594 - val_acc: 0.6765\n",
      "Epoch 40/200\n",
      "63/63 [==============================] - 5s 80ms/step - loss: 0.8589 - acc: 0.6551 - val_loss: 0.8568 - val_acc: 0.6697\n",
      "Epoch 41/200\n",
      "63/63 [==============================] - 5s 80ms/step - loss: 0.8469 - acc: 0.6668 - val_loss: 0.8304 - val_acc: 0.6955\n",
      "Epoch 42/200\n",
      "63/63 [==============================] - 5s 81ms/step - loss: 0.8276 - acc: 0.6721 - val_loss: 0.8036 - val_acc: 0.7023\n",
      "Epoch 43/200\n",
      "63/63 [==============================] - 5s 80ms/step - loss: 0.8019 - acc: 0.6814 - val_loss: 0.7821 - val_acc: 0.7083\n",
      "Epoch 44/200\n",
      "63/63 [==============================] - 5s 80ms/step - loss: 0.7955 - acc: 0.6856 - val_loss: 0.7649 - val_acc: 0.7197\n",
      "Epoch 45/200\n",
      "63/63 [==============================] - 5s 80ms/step - loss: 0.7789 - acc: 0.6957 - val_loss: 0.7473 - val_acc: 0.7152\n",
      "Epoch 46/200\n",
      "63/63 [==============================] - 5s 81ms/step - loss: 0.7635 - acc: 0.7032 - val_loss: 0.7282 - val_acc: 0.7220\n",
      "Epoch 47/200\n",
      "63/63 [==============================] - 5s 80ms/step - loss: 0.7477 - acc: 0.7075 - val_loss: 0.7188 - val_acc: 0.7311\n",
      "Epoch 48/200\n",
      "63/63 [==============================] - 5s 83ms/step - loss: 0.7348 - acc: 0.7145 - val_loss: 0.6971 - val_acc: 0.7402\n",
      "Epoch 49/200\n",
      "63/63 [==============================] - 5s 82ms/step - loss: 0.7206 - acc: 0.7191 - val_loss: 0.6803 - val_acc: 0.7447\n",
      "Epoch 50/200\n",
      "63/63 [==============================] - 5s 82ms/step - loss: 0.7038 - acc: 0.7284 - val_loss: 0.6613 - val_acc: 0.7500\n",
      "Epoch 51/200\n",
      "63/63 [==============================] - 5s 82ms/step - loss: 0.6879 - acc: 0.7360 - val_loss: 0.6450 - val_acc: 0.7629\n",
      "Epoch 52/200\n",
      "63/63 [==============================] - 5s 82ms/step - loss: 0.6781 - acc: 0.7391 - val_loss: 0.6321 - val_acc: 0.7689\n",
      "Epoch 53/200\n",
      "63/63 [==============================] - 5s 82ms/step - loss: 0.6584 - acc: 0.7479 - val_loss: 0.6265 - val_acc: 0.7735\n",
      "Epoch 54/200\n",
      "63/63 [==============================] - 5s 82ms/step - loss: 0.6455 - acc: 0.7524 - val_loss: 0.6091 - val_acc: 0.7705\n",
      "Epoch 55/200\n",
      "63/63 [==============================] - 5s 82ms/step - loss: 0.6248 - acc: 0.7625 - val_loss: 0.5956 - val_acc: 0.7856\n",
      "Epoch 56/200\n",
      "63/63 [==============================] - 5s 81ms/step - loss: 0.6230 - acc: 0.7638 - val_loss: 0.5773 - val_acc: 0.7871\n",
      "Epoch 57/200\n",
      "63/63 [==============================] - 5s 81ms/step - loss: 0.6049 - acc: 0.7654 - val_loss: 0.5487 - val_acc: 0.8030\n",
      "Epoch 58/200\n",
      "63/63 [==============================] - 5s 82ms/step - loss: 0.5948 - acc: 0.7770 - val_loss: 0.5613 - val_acc: 0.8015\n",
      "Epoch 59/200\n",
      "63/63 [==============================] - 5s 81ms/step - loss: 0.5899 - acc: 0.7716 - val_loss: 0.5417 - val_acc: 0.8076\n",
      "Epoch 60/200\n",
      "63/63 [==============================] - 5s 80ms/step - loss: 0.5761 - acc: 0.7819 - val_loss: 0.5309 - val_acc: 0.8144\n",
      "Epoch 61/200\n",
      "63/63 [==============================] - 5s 81ms/step - loss: 0.5580 - acc: 0.7885 - val_loss: 0.5178 - val_acc: 0.8083\n",
      "Epoch 62/200\n",
      "63/63 [==============================] - 5s 80ms/step - loss: 0.5553 - acc: 0.7893 - val_loss: 0.5059 - val_acc: 0.8189\n",
      "Epoch 63/200\n",
      "63/63 [==============================] - 5s 81ms/step - loss: 0.5468 - acc: 0.7904 - val_loss: 0.4909 - val_acc: 0.8273\n",
      "Epoch 64/200\n",
      "63/63 [==============================] - 5s 82ms/step - loss: 0.5350 - acc: 0.8016 - val_loss: 0.4762 - val_acc: 0.8341\n",
      "Epoch 65/200\n",
      "63/63 [==============================] - 5s 82ms/step - loss: 0.5188 - acc: 0.8029 - val_loss: 0.4688 - val_acc: 0.8424\n",
      "Epoch 66/200\n",
      "63/63 [==============================] - 5s 82ms/step - loss: 0.5031 - acc: 0.8102 - val_loss: 0.4677 - val_acc: 0.8417\n",
      "Epoch 67/200\n",
      "63/63 [==============================] - 5s 82ms/step - loss: 0.5032 - acc: 0.8116 - val_loss: 0.4601 - val_acc: 0.8439\n",
      "Epoch 68/200\n",
      "63/63 [==============================] - 5s 82ms/step - loss: 0.4966 - acc: 0.8111 - val_loss: 0.4381 - val_acc: 0.8523\n",
      "Epoch 69/200\n",
      "63/63 [==============================] - 5s 80ms/step - loss: 0.4833 - acc: 0.8211 - val_loss: 0.4480 - val_acc: 0.8470\n",
      "Epoch 70/200\n",
      "63/63 [==============================] - 5s 80ms/step - loss: 0.4732 - acc: 0.8275 - val_loss: 0.4232 - val_acc: 0.8568\n",
      "Epoch 71/200\n",
      "63/63 [==============================] - 5s 80ms/step - loss: 0.4615 - acc: 0.8273 - val_loss: 0.4135 - val_acc: 0.8652\n",
      "Epoch 72/200\n",
      "63/63 [==============================] - 5s 81ms/step - loss: 0.4565 - acc: 0.8290 - val_loss: 0.4132 - val_acc: 0.8614\n",
      "Epoch 73/200\n",
      "63/63 [==============================] - 5s 82ms/step - loss: 0.4459 - acc: 0.8375 - val_loss: 0.4033 - val_acc: 0.8705\n",
      "Epoch 74/200\n",
      "63/63 [==============================] - 5s 81ms/step - loss: 0.4385 - acc: 0.8344 - val_loss: 0.4007 - val_acc: 0.8697\n",
      "Epoch 75/200\n",
      "63/63 [==============================] - 5s 80ms/step - loss: 0.4190 - acc: 0.8471 - val_loss: 0.3924 - val_acc: 0.8667\n",
      "Epoch 76/200\n",
      "63/63 [==============================] - 5s 81ms/step - loss: 0.4212 - acc: 0.8436 - val_loss: 0.3807 - val_acc: 0.8750\n",
      "Epoch 77/200\n",
      "63/63 [==============================] - 5s 81ms/step - loss: 0.4155 - acc: 0.8470 - val_loss: 0.3777 - val_acc: 0.8727\n",
      "Epoch 78/200\n",
      "63/63 [==============================] - 5s 80ms/step - loss: 0.4132 - acc: 0.8493 - val_loss: 0.3713 - val_acc: 0.8720\n",
      "Epoch 79/200\n",
      "63/63 [==============================] - 5s 81ms/step - loss: 0.4073 - acc: 0.8484 - val_loss: 0.3697 - val_acc: 0.8795\n",
      "Epoch 80/200\n",
      "63/63 [==============================] - 5s 84ms/step - loss: 0.4003 - acc: 0.8562 - val_loss: 0.3671 - val_acc: 0.8788\n",
      "Epoch 81/200\n",
      "63/63 [==============================] - 6s 90ms/step - loss: 0.3874 - acc: 0.8556 - val_loss: 0.3511 - val_acc: 0.8803\n",
      "Epoch 82/200\n",
      "63/63 [==============================] - 6s 88ms/step - loss: 0.3937 - acc: 0.8580 - val_loss: 0.3438 - val_acc: 0.8879\n",
      "Epoch 83/200\n",
      "63/63 [==============================] - 5s 84ms/step - loss: 0.3833 - acc: 0.8621 - val_loss: 0.3370 - val_acc: 0.8886\n",
      "Epoch 84/200\n",
      "63/63 [==============================] - 5s 83ms/step - loss: 0.3724 - acc: 0.8627 - val_loss: 0.3364 - val_acc: 0.8886\n",
      "Epoch 85/200\n",
      "63/63 [==============================] - 5s 84ms/step - loss: 0.3595 - acc: 0.8749 - val_loss: 0.3398 - val_acc: 0.8917\n",
      "Epoch 86/200\n",
      "63/63 [==============================] - 5s 84ms/step - loss: 0.3565 - acc: 0.8721 - val_loss: 0.3306 - val_acc: 0.8856\n",
      "Epoch 87/200\n",
      "63/63 [==============================] - 5s 81ms/step - loss: 0.3563 - acc: 0.8717 - val_loss: 0.3270 - val_acc: 0.8947\n",
      "Epoch 88/200\n",
      "63/63 [==============================] - 5s 81ms/step - loss: 0.3440 - acc: 0.8754 - val_loss: 0.3188 - val_acc: 0.8909\n",
      "Epoch 89/200\n",
      "63/63 [==============================] - 5s 81ms/step - loss: 0.3421 - acc: 0.8816 - val_loss: 0.3060 - val_acc: 0.9015\n",
      "Epoch 90/200\n",
      "63/63 [==============================] - 5s 81ms/step - loss: 0.3428 - acc: 0.8761 - val_loss: 0.3190 - val_acc: 0.8902\n",
      "Epoch 91/200\n",
      "63/63 [==============================] - 5s 80ms/step - loss: 0.3336 - acc: 0.8806 - val_loss: 0.3073 - val_acc: 0.8955\n",
      "Epoch 92/200\n",
      "63/63 [==============================] - 5s 80ms/step - loss: 0.3200 - acc: 0.8849 - val_loss: 0.2967 - val_acc: 0.8985\n",
      "Epoch 93/200\n",
      "63/63 [==============================] - 5s 81ms/step - loss: 0.3174 - acc: 0.8861 - val_loss: 0.2970 - val_acc: 0.9008\n",
      "Epoch 94/200\n",
      "62/63 [============================>.] - ETA: 0s - loss: 0.3075 - acc: 0.8935\n",
      "Epoch 00094: ReduceLROnPlateau reducing learning rate to 2.499999936844688e-05.\n",
      "63/63 [==============================] - 5s 81ms/step - loss: 0.3086 - acc: 0.8930 - val_loss: 0.2987 - val_acc: 0.8977\n",
      "Epoch 95/200\n",
      "63/63 [==============================] - 5s 81ms/step - loss: 0.3053 - acc: 0.8888 - val_loss: 0.2888 - val_acc: 0.9061\n",
      "Epoch 96/200\n",
      "63/63 [==============================] - 5s 81ms/step - loss: 0.3090 - acc: 0.8900 - val_loss: 0.2884 - val_acc: 0.9030\n",
      "Epoch 97/200\n",
      "63/63 [==============================] - 5s 82ms/step - loss: 0.3003 - acc: 0.8919 - val_loss: 0.2930 - val_acc: 0.9030\n",
      "Epoch 98/200\n",
      "63/63 [==============================] - 5s 83ms/step - loss: 0.2987 - acc: 0.8939 - val_loss: 0.2839 - val_acc: 0.9061\n",
      "Epoch 99/200\n",
      "63/63 [==============================] - 5s 84ms/step - loss: 0.2979 - acc: 0.8963 - val_loss: 0.2849 - val_acc: 0.9023\n",
      "Epoch 100/200\n",
      "63/63 [==============================] - 5s 83ms/step - loss: 0.3073 - acc: 0.8911 - val_loss: 0.2812 - val_acc: 0.9098\n",
      "Epoch 101/200\n",
      "63/63 [==============================] - 5s 82ms/step - loss: 0.2938 - acc: 0.8963 - val_loss: 0.2787 - val_acc: 0.9076\n",
      "Epoch 102/200\n",
      "63/63 [==============================] - 5s 83ms/step - loss: 0.2918 - acc: 0.8967 - val_loss: 0.2832 - val_acc: 0.9030\n",
      "Epoch 103/200\n",
      "63/63 [==============================] - 5s 82ms/step - loss: 0.2844 - acc: 0.8997 - val_loss: 0.2751 - val_acc: 0.9083\n",
      "Epoch 104/200\n",
      "63/63 [==============================] - 5s 83ms/step - loss: 0.2860 - acc: 0.8966 - val_loss: 0.2795 - val_acc: 0.9083\n",
      "Epoch 105/200\n",
      "62/63 [============================>.] - ETA: 0s - loss: 0.2854 - acc: 0.9018\n",
      "Epoch 00105: ReduceLROnPlateau reducing learning rate to 1.249999968422344e-05.\n",
      "63/63 [==============================] - 5s 81ms/step - loss: 0.2849 - acc: 0.9018 - val_loss: 0.2731 - val_acc: 0.9076\n",
      "Epoch 106/200\n",
      "63/63 [==============================] - 5s 82ms/step - loss: 0.2836 - acc: 0.8976 - val_loss: 0.2704 - val_acc: 0.9083\n",
      "Epoch 107/200\n",
      "63/63 [==============================] - 5s 82ms/step - loss: 0.2842 - acc: 0.8985 - val_loss: 0.2694 - val_acc: 0.9129\n",
      "Epoch 108/200\n",
      "63/63 [==============================] - 5s 81ms/step - loss: 0.2839 - acc: 0.8971 - val_loss: 0.2702 - val_acc: 0.9076\n",
      "Epoch 109/200\n",
      "63/63 [==============================] - 5s 81ms/step - loss: 0.2781 - acc: 0.9043 - val_loss: 0.2678 - val_acc: 0.9091\n",
      "Epoch 110/200\n",
      "63/63 [==============================] - 5s 83ms/step - loss: 0.2749 - acc: 0.9014 - val_loss: 0.2693 - val_acc: 0.9068\n",
      "Epoch 111/200\n",
      "63/63 [==============================] - 5s 83ms/step - loss: 0.2828 - acc: 0.9032 - val_loss: 0.2665 - val_acc: 0.9114\n",
      "Epoch 112/200\n",
      "62/63 [============================>.] - ETA: 0s - loss: 0.2721 - acc: 0.9019\n",
      "Epoch 00112: ReduceLROnPlateau reducing learning rate to 6.24999984211172e-06.\n",
      "63/63 [==============================] - 5s 82ms/step - loss: 0.2717 - acc: 0.9018 - val_loss: 0.2688 - val_acc: 0.9061\n",
      "Epoch 113/200\n",
      "63/63 [==============================] - 5s 83ms/step - loss: 0.2704 - acc: 0.9054 - val_loss: 0.2670 - val_acc: 0.9076\n",
      "Epoch 114/200\n",
      "63/63 [==============================] - 5s 82ms/step - loss: 0.2708 - acc: 0.9016 - val_loss: 0.2650 - val_acc: 0.9136\n",
      "Epoch 115/200\n",
      "63/63 [==============================] - 5s 82ms/step - loss: 0.2760 - acc: 0.9015 - val_loss: 0.2640 - val_acc: 0.9098\n",
      "Epoch 116/200\n",
      "63/63 [==============================] - 5s 81ms/step - loss: 0.2727 - acc: 0.9022 - val_loss: 0.2630 - val_acc: 0.9091\n",
      "Epoch 117/200\n",
      "63/63 [==============================] - 5s 81ms/step - loss: 0.2654 - acc: 0.9076 - val_loss: 0.2645 - val_acc: 0.9091\n",
      "Epoch 118/200\n",
      "63/63 [==============================] - 5s 81ms/step - loss: 0.2752 - acc: 0.9031 - val_loss: 0.2625 - val_acc: 0.9106\n"
     ]
    },
    {
     "name": "stdout",
     "output_type": "stream",
     "text": [
      "Epoch 119/200\n",
      "62/63 [============================>.] - ETA: 0s - loss: 0.2693 - acc: 0.9060\n",
      "Epoch 00119: ReduceLROnPlateau reducing learning rate to 3.12499992105586e-06.\n",
      "63/63 [==============================] - 5s 81ms/step - loss: 0.2697 - acc: 0.9062 - val_loss: 0.2624 - val_acc: 0.9098\n",
      "Epoch 120/200\n",
      "63/63 [==============================] - 5s 81ms/step - loss: 0.2695 - acc: 0.9046 - val_loss: 0.2616 - val_acc: 0.9114\n",
      "Epoch 121/200\n",
      "63/63 [==============================] - 5s 81ms/step - loss: 0.2698 - acc: 0.9007 - val_loss: 0.2620 - val_acc: 0.9114\n",
      "Epoch 122/200\n",
      "63/63 [==============================] - 5s 81ms/step - loss: 0.2659 - acc: 0.9057 - val_loss: 0.2618 - val_acc: 0.9091\n",
      "Epoch 123/200\n",
      "63/63 [==============================] - 5s 81ms/step - loss: 0.2715 - acc: 0.9011 - val_loss: 0.2622 - val_acc: 0.9091\n",
      "Epoch 124/200\n",
      "62/63 [============================>.] - ETA: 0s - loss: 0.2702 - acc: 0.9038\n",
      "Epoch 00124: ReduceLROnPlateau reducing learning rate to 1.56249996052793e-06.\n",
      "63/63 [==============================] - 5s 81ms/step - loss: 0.2704 - acc: 0.9035 - val_loss: 0.2620 - val_acc: 0.9091\n",
      "Epoch 125/200\n",
      "63/63 [==============================] - 5s 81ms/step - loss: 0.2697 - acc: 0.9059 - val_loss: 0.2619 - val_acc: 0.9114\n",
      "Epoch 126/200\n",
      "63/63 [==============================] - 5s 81ms/step - loss: 0.2663 - acc: 0.9075 - val_loss: 0.2615 - val_acc: 0.9098\n",
      "Epoch 127/200\n",
      "63/63 [==============================] - 5s 81ms/step - loss: 0.2679 - acc: 0.9032 - val_loss: 0.2615 - val_acc: 0.9091\n",
      "Epoch 128/200\n",
      "63/63 [==============================] - 5s 81ms/step - loss: 0.2710 - acc: 0.9003 - val_loss: 0.2617 - val_acc: 0.9091\n",
      "Epoch 129/200\n",
      "62/63 [============================>.] - ETA: 0s - loss: 0.2642 - acc: 0.9046\n",
      "Epoch 00129: ReduceLROnPlateau reducing learning rate to 7.81249980263965e-07.\n",
      "63/63 [==============================] - 5s 81ms/step - loss: 0.2658 - acc: 0.9040 - val_loss: 0.2618 - val_acc: 0.9091\n",
      "Epoch 130/200\n",
      "63/63 [==============================] - 5s 81ms/step - loss: 0.2708 - acc: 0.9064 - val_loss: 0.2615 - val_acc: 0.9098\n",
      "Epoch 131/200\n",
      "63/63 [==============================] - 5s 81ms/step - loss: 0.2756 - acc: 0.9036 - val_loss: 0.2613 - val_acc: 0.9091\n",
      "Epoch 132/200\n",
      "62/63 [============================>.] - ETA: 0s - loss: 0.2620 - acc: 0.9065Restoring model weights from the end of the best epoch.\n",
      "63/63 [==============================] - 6s 91ms/step - loss: 0.2628 - acc: 0.9059 - val_loss: 0.2611 - val_acc: 0.9091\n",
      "Epoch 00132: early stopping\n"
     ]
    },
    {
     "data": {
      "image/png": "[encoded data removed]",
      "text/plain": [
       "<Figure size 432x288 with 2 Axes>"
      ]
     },
     "metadata": {
      "needs_background": "light"
     },
     "output_type": "display_data"
    },
    {
     "name": "stdout",
     "output_type": "stream",
     "text": [
      "Best val_acc - 0.9136 (epoch 114)\n"
     ]
    }
   ],
   "source": [
    "# lower the learning rate by a factor of 10\n",
    "history, model_5 = train(model_5, lr=0.0001, epochs=200)"
   ]
  },
  {
   "cell_type": "code",
   "execution_count": 77,
   "metadata": {
    "ExecuteTime": {
     "end_time": "2019-09-03T21:44:35.713663Z",
     "start_time": "2019-09-03T21:40:42.102330Z"
    },
    "hidden": true,
    "scrolled": true
   },
   "outputs": [
    {
     "name": "stdout",
     "output_type": "stream",
     "text": [
      "Epoch 134/233\n",
      "63/63 [==============================] - 8s 133ms/step - loss: 0.2793 - acc: 0.9034 - val_loss: 0.2394 - val_acc: 0.9182\n",
      "Epoch 135/233\n",
      "63/63 [==============================] - 5s 80ms/step - loss: 0.2807 - acc: 0.8972 - val_loss: 0.2422 - val_acc: 0.9182\n",
      "Epoch 136/233\n",
      "63/63 [==============================] - 5s 80ms/step - loss: 0.2620 - acc: 0.9086 - val_loss: 0.2543 - val_acc: 0.9144\n",
      "Epoch 137/233\n",
      "63/63 [==============================] - 5s 80ms/step - loss: 0.2635 - acc: 0.9071 - val_loss: 0.2434 - val_acc: 0.9121\n",
      "Epoch 138/233\n",
      "63/63 [==============================] - 5s 81ms/step - loss: 0.2510 - acc: 0.9107 - val_loss: 0.2497 - val_acc: 0.9098\n",
      "Epoch 139/233\n",
      "62/63 [============================>.] - ETA: 0s - loss: 0.2490 - acc: 0.9112\n",
      "Epoch 00139: ReduceLROnPlateau reducing learning rate to 4.999999873689376e-05.\n",
      "63/63 [==============================] - 6s 90ms/step - loss: 0.2484 - acc: 0.9115 - val_loss: 0.2495 - val_acc: 0.9152\n",
      "Epoch 140/233\n",
      "63/63 [==============================] - 5s 81ms/step - loss: 0.2391 - acc: 0.9175 - val_loss: 0.2292 - val_acc: 0.9227\n",
      "Epoch 141/233\n",
      "63/63 [==============================] - 5s 81ms/step - loss: 0.2243 - acc: 0.9214 - val_loss: 0.2272 - val_acc: 0.9242\n",
      "Epoch 142/233\n",
      "63/63 [==============================] - 5s 80ms/step - loss: 0.2185 - acc: 0.9236 - val_loss: 0.2234 - val_acc: 0.9258\n",
      "Epoch 143/233\n",
      "63/63 [==============================] - 5s 80ms/step - loss: 0.2256 - acc: 0.9210 - val_loss: 0.2246 - val_acc: 0.9197\n",
      "Epoch 144/233\n",
      "63/63 [==============================] - 5s 80ms/step - loss: 0.2192 - acc: 0.9239 - val_loss: 0.2154 - val_acc: 0.9265\n",
      "Epoch 145/233\n",
      "63/63 [==============================] - 5s 84ms/step - loss: 0.2156 - acc: 0.9274 - val_loss: 0.2203 - val_acc: 0.9205\n",
      "Epoch 146/233\n",
      "63/63 [==============================] - 5s 82ms/step - loss: 0.2164 - acc: 0.9275 - val_loss: 0.2220 - val_acc: 0.9258\n",
      "Epoch 147/233\n",
      "63/63 [==============================] - 5s 80ms/step - loss: 0.2085 - acc: 0.9304 - val_loss: 0.2167 - val_acc: 0.9273\n",
      "Epoch 148/233\n",
      "63/63 [==============================] - 5s 81ms/step - loss: 0.2085 - acc: 0.9264 - val_loss: 0.2174 - val_acc: 0.9220\n",
      "Epoch 149/233\n",
      "63/63 [==============================] - 5s 81ms/step - loss: 0.2079 - acc: 0.9283 - val_loss: 0.2104 - val_acc: 0.9318\n",
      "Epoch 150/233\n",
      "63/63 [==============================] - 5s 80ms/step - loss: 0.2086 - acc: 0.9299 - val_loss: 0.2117 - val_acc: 0.9303\n",
      "Epoch 151/233\n",
      "63/63 [==============================] - 5s 81ms/step - loss: 0.2080 - acc: 0.9287 - val_loss: 0.2044 - val_acc: 0.9280\n",
      "Epoch 152/233\n",
      "63/63 [==============================] - 5s 80ms/step - loss: 0.2035 - acc: 0.9287 - val_loss: 0.2098 - val_acc: 0.9227\n",
      "Epoch 153/233\n",
      "63/63 [==============================] - 5s 80ms/step - loss: 0.1998 - acc: 0.9311 - val_loss: 0.2094 - val_acc: 0.9303\n",
      "Epoch 154/233\n",
      "62/63 [============================>.] - ETA: 0s - loss: 0.1964 - acc: 0.9319\n",
      "Epoch 00154: ReduceLROnPlateau reducing learning rate to 2.499999936844688e-05.\n",
      "63/63 [==============================] - 5s 81ms/step - loss: 0.1955 - acc: 0.9323 - val_loss: 0.2255 - val_acc: 0.9235\n",
      "Epoch 155/233\n",
      "63/63 [==============================] - 5s 81ms/step - loss: 0.1972 - acc: 0.9298 - val_loss: 0.2080 - val_acc: 0.9326\n",
      "Epoch 156/233\n",
      "63/63 [==============================] - 5s 81ms/step - loss: 0.1885 - acc: 0.9371 - val_loss: 0.2050 - val_acc: 0.9348\n",
      "Epoch 157/233\n",
      "63/63 [==============================] - 5s 80ms/step - loss: 0.1858 - acc: 0.9340 - val_loss: 0.2015 - val_acc: 0.9326\n",
      "Epoch 158/233\n",
      "63/63 [==============================] - 5s 81ms/step - loss: 0.1854 - acc: 0.9346 - val_loss: 0.2061 - val_acc: 0.9303\n",
      "Epoch 159/233\n",
      "63/63 [==============================] - 5s 81ms/step - loss: 0.1845 - acc: 0.9355 - val_loss: 0.2082 - val_acc: 0.9303\n",
      "Epoch 160/233\n",
      "63/63 [==============================] - 5s 80ms/step - loss: 0.1865 - acc: 0.9336 - val_loss: 0.2057 - val_acc: 0.9303\n",
      "Epoch 161/233\n",
      "62/63 [============================>.] - ETA: 0s - loss: 0.1797 - acc: 0.9375\n",
      "Epoch 00161: ReduceLROnPlateau reducing learning rate to 1.249999968422344e-05.\n",
      "63/63 [==============================] - 5s 81ms/step - loss: 0.1796 - acc: 0.9376 - val_loss: 0.2002 - val_acc: 0.9326\n",
      "Epoch 162/233\n",
      "63/63 [==============================] - 5s 80ms/step - loss: 0.1808 - acc: 0.9365 - val_loss: 0.2004 - val_acc: 0.9318\n",
      "Epoch 163/233\n",
      "63/63 [==============================] - 5s 80ms/step - loss: 0.1824 - acc: 0.9365 - val_loss: 0.1977 - val_acc: 0.9326\n",
      "Epoch 164/233\n",
      "63/63 [==============================] - 5s 80ms/step - loss: 0.1811 - acc: 0.9385 - val_loss: 0.1902 - val_acc: 0.9318\n",
      "Epoch 165/233\n",
      "63/63 [==============================] - 5s 80ms/step - loss: 0.1849 - acc: 0.9358 - val_loss: 0.1894 - val_acc: 0.9341\n",
      "Epoch 166/233\n",
      "62/63 [============================>.] - ETA: 0s - loss: 0.1798 - acc: 0.9378\n",
      "Epoch 00166: ReduceLROnPlateau reducing learning rate to 6.24999984211172e-06.\n",
      "63/63 [==============================] - 5s 80ms/step - loss: 0.1792 - acc: 0.9380 - val_loss: 0.1897 - val_acc: 0.9341\n",
      "Epoch 167/233\n",
      "63/63 [==============================] - 5s 81ms/step - loss: 0.1805 - acc: 0.9335 - val_loss: 0.1907 - val_acc: 0.9318\n",
      "Epoch 168/233\n",
      "63/63 [==============================] - 5s 81ms/step - loss: 0.1731 - acc: 0.9399 - val_loss: 0.1859 - val_acc: 0.9326\n",
      "Epoch 169/233\n",
      "63/63 [==============================] - 5s 81ms/step - loss: 0.1732 - acc: 0.9392 - val_loss: 0.1855 - val_acc: 0.9341\n",
      "Epoch 170/233\n",
      "63/63 [==============================] - 5s 80ms/step - loss: 0.1807 - acc: 0.9377 - val_loss: 0.1860 - val_acc: 0.9333\n",
      "Epoch 171/233\n",
      "62/63 [============================>.] - ETA: 0s - loss: 0.1774 - acc: 0.9383\n",
      "Epoch 00171: ReduceLROnPlateau reducing learning rate to 3.12499992105586e-06.\n",
      "63/63 [==============================] - 5s 81ms/step - loss: 0.1760 - acc: 0.9384 - val_loss: 0.1867 - val_acc: 0.9333\n",
      "Epoch 172/233\n",
      "63/63 [==============================] - 5s 81ms/step - loss: 0.1790 - acc: 0.9381 - val_loss: 0.1991 - val_acc: 0.9333\n",
      "Epoch 173/233\n",
      "63/63 [==============================] - 5s 81ms/step - loss: 0.1754 - acc: 0.9400 - val_loss: 0.1992 - val_acc: 0.9333\n",
      "Epoch 174/233\n",
      "62/63 [============================>.] - ETA: 0s - loss: 0.1695 - acc: 0.9395Restoring model weights from the end of the best epoch.\n",
      "63/63 [==============================] - 5s 80ms/step - loss: 0.1705 - acc: 0.9390 - val_loss: 0.1980 - val_acc: 0.9333\n",
      "Epoch 00174: early stopping\n"
     ]
    },
    {
     "data": {
      "image/png": "[encoded data removed]",
      "text/plain": [
       "<Figure size 432x288 with 2 Axes>"
      ]
     },
     "metadata": {
      "needs_background": "light"
     },
     "output_type": "display_data"
    },
    {
     "name": "stdout",
     "output_type": "stream",
     "text": [
      "Best val_acc - 0.9348 (epoch 23)\n"
     ]
    }
   ],
   "source": [
    "# more training\n",
    "history, model_5 = train(model_5, lr=0.0001, initial_epoch=133)"
   ]
  },
  {
   "cell_type": "code",
   "execution_count": 78,
   "metadata": {
    "ExecuteTime": {
     "end_time": "2019-09-03T21:47:14.353942Z",
     "start_time": "2019-09-03T21:47:13.448266Z"
    },
    "hidden": true
   },
   "outputs": [],
   "source": [
    "model_5.save('..//models//7 Shrinkit m5 174 epochs.h5')"
   ]
  },
  {
   "cell_type": "code",
   "execution_count": 79,
   "metadata": {
    "ExecuteTime": {
     "end_time": "2019-09-03T21:52:02.099176Z",
     "start_time": "2019-09-03T21:47:24.568135Z"
    },
    "hidden": true,
    "scrolled": true
   },
   "outputs": [
    {
     "name": "stdout",
     "output_type": "stream",
     "text": [
      "Epoch 176/275\n",
      "63/63 [==============================] - 8s 133ms/step - loss: 0.1951 - acc: 0.9291 - val_loss: 0.1982 - val_acc: 0.9242\n",
      "Epoch 177/275\n",
      "63/63 [==============================] - 5s 83ms/step - loss: 0.1881 - acc: 0.9375 - val_loss: 0.1967 - val_acc: 0.9273\n",
      "Epoch 178/275\n",
      "63/63 [==============================] - 5s 83ms/step - loss: 0.1850 - acc: 0.9352 - val_loss: 0.1940 - val_acc: 0.9303\n",
      "Epoch 179/275\n",
      "63/63 [==============================] - 5s 80ms/step - loss: 0.1812 - acc: 0.9373 - val_loss: 0.1986 - val_acc: 0.9242\n",
      "Epoch 180/275\n",
      "63/63 [==============================] - 5s 81ms/step - loss: 0.1727 - acc: 0.9429 - val_loss: 0.1988 - val_acc: 0.9235\n",
      "Epoch 181/275\n",
      "63/63 [==============================] - 5s 80ms/step - loss: 0.1701 - acc: 0.9364 - val_loss: 0.1879 - val_acc: 0.9280\n",
      "Epoch 182/275\n",
      "63/63 [==============================] - 5s 81ms/step - loss: 0.1680 - acc: 0.9406 - val_loss: 0.1709 - val_acc: 0.9371\n",
      "Epoch 183/275\n",
      "63/63 [==============================] - 5s 84ms/step - loss: 0.1686 - acc: 0.9396 - val_loss: 0.1838 - val_acc: 0.9303\n",
      "Epoch 184/275\n",
      "63/63 [==============================] - 5s 84ms/step - loss: 0.1585 - acc: 0.9469 - val_loss: 0.1875 - val_acc: 0.9273\n",
      "Epoch 185/275\n",
      "63/63 [==============================] - 5s 81ms/step - loss: 0.1593 - acc: 0.9438 - val_loss: 0.1802 - val_acc: 0.9303\n",
      "Epoch 186/275\n",
      "63/63 [==============================] - 5s 81ms/step - loss: 0.1503 - acc: 0.9463 - val_loss: 0.1698 - val_acc: 0.9326\n",
      "Epoch 187/275\n",
      "62/63 [============================>.] - ETA: 0s - loss: 0.1503 - acc: 0.9461\n",
      "Epoch 00187: ReduceLROnPlateau reducing learning rate to 4.999999873689376e-05.\n",
      "63/63 [==============================] - 6s 90ms/step - loss: 0.1502 - acc: 0.9459 - val_loss: 0.1651 - val_acc: 0.9371\n",
      "Epoch 188/275\n",
      "63/63 [==============================] - 5s 81ms/step - loss: 0.1390 - acc: 0.9525 - val_loss: 0.1638 - val_acc: 0.9409\n",
      "Epoch 189/275\n",
      "63/63 [==============================] - 5s 82ms/step - loss: 0.1420 - acc: 0.9505 - val_loss: 0.1739 - val_acc: 0.9364\n",
      "Epoch 190/275\n",
      "63/63 [==============================] - 5s 82ms/step - loss: 0.1362 - acc: 0.9531 - val_loss: 0.1747 - val_acc: 0.9348\n",
      "Epoch 191/275\n",
      "63/63 [==============================] - 5s 82ms/step - loss: 0.1357 - acc: 0.9534 - val_loss: 0.1685 - val_acc: 0.9402\n",
      "Epoch 192/275\n",
      "63/63 [==============================] - 5s 82ms/step - loss: 0.1399 - acc: 0.9498 - val_loss: 0.1689 - val_acc: 0.9341\n",
      "Epoch 193/275\n",
      "62/63 [============================>.] - ETA: 0s - loss: 0.1368 - acc: 0.9530\n",
      "Epoch 00193: ReduceLROnPlateau reducing learning rate to 2.499999936844688e-05.\n",
      "63/63 [==============================] - 5s 82ms/step - loss: 0.1361 - acc: 0.9534 - val_loss: 0.1603 - val_acc: 0.9386\n",
      "Epoch 194/275\n",
      "63/63 [==============================] - 5s 81ms/step - loss: 0.1336 - acc: 0.9545 - val_loss: 0.1656 - val_acc: 0.9341\n",
      "Epoch 195/275\n",
      "63/63 [==============================] - 5s 81ms/step - loss: 0.1291 - acc: 0.9572 - val_loss: 0.1653 - val_acc: 0.9379\n",
      "Epoch 196/275\n",
      "63/63 [==============================] - 5s 82ms/step - loss: 0.1297 - acc: 0.9550 - val_loss: 0.1675 - val_acc: 0.9371\n",
      "Epoch 197/275\n",
      "63/63 [==============================] - 5s 82ms/step - loss: 0.1289 - acc: 0.9544 - val_loss: 0.1597 - val_acc: 0.9424\n",
      "Epoch 198/275\n",
      "63/63 [==============================] - 5s 83ms/step - loss: 0.1231 - acc: 0.9594 - val_loss: 0.1684 - val_acc: 0.9386\n",
      "Epoch 199/275\n",
      "63/63 [==============================] - 5s 82ms/step - loss: 0.1244 - acc: 0.9566 - val_loss: 0.1672 - val_acc: 0.9371\n",
      "Epoch 200/275\n",
      "63/63 [==============================] - 5s 82ms/step - loss: 0.1230 - acc: 0.9586 - val_loss: 0.1685 - val_acc: 0.9341\n",
      "Epoch 201/275\n",
      "63/63 [==============================] - 5s 82ms/step - loss: 0.1343 - acc: 0.9551 - val_loss: 0.1639 - val_acc: 0.9371\n",
      "Epoch 202/275\n",
      "62/63 [============================>.] - ETA: 0s - loss: 0.1300 - acc: 0.9513\n",
      "Epoch 00202: ReduceLROnPlateau reducing learning rate to 1.249999968422344e-05.\n",
      "63/63 [==============================] - 5s 82ms/step - loss: 0.1295 - acc: 0.9517 - val_loss: 0.1646 - val_acc: 0.9409\n",
      "Epoch 203/275\n",
      "63/63 [==============================] - 5s 82ms/step - loss: 0.1269 - acc: 0.9560 - val_loss: 0.1660 - val_acc: 0.9348\n",
      "Epoch 204/275\n",
      "63/63 [==============================] - 5s 82ms/step - loss: 0.1259 - acc: 0.9574 - val_loss: 0.1648 - val_acc: 0.9371\n",
      "Epoch 205/275\n",
      "63/63 [==============================] - 5s 82ms/step - loss: 0.1244 - acc: 0.9563 - val_loss: 0.1629 - val_acc: 0.9402\n",
      "Epoch 206/275\n",
      "63/63 [==============================] - 5s 82ms/step - loss: 0.1210 - acc: 0.9586 - val_loss: 0.1585 - val_acc: 0.9447\n",
      "Epoch 207/275\n",
      "63/63 [==============================] - 5s 83ms/step - loss: 0.1204 - acc: 0.9567 - val_loss: 0.1647 - val_acc: 0.9394\n",
      "Epoch 208/275\n",
      "63/63 [==============================] - 5s 83ms/step - loss: 0.1251 - acc: 0.9561 - val_loss: 0.1589 - val_acc: 0.9394\n",
      "Epoch 209/275\n",
      "63/63 [==============================] - 5s 83ms/step - loss: 0.1201 - acc: 0.9574 - val_loss: 0.1623 - val_acc: 0.9402\n",
      "Epoch 210/275\n",
      "63/63 [==============================] - 5s 82ms/step - loss: 0.1157 - acc: 0.9610 - val_loss: 0.1609 - val_acc: 0.9402\n",
      "Epoch 211/275\n",
      "62/63 [============================>.] - ETA: 0s - loss: 0.1193 - acc: 0.9592\n",
      "Epoch 00211: ReduceLROnPlateau reducing learning rate to 6.24999984211172e-06.\n",
      "63/63 [==============================] - 5s 82ms/step - loss: 0.1186 - acc: 0.9594 - val_loss: 0.1637 - val_acc: 0.9379\n",
      "Epoch 212/275\n",
      "63/63 [==============================] - 5s 83ms/step - loss: 0.1221 - acc: 0.9570 - val_loss: 0.1611 - val_acc: 0.9417\n",
      "Epoch 213/275\n",
      "63/63 [==============================] - 5s 82ms/step - loss: 0.1164 - acc: 0.9589 - val_loss: 0.1606 - val_acc: 0.9409\n",
      "Epoch 214/275\n",
      "63/63 [==============================] - 5s 82ms/step - loss: 0.1179 - acc: 0.9606 - val_loss: 0.1607 - val_acc: 0.9379\n",
      "Epoch 215/275\n",
      "63/63 [==============================] - 5s 82ms/step - loss: 0.1143 - acc: 0.9607 - val_loss: 0.1595 - val_acc: 0.9402\n",
      "Epoch 216/275\n",
      "62/63 [============================>.] - ETA: 0s - loss: 0.1206 - acc: 0.9592\n",
      "Epoch 00216: ReduceLROnPlateau reducing learning rate to 3.12499992105586e-06.\n",
      "63/63 [==============================] - 5s 82ms/step - loss: 0.1201 - acc: 0.9591 - val_loss: 0.1584 - val_acc: 0.9402\n",
      "Epoch 217/275\n",
      "63/63 [==============================] - 5s 82ms/step - loss: 0.1182 - acc: 0.9603 - val_loss: 0.1588 - val_acc: 0.9402\n",
      "Epoch 218/275\n",
      "63/63 [==============================] - 5s 83ms/step - loss: 0.1199 - acc: 0.9564 - val_loss: 0.1604 - val_acc: 0.9394\n",
      "Epoch 219/275\n",
      "63/63 [==============================] - 5s 82ms/step - loss: 0.1197 - acc: 0.9578 - val_loss: 0.1596 - val_acc: 0.9402\n",
      "Epoch 220/275\n",
      "63/63 [==============================] - 5s 82ms/step - loss: 0.1138 - acc: 0.9610 - val_loss: 0.1608 - val_acc: 0.9402\n",
      "Epoch 221/275\n",
      "62/63 [============================>.] - ETA: 0s - loss: 0.1244 - acc: 0.9585\n",
      "Epoch 00221: ReduceLROnPlateau reducing learning rate to 1.56249996052793e-06.\n",
      "63/63 [==============================] - 5s 82ms/step - loss: 0.1232 - acc: 0.9589 - val_loss: 0.1610 - val_acc: 0.9402\n",
      "Epoch 222/275\n",
      "63/63 [==============================] - 5s 81ms/step - loss: 0.1138 - acc: 0.9624 - val_loss: 0.1608 - val_acc: 0.9402\n",
      "Epoch 223/275\n",
      "63/63 [==============================] - 5s 81ms/step - loss: 0.1128 - acc: 0.9600 - val_loss: 0.1606 - val_acc: 0.9409\n",
      "Epoch 224/275\n",
      "62/63 [============================>.] - ETA: 0s - loss: 0.1161 - acc: 0.9592Restoring model weights from the end of the best epoch.\n",
      "63/63 [==============================] - 5s 82ms/step - loss: 0.1161 - acc: 0.9591 - val_loss: 0.1620 - val_acc: 0.9394\n",
      "Epoch 00224: early stopping\n"
     ]
    },
    {
     "data": {
      "image/png": "[encoded data removed]",
      "text/plain": [
       "<Figure size 432x288 with 2 Axes>"
      ]
     },
     "metadata": {
      "needs_background": "light"
     },
     "output_type": "display_data"
    },
    {
     "name": "stdout",
     "output_type": "stream",
     "text": [
      "Best val_acc - 0.9447 (epoch 31)\n"
     ]
    }
   ],
   "source": [
    "# more training\n",
    "history, model_5 = train(model_5, lr=0.0001, initial_epoch=175)"
   ]
  },
  {
   "cell_type": "markdown",
   "metadata": {},
   "source": [
    "## Model 6: m5 add layers 33,512 - 0.9652 (epoch 167)\n",
    "m5 but add a segment"
   ]
  },
  {
   "cell_type": "markdown",
   "metadata": {
    "heading_collapsed": true
   },
   "source": [
    "#### Define Model"
   ]
  },
  {
   "cell_type": "code",
   "execution_count": 4,
   "metadata": {
    "ExecuteTime": {
     "end_time": "2019-09-06T21:46:00.407336Z",
     "start_time": "2019-09-06T21:45:58.217853Z"
    },
    "code_folding": [],
    "hidden": true,
    "scrolled": true
   },
   "outputs": [
    {
     "name": "stderr",
     "output_type": "stream",
     "text": [
      "WARNING: Logging before flag parsing goes to stderr.\n",
      "W0906 14:45:58.225801  8664 deprecation_wrapper.py:119] From C:\\Users\\kendy\\Anaconda3\\envs\\keras-gpu\\lib\\site-packages\\keras\\backend\\tensorflow_backend.py:66: The name tf.get_default_graph is deprecated. Please use tf.compat.v1.get_default_graph instead.\n",
      "\n",
      "W0906 14:45:58.241759  8664 deprecation_wrapper.py:119] From C:\\Users\\kendy\\Anaconda3\\envs\\keras-gpu\\lib\\site-packages\\keras\\backend\\tensorflow_backend.py:541: The name tf.placeholder is deprecated. Please use tf.compat.v1.placeholder instead.\n",
      "\n",
      "W0906 14:45:58.273673  8664 deprecation_wrapper.py:119] From C:\\Users\\kendy\\Anaconda3\\envs\\keras-gpu\\lib\\site-packages\\keras\\backend\\tensorflow_backend.py:4432: The name tf.random_uniform is deprecated. Please use tf.random.uniform instead.\n",
      "\n",
      "W0906 14:45:58.340892  8664 deprecation_wrapper.py:119] From C:\\Users\\kendy\\Anaconda3\\envs\\keras-gpu\\lib\\site-packages\\keras\\backend\\tensorflow_backend.py:190: The name tf.get_default_session is deprecated. Please use tf.compat.v1.get_default_session instead.\n",
      "\n",
      "W0906 14:45:58.341889  8664 deprecation_wrapper.py:119] From C:\\Users\\kendy\\Anaconda3\\envs\\keras-gpu\\lib\\site-packages\\keras\\backend\\tensorflow_backend.py:197: The name tf.ConfigProto is deprecated. Please use tf.compat.v1.ConfigProto instead.\n",
      "\n",
      "W0906 14:45:59.654217  8664 deprecation_wrapper.py:119] From C:\\Users\\kendy\\Anaconda3\\envs\\keras-gpu\\lib\\site-packages\\keras\\backend\\tensorflow_backend.py:2041: The name tf.nn.fused_batch_norm is deprecated. Please use tf.compat.v1.nn.fused_batch_norm instead.\n",
      "\n",
      "W0906 14:45:59.815783  8664 deprecation_wrapper.py:119] From C:\\Users\\kendy\\Anaconda3\\envs\\keras-gpu\\lib\\site-packages\\keras\\backend\\tensorflow_backend.py:4267: The name tf.nn.max_pool is deprecated. Please use tf.nn.max_pool2d instead.\n",
      "\n",
      "W0906 14:45:59.822763  8664 deprecation.py:506] From C:\\Users\\kendy\\Anaconda3\\envs\\keras-gpu\\lib\\site-packages\\keras\\backend\\tensorflow_backend.py:3733: calling dropout (from tensorflow.python.ops.nn_ops) with keep_prob is deprecated and will be removed in a future version.\n",
      "Instructions for updating:\n",
      "Please use `rate` instead of `keep_prob`. Rate should be set to `rate = 1 - keep_prob`.\n"
     ]
    },
    {
     "name": "stdout",
     "output_type": "stream",
     "text": [
      "Model: \"sequential_1\"\n",
      "_________________________________________________________________\n",
      "Layer (type)                 Output Shape              Param #   \n",
      "=================================================================\n",
      "conv2d_1 (Conv2D)            (None, 126, 126, 16)      448       \n",
      "_________________________________________________________________\n",
      "batch_normalization_1 (Batch (None, 126, 126, 16)      64        \n",
      "_________________________________________________________________\n",
      "activation_1 (Activation)    (None, 126, 126, 16)      0         \n",
      "_________________________________________________________________\n",
      "conv2d_2 (Conv2D)            (None, 124, 124, 20)      2900      \n",
      "_________________________________________________________________\n",
      "batch_normalization_2 (Batch (None, 124, 124, 20)      80        \n",
      "_________________________________________________________________\n",
      "activation_2 (Activation)    (None, 124, 124, 20)      0         \n",
      "_________________________________________________________________\n",
      "max_pooling2d_1 (MaxPooling2 (None, 62, 62, 20)        0         \n",
      "_________________________________________________________________\n",
      "dropout_1 (Dropout)          (None, 62, 62, 20)        0         \n",
      "_________________________________________________________________\n",
      "conv2d_3 (Conv2D)            (None, 60, 60, 20)        3620      \n",
      "_________________________________________________________________\n",
      "batch_normalization_3 (Batch (None, 60, 60, 20)        80        \n",
      "_________________________________________________________________\n",
      "activation_3 (Activation)    (None, 60, 60, 20)        0         \n",
      "_________________________________________________________________\n",
      "conv2d_4 (Conv2D)            (None, 58, 58, 32)        5792      \n",
      "_________________________________________________________________\n",
      "batch_normalization_4 (Batch (None, 58, 58, 32)        128       \n",
      "_________________________________________________________________\n",
      "activation_4 (Activation)    (None, 58, 58, 32)        0         \n",
      "_________________________________________________________________\n",
      "max_pooling2d_2 (MaxPooling2 (None, 29, 29, 32)        0         \n",
      "_________________________________________________________________\n",
      "dropout_2 (Dropout)          (None, 29, 29, 32)        0         \n",
      "_________________________________________________________________\n",
      "conv2d_5 (Conv2D)            (None, 27, 27, 20)        5780      \n",
      "_________________________________________________________________\n",
      "batch_normalization_5 (Batch (None, 27, 27, 20)        80        \n",
      "_________________________________________________________________\n",
      "activation_5 (Activation)    (None, 27, 27, 20)        0         \n",
      "_________________________________________________________________\n",
      "conv2d_6 (Conv2D)            (None, 25, 25, 20)        3620      \n",
      "_________________________________________________________________\n",
      "batch_normalization_6 (Batch (None, 25, 25, 20)        80        \n",
      "_________________________________________________________________\n",
      "activation_6 (Activation)    (None, 25, 25, 20)        0         \n",
      "_________________________________________________________________\n",
      "max_pooling2d_3 (MaxPooling2 (None, 12, 12, 20)        0         \n",
      "_________________________________________________________________\n",
      "dropout_3 (Dropout)          (None, 12, 12, 20)        0         \n",
      "_________________________________________________________________\n",
      "conv2d_7 (Conv2D)            (None, 10, 10, 20)        3620      \n",
      "_________________________________________________________________\n",
      "batch_normalization_7 (Batch (None, 10, 10, 20)        80        \n",
      "_________________________________________________________________\n",
      "activation_7 (Activation)    (None, 10, 10, 20)        0         \n",
      "_________________________________________________________________\n",
      "conv2d_8 (Conv2D)            (None, 8, 8, 16)          2896      \n",
      "_________________________________________________________________\n",
      "batch_normalization_8 (Batch (None, 8, 8, 16)          64        \n",
      "_________________________________________________________________\n",
      "activation_8 (Activation)    (None, 8, 8, 16)          0         \n",
      "_________________________________________________________________\n",
      "max_pooling2d_4 (MaxPooling2 (None, 4, 4, 16)          0         \n",
      "_________________________________________________________________\n",
      "dropout_4 (Dropout)          (None, 4, 4, 16)          0         \n",
      "_________________________________________________________________\n",
      "flatten_1 (Flatten)          (None, 256)               0         \n",
      "_________________________________________________________________\n",
      "dense_1 (Dense)              (None, 16)                4112      \n",
      "_________________________________________________________________\n",
      "activation_9 (Activation)    (None, 16)                0         \n",
      "_________________________________________________________________\n",
      "dense_2 (Dense)              (None, 4)                 68        \n",
      "_________________________________________________________________\n",
      "activation_10 (Activation)   (None, 4)                 0         \n",
      "=================================================================\n",
      "Total params: 33,512\n",
      "Trainable params: 33,184\n",
      "Non-trainable params: 328\n",
      "_________________________________________________________________\n"
     ]
    }
   ],
   "source": [
    "model_6 = Sequential([\n",
    "    Conv2D(16, (3, 3), strides=(1, 1), input_shape=(128, 128, 3), data_format=\"channels_last\", padding='valid'),   # RGB\n",
    "    BatchNormalization(),\n",
    "    Activation('relu'),\n",
    "    Conv2D(20, (3, 3), strides=(1, 1), padding='valid'),\n",
    "    BatchNormalization(),\n",
    "    Activation('relu'),\n",
    "    MaxPooling2D(pool_size=(2, 2)),\n",
    "    Dropout(0.3),\n",
    "    \n",
    "    Conv2D(20, (3, 3), strides=(1, 1), input_shape=(128, 128, 3), data_format=\"channels_last\", padding='valid'),   # RGB\n",
    "    BatchNormalization(),\n",
    "    Activation('relu'),\n",
    "    Conv2D(32, (3, 3), strides=(1, 1), padding='valid'),\n",
    "    BatchNormalization(),\n",
    "    Activation('relu'),\n",
    "    MaxPooling2D(pool_size=(2, 2)),\n",
    "    Dropout(0.3),\n",
    "    \n",
    "    Conv2D(20, (3, 3), strides=(1, 1), input_shape=(128, 128, 3), data_format=\"channels_last\", padding='valid'),   # RGB\n",
    "    BatchNormalization(),\n",
    "    Activation('relu'),\n",
    "    Conv2D(20, (3, 3), strides=(1, 1), padding='valid'),\n",
    "    BatchNormalization(),\n",
    "    Activation('relu'),\n",
    "    MaxPooling2D(pool_size=(2, 2)),\n",
    "    Dropout(0.3),\n",
    "    \n",
    "    Conv2D(20, (3, 3), strides=(1, 1), input_shape=(128, 128, 3), data_format=\"channels_last\", padding='valid'),   # RGB\n",
    "    BatchNormalization(),\n",
    "    Activation('relu'),\n",
    "    Conv2D(16, (3, 3), strides=(1, 1), padding='valid'),\n",
    "    BatchNormalization(),\n",
    "    Activation('relu'),\n",
    "    MaxPooling2D(pool_size=(2, 2)),\n",
    "    Dropout(0.3),\n",
    "    \n",
    "    Flatten(),\n",
    "    Dense(16),\n",
    "    Activation('relu'),\n",
    "    Dense(num_classes),\n",
    "    Activation('softmax')\n",
    "])\n",
    "model_6.summary()"
   ]
  },
  {
   "cell_type": "markdown",
   "metadata": {},
   "source": [
    "#### Execute Training"
   ]
  },
  {
   "cell_type": "code",
   "execution_count": 5,
   "metadata": {
    "ExecuteTime": {
     "end_time": "2019-09-06T21:54:54.398230Z",
     "start_time": "2019-09-06T21:46:08.152629Z"
    },
    "scrolled": true
   },
   "outputs": [
    {
     "name": "stderr",
     "output_type": "stream",
     "text": [
      "W0906 14:46:08.168560  8664 deprecation_wrapper.py:119] From C:\\Users\\kendy\\Anaconda3\\envs\\keras-gpu\\lib\\site-packages\\keras\\optimizers.py:793: The name tf.train.Optimizer is deprecated. Please use tf.compat.v1.train.Optimizer instead.\n",
      "\n",
      "W0906 14:46:27.730760  8664 deprecation.py:323] From C:\\Users\\kendy\\Anaconda3\\envs\\keras-gpu\\lib\\site-packages\\tensorflow\\python\\ops\\math_grad.py:1250: add_dispatch_support.<locals>.wrapper (from tensorflow.python.ops.array_ops) is deprecated and will be removed in a future version.\n",
      "Instructions for updating:\n",
      "Use tf.where in 2.0, which has the same broadcast rule as np.where\n"
     ]
    },
    {
     "name": "stdout",
     "output_type": "stream",
     "text": [
      "Epoch 1/100\n",
      "63/63 [==============================] - 9s 136ms/step - loss: 1.9528 - acc: 0.2542 - val_loss: 1.3934 - val_acc: 0.2856\n",
      "Epoch 2/100\n",
      "63/63 [==============================] - 5s 80ms/step - loss: 1.6521 - acc: 0.2716 - val_loss: 1.3732 - val_acc: 0.3152\n",
      "Epoch 3/100\n",
      "63/63 [==============================] - 5s 81ms/step - loss: 1.5294 - acc: 0.2847 - val_loss: 1.3702 - val_acc: 0.3311\n",
      "Epoch 4/100\n",
      "63/63 [==============================] - 5s 80ms/step - loss: 1.4647 - acc: 0.2822 - val_loss: 1.3744 - val_acc: 0.3288\n",
      "Epoch 5/100\n",
      "63/63 [==============================] - 5s 80ms/step - loss: 1.4271 - acc: 0.2954 - val_loss: 1.3774 - val_acc: 0.3023\n",
      "Epoch 6/100\n",
      "63/63 [==============================] - 5s 80ms/step - loss: 1.4067 - acc: 0.2934 - val_loss: 1.3784 - val_acc: 0.3008\n",
      "Epoch 7/100\n",
      "63/63 [==============================] - 5s 80ms/step - loss: 1.3981 - acc: 0.2844 - val_loss: 1.3768 - val_acc: 0.2917\n",
      "Epoch 8/100\n",
      "63/63 [==============================] - 5s 80ms/step - loss: 1.3815 - acc: 0.2959 - val_loss: 1.3732 - val_acc: 0.3098\n",
      "\n",
      "Epoch 00008: ReduceLROnPlateau reducing learning rate to 4.999999873689376e-05.\n",
      "Epoch 9/100\n",
      "63/63 [==============================] - 5s 80ms/step - loss: 1.3725 - acc: 0.2980 - val_loss: 1.3707 - val_acc: 0.3144\n",
      "Epoch 10/100\n",
      "63/63 [==============================] - 5s 82ms/step - loss: 1.3712 - acc: 0.3105 - val_loss: 1.3687 - val_acc: 0.3174\n",
      "Epoch 11/100\n",
      "63/63 [==============================] - 5s 80ms/step - loss: 1.3678 - acc: 0.3079 - val_loss: 1.3656 - val_acc: 0.3098\n",
      "Epoch 12/100\n",
      "63/63 [==============================] - 5s 80ms/step - loss: 1.3629 - acc: 0.3156 - val_loss: 1.3624 - val_acc: 0.3045\n",
      "Epoch 13/100\n",
      "63/63 [==============================] - 5s 80ms/step - loss: 1.3596 - acc: 0.3096 - val_loss: 1.3602 - val_acc: 0.3265\n",
      "\n",
      "Epoch 00013: ReduceLROnPlateau reducing learning rate to 2.499999936844688e-05.\n",
      "Epoch 14/100\n",
      "63/63 [==============================] - 5s 80ms/step - loss: 1.3597 - acc: 0.3018 - val_loss: 1.3582 - val_acc: 0.3280\n",
      "Epoch 15/100\n",
      "63/63 [==============================] - 5s 80ms/step - loss: 1.3554 - acc: 0.3171 - val_loss: 1.3555 - val_acc: 0.3386\n",
      "Epoch 16/100\n",
      "63/63 [==============================] - 5s 80ms/step - loss: 1.3565 - acc: 0.3100 - val_loss: 1.3531 - val_acc: 0.3462\n",
      "Epoch 17/100\n",
      "63/63 [==============================] - 5s 79ms/step - loss: 1.3561 - acc: 0.3101 - val_loss: 1.3501 - val_acc: 0.3485\n",
      "Epoch 18/100\n",
      "63/63 [==============================] - 5s 80ms/step - loss: 1.3439 - acc: 0.3249 - val_loss: 1.3490 - val_acc: 0.3561\n",
      "Epoch 19/100\n",
      "63/63 [==============================] - 5s 80ms/step - loss: 1.3476 - acc: 0.3228 - val_loss: 1.3461 - val_acc: 0.3614\n",
      "Epoch 20/100\n",
      "63/63 [==============================] - 5s 79ms/step - loss: 1.3466 - acc: 0.3265 - val_loss: 1.3434 - val_acc: 0.3667\n",
      "Epoch 21/100\n",
      "63/63 [==============================] - 5s 80ms/step - loss: 1.3464 - acc: 0.3306 - val_loss: 1.3402 - val_acc: 0.3644\n",
      "Epoch 22/100\n",
      "63/63 [==============================] - 5s 80ms/step - loss: 1.3370 - acc: 0.3357 - val_loss: 1.3364 - val_acc: 0.3712\n",
      "Epoch 23/100\n",
      "63/63 [==============================] - 5s 80ms/step - loss: 1.3336 - acc: 0.3502 - val_loss: 1.3338 - val_acc: 0.3811\n",
      "Epoch 24/100\n",
      "63/63 [==============================] - 5s 80ms/step - loss: 1.3304 - acc: 0.3502 - val_loss: 1.3301 - val_acc: 0.3826\n",
      "Epoch 25/100\n",
      "63/63 [==============================] - 5s 80ms/step - loss: 1.3270 - acc: 0.3544 - val_loss: 1.3284 - val_acc: 0.3841\n",
      "Epoch 26/100\n",
      "63/63 [==============================] - 5s 80ms/step - loss: 1.3220 - acc: 0.3589 - val_loss: 1.3208 - val_acc: 0.3879\n",
      "Epoch 27/100\n",
      "63/63 [==============================] - 5s 80ms/step - loss: 1.3174 - acc: 0.3627 - val_loss: 1.3148 - val_acc: 0.3917\n",
      "Epoch 28/100\n",
      "63/63 [==============================] - 5s 79ms/step - loss: 1.3161 - acc: 0.3719 - val_loss: 1.3108 - val_acc: 0.3955\n",
      "Epoch 29/100\n",
      "63/63 [==============================] - 5s 80ms/step - loss: 1.3145 - acc: 0.3678 - val_loss: 1.3070 - val_acc: 0.3917\n",
      "Epoch 30/100\n",
      "63/63 [==============================] - 5s 80ms/step - loss: 1.3071 - acc: 0.3673 - val_loss: 1.3012 - val_acc: 0.3992\n",
      "Epoch 31/100\n",
      "63/63 [==============================] - 5s 79ms/step - loss: 1.3062 - acc: 0.3760 - val_loss: 1.2946 - val_acc: 0.4098\n",
      "Epoch 32/100\n",
      "63/63 [==============================] - 5s 79ms/step - loss: 1.3058 - acc: 0.3687 - val_loss: 1.2915 - val_acc: 0.4091\n",
      "Epoch 33/100\n",
      "63/63 [==============================] - 5s 80ms/step - loss: 1.3013 - acc: 0.3802 - val_loss: 1.2872 - val_acc: 0.4159\n",
      "Epoch 34/100\n",
      "63/63 [==============================] - 5s 80ms/step - loss: 1.2938 - acc: 0.3896 - val_loss: 1.2815 - val_acc: 0.4167\n",
      "Epoch 35/100\n",
      "63/63 [==============================] - 5s 79ms/step - loss: 1.2848 - acc: 0.3950 - val_loss: 1.2768 - val_acc: 0.4182\n",
      "Epoch 36/100\n",
      "63/63 [==============================] - 5s 80ms/step - loss: 1.2718 - acc: 0.3983 - val_loss: 1.2700 - val_acc: 0.4174\n",
      "Epoch 37/100\n",
      "63/63 [==============================] - 5s 79ms/step - loss: 1.2712 - acc: 0.4054 - val_loss: 1.2594 - val_acc: 0.4250\n",
      "Epoch 38/100\n",
      "63/63 [==============================] - 5s 79ms/step - loss: 1.2708 - acc: 0.4130 - val_loss: 1.2559 - val_acc: 0.4424\n",
      "Epoch 39/100\n",
      "63/63 [==============================] - 5s 79ms/step - loss: 1.2558 - acc: 0.4189 - val_loss: 1.2465 - val_acc: 0.4485\n",
      "Epoch 40/100\n",
      "63/63 [==============================] - 5s 80ms/step - loss: 1.2518 - acc: 0.4190 - val_loss: 1.2403 - val_acc: 0.4492\n",
      "Epoch 41/100\n",
      "63/63 [==============================] - 5s 80ms/step - loss: 1.2457 - acc: 0.4267 - val_loss: 1.2353 - val_acc: 0.4530\n",
      "Epoch 42/100\n",
      "63/63 [==============================] - 5s 80ms/step - loss: 1.2384 - acc: 0.4286 - val_loss: 1.2202 - val_acc: 0.4644\n",
      "Epoch 43/100\n",
      "63/63 [==============================] - 5s 79ms/step - loss: 1.2243 - acc: 0.4390 - val_loss: 1.2138 - val_acc: 0.4689\n",
      "Epoch 44/100\n",
      "63/63 [==============================] - 5s 79ms/step - loss: 1.2247 - acc: 0.4406 - val_loss: 1.2058 - val_acc: 0.4742\n",
      "Epoch 45/100\n",
      "63/63 [==============================] - 5s 80ms/step - loss: 1.2215 - acc: 0.4460 - val_loss: 1.2033 - val_acc: 0.4788\n",
      "Epoch 46/100\n",
      "63/63 [==============================] - 5s 79ms/step - loss: 1.2193 - acc: 0.4400 - val_loss: 1.1928 - val_acc: 0.4894\n",
      "Epoch 47/100\n",
      "63/63 [==============================] - 5s 80ms/step - loss: 1.2052 - acc: 0.4520 - val_loss: 1.1765 - val_acc: 0.5083\n",
      "Epoch 48/100\n",
      "63/63 [==============================] - 5s 79ms/step - loss: 1.2012 - acc: 0.4539 - val_loss: 1.1672 - val_acc: 0.5189\n",
      "Epoch 49/100\n",
      "63/63 [==============================] - 5s 80ms/step - loss: 1.1842 - acc: 0.4695 - val_loss: 1.1622 - val_acc: 0.5220\n",
      "Epoch 50/100\n",
      "63/63 [==============================] - 5s 80ms/step - loss: 1.1914 - acc: 0.4625 - val_loss: 1.1513 - val_acc: 0.5303\n",
      "Epoch 51/100\n",
      "63/63 [==============================] - 5s 80ms/step - loss: 1.1812 - acc: 0.4683 - val_loss: 1.1375 - val_acc: 0.5402\n",
      "Epoch 52/100\n",
      "63/63 [==============================] - 5s 81ms/step - loss: 1.1745 - acc: 0.4704 - val_loss: 1.1306 - val_acc: 0.5447\n",
      "Epoch 53/100\n",
      "63/63 [==============================] - 5s 80ms/step - loss: 1.1625 - acc: 0.4743 - val_loss: 1.1270 - val_acc: 0.5500\n",
      "Epoch 54/100\n",
      "63/63 [==============================] - 5s 79ms/step - loss: 1.1693 - acc: 0.4773 - val_loss: 1.1166 - val_acc: 0.5523\n",
      "Epoch 55/100\n",
      "63/63 [==============================] - 5s 82ms/step - loss: 1.1667 - acc: 0.4764 - val_loss: 1.1106 - val_acc: 0.5614\n",
      "Epoch 56/100\n",
      "63/63 [==============================] - 5s 80ms/step - loss: 1.1582 - acc: 0.4824 - val_loss: 1.0992 - val_acc: 0.5674\n",
      "Epoch 57/100\n",
      "63/63 [==============================] - 5s 79ms/step - loss: 1.1415 - acc: 0.4907 - val_loss: 1.0951 - val_acc: 0.5636\n",
      "Epoch 58/100\n",
      "63/63 [==============================] - 5s 79ms/step - loss: 1.1365 - acc: 0.4928 - val_loss: 1.0755 - val_acc: 0.5712\n",
      "Epoch 59/100\n",
      "63/63 [==============================] - 5s 79ms/step - loss: 1.1265 - acc: 0.5037 - val_loss: 1.0720 - val_acc: 0.5765\n",
      "Epoch 60/100\n",
      "63/63 [==============================] - 5s 78ms/step - loss: 1.1344 - acc: 0.4974 - val_loss: 1.0640 - val_acc: 0.5795\n",
      "Epoch 61/100\n"
     ]
    },
    {
     "name": "stdout",
     "output_type": "stream",
     "text": [
      "63/63 [==============================] - 5s 78ms/step - loss: 1.1164 - acc: 0.5053 - val_loss: 1.0416 - val_acc: 0.5811\n",
      "Epoch 62/100\n",
      "63/63 [==============================] - 5s 78ms/step - loss: 1.1138 - acc: 0.5038 - val_loss: 1.0419 - val_acc: 0.5811\n",
      "Epoch 63/100\n",
      "63/63 [==============================] - 5s 78ms/step - loss: 1.1031 - acc: 0.5219 - val_loss: 1.0269 - val_acc: 0.5864\n",
      "Epoch 64/100\n",
      "63/63 [==============================] - 5s 78ms/step - loss: 1.0903 - acc: 0.5252 - val_loss: 1.0263 - val_acc: 0.6000\n",
      "Epoch 65/100\n",
      "63/63 [==============================] - 5s 79ms/step - loss: 1.0858 - acc: 0.5256 - val_loss: 1.0056 - val_acc: 0.5970\n",
      "Epoch 66/100\n",
      "63/63 [==============================] - 5s 78ms/step - loss: 1.0880 - acc: 0.5316 - val_loss: 0.9945 - val_acc: 0.5985\n",
      "Epoch 67/100\n",
      "63/63 [==============================] - 5s 78ms/step - loss: 1.0709 - acc: 0.5391 - val_loss: 0.9877 - val_acc: 0.6053\n",
      "Epoch 68/100\n",
      "63/63 [==============================] - 5s 79ms/step - loss: 1.0675 - acc: 0.5347 - val_loss: 0.9826 - val_acc: 0.6038\n",
      "Epoch 69/100\n",
      "63/63 [==============================] - 5s 78ms/step - loss: 1.0622 - acc: 0.5455 - val_loss: 0.9746 - val_acc: 0.6121\n",
      "Epoch 70/100\n",
      "63/63 [==============================] - 5s 79ms/step - loss: 1.0483 - acc: 0.5489 - val_loss: 0.9577 - val_acc: 0.6083\n",
      "Epoch 71/100\n",
      "63/63 [==============================] - 5s 78ms/step - loss: 1.0521 - acc: 0.5472 - val_loss: 0.9582 - val_acc: 0.6091\n",
      "Epoch 72/100\n",
      "63/63 [==============================] - 5s 78ms/step - loss: 1.0468 - acc: 0.5521 - val_loss: 0.9423 - val_acc: 0.6167\n",
      "Epoch 73/100\n",
      "63/63 [==============================] - 5s 79ms/step - loss: 1.0347 - acc: 0.5523 - val_loss: 0.9287 - val_acc: 0.6220\n",
      "Epoch 74/100\n",
      "63/63 [==============================] - 5s 78ms/step - loss: 1.0247 - acc: 0.5674 - val_loss: 0.9251 - val_acc: 0.6174\n",
      "Epoch 75/100\n",
      "63/63 [==============================] - 5s 78ms/step - loss: 1.0195 - acc: 0.5614 - val_loss: 0.9078 - val_acc: 0.6333\n",
      "Epoch 76/100\n",
      "63/63 [==============================] - 5s 78ms/step - loss: 1.0170 - acc: 0.5641 - val_loss: 0.9062 - val_acc: 0.6348\n",
      "Epoch 77/100\n",
      "63/63 [==============================] - 5s 79ms/step - loss: 1.0046 - acc: 0.5791 - val_loss: 0.8941 - val_acc: 0.6356\n",
      "Epoch 78/100\n",
      "63/63 [==============================] - 5s 78ms/step - loss: 0.9936 - acc: 0.5784 - val_loss: 0.8765 - val_acc: 0.6470\n",
      "Epoch 79/100\n",
      "63/63 [==============================] - 5s 79ms/step - loss: 0.9911 - acc: 0.5741 - val_loss: 0.8826 - val_acc: 0.6455\n",
      "Epoch 80/100\n",
      "63/63 [==============================] - 5s 79ms/step - loss: 0.9849 - acc: 0.5795 - val_loss: 0.8620 - val_acc: 0.6576\n",
      "Epoch 81/100\n",
      "63/63 [==============================] - 5s 79ms/step - loss: 0.9751 - acc: 0.5833 - val_loss: 0.8533 - val_acc: 0.6553\n",
      "Epoch 82/100\n",
      "63/63 [==============================] - 5s 81ms/step - loss: 0.9595 - acc: 0.5866 - val_loss: 0.8500 - val_acc: 0.6508\n",
      "Epoch 83/100\n",
      "63/63 [==============================] - 5s 80ms/step - loss: 0.9638 - acc: 0.5929 - val_loss: 0.8404 - val_acc: 0.6621\n",
      "Epoch 84/100\n",
      "63/63 [==============================] - 5s 80ms/step - loss: 0.9654 - acc: 0.5888 - val_loss: 0.8222 - val_acc: 0.6735\n",
      "Epoch 85/100\n",
      "63/63 [==============================] - 5s 79ms/step - loss: 0.9439 - acc: 0.6038 - val_loss: 0.8165 - val_acc: 0.6765\n",
      "Epoch 86/100\n",
      "63/63 [==============================] - 5s 80ms/step - loss: 0.9543 - acc: 0.5981 - val_loss: 0.8073 - val_acc: 0.6841\n",
      "Epoch 87/100\n",
      "63/63 [==============================] - 5s 79ms/step - loss: 0.9390 - acc: 0.6033 - val_loss: 0.7919 - val_acc: 0.6894\n",
      "Epoch 88/100\n",
      "63/63 [==============================] - 5s 80ms/step - loss: 0.9249 - acc: 0.6136 - val_loss: 0.7835 - val_acc: 0.6947\n",
      "Epoch 89/100\n",
      "63/63 [==============================] - 5s 79ms/step - loss: 0.9165 - acc: 0.6209 - val_loss: 0.7767 - val_acc: 0.6970\n",
      "Epoch 90/100\n",
      "63/63 [==============================] - 5s 79ms/step - loss: 0.9103 - acc: 0.6142 - val_loss: 0.7746 - val_acc: 0.7023\n",
      "Epoch 91/100\n",
      "63/63 [==============================] - 5s 80ms/step - loss: 0.9143 - acc: 0.6163 - val_loss: 0.7498 - val_acc: 0.7061\n",
      "Epoch 92/100\n",
      "63/63 [==============================] - 5s 80ms/step - loss: 0.9089 - acc: 0.6142 - val_loss: 0.7499 - val_acc: 0.7083\n",
      "Epoch 93/100\n",
      "63/63 [==============================] - 5s 80ms/step - loss: 0.8892 - acc: 0.6241 - val_loss: 0.7519 - val_acc: 0.7030\n",
      "Epoch 94/100\n",
      "63/63 [==============================] - 5s 80ms/step - loss: 0.8861 - acc: 0.6281 - val_loss: 0.7320 - val_acc: 0.7189\n",
      "Epoch 95/100\n",
      "63/63 [==============================] - 5s 79ms/step - loss: 0.8843 - acc: 0.6308 - val_loss: 0.7289 - val_acc: 0.7159\n",
      "Epoch 96/100\n",
      "63/63 [==============================] - 5s 80ms/step - loss: 0.8771 - acc: 0.6399 - val_loss: 0.7221 - val_acc: 0.7152\n",
      "Epoch 97/100\n",
      "63/63 [==============================] - 5s 79ms/step - loss: 0.8707 - acc: 0.6410 - val_loss: 0.7165 - val_acc: 0.7189\n",
      "Epoch 98/100\n",
      "63/63 [==============================] - 5s 79ms/step - loss: 0.8562 - acc: 0.6496 - val_loss: 0.7057 - val_acc: 0.7288\n",
      "Epoch 99/100\n",
      "63/63 [==============================] - 5s 79ms/step - loss: 0.8444 - acc: 0.6507 - val_loss: 0.6936 - val_acc: 0.7303\n",
      "Epoch 100/100\n",
      "63/63 [==============================] - 5s 79ms/step - loss: 0.8554 - acc: 0.6412 - val_loss: 0.6887 - val_acc: 0.7356\n"
     ]
    },
    {
     "data": {
      "image/png": "[encoded data removed]",
      "text/plain": [
       "<Figure size 432x288 with 2 Axes>"
      ]
     },
     "metadata": {
      "needs_background": "light"
     },
     "output_type": "display_data"
    },
    {
     "name": "stdout",
     "output_type": "stream",
     "text": [
      "Best val_acc - 0.7356 (epoch 100)\n"
     ]
    }
   ],
   "source": [
    "# lower the learning rate by a factor of 10\n",
    "history, model_6 = train(model_6, lr=0.0001)"
   ]
  },
  {
   "cell_type": "code",
   "execution_count": 6,
   "metadata": {
    "ExecuteTime": {
     "end_time": "2019-09-06T22:03:23.578174Z",
     "start_time": "2019-09-06T21:55:54.615081Z"
    },
    "scrolled": true
   },
   "outputs": [
    {
     "name": "stdout",
     "output_type": "stream",
     "text": [
      "Epoch 102/201\n",
      "63/63 [==============================] - 6s 102ms/step - loss: 0.8329 - acc: 0.6550 - val_loss: 0.6780 - val_acc: 0.7311\n",
      "Epoch 103/201\n",
      "63/63 [==============================] - 5s 79ms/step - loss: 0.8170 - acc: 0.6621 - val_loss: 0.6384 - val_acc: 0.7598\n",
      "Epoch 104/201\n",
      "63/63 [==============================] - 5s 79ms/step - loss: 0.7724 - acc: 0.6827 - val_loss: 0.6317 - val_acc: 0.7591\n",
      "Epoch 105/201\n",
      "63/63 [==============================] - 5s 79ms/step - loss: 0.7664 - acc: 0.6902 - val_loss: 0.5923 - val_acc: 0.7795\n",
      "Epoch 106/201\n",
      "63/63 [==============================] - 5s 79ms/step - loss: 0.7426 - acc: 0.6983 - val_loss: 0.5640 - val_acc: 0.7894\n",
      "Epoch 107/201\n",
      "63/63 [==============================] - 5s 79ms/step - loss: 0.7045 - acc: 0.7102 - val_loss: 0.5599 - val_acc: 0.7795\n",
      "Epoch 108/201\n",
      "63/63 [==============================] - 5s 79ms/step - loss: 0.6800 - acc: 0.7290 - val_loss: 0.5261 - val_acc: 0.8023\n",
      "Epoch 109/201\n",
      "63/63 [==============================] - 5s 79ms/step - loss: 0.6496 - acc: 0.7433 - val_loss: 0.4878 - val_acc: 0.8280\n",
      "Epoch 110/201\n",
      "63/63 [==============================] - 5s 79ms/step - loss: 0.6339 - acc: 0.7536 - val_loss: 0.4736 - val_acc: 0.8258\n",
      "Epoch 111/201\n",
      "63/63 [==============================] - 5s 79ms/step - loss: 0.6079 - acc: 0.7578 - val_loss: 0.4708 - val_acc: 0.8258\n",
      "Epoch 112/201\n",
      "63/63 [==============================] - 5s 79ms/step - loss: 0.5864 - acc: 0.7715 - val_loss: 0.4505 - val_acc: 0.8356\n",
      "Epoch 113/201\n",
      "63/63 [==============================] - 5s 79ms/step - loss: 0.5634 - acc: 0.7781 - val_loss: 0.4187 - val_acc: 0.8462\n",
      "Epoch 114/201\n",
      "63/63 [==============================] - 5s 80ms/step - loss: 0.5344 - acc: 0.7908 - val_loss: 0.3878 - val_acc: 0.8561\n",
      "Epoch 115/201\n",
      "63/63 [==============================] - 5s 80ms/step - loss: 0.5179 - acc: 0.7970 - val_loss: 0.4087 - val_acc: 0.8439\n",
      "Epoch 116/201\n",
      "63/63 [==============================] - 5s 79ms/step - loss: 0.4833 - acc: 0.8157 - val_loss: 0.3412 - val_acc: 0.8750\n",
      "Epoch 117/201\n",
      "63/63 [==============================] - 5s 79ms/step - loss: 0.4730 - acc: 0.8175 - val_loss: 0.3328 - val_acc: 0.8735\n",
      "Epoch 118/201\n",
      "63/63 [==============================] - 5s 79ms/step - loss: 0.4569 - acc: 0.8221 - val_loss: 0.2970 - val_acc: 0.8917\n",
      "Epoch 119/201\n",
      "63/63 [==============================] - 5s 79ms/step - loss: 0.4283 - acc: 0.8384 - val_loss: 0.2907 - val_acc: 0.8962\n",
      "Epoch 120/201\n",
      "63/63 [==============================] - 5s 80ms/step - loss: 0.4164 - acc: 0.8481 - val_loss: 0.2940 - val_acc: 0.8894\n",
      "Epoch 121/201\n",
      "63/63 [==============================] - 5s 80ms/step - loss: 0.4041 - acc: 0.8483 - val_loss: 0.2742 - val_acc: 0.8977\n",
      "Epoch 122/201\n",
      "63/63 [==============================] - 5s 79ms/step - loss: 0.3920 - acc: 0.8516 - val_loss: 0.2642 - val_acc: 0.9030\n",
      "Epoch 123/201\n",
      "63/63 [==============================] - 5s 79ms/step - loss: 0.3632 - acc: 0.8646 - val_loss: 0.2367 - val_acc: 0.9121\n",
      "Epoch 124/201\n",
      "63/63 [==============================] - 5s 79ms/step - loss: 0.3528 - acc: 0.8684 - val_loss: 0.2279 - val_acc: 0.9144\n",
      "Epoch 125/201\n",
      "63/63 [==============================] - 5s 79ms/step - loss: 0.3594 - acc: 0.8648 - val_loss: 0.2102 - val_acc: 0.9220\n",
      "Epoch 126/201\n",
      "63/63 [==============================] - 5s 80ms/step - loss: 0.3245 - acc: 0.8837 - val_loss: 0.2070 - val_acc: 0.9197\n",
      "Epoch 127/201\n",
      "63/63 [==============================] - 5s 80ms/step - loss: 0.3195 - acc: 0.8786 - val_loss: 0.1989 - val_acc: 0.9273\n",
      "Epoch 128/201\n",
      "63/63 [==============================] - 5s 79ms/step - loss: 0.3097 - acc: 0.8897 - val_loss: 0.1902 - val_acc: 0.9265\n",
      "Epoch 129/201\n",
      "63/63 [==============================] - 5s 80ms/step - loss: 0.3031 - acc: 0.8884 - val_loss: 0.1827 - val_acc: 0.9348\n",
      "Epoch 130/201\n",
      "63/63 [==============================] - 5s 80ms/step - loss: 0.2938 - acc: 0.8952 - val_loss: 0.1938 - val_acc: 0.9250\n",
      "Epoch 131/201\n",
      "63/63 [==============================] - 5s 80ms/step - loss: 0.2798 - acc: 0.8964 - val_loss: 0.1719 - val_acc: 0.9364\n",
      "Epoch 132/201\n",
      "63/63 [==============================] - 5s 79ms/step - loss: 0.2744 - acc: 0.9012 - val_loss: 0.1664 - val_acc: 0.9432\n",
      "Epoch 133/201\n",
      "63/63 [==============================] - 5s 79ms/step - loss: 0.2772 - acc: 0.9007 - val_loss: 0.1610 - val_acc: 0.9394\n",
      "Epoch 134/201\n",
      "63/63 [==============================] - 5s 80ms/step - loss: 0.2687 - acc: 0.9025 - val_loss: 0.1650 - val_acc: 0.9447\n",
      "Epoch 135/201\n",
      "63/63 [==============================] - 5s 80ms/step - loss: 0.2500 - acc: 0.9134 - val_loss: 0.1558 - val_acc: 0.9455\n",
      "Epoch 136/201\n",
      "63/63 [==============================] - 5s 79ms/step - loss: 0.2500 - acc: 0.9085 - val_loss: 0.1513 - val_acc: 0.9470\n",
      "Epoch 137/201\n",
      "63/63 [==============================] - 5s 79ms/step - loss: 0.2397 - acc: 0.9134 - val_loss: 0.1572 - val_acc: 0.9447\n",
      "Epoch 138/201\n",
      "63/63 [==============================] - 5s 80ms/step - loss: 0.2357 - acc: 0.9146 - val_loss: 0.1484 - val_acc: 0.9447\n",
      "Epoch 139/201\n",
      "63/63 [==============================] - 5s 80ms/step - loss: 0.2255 - acc: 0.9188 - val_loss: 0.1363 - val_acc: 0.9538\n",
      "Epoch 140/201\n",
      "63/63 [==============================] - 5s 80ms/step - loss: 0.2209 - acc: 0.9199 - val_loss: 0.1345 - val_acc: 0.9530\n",
      "Epoch 141/201\n",
      "63/63 [==============================] - 5s 80ms/step - loss: 0.2171 - acc: 0.9229 - val_loss: 0.1361 - val_acc: 0.9523\n",
      "Epoch 142/201\n",
      "63/63 [==============================] - 5s 80ms/step - loss: 0.2202 - acc: 0.9231 - val_loss: 0.1398 - val_acc: 0.9470\n",
      "Epoch 143/201\n",
      "63/63 [==============================] - 5s 80ms/step - loss: 0.2180 - acc: 0.9241 - val_loss: 0.1376 - val_acc: 0.9500\n",
      "Epoch 144/201\n",
      "63/63 [==============================] - 5s 79ms/step - loss: 0.2023 - acc: 0.9283 - val_loss: 0.1292 - val_acc: 0.9508\n",
      "\n",
      "Epoch 00144: ReduceLROnPlateau reducing learning rate to 4.999999873689376e-05.\n",
      "Epoch 145/201\n",
      "63/63 [==============================] - 5s 80ms/step - loss: 0.2076 - acc: 0.9251 - val_loss: 0.1314 - val_acc: 0.9583\n",
      "Epoch 146/201\n",
      "63/63 [==============================] - 5s 80ms/step - loss: 0.2058 - acc: 0.9239 - val_loss: 0.1299 - val_acc: 0.9561\n",
      "Epoch 147/201\n",
      "63/63 [==============================] - 5s 80ms/step - loss: 0.2022 - acc: 0.9262 - val_loss: 0.1309 - val_acc: 0.9538\n",
      "Epoch 148/201\n",
      "63/63 [==============================] - 5s 80ms/step - loss: 0.1913 - acc: 0.9306 - val_loss: 0.1312 - val_acc: 0.9591\n",
      "Epoch 149/201\n",
      "63/63 [==============================] - 5s 80ms/step - loss: 0.1901 - acc: 0.9314 - val_loss: 0.1292 - val_acc: 0.9576\n",
      "Epoch 150/201\n",
      "63/63 [==============================] - 5s 79ms/step - loss: 0.1892 - acc: 0.9281 - val_loss: 0.1279 - val_acc: 0.9568\n",
      "Epoch 151/201\n",
      "63/63 [==============================] - 5s 80ms/step - loss: 0.1923 - acc: 0.9303 - val_loss: 0.1299 - val_acc: 0.9591\n",
      "Epoch 152/201\n",
      "63/63 [==============================] - 5s 79ms/step - loss: 0.1894 - acc: 0.9342 - val_loss: 0.1276 - val_acc: 0.9598\n",
      "Epoch 153/201\n",
      "63/63 [==============================] - 5s 80ms/step - loss: 0.1841 - acc: 0.9328 - val_loss: 0.1267 - val_acc: 0.9614\n",
      "Epoch 154/201\n",
      "63/63 [==============================] - 5s 80ms/step - loss: 0.1936 - acc: 0.9268 - val_loss: 0.1282 - val_acc: 0.9583\n",
      "Epoch 155/201\n",
      "63/63 [==============================] - 5s 79ms/step - loss: 0.1965 - acc: 0.9293 - val_loss: 0.1319 - val_acc: 0.9576\n",
      "Epoch 156/201\n",
      "63/63 [==============================] - 5s 80ms/step - loss: 0.1744 - acc: 0.9364 - val_loss: 0.1280 - val_acc: 0.9545\n",
      "Epoch 157/201\n",
      "63/63 [==============================] - 5s 80ms/step - loss: 0.1740 - acc: 0.9391 - val_loss: 0.1312 - val_acc: 0.9553\n",
      "Epoch 158/201\n",
      "63/63 [==============================] - 5s 80ms/step - loss: 0.1799 - acc: 0.9317 - val_loss: 0.1224 - val_acc: 0.9629\n",
      "Epoch 159/201\n",
      "63/63 [==============================] - 5s 80ms/step - loss: 0.1756 - acc: 0.9384 - val_loss: 0.1212 - val_acc: 0.9621\n",
      "Epoch 160/201\n",
      "63/63 [==============================] - 5s 80ms/step - loss: 0.1754 - acc: 0.9356 - val_loss: 0.1195 - val_acc: 0.9606\n",
      "Epoch 161/201\n",
      "63/63 [==============================] - 5s 80ms/step - loss: 0.1692 - acc: 0.9384 - val_loss: 0.1239 - val_acc: 0.9583\n",
      "Epoch 162/201\n"
     ]
    },
    {
     "name": "stdout",
     "output_type": "stream",
     "text": [
      "63/63 [==============================] - 5s 79ms/step - loss: 0.1685 - acc: 0.9412 - val_loss: 0.1232 - val_acc: 0.9598\n",
      "Epoch 163/201\n",
      "63/63 [==============================] - 5s 79ms/step - loss: 0.1669 - acc: 0.9420 - val_loss: 0.1231 - val_acc: 0.9591\n",
      "\n",
      "Epoch 00163: ReduceLROnPlateau reducing learning rate to 2.499999936844688e-05.\n",
      "Epoch 164/201\n",
      "63/63 [==============================] - 5s 80ms/step - loss: 0.1692 - acc: 0.9389 - val_loss: 0.1234 - val_acc: 0.9629\n",
      "Epoch 165/201\n",
      "63/63 [==============================] - 5s 80ms/step - loss: 0.1666 - acc: 0.9399 - val_loss: 0.1246 - val_acc: 0.9621\n",
      "Epoch 166/201\n",
      "63/63 [==============================] - 5s 79ms/step - loss: 0.1655 - acc: 0.9396 - val_loss: 0.1244 - val_acc: 0.9629\n",
      "Epoch 167/201\n",
      "63/63 [==============================] - 5s 80ms/step - loss: 0.1658 - acc: 0.9369 - val_loss: 0.1246 - val_acc: 0.9614\n",
      "Epoch 168/201\n",
      "63/63 [==============================] - 5s 80ms/step - loss: 0.1639 - acc: 0.9387 - val_loss: 0.1227 - val_acc: 0.9652\n",
      "Epoch 169/201\n",
      "63/63 [==============================] - 5s 79ms/step - loss: 0.1573 - acc: 0.9437 - val_loss: 0.1228 - val_acc: 0.9614\n",
      "Epoch 170/201\n",
      "63/63 [==============================] - 5s 79ms/step - loss: 0.1601 - acc: 0.9418 - val_loss: 0.1205 - val_acc: 0.9621\n",
      "Epoch 171/201\n",
      "63/63 [==============================] - 5s 79ms/step - loss: 0.1616 - acc: 0.9444 - val_loss: 0.1235 - val_acc: 0.9629\n",
      "Epoch 172/201\n",
      "63/63 [==============================] - 5s 79ms/step - loss: 0.1617 - acc: 0.9449 - val_loss: 0.1225 - val_acc: 0.9629\n",
      "Epoch 173/201\n",
      "63/63 [==============================] - 5s 79ms/step - loss: 0.1540 - acc: 0.9456 - val_loss: 0.1244 - val_acc: 0.9614\n",
      "\n",
      "Epoch 00173: ReduceLROnPlateau reducing learning rate to 1.249999968422344e-05.\n",
      "Epoch 174/201\n",
      "63/63 [==============================] - 5s 79ms/step - loss: 0.1540 - acc: 0.9474 - val_loss: 0.1226 - val_acc: 0.9614\n",
      "Epoch 175/201\n",
      "63/63 [==============================] - 5s 79ms/step - loss: 0.1663 - acc: 0.9379 - val_loss: 0.1219 - val_acc: 0.9614\n",
      "Epoch 176/201\n",
      "63/63 [==============================] - 5s 80ms/step - loss: 0.1538 - acc: 0.9448 - val_loss: 0.1224 - val_acc: 0.9629\n",
      "Epoch 177/201\n",
      "63/63 [==============================] - 5s 80ms/step - loss: 0.1560 - acc: 0.9457 - val_loss: 0.1224 - val_acc: 0.9629\n",
      "Epoch 178/201\n",
      "63/63 [==============================] - 5s 79ms/step - loss: 0.1602 - acc: 0.9410 - val_loss: 0.1224 - val_acc: 0.9621\n",
      "\n",
      "Epoch 00178: ReduceLROnPlateau reducing learning rate to 6.24999984211172e-06.\n",
      "Epoch 179/201\n",
      "63/63 [==============================] - 5s 79ms/step - loss: 0.1633 - acc: 0.9420 - val_loss: 0.1227 - val_acc: 0.9621\n",
      "Epoch 180/201\n",
      "63/63 [==============================] - 5s 80ms/step - loss: 0.1584 - acc: 0.9449 - val_loss: 0.1222 - val_acc: 0.9621\n",
      "Epoch 181/201\n",
      "63/63 [==============================] - 5s 79ms/step - loss: 0.1583 - acc: 0.9417 - val_loss: 0.1208 - val_acc: 0.9636\n",
      "Epoch 182/201\n",
      "63/63 [==============================] - 5s 80ms/step - loss: 0.1596 - acc: 0.9431 - val_loss: 0.1205 - val_acc: 0.9636\n",
      "Epoch 183/201\n",
      "63/63 [==============================] - 5s 79ms/step - loss: 0.1570 - acc: 0.9406 - val_loss: 0.1216 - val_acc: 0.9621\n",
      "\n",
      "Epoch 00183: ReduceLROnPlateau reducing learning rate to 3.12499992105586e-06.\n",
      "Epoch 184/201\n",
      "63/63 [==============================] - 5s 79ms/step - loss: 0.1531 - acc: 0.9440 - val_loss: 0.1212 - val_acc: 0.9621\n",
      "Epoch 185/201\n",
      "63/63 [==============================] - 5s 80ms/step - loss: 0.1525 - acc: 0.9446 - val_loss: 0.1202 - val_acc: 0.9629\n",
      "Epoch 186/201\n",
      "63/63 [==============================] - 5s 80ms/step - loss: 0.1601 - acc: 0.9406 - val_loss: 0.1207 - val_acc: 0.9621\n",
      "Restoring model weights from the end of the best epoch\n",
      "Epoch 00186: early stopping\n"
     ]
    },
    {
     "data": {
      "image/png": "[encoded data removed]",
      "text/plain": [
       "<Figure size 432x288 with 2 Axes>"
      ]
     },
     "metadata": {
      "needs_background": "light"
     },
     "output_type": "display_data"
    },
    {
     "name": "stdout",
     "output_type": "stream",
     "text": [
      "Best val_acc - 0.9652 (epoch 67)\n"
     ]
    }
   ],
   "source": [
    "history, model_6 = train(model_6, initial_epoch=101, lr=0.0001)"
   ]
  },
  {
   "cell_type": "code",
   "execution_count": 7,
   "metadata": {
    "ExecuteTime": {
     "end_time": "2019-09-06T22:05:48.761427Z",
     "start_time": "2019-09-06T22:05:47.416150Z"
    }
   },
   "outputs": [],
   "source": [
    "# save with the convention 'm[model number]_[# parameters]_[best val_acc].h5'\n",
    "model_6.save('..//models//m6_33512_9652.h5')"
   ]
  },
  {
   "cell_type": "markdown",
   "metadata": {
    "heading_collapsed": true
   },
   "source": [
    "## Model 7: m6 Dense(512)  - 0.9811 (epoch 39)\n",
    "reduce"
   ]
  },
  {
   "cell_type": "markdown",
   "metadata": {
    "heading_collapsed": true,
    "hidden": true
   },
   "source": [
    "#### Define Model"
   ]
  },
  {
   "cell_type": "code",
   "execution_count": 31,
   "metadata": {
    "ExecuteTime": {
     "end_time": "2019-08-23T23:09:38.689621Z",
     "start_time": "2019-08-23T23:09:38.151367Z"
    },
    "code_folding": [],
    "hidden": true
   },
   "outputs": [
    {
     "name": "stdout",
     "output_type": "stream",
     "text": [
      "Model: \"sequential_12\"\n",
      "_________________________________________________________________\n",
      "Layer (type)                 Output Shape              Param #   \n",
      "=================================================================\n",
      "conv2d_34 (Conv2D)           (None, 126, 126, 16)      448       \n",
      "_________________________________________________________________\n",
      "batch_normalization_34 (Batc (None, 126, 126, 16)      64        \n",
      "_________________________________________________________________\n",
      "activation_58 (Activation)   (None, 126, 126, 16)      0         \n",
      "_________________________________________________________________\n",
      "conv2d_35 (Conv2D)           (None, 124, 124, 16)      2320      \n",
      "_________________________________________________________________\n",
      "batch_normalization_35 (Batc (None, 124, 124, 16)      64        \n",
      "_________________________________________________________________\n",
      "activation_59 (Activation)   (None, 124, 124, 16)      0         \n",
      "_________________________________________________________________\n",
      "max_pooling2d_25 (MaxPooling (None, 62, 62, 16)        0         \n",
      "_________________________________________________________________\n",
      "dropout_25 (Dropout)         (None, 62, 62, 16)        0         \n",
      "_________________________________________________________________\n",
      "conv2d_36 (Conv2D)           (None, 60, 60, 16)        2320      \n",
      "_________________________________________________________________\n",
      "batch_normalization_36 (Batc (None, 60, 60, 16)        64        \n",
      "_________________________________________________________________\n",
      "activation_60 (Activation)   (None, 60, 60, 16)        0         \n",
      "_________________________________________________________________\n",
      "conv2d_37 (Conv2D)           (None, 58, 58, 16)        2320      \n",
      "_________________________________________________________________\n",
      "batch_normalization_37 (Batc (None, 58, 58, 16)        64        \n",
      "_________________________________________________________________\n",
      "activation_61 (Activation)   (None, 58, 58, 16)        0         \n",
      "_________________________________________________________________\n",
      "max_pooling2d_26 (MaxPooling (None, 29, 29, 16)        0         \n",
      "_________________________________________________________________\n",
      "dropout_26 (Dropout)         (None, 29, 29, 16)        0         \n",
      "_________________________________________________________________\n",
      "conv2d_38 (Conv2D)           (None, 27, 27, 16)        2320      \n",
      "_________________________________________________________________\n",
      "batch_normalization_38 (Batc (None, 27, 27, 16)        64        \n",
      "_________________________________________________________________\n",
      "activation_62 (Activation)   (None, 27, 27, 16)        0         \n",
      "_________________________________________________________________\n",
      "conv2d_39 (Conv2D)           (None, 25, 25, 16)        2320      \n",
      "_________________________________________________________________\n",
      "batch_normalization_39 (Batc (None, 25, 25, 16)        64        \n",
      "_________________________________________________________________\n",
      "activation_63 (Activation)   (None, 25, 25, 16)        0         \n",
      "_________________________________________________________________\n",
      "max_pooling2d_27 (MaxPooling (None, 12, 12, 16)        0         \n",
      "_________________________________________________________________\n",
      "dropout_27 (Dropout)         (None, 12, 12, 16)        0         \n",
      "_________________________________________________________________\n",
      "flatten_12 (Flatten)         (None, 2304)              0         \n",
      "_________________________________________________________________\n",
      "dense_24 (Dense)             (None, 512)               1180160   \n",
      "_________________________________________________________________\n",
      "activation_64 (Activation)   (None, 512)               0         \n",
      "_________________________________________________________________\n",
      "dense_25 (Dense)             (None, 4)                 2052      \n",
      "_________________________________________________________________\n",
      "activation_65 (Activation)   (None, 4)                 0         \n",
      "=================================================================\n",
      "Total params: 1,194,644\n",
      "Trainable params: 1,194,452\n",
      "Non-trainable params: 192\n",
      "_________________________________________________________________\n"
     ]
    }
   ],
   "source": [
    "model_7 = Sequential([\n",
    "    Conv2D(16, (3, 3), strides=(1, 1), input_shape=(128, 128, 3), data_format=\"channels_last\", padding='valid'),   # RGB\n",
    "    BatchNormalization(),\n",
    "    Activation('relu'),\n",
    "    Conv2D(16, (3, 3), strides=(1, 1), padding='valid'),\n",
    "    BatchNormalization(),\n",
    "    Activation('relu'),\n",
    "    MaxPooling2D(pool_size=(2, 2)),\n",
    "    Dropout(0.3),\n",
    "    \n",
    "    Conv2D(16, (3, 3), strides=(1, 1), input_shape=(128, 128, 3), data_format=\"channels_last\", padding='valid'),   # RGB\n",
    "    BatchNormalization(),\n",
    "    Activation('relu'),\n",
    "    Conv2D(16, (3, 3), strides=(1, 1), padding='valid'),\n",
    "    BatchNormalization(),\n",
    "    Activation('relu'),\n",
    "    MaxPooling2D(pool_size=(2, 2)),\n",
    "    Dropout(0.3),\n",
    "    \n",
    "    Conv2D(16, (3, 3), strides=(1, 1), input_shape=(128, 128, 3), data_format=\"channels_last\", padding='valid'),   # RGB\n",
    "    BatchNormalization(),\n",
    "    Activation('relu'),\n",
    "    Conv2D(16, (3, 3), strides=(1, 1), padding='valid'),\n",
    "    BatchNormalization(),\n",
    "    Activation('relu'),\n",
    "    MaxPooling2D(pool_size=(2, 2)),\n",
    "    Dropout(0.3),\n",
    "    \n",
    "    Flatten(),\n",
    "    Dense(512),\n",
    "    Activation('relu'),\n",
    "    Dense(num_classes),\n",
    "    Activation('softmax')\n",
    "])\n",
    "model_7.summary()"
   ]
  },
  {
   "cell_type": "markdown",
   "metadata": {
    "heading_collapsed": true,
    "hidden": true
   },
   "source": [
    "#### Execute Training"
   ]
  },
  {
   "cell_type": "code",
   "execution_count": 32,
   "metadata": {
    "ExecuteTime": {
     "end_time": "2019-08-23T23:14:18.415156Z",
     "start_time": "2019-08-23T23:09:48.181603Z"
    },
    "hidden": true
   },
   "outputs": [
    {
     "name": "stdout",
     "output_type": "stream",
     "text": [
      "Epoch 1/100\n",
      "63/63 [==============================] - 7s 110ms/step - loss: 2.0198 - acc: 0.3190 - val_loss: 1.3667 - val_acc: 0.3189\n",
      "Epoch 2/100\n",
      "63/63 [==============================] - 5s 72ms/step - loss: 1.2386 - acc: 0.4505 - val_loss: 1.4645 - val_acc: 0.2515\n",
      "Epoch 3/100\n",
      "63/63 [==============================] - 5s 73ms/step - loss: 1.0747 - acc: 0.5479 - val_loss: 1.3424 - val_acc: 0.3500\n",
      "Epoch 4/100\n",
      "63/63 [==============================] - 5s 73ms/step - loss: 0.8556 - acc: 0.6596 - val_loss: 1.1422 - val_acc: 0.4977ss - ETA: 0s - loss: 0.8618 - acc: 0.6\n",
      "Epoch 5/100\n",
      "63/63 [==============================] - 5s 72ms/step - loss: 0.6883 - acc: 0.7335 - val_loss: 0.9972 - val_acc: 0.6053\n",
      "Epoch 6/100\n",
      "63/63 [==============================] - 4s 71ms/step - loss: 0.5731 - acc: 0.7819 - val_loss: 0.7295 - val_acc: 0.7477\n",
      "Epoch 7/100\n",
      "63/63 [==============================] - 5s 74ms/step - loss: 0.4515 - acc: 0.8265 - val_loss: 0.4841 - val_acc: 0.8174\n",
      "Epoch 8/100\n",
      "63/63 [==============================] - 5s 72ms/step - loss: 0.3584 - acc: 0.8620 - val_loss: 0.2847 - val_acc: 0.9038\n",
      "Epoch 9/100\n",
      "63/63 [==============================] - 4s 70ms/step - loss: 0.3017 - acc: 0.8878 - val_loss: 0.2197 - val_acc: 0.9182\n",
      "Epoch 10/100\n",
      "63/63 [==============================] - 5s 73ms/step - loss: 0.2496 - acc: 0.9103 - val_loss: 0.2702 - val_acc: 0.8985\n",
      "Epoch 11/100\n",
      "63/63 [==============================] - 5s 73ms/step - loss: 0.2247 - acc: 0.9162 - val_loss: 0.2243 - val_acc: 0.9098\n",
      "Epoch 12/100\n",
      "63/63 [==============================] - 5s 72ms/step - loss: 0.1907 - acc: 0.9325 - val_loss: 0.1503 - val_acc: 0.9470\n",
      "Epoch 13/100\n",
      "63/63 [==============================] - 4s 71ms/step - loss: 0.1599 - acc: 0.9417 - val_loss: 0.1476 - val_acc: 0.9470\n",
      "Epoch 14/100\n",
      "63/63 [==============================] - 5s 72ms/step - loss: 0.1434 - acc: 0.9491 - val_loss: 0.1322 - val_acc: 0.9545\n",
      "Epoch 15/100\n",
      "63/63 [==============================] - 5s 72ms/step - loss: 0.1253 - acc: 0.9559 - val_loss: 0.1494 - val_acc: 0.9485\n",
      "Epoch 16/100\n",
      "63/63 [==============================] - 5s 72ms/step - loss: 0.1060 - acc: 0.9649 - val_loss: 0.1245 - val_acc: 0.9598\n",
      "Epoch 17/100\n",
      "63/63 [==============================] - 5s 72ms/step - loss: 0.0901 - acc: 0.9666 - val_loss: 0.1163 - val_acc: 0.9614 - l\n",
      "Epoch 18/100\n",
      "63/63 [==============================] - 5s 73ms/step - loss: 0.0813 - acc: 0.9712 - val_loss: 0.0913 - val_acc: 0.9697\n",
      "Epoch 19/100\n",
      "63/63 [==============================] - 5s 72ms/step - loss: 0.0733 - acc: 0.9739 - val_loss: 0.0976 - val_acc: 0.9636\n",
      "Epoch 20/100\n",
      "63/63 [==============================] - 5s 73ms/step - loss: 0.0646 - acc: 0.9764 - val_loss: 0.0980 - val_acc: 0.9689\n",
      "Epoch 21/100\n",
      "63/63 [==============================] - 5s 75ms/step - loss: 0.0550 - acc: 0.9818 - val_loss: 0.0907 - val_acc: 0.9697\n",
      "Epoch 22/100\n",
      "62/63 [============================>.] - ETA: 0s - loss: 0.0492 - acc: 0.9829\n",
      "Epoch 00022: ReduceLROnPlateau reducing learning rate to 0.0005000000237487257.\n",
      "63/63 [==============================] - 5s 78ms/step - loss: 0.0493 - acc: 0.9829 - val_loss: 0.0884 - val_acc: 0.9674\n",
      "Epoch 23/100\n",
      "63/63 [==============================] - 5s 73ms/step - loss: 0.0318 - acc: 0.9908 - val_loss: 0.0760 - val_acc: 0.9773\n",
      "Epoch 24/100\n",
      "63/63 [==============================] - 5s 72ms/step - loss: 0.0337 - acc: 0.9889 - val_loss: 0.0717 - val_acc: 0.9750\n",
      "Epoch 25/100\n",
      "63/63 [==============================] - 5s 72ms/step - loss: 0.0282 - acc: 0.9918 - val_loss: 0.0684 - val_acc: 0.9765\n",
      "Epoch 26/100\n",
      "63/63 [==============================] - 5s 72ms/step - loss: 0.0264 - acc: 0.9926 - val_loss: 0.0687 - val_acc: 0.9750\n",
      "Epoch 27/100\n",
      "62/63 [============================>.] - ETA: 0s - loss: 0.0235 - acc: 0.9929- ETA: 3s - lo - ETA: 1\n",
      "Epoch 00027: ReduceLROnPlateau reducing learning rate to 0.0002500000118743628.\n",
      "63/63 [==============================] - 5s 71ms/step - loss: 0.0241 - acc: 0.9926 - val_loss: 0.0668 - val_acc: 0.9758\n",
      "Epoch 28/100\n",
      "63/63 [==============================] - 5s 73ms/step - loss: 0.0239 - acc: 0.9929 - val_loss: 0.0633 - val_acc: 0.9750\n",
      "Epoch 29/100\n",
      "63/63 [==============================] - 5s 74ms/step - loss: 0.0209 - acc: 0.9940 - val_loss: 0.0623 - val_acc: 0.9773\n",
      "Epoch 30/100\n",
      "63/63 [==============================] - 5s 72ms/step - loss: 0.0190 - acc: 0.9948 - val_loss: 0.0615 - val_acc: 0.9773\n",
      "Epoch 31/100\n",
      "63/63 [==============================] - 5s 72ms/step - loss: 0.0197 - acc: 0.9944 - val_loss: 0.0577 - val_acc: 0.9788\n",
      "Epoch 32/100\n",
      "63/63 [==============================] - 5s 72ms/step - loss: 0.0192 - acc: 0.9939 - val_loss: 0.0683 - val_acc: 0.9742\n",
      "Epoch 33/100\n",
      "63/63 [==============================] - 5s 71ms/step - loss: 0.0187 - acc: 0.9958 - val_loss: 0.0639 - val_acc: 0.9765\n",
      "Epoch 34/100\n",
      "63/63 [==============================] - 5s 73ms/step - loss: 0.0153 - acc: 0.9965 - val_loss: 0.0636 - val_acc: 0.9773\n",
      "Epoch 35/100\n",
      "62/63 [============================>.] - ETA: 0s - loss: 0.0162 - acc: 0.9961\n",
      "Epoch 00035: ReduceLROnPlateau reducing learning rate to 0.0001250000059371814.\n",
      "63/63 [==============================] - 4s 71ms/step - loss: 0.0163 - acc: 0.9961 - val_loss: 0.0620 - val_acc: 0.9788\n",
      "Epoch 36/100\n",
      "63/63 [==============================] - 4s 71ms/step - loss: 0.0161 - acc: 0.9960 - val_loss: 0.0591 - val_acc: 0.9795\n",
      "Epoch 37/100\n",
      "63/63 [==============================] - 5s 71ms/step - loss: 0.0135 - acc: 0.9965 - val_loss: 0.0621 - val_acc: 0.9765s - loss: \n",
      "Epoch 38/100\n",
      "63/63 [==============================] - 4s 71ms/step - loss: 0.0147 - acc: 0.9964 - val_loss: 0.0596 - val_acc: 0.9803\n",
      "Epoch 39/100\n",
      "63/63 [==============================] - 5s 73ms/step - loss: 0.0126 - acc: 0.9967 - val_loss: 0.0582 - val_acc: 0.9811\n",
      "Epoch 40/100\n",
      "63/63 [==============================] - 5s 74ms/step - loss: 0.0138 - acc: 0.9967 - val_loss: 0.0616 - val_acc: 0.9773\n",
      "Epoch 41/100\n",
      "63/63 [==============================] - 5s 72ms/step - loss: 0.0130 - acc: 0.9973 - val_loss: 0.0697 - val_acc: 0.9780\n",
      "Epoch 42/100\n",
      "63/63 [==============================] - 5s 73ms/step - loss: 0.0124 - acc: 0.9971 - val_loss: 0.0675 - val_acc: 0.9765\n",
      "Epoch 43/100\n",
      "62/63 [============================>.] - ETA: 0s - loss: 0.0159 - acc: 0.9953- ETA: 1s - los\n",
      "Epoch 00043: ReduceLROnPlateau reducing learning rate to 6.25000029685907e-05.\n",
      "63/63 [==============================] - 5s 72ms/step - loss: 0.0158 - acc: 0.9954 - val_loss: 0.0684 - val_acc: 0.9780\n",
      "Epoch 44/100\n",
      "63/63 [==============================] - 5s 72ms/step - loss: 0.0122 - acc: 0.9974 - val_loss: 0.0674 - val_acc: 0.9795\n",
      "Epoch 45/100\n",
      "63/63 [==============================] - 5s 72ms/step - loss: 0.0131 - acc: 0.9973 - val_loss: 0.0669 - val_acc: 0.9788\n",
      "Epoch 46/100\n",
      "63/63 [==============================] - 5s 73ms/step - loss: 0.0112 - acc: 0.9969 - val_loss: 0.0704 - val_acc: 0.9780\n",
      "Epoch 47/100\n",
      "62/63 [============================>.] - ETA: 0s - loss: 0.0122 - acc: 0.9970\n",
      "Epoch 00047: ReduceLROnPlateau reducing learning rate to 3.125000148429535e-05.\n",
      "63/63 [==============================] - 5s 74ms/step - loss: 0.0121 - acc: 0.9970 - val_loss: 0.0642 - val_acc: 0.9795\n",
      "Epoch 48/100\n",
      "63/63 [==============================] - 5s 74ms/step - loss: 0.0117 - acc: 0.9967 - val_loss: 0.0649 - val_acc: 0.9795\n",
      "Epoch 49/100\n",
      "63/63 [==============================] - 5s 72ms/step - loss: 0.0126 - acc: 0.9969 - val_loss: 0.0620 - val_acc: 0.9795\n",
      "Epoch 50/100\n",
      "63/63 [==============================] - 5s 73ms/step - loss: 0.0114 - acc: 0.9964 - val_loss: 0.0619 - val_acc: 0.9788\n",
      "Epoch 51/100\n",
      "62/63 [============================>.] - ETA: 0s - loss: 0.0103 - acc: 0.9976\n",
      "Epoch 00051: ReduceLROnPlateau reducing learning rate to 1.5625000742147677e-05.\n",
      "63/63 [==============================] - 5s 74ms/step - loss: 0.0102 - acc: 0.9976 - val_loss: 0.0630 - val_acc: 0.9795\n",
      "Epoch 52/100\n",
      "63/63 [==============================] - 5s 75ms/step - loss: 0.0110 - acc: 0.9970 - val_loss: 0.0624 - val_acc: 0.9788\n",
      "Epoch 53/100\n",
      "63/63 [==============================] - 5s 75ms/step - loss: 0.0081 - acc: 0.9990 - val_loss: 0.0623 - val_acc: 0.9788\n",
      "Epoch 54/100\n",
      "62/63 [============================>.] - ETA: 0s - loss: 0.0116 - acc: 0.9967- ETA: 2s - loss: 0.0120 - acc: 0.9 - ETA: 1s Restoring model weights from the end of the best epoch.\n",
      "63/63 [==============================] - 5s 78ms/step - loss: 0.0115 - acc: 0.9967 - val_loss: 0.0627 - val_acc: 0.9803\n",
      "Epoch 00054: early stopping\n"
     ]
    },
    {
     "data": {
      "image/png": "[encoded data removed]",
      "text/plain": [
       "<Figure size 432x288 with 2 Axes>"
      ]
     },
     "metadata": {
      "needs_background": "light"
     },
     "output_type": "display_data"
    },
    {
     "name": "stdout",
     "output_type": "stream",
     "text": [
      "Best val_acc - 0.9811 (epoch 39)\n"
     ]
    }
   ],
   "source": [
    "opt = optimizers.Adam(lr=0.001, beta_1=0.9, beta_2=0.999, epsilon=None, decay=0.0, amsgrad=False)\n",
    "history, model_7 = train(model_7, opt=opt)"
   ]
  },
  {
   "cell_type": "markdown",
   "metadata": {
    "heading_collapsed": true
   },
   "source": [
    "## Model 8: m7 Dense(256) - 0.9606 (epoch 33)\n",
    "reduce"
   ]
  },
  {
   "cell_type": "markdown",
   "metadata": {
    "heading_collapsed": true,
    "hidden": true
   },
   "source": [
    "#### Define Model"
   ]
  },
  {
   "cell_type": "code",
   "execution_count": 35,
   "metadata": {
    "ExecuteTime": {
     "end_time": "2019-08-23T23:18:43.544404Z",
     "start_time": "2019-08-23T23:18:43.048692Z"
    },
    "code_folding": [],
    "hidden": true
   },
   "outputs": [
    {
     "name": "stdout",
     "output_type": "stream",
     "text": [
      "Model: \"sequential_14\"\n",
      "_________________________________________________________________\n",
      "Layer (type)                 Output Shape              Param #   \n",
      "=================================================================\n",
      "conv2d_46 (Conv2D)           (None, 126, 126, 16)      448       \n",
      "_________________________________________________________________\n",
      "batch_normalization_46 (Batc (None, 126, 126, 16)      64        \n",
      "_________________________________________________________________\n",
      "activation_74 (Activation)   (None, 126, 126, 16)      0         \n",
      "_________________________________________________________________\n",
      "conv2d_47 (Conv2D)           (None, 124, 124, 16)      2320      \n",
      "_________________________________________________________________\n",
      "batch_normalization_47 (Batc (None, 124, 124, 16)      64        \n",
      "_________________________________________________________________\n",
      "activation_75 (Activation)   (None, 124, 124, 16)      0         \n",
      "_________________________________________________________________\n",
      "max_pooling2d_31 (MaxPooling (None, 62, 62, 16)        0         \n",
      "_________________________________________________________________\n",
      "dropout_31 (Dropout)         (None, 62, 62, 16)        0         \n",
      "_________________________________________________________________\n",
      "conv2d_48 (Conv2D)           (None, 60, 60, 16)        2320      \n",
      "_________________________________________________________________\n",
      "batch_normalization_48 (Batc (None, 60, 60, 16)        64        \n",
      "_________________________________________________________________\n",
      "activation_76 (Activation)   (None, 60, 60, 16)        0         \n",
      "_________________________________________________________________\n",
      "conv2d_49 (Conv2D)           (None, 58, 58, 16)        2320      \n",
      "_________________________________________________________________\n",
      "batch_normalization_49 (Batc (None, 58, 58, 16)        64        \n",
      "_________________________________________________________________\n",
      "activation_77 (Activation)   (None, 58, 58, 16)        0         \n",
      "_________________________________________________________________\n",
      "max_pooling2d_32 (MaxPooling (None, 29, 29, 16)        0         \n",
      "_________________________________________________________________\n",
      "dropout_32 (Dropout)         (None, 29, 29, 16)        0         \n",
      "_________________________________________________________________\n",
      "conv2d_50 (Conv2D)           (None, 27, 27, 16)        2320      \n",
      "_________________________________________________________________\n",
      "batch_normalization_50 (Batc (None, 27, 27, 16)        64        \n",
      "_________________________________________________________________\n",
      "activation_78 (Activation)   (None, 27, 27, 16)        0         \n",
      "_________________________________________________________________\n",
      "conv2d_51 (Conv2D)           (None, 25, 25, 16)        2320      \n",
      "_________________________________________________________________\n",
      "batch_normalization_51 (Batc (None, 25, 25, 16)        64        \n",
      "_________________________________________________________________\n",
      "activation_79 (Activation)   (None, 25, 25, 16)        0         \n",
      "_________________________________________________________________\n",
      "max_pooling2d_33 (MaxPooling (None, 12, 12, 16)        0         \n",
      "_________________________________________________________________\n",
      "dropout_33 (Dropout)         (None, 12, 12, 16)        0         \n",
      "_________________________________________________________________\n",
      "flatten_14 (Flatten)         (None, 2304)              0         \n",
      "_________________________________________________________________\n",
      "dense_28 (Dense)             (None, 256)               590080    \n",
      "_________________________________________________________________\n",
      "activation_80 (Activation)   (None, 256)               0         \n",
      "_________________________________________________________________\n",
      "dense_29 (Dense)             (None, 4)                 1028      \n",
      "_________________________________________________________________\n",
      "activation_81 (Activation)   (None, 4)                 0         \n",
      "=================================================================\n",
      "Total params: 603,540\n",
      "Trainable params: 603,348\n",
      "Non-trainable params: 192\n",
      "_________________________________________________________________\n"
     ]
    }
   ],
   "source": [
    "model_8 = Sequential([\n",
    "    Conv2D(16, (3, 3), strides=(1, 1), input_shape=(128, 128, 3), data_format=\"channels_last\", padding='valid'),   # RGB\n",
    "    BatchNormalization(),\n",
    "    Activation('relu'),\n",
    "    Conv2D(16, (3, 3), strides=(1, 1), padding='valid'),\n",
    "    BatchNormalization(),\n",
    "    Activation('relu'),\n",
    "    MaxPooling2D(pool_size=(2, 2)),\n",
    "    Dropout(0.3),\n",
    "    \n",
    "    Conv2D(16, (3, 3), strides=(1, 1), input_shape=(128, 128, 3), data_format=\"channels_last\", padding='valid'),   # RGB\n",
    "    BatchNormalization(),\n",
    "    Activation('relu'),\n",
    "    Conv2D(16, (3, 3), strides=(1, 1), padding='valid'),\n",
    "    BatchNormalization(),\n",
    "    Activation('relu'),\n",
    "    MaxPooling2D(pool_size=(2, 2)),\n",
    "    Dropout(0.3),\n",
    "    \n",
    "    Conv2D(16, (3, 3), strides=(1, 1), input_shape=(128, 128, 3), data_format=\"channels_last\", padding='valid'),   # RGB\n",
    "    BatchNormalization(),\n",
    "    Activation('relu'),\n",
    "    Conv2D(16, (3, 3), strides=(1, 1), padding='valid'),\n",
    "    BatchNormalization(),\n",
    "    Activation('relu'),\n",
    "    MaxPooling2D(pool_size=(2, 2)),\n",
    "    Dropout(0.3),\n",
    "    \n",
    "    Flatten(),\n",
    "    Dense(256),\n",
    "    Activation('relu'),\n",
    "    Dense(num_classes),\n",
    "    Activation('softmax')\n",
    "])\n",
    "model_8.summary()"
   ]
  },
  {
   "cell_type": "markdown",
   "metadata": {
    "heading_collapsed": true,
    "hidden": true
   },
   "source": [
    "#### Execute Training"
   ]
  },
  {
   "cell_type": "code",
   "execution_count": 36,
   "metadata": {
    "ExecuteTime": {
     "end_time": "2019-08-23T23:22:50.109601Z",
     "start_time": "2019-08-23T23:18:46.710484Z"
    },
    "hidden": true
   },
   "outputs": [
    {
     "name": "stdout",
     "output_type": "stream",
     "text": [
      "Epoch 1/100\n",
      "63/63 [==============================] - 7s 115ms/step - loss: 1.7864 - acc: 0.3383 - val_loss: 1.3855 - val_acc: 0.2530\n",
      "Epoch 2/100\n",
      "63/63 [==============================] - 5s 73ms/step - loss: 1.2013 - acc: 0.4888 - val_loss: 1.3683 - val_acc: 0.3758\n",
      "Epoch 3/100\n",
      "63/63 [==============================] - 5s 74ms/step - loss: 1.0466 - acc: 0.5760 - val_loss: 1.3054 - val_acc: 0.3780\n",
      "Epoch 4/100\n",
      "63/63 [==============================] - 4s 71ms/step - loss: 0.8540 - acc: 0.6609 - val_loss: 1.2623 - val_acc: 0.4045\n",
      "Epoch 5/100\n",
      "63/63 [==============================] - 5s 72ms/step - loss: 0.6987 - acc: 0.7259 - val_loss: 1.0066 - val_acc: 0.5818\n",
      "Epoch 6/100\n",
      "63/63 [==============================] - 5s 72ms/step - loss: 0.5949 - acc: 0.7697 - val_loss: 1.0184 - val_acc: 0.5667\n",
      "Epoch 7/100\n",
      "63/63 [==============================] - 5s 72ms/step - loss: 0.5340 - acc: 0.7946 - val_loss: 0.8003 - val_acc: 0.6765\n",
      "Epoch 8/100\n",
      "63/63 [==============================] - 5s 72ms/step - loss: 0.4530 - acc: 0.8305 - val_loss: 0.5747 - val_acc: 0.7591\n",
      "Epoch 9/100\n",
      "63/63 [==============================] - 5s 73ms/step - loss: 0.4048 - acc: 0.8484 - val_loss: 0.5276 - val_acc: 0.7924\n",
      "Epoch 10/100\n",
      "63/63 [==============================] - 5s 72ms/step - loss: 0.3471 - acc: 0.8733 - val_loss: 0.4390 - val_acc: 0.8303\n",
      "Epoch 11/100\n",
      "63/63 [==============================] - 4s 71ms/step - loss: 0.3113 - acc: 0.8842 - val_loss: 0.3673 - val_acc: 0.8492\n",
      "Epoch 12/100\n",
      "63/63 [==============================] - 5s 71ms/step - loss: 0.2662 - acc: 0.9047 - val_loss: 0.4101 - val_acc: 0.8417\n",
      "Epoch 13/100\n",
      "63/63 [==============================] - 4s 71ms/step - loss: 0.2432 - acc: 0.9090 - val_loss: 0.3151 - val_acc: 0.8788\n",
      "Epoch 14/100\n",
      "63/63 [==============================] - 4s 71ms/step - loss: 0.2247 - acc: 0.9189 - val_loss: 0.3144 - val_acc: 0.8720\n",
      "Epoch 15/100\n",
      "63/63 [==============================] - 5s 72ms/step - loss: 0.2083 - acc: 0.9234 - val_loss: 0.2844 - val_acc: 0.8902\n",
      "Epoch 16/100\n",
      "63/63 [==============================] - 5s 72ms/step - loss: 0.1818 - acc: 0.9349 - val_loss: 0.2674 - val_acc: 0.9030\n",
      "Epoch 17/100\n",
      "63/63 [==============================] - 5s 73ms/step - loss: 0.1633 - acc: 0.9406 - val_loss: 0.2502 - val_acc: 0.9083\n",
      "Epoch 18/100\n",
      "63/63 [==============================] - 5s 74ms/step - loss: 0.1454 - acc: 0.9481 - val_loss: 0.1994 - val_acc: 0.9318\n",
      "Epoch 19/100\n",
      "63/63 [==============================] - 5s 74ms/step - loss: 0.1244 - acc: 0.9532 - val_loss: 0.2135 - val_acc: 0.9212\n",
      "Epoch 20/100\n",
      "63/63 [==============================] - 5s 74ms/step - loss: 0.1206 - acc: 0.9570 - val_loss: 0.2623 - val_acc: 0.9015\n",
      "Epoch 21/100\n",
      "63/63 [==============================] - 5s 74ms/step - loss: 0.1083 - acc: 0.9607 - val_loss: 0.1707 - val_acc: 0.9348\n",
      "Epoch 22/100\n",
      "63/63 [==============================] - 5s 73ms/step - loss: 0.0916 - acc: 0.9682 - val_loss: 0.1904 - val_acc: 0.9288\n",
      "Epoch 23/100\n",
      "63/63 [==============================] - 5s 72ms/step - loss: 0.0931 - acc: 0.9649 - val_loss: 0.2235 - val_acc: 0.9220\n",
      "Epoch 24/100\n",
      "63/63 [==============================] - 5s 73ms/step - loss: 0.0797 - acc: 0.9716 - val_loss: 0.1930 - val_acc: 0.9227\n",
      "Epoch 25/100\n",
      "62/63 [============================>.] - ETA: 0s - loss: 0.0716 - acc: 0.9742\n",
      "Epoch 00025: ReduceLROnPlateau reducing learning rate to 0.0005000000237487257.\n",
      "63/63 [==============================] - 5s 79ms/step - loss: 0.0717 - acc: 0.9741 - val_loss: 0.2183 - val_acc: 0.9227\n",
      "Epoch 26/100\n",
      "63/63 [==============================] - 5s 72ms/step - loss: 0.0578 - acc: 0.9796 - val_loss: 0.1340 - val_acc: 0.9553\n",
      "Epoch 27/100\n",
      "63/63 [==============================] - 5s 71ms/step - loss: 0.0488 - acc: 0.9836 - val_loss: 0.1338 - val_acc: 0.9508\n",
      "Epoch 28/100\n",
      "63/63 [==============================] - 4s 71ms/step - loss: 0.0440 - acc: 0.9851 - val_loss: 0.1354 - val_acc: 0.9538\n",
      "Epoch 29/100\n",
      "63/63 [==============================] - 5s 72ms/step - loss: 0.0402 - acc: 0.9870 - val_loss: 0.1357 - val_acc: 0.9545\n",
      "Epoch 30/100\n",
      "62/63 [============================>.] - ETA: 0s - loss: 0.0386 - acc: 0.9869- ETA: 0s - loss: 0.0380 -\n",
      "Epoch 00030: ReduceLROnPlateau reducing learning rate to 0.0002500000118743628.\n",
      "63/63 [==============================] - 5s 71ms/step - loss: 0.0384 - acc: 0.9871 - val_loss: 0.1674 - val_acc: 0.9386\n",
      "Epoch 31/100\n",
      "63/63 [==============================] - 5s 73ms/step - loss: 0.0326 - acc: 0.9900 - val_loss: 0.1259 - val_acc: 0.9523\n",
      "Epoch 32/100\n",
      "63/63 [==============================] - 5s 74ms/step - loss: 0.0296 - acc: 0.9915 - val_loss: 0.1394 - val_acc: 0.9515\n",
      "Epoch 33/100\n",
      "63/63 [==============================] - 5s 74ms/step - loss: 0.0318 - acc: 0.9901 - val_loss: 0.1303 - val_acc: 0.9606\n",
      "Epoch 34/100\n",
      "63/63 [==============================] - 5s 72ms/step - loss: 0.0281 - acc: 0.9921 - val_loss: 0.1294 - val_acc: 0.9561- loss: 0.0274 - acc: 0\n",
      "Epoch 35/100\n",
      "63/63 [==============================] - 5s 72ms/step - loss: 0.0310 - acc: 0.9899 - val_loss: 0.1282 - val_acc: 0.9591\n",
      "Epoch 36/100\n",
      "63/63 [==============================] - 4s 71ms/step - loss: 0.0264 - acc: 0.9929 - val_loss: 0.1466 - val_acc: 0.9553\n",
      "Epoch 37/100\n",
      "62/63 [============================>.] - ETA: 0s - loss: 0.0267 - acc: 0.9915\n",
      "Epoch 00037: ReduceLROnPlateau reducing learning rate to 0.0001250000059371814.\n",
      "63/63 [==============================] - 4s 71ms/step - loss: 0.0268 - acc: 0.9916 - val_loss: 0.1547 - val_acc: 0.9523\n",
      "Epoch 38/100\n",
      "63/63 [==============================] - 5s 71ms/step - loss: 0.0225 - acc: 0.9929 - val_loss: 0.1439 - val_acc: 0.9553\n",
      "Epoch 39/100\n",
      "63/63 [==============================] - 5s 72ms/step - loss: 0.0238 - acc: 0.9929 - val_loss: 0.1363 - val_acc: 0.9591\n",
      "Epoch 40/100\n",
      "63/63 [==============================] - 4s 71ms/step - loss: 0.0219 - acc: 0.9927 - val_loss: 0.1286 - val_acc: 0.9576\n",
      "Epoch 41/100\n",
      "62/63 [============================>.] - ETA: 0s - loss: 0.0239 - acc: 0.9933\n",
      "Epoch 00041: ReduceLROnPlateau reducing learning rate to 6.25000029685907e-05.\n",
      "63/63 [==============================] - 5s 73ms/step - loss: 0.0241 - acc: 0.9930 - val_loss: 0.1264 - val_acc: 0.9583\n",
      "Epoch 42/100\n",
      "63/63 [==============================] - 5s 74ms/step - loss: 0.0235 - acc: 0.9931 - val_loss: 0.1306 - val_acc: 0.9561\n",
      "Epoch 43/100\n",
      "63/63 [==============================] - 5s 74ms/step - loss: 0.0219 - acc: 0.9939 - val_loss: 0.1287 - val_acc: 0.9576\n",
      "Epoch 44/100\n",
      "63/63 [==============================] - 5s 73ms/step - loss: 0.0208 - acc: 0.9955 - val_loss: 0.1289 - val_acc: 0.9553\n",
      "Epoch 45/100\n",
      "62/63 [============================>.] - ETA: 0s - loss: 0.0196 - acc: 0.9948- ETA: 0s - loss: 0.0195 - acc:\n",
      "Epoch 00045: ReduceLROnPlateau reducing learning rate to 3.125000148429535e-05.\n",
      "63/63 [==============================] - 5s 72ms/step - loss: 0.0197 - acc: 0.9949 - val_loss: 0.1230 - val_acc: 0.9583\n",
      "Epoch 46/100\n",
      "63/63 [==============================] - 5s 73ms/step - loss: 0.0199 - acc: 0.9951 - val_loss: 0.1234 - val_acc: 0.9591\n",
      "Epoch 47/100\n",
      "63/63 [==============================] - 5s 74ms/step - loss: 0.0184 - acc: 0.9952 - val_loss: 0.1249 - val_acc: 0.9583\n",
      "Epoch 48/100\n",
      "62/63 [============================>.] - ETA: 0s - loss: 0.0193 - acc: 0.9944Restoring model weights from the end of the best epoch.\n",
      "63/63 [==============================] - 5s 81ms/step - loss: 0.0191 - acc: 0.9945 - val_loss: 0.1261 - val_acc: 0.9561\n",
      "Epoch 00048: early stopping\n"
     ]
    },
    {
     "data": {
      "image/png": "[encoded data removed]",
      "text/plain": [
       "<Figure size 432x288 with 2 Axes>"
      ]
     },
     "metadata": {
      "needs_background": "light"
     },
     "output_type": "display_data"
    },
    {
     "name": "stdout",
     "output_type": "stream",
     "text": [
      "Best val_acc - 0.9606 (epoch 33)\n"
     ]
    }
   ],
   "source": [
    "opt = optimizers.Adam(lr=0.001, beta_1=0.9, beta_2=0.999, epsilon=None, decay=0.0, amsgrad=False)\n",
    "history, model_8 = train(model_8, opt=opt)"
   ]
  },
  {
   "cell_type": "markdown",
   "metadata": {
    "heading_collapsed": true
   },
   "source": [
    "## Model 9: m8 - more filters - 0.9902 (epoch 42)\n",
    "Maybe more filters will work better this time.\n",
    "\n",
    "You bet your ass it does 😎"
   ]
  },
  {
   "cell_type": "markdown",
   "metadata": {
    "hidden": true
   },
   "source": [
    "#### Define Model"
   ]
  },
  {
   "cell_type": "code",
   "execution_count": 37,
   "metadata": {
    "ExecuteTime": {
     "end_time": "2019-08-23T23:36:58.470895Z",
     "start_time": "2019-08-23T23:36:57.946806Z"
    },
    "code_folding": [],
    "hidden": true
   },
   "outputs": [
    {
     "name": "stdout",
     "output_type": "stream",
     "text": [
      "Model: \"sequential_15\"\n",
      "_________________________________________________________________\n",
      "Layer (type)                 Output Shape              Param #   \n",
      "=================================================================\n",
      "conv2d_52 (Conv2D)           (None, 126, 126, 16)      448       \n",
      "_________________________________________________________________\n",
      "batch_normalization_52 (Batc (None, 126, 126, 16)      64        \n",
      "_________________________________________________________________\n",
      "activation_82 (Activation)   (None, 126, 126, 16)      0         \n",
      "_________________________________________________________________\n",
      "conv2d_53 (Conv2D)           (None, 124, 124, 16)      2320      \n",
      "_________________________________________________________________\n",
      "batch_normalization_53 (Batc (None, 124, 124, 16)      64        \n",
      "_________________________________________________________________\n",
      "activation_83 (Activation)   (None, 124, 124, 16)      0         \n",
      "_________________________________________________________________\n",
      "max_pooling2d_34 (MaxPooling (None, 62, 62, 16)        0         \n",
      "_________________________________________________________________\n",
      "dropout_34 (Dropout)         (None, 62, 62, 16)        0         \n",
      "_________________________________________________________________\n",
      "conv2d_54 (Conv2D)           (None, 60, 60, 24)        3480      \n",
      "_________________________________________________________________\n",
      "batch_normalization_54 (Batc (None, 60, 60, 24)        96        \n",
      "_________________________________________________________________\n",
      "activation_84 (Activation)   (None, 60, 60, 24)        0         \n",
      "_________________________________________________________________\n",
      "conv2d_55 (Conv2D)           (None, 58, 58, 24)        5208      \n",
      "_________________________________________________________________\n",
      "batch_normalization_55 (Batc (None, 58, 58, 24)        96        \n",
      "_________________________________________________________________\n",
      "activation_85 (Activation)   (None, 58, 58, 24)        0         \n",
      "_________________________________________________________________\n",
      "max_pooling2d_35 (MaxPooling (None, 29, 29, 24)        0         \n",
      "_________________________________________________________________\n",
      "dropout_35 (Dropout)         (None, 29, 29, 24)        0         \n",
      "_________________________________________________________________\n",
      "conv2d_56 (Conv2D)           (None, 27, 27, 16)        3472      \n",
      "_________________________________________________________________\n",
      "batch_normalization_56 (Batc (None, 27, 27, 16)        64        \n",
      "_________________________________________________________________\n",
      "activation_86 (Activation)   (None, 27, 27, 16)        0         \n",
      "_________________________________________________________________\n",
      "conv2d_57 (Conv2D)           (None, 25, 25, 16)        2320      \n",
      "_________________________________________________________________\n",
      "batch_normalization_57 (Batc (None, 25, 25, 16)        64        \n",
      "_________________________________________________________________\n",
      "activation_87 (Activation)   (None, 25, 25, 16)        0         \n",
      "_________________________________________________________________\n",
      "max_pooling2d_36 (MaxPooling (None, 12, 12, 16)        0         \n",
      "_________________________________________________________________\n",
      "dropout_36 (Dropout)         (None, 12, 12, 16)        0         \n",
      "_________________________________________________________________\n",
      "flatten_15 (Flatten)         (None, 2304)              0         \n",
      "_________________________________________________________________\n",
      "dense_30 (Dense)             (None, 256)               590080    \n",
      "_________________________________________________________________\n",
      "activation_88 (Activation)   (None, 256)               0         \n",
      "_________________________________________________________________\n",
      "dense_31 (Dense)             (None, 4)                 1028      \n",
      "_________________________________________________________________\n",
      "activation_89 (Activation)   (None, 4)                 0         \n",
      "=================================================================\n",
      "Total params: 608,804\n",
      "Trainable params: 608,580\n",
      "Non-trainable params: 224\n",
      "_________________________________________________________________\n"
     ]
    }
   ],
   "source": [
    "model_9 = Sequential([\n",
    "    Conv2D(16, (3, 3), strides=(1, 1), input_shape=(128, 128, 3), data_format=\"channels_last\", padding='valid'),   # RGB\n",
    "    BatchNormalization(),\n",
    "    Activation('relu'),\n",
    "    Conv2D(16, (3, 3), strides=(1, 1), padding='valid'),\n",
    "    BatchNormalization(),\n",
    "    Activation('relu'),\n",
    "    MaxPooling2D(pool_size=(2, 2)),\n",
    "    Dropout(0.3),\n",
    "    \n",
    "    Conv2D(24, (3, 3), strides=(1, 1), input_shape=(128, 128, 3), data_format=\"channels_last\", padding='valid'),   # RGB\n",
    "    BatchNormalization(),\n",
    "    Activation('relu'),\n",
    "    Conv2D(24, (3, 3), strides=(1, 1), padding='valid'),\n",
    "    BatchNormalization(),\n",
    "    Activation('relu'),\n",
    "    MaxPooling2D(pool_size=(2, 2)),\n",
    "    Dropout(0.3),\n",
    "    \n",
    "    Conv2D(16, (3, 3), strides=(1, 1), input_shape=(128, 128, 3), data_format=\"channels_last\", padding='valid'),   # RGB\n",
    "    BatchNormalization(),\n",
    "    Activation('relu'),\n",
    "    Conv2D(16, (3, 3), strides=(1, 1), padding='valid'),\n",
    "    BatchNormalization(),\n",
    "    Activation('relu'),\n",
    "    MaxPooling2D(pool_size=(2, 2)),\n",
    "    Dropout(0.3),\n",
    "    \n",
    "    Flatten(),\n",
    "    Dense(256),\n",
    "    Activation('relu'),\n",
    "    Dense(num_classes),\n",
    "    Activation('softmax')\n",
    "])\n",
    "model_9.summary()"
   ]
  },
  {
   "cell_type": "markdown",
   "metadata": {
    "hidden": true
   },
   "source": [
    "#### Execute Training"
   ]
  },
  {
   "cell_type": "code",
   "execution_count": 38,
   "metadata": {
    "ExecuteTime": {
     "end_time": "2019-08-23T23:42:04.776760Z",
     "start_time": "2019-08-23T23:37:06.167414Z"
    },
    "hidden": true
   },
   "outputs": [
    {
     "name": "stdout",
     "output_type": "stream",
     "text": [
      "Epoch 1/100\n",
      "63/63 [==============================] - 10s 154ms/step - loss: 2.0371 - acc: 0.2744 - val_loss: 1.3728 - val_acc: 0.3326\n",
      "Epoch 2/100\n",
      "63/63 [==============================] - 5s 77ms/step - loss: 1.3371 - acc: 0.3546 - val_loss: 1.3690 - val_acc: 0.3364\n",
      "Epoch 3/100\n",
      "63/63 [==============================] - 5s 77ms/step - loss: 1.2082 - acc: 0.4660 - val_loss: 1.3647 - val_acc: 0.3258\n",
      "Epoch 4/100\n",
      "63/63 [==============================] - 5s 77ms/step - loss: 0.9578 - acc: 0.6127 - val_loss: 1.3419 - val_acc: 0.3455\n",
      "Epoch 5/100\n",
      "63/63 [==============================] - 5s 75ms/step - loss: 0.7645 - acc: 0.7014 - val_loss: 1.1181 - val_acc: 0.5439\n",
      "Epoch 6/100\n",
      "63/63 [==============================] - 5s 79ms/step - loss: 0.6213 - acc: 0.7605 - val_loss: 0.8408 - val_acc: 0.6591\n",
      "Epoch 7/100\n",
      "63/63 [==============================] - 5s 77ms/step - loss: 0.4846 - acc: 0.8169 - val_loss: 0.4267 - val_acc: 0.8591\n",
      "Epoch 8/100\n",
      "63/63 [==============================] - 5s 77ms/step - loss: 0.3887 - acc: 0.8562 - val_loss: 0.3431 - val_acc: 0.8742\n",
      "Epoch 9/100\n",
      "63/63 [==============================] - 5s 76ms/step - loss: 0.2937 - acc: 0.8915 - val_loss: 0.2240 - val_acc: 0.9129\n",
      "Epoch 10/100\n",
      "63/63 [==============================] - 5s 75ms/step - loss: 0.2346 - acc: 0.9146 - val_loss: 0.2395 - val_acc: 0.9068\n",
      "Epoch 11/100\n",
      "63/63 [==============================] - 5s 76ms/step - loss: 0.1961 - acc: 0.9321 - val_loss: 0.1777 - val_acc: 0.9333\n",
      "Epoch 12/100\n",
      "63/63 [==============================] - 5s 76ms/step - loss: 0.1733 - acc: 0.9389 - val_loss: 0.1198 - val_acc: 0.9530\n",
      "Epoch 13/100\n",
      "63/63 [==============================] - 5s 76ms/step - loss: 0.1512 - acc: 0.9473 - val_loss: 0.1014 - val_acc: 0.9591\n",
      "Epoch 14/100\n",
      "63/63 [==============================] - 5s 76ms/step - loss: 0.1211 - acc: 0.9563 - val_loss: 0.1159 - val_acc: 0.9515\n",
      "Epoch 15/100\n",
      "63/63 [==============================] - 5s 76ms/step - loss: 0.1105 - acc: 0.9613 - val_loss: 0.0991 - val_acc: 0.9598\n",
      "Epoch 16/100\n",
      "63/63 [==============================] - 5s 76ms/step - loss: 0.1016 - acc: 0.9625 - val_loss: 0.0846 - val_acc: 0.9705 lo\n",
      "Epoch 17/100\n",
      "63/63 [==============================] - 5s 74ms/step - loss: 0.0908 - acc: 0.9686 - val_loss: 0.0783 - val_acc: 0.9712\n",
      "Epoch 18/100\n",
      "63/63 [==============================] - 5s 75ms/step - loss: 0.0862 - acc: 0.9707 - val_loss: 0.0781 - val_acc: 0.9697\n",
      "Epoch 19/100\n",
      "63/63 [==============================] - 5s 75ms/step - loss: 0.0735 - acc: 0.9729 - val_loss: 0.0703 - val_acc: 0.9742\n",
      "Epoch 20/100\n",
      "63/63 [==============================] - 5s 75ms/step - loss: 0.0700 - acc: 0.9740 - val_loss: 0.0745 - val_acc: 0.9727\n",
      "Epoch 21/100\n",
      "63/63 [==============================] - 5s 75ms/step - loss: 0.0592 - acc: 0.9812 - val_loss: 0.0573 - val_acc: 0.9811\n",
      "Epoch 22/100\n",
      "63/63 [==============================] - 5s 75ms/step - loss: 0.0561 - acc: 0.9795 - val_loss: 0.0582 - val_acc: 0.9788\n",
      "Epoch 23/100\n",
      "63/63 [==============================] - 5s 75ms/step - loss: 0.0490 - acc: 0.9849 - val_loss: 0.0647 - val_acc: 0.9788\n",
      "Epoch 24/100\n",
      "63/63 [==============================] - 5s 75ms/step - loss: 0.0514 - acc: 0.9797 - val_loss: 0.0654 - val_acc: 0.9788\n",
      "Epoch 25/100\n",
      "62/63 [============================>.] - ETA: 0s - loss: 0.0461 - acc: 0.9859\n",
      "Epoch 00025: ReduceLROnPlateau reducing learning rate to 0.0005000000237487257.\n",
      "63/63 [==============================] - 5s 82ms/step - loss: 0.0458 - acc: 0.9860 - val_loss: 0.0522 - val_acc: 0.9803\n",
      "Epoch 26/100\n",
      "63/63 [==============================] - 5s 76ms/step - loss: 0.0360 - acc: 0.9875 - val_loss: 0.0406 - val_acc: 0.9856\n",
      "Epoch 27/100\n",
      "63/63 [==============================] - 5s 76ms/step - loss: 0.0295 - acc: 0.9894 - val_loss: 0.0412 - val_acc: 0.9886\n",
      "Epoch 28/100\n",
      "63/63 [==============================] - 5s 76ms/step - loss: 0.0296 - acc: 0.9899 - val_loss: 0.0430 - val_acc: 0.9833\n",
      "Epoch 29/100\n",
      "63/63 [==============================] - 5s 78ms/step - loss: 0.0256 - acc: 0.9920 - val_loss: 0.0408 - val_acc: 0.9871\n",
      "Epoch 30/100\n",
      "63/63 [==============================] - 5s 75ms/step - loss: 0.0270 - acc: 0.9905 - val_loss: 0.0366 - val_acc: 0.9886\n",
      "Epoch 31/100\n",
      "62/63 [============================>.] - ETA: 0s - loss: 0.0247 - acc: 0.9930\n",
      "Epoch 00031: ReduceLROnPlateau reducing learning rate to 0.0002500000118743628.\n",
      "63/63 [==============================] - 5s 77ms/step - loss: 0.0248 - acc: 0.9929 - val_loss: 0.0437 - val_acc: 0.9864\n",
      "Epoch 32/100\n",
      "63/63 [==============================] - 5s 75ms/step - loss: 0.0206 - acc: 0.9936 - val_loss: 0.0453 - val_acc: 0.9871\n",
      "Epoch 33/100\n",
      "63/63 [==============================] - 5s 75ms/step - loss: 0.0182 - acc: 0.9942 - val_loss: 0.0413 - val_acc: 0.9879\n",
      "Epoch 34/100\n",
      "63/63 [==============================] - 5s 73ms/step - loss: 0.0179 - acc: 0.9952 - val_loss: 0.0431 - val_acc: 0.9856\n",
      "Epoch 35/100\n",
      "62/63 [============================>.] - ETA: 0s - loss: 0.0157 - acc: 0.9952\n",
      "Epoch 00035: ReduceLROnPlateau reducing learning rate to 0.0001250000059371814.\n",
      "63/63 [==============================] - 5s 74ms/step - loss: 0.0157 - acc: 0.9951 - val_loss: 0.0343 - val_acc: 0.9886\n",
      "Epoch 36/100\n",
      "63/63 [==============================] - 5s 75ms/step - loss: 0.0149 - acc: 0.9961 - val_loss: 0.0429 - val_acc: 0.9864\n",
      "Epoch 37/100\n",
      "63/63 [==============================] - 5s 73ms/step - loss: 0.0141 - acc: 0.9961 - val_loss: 0.0384 - val_acc: 0.9886\n",
      "Epoch 38/100\n",
      "63/63 [==============================] - 5s 75ms/step - loss: 0.0154 - acc: 0.9959 - val_loss: 0.0364 - val_acc: 0.9879\n",
      "Epoch 39/100\n",
      "62/63 [============================>.] - ETA: 0s - loss: 0.0145 - acc: 0.9957\n",
      "Epoch 00039: ReduceLROnPlateau reducing learning rate to 6.25000029685907e-05.\n",
      "63/63 [==============================] - 5s 75ms/step - loss: 0.0146 - acc: 0.9955 - val_loss: 0.0373 - val_acc: 0.9886\n",
      "Epoch 40/100\n",
      "63/63 [==============================] - 5s 76ms/step - loss: 0.0134 - acc: 0.9961 - val_loss: 0.0361 - val_acc: 0.9886\n",
      "Epoch 41/100\n",
      "63/63 [==============================] - 5s 77ms/step - loss: 0.0139 - acc: 0.9958 - val_loss: 0.0346 - val_acc: 0.9894\n",
      "Epoch 42/100\n",
      "63/63 [==============================] - 5s 76ms/step - loss: 0.0126 - acc: 0.9959 - val_loss: 0.0370 - val_acc: 0.9902\n",
      "Epoch 43/100\n",
      "63/63 [==============================] - 5s 76ms/step - loss: 0.0123 - acc: 0.9962 - val_loss: 0.0357 - val_acc: 0.9902\n",
      "Epoch 44/100\n",
      "63/63 [==============================] - 5s 76ms/step - loss: 0.0128 - acc: 0.9961 - val_loss: 0.0382 - val_acc: 0.9902\n",
      "Epoch 45/100\n",
      "63/63 [==============================] - 5s 75ms/step - loss: 0.0125 - acc: 0.9961 - val_loss: 0.0393 - val_acc: 0.9879\n",
      "Epoch 46/100\n",
      "62/63 [============================>.] - ETA: 0s - loss: 0.0120 - acc: 0.9966\n",
      "Epoch 00046: ReduceLROnPlateau reducing learning rate to 3.125000148429535e-05.\n",
      "63/63 [==============================] - 5s 76ms/step - loss: 0.0122 - acc: 0.9965 - val_loss: 0.0358 - val_acc: 0.9894\n",
      "Epoch 47/100\n",
      "63/63 [==============================] - 5s 75ms/step - loss: 0.0119 - acc: 0.9969 - val_loss: 0.0365 - val_acc: 0.9894\n",
      "Epoch 48/100\n",
      "63/63 [==============================] - 5s 76ms/step - loss: 0.0126 - acc: 0.9967 - val_loss: 0.0378 - val_acc: 0.9894\n",
      "Epoch 49/100\n",
      "63/63 [==============================] - 5s 75ms/step - loss: 0.0104 - acc: 0.9974 - val_loss: 0.0357 - val_acc: 0.9894\n",
      "Epoch 50/100\n",
      "62/63 [============================>.] - ETA: 0s - loss: 0.0113 - acc: 0.9968\n",
      "Epoch 00050: ReduceLROnPlateau reducing learning rate to 1.5625000742147677e-05.\n",
      "63/63 [==============================] - 5s 76ms/step - loss: 0.0115 - acc: 0.9967 - val_loss: 0.0356 - val_acc: 0.9871\n",
      "Epoch 51/100\n",
      "63/63 [==============================] - 5s 74ms/step - loss: 0.0106 - acc: 0.9977 - val_loss: 0.0327 - val_acc: 0.9879\n",
      "Epoch 52/100\n",
      "63/63 [==============================] - 5s 76ms/step - loss: 0.0118 - acc: 0.9964 - val_loss: 0.0332 - val_acc: 0.9879\n",
      "Epoch 53/100\n",
      "63/63 [==============================] - 5s 74ms/step - loss: 0.0142 - acc: 0.9956 - val_loss: 0.0326 - val_acc: 0.9879\n",
      "Epoch 54/100\n",
      "62/63 [============================>.] - ETA: 0s - loss: 0.0136 - acc: 0.9952\n",
      "Epoch 00054: ReduceLROnPlateau reducing learning rate to 7.812500371073838e-06.\n",
      "63/63 [==============================] - 5s 74ms/step - loss: 0.0138 - acc: 0.9950 - val_loss: 0.0324 - val_acc: 0.9879\n"
     ]
    },
    {
     "name": "stdout",
     "output_type": "stream",
     "text": [
      "Epoch 55/100\n",
      "63/63 [==============================] - 5s 75ms/step - loss: 0.0111 - acc: 0.9966 - val_loss: 0.0327 - val_acc: 0.9879\n",
      "Epoch 56/100\n",
      "63/63 [==============================] - 5s 75ms/step - loss: 0.0111 - acc: 0.9970 - val_loss: 0.0392 - val_acc: 0.9879\n",
      "Epoch 57/100\n",
      "62/63 [============================>.] - ETA: 0s - loss: 0.0125 - acc: 0.9968Restoring model weights from the end of the best epoch.\n",
      "63/63 [==============================] - 5s 83ms/step - loss: 0.0126 - acc: 0.9967 - val_loss: 0.0333 - val_acc: 0.9879\n",
      "Epoch 00057: early stopping\n"
     ]
    },
    {
     "data": {
      "image/png": "[encoded data removed]",
      "text/plain": [
       "<Figure size 432x288 with 2 Axes>"
      ]
     },
     "metadata": {
      "needs_background": "light"
     },
     "output_type": "display_data"
    },
    {
     "name": "stdout",
     "output_type": "stream",
     "text": [
      "Best val_acc - 0.9902 (epoch 42)\n"
     ]
    }
   ],
   "source": [
    "opt = optimizers.Adam(lr=0.001, beta_1=0.9, beta_2=0.999, epsilon=None, decay=0.0, amsgrad=False)\n",
    "history, model_9 = train(model_9, opt=opt)"
   ]
  },
  {
   "cell_type": "markdown",
   "metadata": {
    "heading_collapsed": true
   },
   "source": [
    "## Model 10: m9 - Dense(128) - 0.9674 (epoch 40)\n",
    "Repeat the above process"
   ]
  },
  {
   "cell_type": "markdown",
   "metadata": {
    "hidden": true
   },
   "source": [
    "#### Define Model"
   ]
  },
  {
   "cell_type": "code",
   "execution_count": 39,
   "metadata": {
    "ExecuteTime": {
     "end_time": "2019-08-24T00:06:12.184177Z",
     "start_time": "2019-08-24T00:06:11.642853Z"
    },
    "code_folding": [],
    "hidden": true
   },
   "outputs": [
    {
     "name": "stdout",
     "output_type": "stream",
     "text": [
      "Model: \"sequential_16\"\n",
      "_________________________________________________________________\n",
      "Layer (type)                 Output Shape              Param #   \n",
      "=================================================================\n",
      "conv2d_58 (Conv2D)           (None, 126, 126, 16)      448       \n",
      "_________________________________________________________________\n",
      "batch_normalization_58 (Batc (None, 126, 126, 16)      64        \n",
      "_________________________________________________________________\n",
      "activation_90 (Activation)   (None, 126, 126, 16)      0         \n",
      "_________________________________________________________________\n",
      "conv2d_59 (Conv2D)           (None, 124, 124, 16)      2320      \n",
      "_________________________________________________________________\n",
      "batch_normalization_59 (Batc (None, 124, 124, 16)      64        \n",
      "_________________________________________________________________\n",
      "activation_91 (Activation)   (None, 124, 124, 16)      0         \n",
      "_________________________________________________________________\n",
      "max_pooling2d_37 (MaxPooling (None, 62, 62, 16)        0         \n",
      "_________________________________________________________________\n",
      "dropout_37 (Dropout)         (None, 62, 62, 16)        0         \n",
      "_________________________________________________________________\n",
      "conv2d_60 (Conv2D)           (None, 60, 60, 24)        3480      \n",
      "_________________________________________________________________\n",
      "batch_normalization_60 (Batc (None, 60, 60, 24)        96        \n",
      "_________________________________________________________________\n",
      "activation_92 (Activation)   (None, 60, 60, 24)        0         \n",
      "_________________________________________________________________\n",
      "conv2d_61 (Conv2D)           (None, 58, 58, 24)        5208      \n",
      "_________________________________________________________________\n",
      "batch_normalization_61 (Batc (None, 58, 58, 24)        96        \n",
      "_________________________________________________________________\n",
      "activation_93 (Activation)   (None, 58, 58, 24)        0         \n",
      "_________________________________________________________________\n",
      "max_pooling2d_38 (MaxPooling (None, 29, 29, 24)        0         \n",
      "_________________________________________________________________\n",
      "dropout_38 (Dropout)         (None, 29, 29, 24)        0         \n",
      "_________________________________________________________________\n",
      "conv2d_62 (Conv2D)           (None, 27, 27, 16)        3472      \n",
      "_________________________________________________________________\n",
      "batch_normalization_62 (Batc (None, 27, 27, 16)        64        \n",
      "_________________________________________________________________\n",
      "activation_94 (Activation)   (None, 27, 27, 16)        0         \n",
      "_________________________________________________________________\n",
      "conv2d_63 (Conv2D)           (None, 25, 25, 16)        2320      \n",
      "_________________________________________________________________\n",
      "batch_normalization_63 (Batc (None, 25, 25, 16)        64        \n",
      "_________________________________________________________________\n",
      "activation_95 (Activation)   (None, 25, 25, 16)        0         \n",
      "_________________________________________________________________\n",
      "max_pooling2d_39 (MaxPooling (None, 12, 12, 16)        0         \n",
      "_________________________________________________________________\n",
      "dropout_39 (Dropout)         (None, 12, 12, 16)        0         \n",
      "_________________________________________________________________\n",
      "flatten_16 (Flatten)         (None, 2304)              0         \n",
      "_________________________________________________________________\n",
      "dense_32 (Dense)             (None, 128)               295040    \n",
      "_________________________________________________________________\n",
      "activation_96 (Activation)   (None, 128)               0         \n",
      "_________________________________________________________________\n",
      "dense_33 (Dense)             (None, 4)                 516       \n",
      "_________________________________________________________________\n",
      "activation_97 (Activation)   (None, 4)                 0         \n",
      "=================================================================\n",
      "Total params: 313,252\n",
      "Trainable params: 313,028\n",
      "Non-trainable params: 224\n",
      "_________________________________________________________________\n"
     ]
    }
   ],
   "source": [
    "model_10 = Sequential([\n",
    "    Conv2D(16, (3, 3), strides=(1, 1), input_shape=(128, 128, 3), data_format=\"channels_last\", padding='valid'),   # RGB\n",
    "    BatchNormalization(),\n",
    "    Activation('relu'),\n",
    "    Conv2D(16, (3, 3), strides=(1, 1), padding='valid'),\n",
    "    BatchNormalization(),\n",
    "    Activation('relu'),\n",
    "    MaxPooling2D(pool_size=(2, 2)),\n",
    "    Dropout(0.3),\n",
    "    \n",
    "    Conv2D(24, (3, 3), strides=(1, 1), input_shape=(128, 128, 3), data_format=\"channels_last\", padding='valid'),   # RGB\n",
    "    BatchNormalization(),\n",
    "    Activation('relu'),\n",
    "    Conv2D(24, (3, 3), strides=(1, 1), padding='valid'),\n",
    "    BatchNormalization(),\n",
    "    Activation('relu'),\n",
    "    MaxPooling2D(pool_size=(2, 2)),\n",
    "    Dropout(0.3),\n",
    "    \n",
    "    Conv2D(16, (3, 3), strides=(1, 1), input_shape=(128, 128, 3), data_format=\"channels_last\", padding='valid'),   # RGB\n",
    "    BatchNormalization(),\n",
    "    Activation('relu'),\n",
    "    Conv2D(16, (3, 3), strides=(1, 1), padding='valid'),\n",
    "    BatchNormalization(),\n",
    "    Activation('relu'),\n",
    "    MaxPooling2D(pool_size=(2, 2)),\n",
    "    Dropout(0.3),\n",
    "    \n",
    "    Flatten(),\n",
    "    Dense(128),\n",
    "    Activation('relu'),\n",
    "    Dense(num_classes),\n",
    "    Activation('softmax')\n",
    "])\n",
    "model_10.summary()"
   ]
  },
  {
   "cell_type": "markdown",
   "metadata": {
    "hidden": true
   },
   "source": [
    "#### Execute Training"
   ]
  },
  {
   "cell_type": "code",
   "execution_count": 41,
   "metadata": {
    "ExecuteTime": {
     "end_time": "2019-08-24T00:11:52.095921Z",
     "start_time": "2019-08-24T00:06:32.055648Z"
    },
    "hidden": true
   },
   "outputs": [
    {
     "name": "stdout",
     "output_type": "stream",
     "text": [
      "Epoch 1/100\n",
      "63/63 [==============================] - 17s 264ms/step - loss: 1.5746 - acc: 0.3274 - val_loss: 1.3821 - val_acc: 0.2682\n",
      "Epoch 2/100\n",
      "63/63 [==============================] - 5s 81ms/step - loss: 1.2563 - acc: 0.4426 - val_loss: 1.3841 - val_acc: 0.2568\n",
      "Epoch 3/100\n",
      "63/63 [==============================] - 5s 86ms/step - loss: 1.0891 - acc: 0.5520 - val_loss: 1.3375 - val_acc: 0.3333\n",
      "Epoch 4/100\n",
      "63/63 [==============================] - 5s 85ms/step - loss: 0.9035 - acc: 0.6436 - val_loss: 1.1219 - val_acc: 0.5576\n",
      "Epoch 5/100\n",
      "63/63 [==============================] - 5s 81ms/step - loss: 0.7165 - acc: 0.7245 - val_loss: 0.7702 - val_acc: 0.7061\n",
      "Epoch 6/100\n",
      "63/63 [==============================] - 5s 82ms/step - loss: 0.6035 - acc: 0.7715 - val_loss: 0.5510 - val_acc: 0.8061\n",
      "Epoch 7/100\n",
      "63/63 [==============================] - 5s 81ms/step - loss: 0.5114 - acc: 0.8067 - val_loss: 0.4951 - val_acc: 0.8371\n",
      "Epoch 8/100\n",
      "63/63 [==============================] - 5s 79ms/step - loss: 0.4401 - acc: 0.8360 - val_loss: 0.4966 - val_acc: 0.8136\n",
      "Epoch 9/100\n",
      "63/63 [==============================] - 5s 82ms/step - loss: 0.4049 - acc: 0.8493 - val_loss: 0.4525 - val_acc: 0.8326\n",
      "Epoch 10/100\n",
      "63/63 [==============================] - 5s 82ms/step - loss: 0.3538 - acc: 0.8695 - val_loss: 0.3444 - val_acc: 0.8773\n",
      "Epoch 11/100\n",
      "63/63 [==============================] - 5s 84ms/step - loss: 0.3080 - acc: 0.8864 - val_loss: 0.3543 - val_acc: 0.8682\n",
      "Epoch 12/100\n",
      "63/63 [==============================] - 5s 86ms/step - loss: 0.2711 - acc: 0.9022 - val_loss: 0.2901 - val_acc: 0.8955\n",
      "Epoch 13/100\n",
      "63/63 [==============================] - 5s 81ms/step - loss: 0.2558 - acc: 0.9069 - val_loss: 0.3116 - val_acc: 0.8826\n",
      "Epoch 14/100\n",
      "63/63 [==============================] - 5s 80ms/step - loss: 0.2264 - acc: 0.9189 - val_loss: 0.2439 - val_acc: 0.9152\n",
      "Epoch 15/100\n",
      "63/63 [==============================] - 5s 81ms/step - loss: 0.1984 - acc: 0.9293 - val_loss: 0.2423 - val_acc: 0.9144\n",
      "Epoch 16/100\n",
      "63/63 [==============================] - 5s 80ms/step - loss: 0.1776 - acc: 0.9365 - val_loss: 0.2236 - val_acc: 0.9258\n",
      "Epoch 17/100\n",
      "63/63 [==============================] - 5s 79ms/step - loss: 0.1527 - acc: 0.9435 - val_loss: 0.1919 - val_acc: 0.9326\n",
      "Epoch 18/100\n",
      "63/63 [==============================] - 5s 78ms/step - loss: 0.1428 - acc: 0.9475 - val_loss: 0.1915 - val_acc: 0.9326\n",
      "Epoch 19/100\n",
      "63/63 [==============================] - 5s 80ms/step - loss: 0.1266 - acc: 0.9540 - val_loss: 0.1981 - val_acc: 0.9303\n",
      "Epoch 20/100\n",
      "63/63 [==============================] - 5s 79ms/step - loss: 0.1121 - acc: 0.9599 - val_loss: 0.1716 - val_acc: 0.9356\n",
      "Epoch 21/100\n",
      "63/63 [==============================] - 5s 79ms/step - loss: 0.1030 - acc: 0.9616 - val_loss: 0.1623 - val_acc: 0.9417\n",
      "Epoch 22/100\n",
      "63/63 [==============================] - 5s 79ms/step - loss: 0.0948 - acc: 0.9685 - val_loss: 0.1300 - val_acc: 0.9523\n",
      "Epoch 23/100\n",
      "63/63 [==============================] - 5s 78ms/step - loss: 0.0803 - acc: 0.9744 - val_loss: 0.1419 - val_acc: 0.9485\n",
      "Epoch 24/100\n",
      "63/63 [==============================] - 5s 78ms/step - loss: 0.0761 - acc: 0.9718 - val_loss: 0.1567 - val_acc: 0.9424\n",
      "Epoch 25/100\n",
      "63/63 [==============================] - 5s 81ms/step - loss: 0.0716 - acc: 0.9753 - val_loss: 0.1288 - val_acc: 0.9515\n",
      "Epoch 26/100\n",
      "62/63 [============================>.] - ETA: 0s - loss: 0.0622 - acc: 0.9765\n",
      "Epoch 00026: ReduceLROnPlateau reducing learning rate to 0.0005000000237487257.\n",
      "63/63 [==============================] - 6s 88ms/step - loss: 0.0621 - acc: 0.9766 - val_loss: 0.1497 - val_acc: 0.9485\n",
      "Epoch 27/100\n",
      "63/63 [==============================] - 5s 80ms/step - loss: 0.0504 - acc: 0.9829 - val_loss: 0.1175 - val_acc: 0.9515\n",
      "Epoch 28/100\n",
      "63/63 [==============================] - 5s 82ms/step - loss: 0.0396 - acc: 0.9870 - val_loss: 0.1064 - val_acc: 0.9561\n",
      "Epoch 29/100\n",
      "63/63 [==============================] - 5s 83ms/step - loss: 0.0370 - acc: 0.9874 - val_loss: 0.1018 - val_acc: 0.9591\n",
      "Epoch 30/100\n",
      "63/63 [==============================] - 5s 83ms/step - loss: 0.0377 - acc: 0.9871 - val_loss: 0.1158 - val_acc: 0.9629\n",
      "Epoch 31/100\n",
      "63/63 [==============================] - 5s 84ms/step - loss: 0.0378 - acc: 0.9875 - val_loss: 0.1161 - val_acc: 0.9583\n",
      "Epoch 32/100\n",
      "63/63 [==============================] - 5s 82ms/step - loss: 0.0318 - acc: 0.9899 - val_loss: 0.1116 - val_acc: 0.9614\n",
      "Epoch 33/100\n",
      "63/63 [==============================] - 5s 82ms/step - loss: 0.0393 - acc: 0.9860 - val_loss: 0.1148 - val_acc: 0.9591\n",
      "Epoch 34/100\n",
      "62/63 [============================>.] - ETA: 0s - loss: 0.0315 - acc: 0.9891\n",
      "Epoch 00034: ReduceLROnPlateau reducing learning rate to 0.0002500000118743628.\n",
      "63/63 [==============================] - 5s 81ms/step - loss: 0.0313 - acc: 0.9893 - val_loss: 0.1071 - val_acc: 0.9606\n",
      "Epoch 35/100\n",
      "63/63 [==============================] - 5s 81ms/step - loss: 0.0250 - acc: 0.9920 - val_loss: 0.0978 - val_acc: 0.9659\n",
      "Epoch 36/100\n",
      "63/63 [==============================] - 5s 82ms/step - loss: 0.0224 - acc: 0.9944 - val_loss: 0.1060 - val_acc: 0.9606\n",
      "Epoch 37/100\n",
      "63/63 [==============================] - 5s 80ms/step - loss: 0.0221 - acc: 0.9927 - val_loss: 0.0920 - val_acc: 0.9644\n",
      "Epoch 38/100\n",
      "63/63 [==============================] - 5s 79ms/step - loss: 0.0202 - acc: 0.9946 - val_loss: 0.0924 - val_acc: 0.9652\n",
      "Epoch 39/100\n",
      "62/63 [============================>.] - ETA: 0s - loss: 0.0221 - acc: 0.9939\n",
      "Epoch 00039: ReduceLROnPlateau reducing learning rate to 0.0001250000059371814.\n",
      "63/63 [==============================] - 5s 79ms/step - loss: 0.0218 - acc: 0.9940 - val_loss: 0.0976 - val_acc: 0.9629\n",
      "Epoch 40/100\n",
      "63/63 [==============================] - 5s 80ms/step - loss: 0.0201 - acc: 0.9948 - val_loss: 0.0967 - val_acc: 0.9674\n",
      "Epoch 41/100\n",
      "63/63 [==============================] - 5s 81ms/step - loss: 0.0190 - acc: 0.9942 - val_loss: 0.0929 - val_acc: 0.9644\n",
      "Epoch 42/100\n",
      "63/63 [==============================] - 5s 82ms/step - loss: 0.0188 - acc: 0.9954 - val_loss: 0.0912 - val_acc: 0.9644\n",
      "Epoch 43/100\n",
      "63/63 [==============================] - 5s 79ms/step - loss: 0.0197 - acc: 0.9934 - val_loss: 0.0888 - val_acc: 0.9667\n",
      "Epoch 44/100\n",
      "61/63 [============================>.] - ETA: 0s - loss: 0.0176 - acc: 0.9947\n",
      "Epoch 00044: ReduceLROnPlateau reducing learning rate to 6.25000029685907e-05.\n",
      "63/63 [==============================] - 5s 81ms/step - loss: 0.0180 - acc: 0.9945 - val_loss: 0.0946 - val_acc: 0.9667\n",
      "Epoch 45/100\n",
      "63/63 [==============================] - 5s 80ms/step - loss: 0.0174 - acc: 0.9948 - val_loss: 0.1011 - val_acc: 0.9644\n",
      "Epoch 46/100\n",
      "63/63 [==============================] - 5s 81ms/step - loss: 0.0186 - acc: 0.9944 - val_loss: 0.1085 - val_acc: 0.9636\n",
      "Epoch 47/100\n",
      "63/63 [==============================] - 5s 80ms/step - loss: 0.0178 - acc: 0.9951 - val_loss: 0.1038 - val_acc: 0.9659\n",
      "Epoch 48/100\n",
      "62/63 [============================>.] - ETA: 0s - loss: 0.0181 - acc: 0.9940\n",
      "Epoch 00048: ReduceLROnPlateau reducing learning rate to 3.125000148429535e-05.\n",
      "63/63 [==============================] - 5s 83ms/step - loss: 0.0181 - acc: 0.9940 - val_loss: 0.1053 - val_acc: 0.9644\n",
      "Epoch 49/100\n",
      "63/63 [==============================] - 5s 81ms/step - loss: 0.0165 - acc: 0.9959 - val_loss: 0.0984 - val_acc: 0.9659\n",
      "Epoch 50/100\n",
      "63/63 [==============================] - 5s 81ms/step - loss: 0.0155 - acc: 0.9954 - val_loss: 0.0987 - val_acc: 0.9659\n",
      "Epoch 51/100\n",
      "63/63 [==============================] - 5s 79ms/step - loss: 0.0164 - acc: 0.9961 - val_loss: 0.0975 - val_acc: 0.9644\n",
      "Epoch 52/100\n",
      "62/63 [============================>.] - ETA: 0s - loss: 0.0164 - acc: 0.9952\n",
      "Epoch 00052: ReduceLROnPlateau reducing learning rate to 1.5625000742147677e-05.\n",
      "63/63 [==============================] - 5s 80ms/step - loss: 0.0163 - acc: 0.9952 - val_loss: 0.0969 - val_acc: 0.9636\n",
      "Epoch 53/100\n",
      "63/63 [==============================] - 5s 79ms/step - loss: 0.0166 - acc: 0.9954 - val_loss: 0.0898 - val_acc: 0.9636\n",
      "Epoch 54/100\n",
      "63/63 [==============================] - 5s 81ms/step - loss: 0.0143 - acc: 0.9958 - val_loss: 0.0891 - val_acc: 0.9636\n",
      "Epoch 55/100\n",
      "62/63 [============================>.] - ETA: 0s - loss: 0.0157 - acc: 0.9954Restoring model weights from the end of the best epoch.\n",
      "63/63 [==============================] - 6s 91ms/step - loss: 0.0157 - acc: 0.9952 - val_loss: 0.0889 - val_acc: 0.9652\n",
      "Epoch 00055: early stopping\n"
     ]
    },
    {
     "data": {
      "image/png": "[encoded data removed]",
      "text/plain": [
       "<Figure size 432x288 with 2 Axes>"
      ]
     },
     "metadata": {
      "needs_background": "light"
     },
     "output_type": "display_data"
    },
    {
     "name": "stdout",
     "output_type": "stream",
     "text": [
      "Best val_acc - 0.9674 (epoch 40)\n"
     ]
    }
   ],
   "source": [
    "opt = optimizers.Adam(lr=0.001, beta_1=0.9, beta_2=0.999, epsilon=None, decay=0.0, amsgrad=False)\n",
    "history, model_10 = train(model_10, opt=opt)"
   ]
  },
  {
   "cell_type": "markdown",
   "metadata": {
    "heading_collapsed": true
   },
   "source": [
    "## Model 11: m10 - more filters  - 0.9924 (epoch 67)\n",
    "Repeat the above process"
   ]
  },
  {
   "cell_type": "markdown",
   "metadata": {
    "heading_collapsed": true,
    "hidden": true
   },
   "source": [
    "#### Define Model"
   ]
  },
  {
   "cell_type": "code",
   "execution_count": 42,
   "metadata": {
    "ExecuteTime": {
     "end_time": "2019-08-24T00:23:32.317882Z",
     "start_time": "2019-08-24T00:23:31.674816Z"
    },
    "code_folding": [],
    "collapsed": true,
    "hidden": true
   },
   "outputs": [
    {
     "name": "stdout",
     "output_type": "stream",
     "text": [
      "Model: \"sequential_17\"\n",
      "_________________________________________________________________\n",
      "Layer (type)                 Output Shape              Param #   \n",
      "=================================================================\n",
      "conv2d_64 (Conv2D)           (None, 126, 126, 16)      448       \n",
      "_________________________________________________________________\n",
      "batch_normalization_64 (Batc (None, 126, 126, 16)      64        \n",
      "_________________________________________________________________\n",
      "activation_98 (Activation)   (None, 126, 126, 16)      0         \n",
      "_________________________________________________________________\n",
      "conv2d_65 (Conv2D)           (None, 124, 124, 24)      3480      \n",
      "_________________________________________________________________\n",
      "batch_normalization_65 (Batc (None, 124, 124, 24)      96        \n",
      "_________________________________________________________________\n",
      "activation_99 (Activation)   (None, 124, 124, 24)      0         \n",
      "_________________________________________________________________\n",
      "max_pooling2d_40 (MaxPooling (None, 62, 62, 24)        0         \n",
      "_________________________________________________________________\n",
      "dropout_40 (Dropout)         (None, 62, 62, 24)        0         \n",
      "_________________________________________________________________\n",
      "conv2d_66 (Conv2D)           (None, 60, 60, 32)        6944      \n",
      "_________________________________________________________________\n",
      "batch_normalization_66 (Batc (None, 60, 60, 32)        128       \n",
      "_________________________________________________________________\n",
      "activation_100 (Activation)  (None, 60, 60, 32)        0         \n",
      "_________________________________________________________________\n",
      "conv2d_67 (Conv2D)           (None, 58, 58, 32)        9248      \n",
      "_________________________________________________________________\n",
      "batch_normalization_67 (Batc (None, 58, 58, 32)        128       \n",
      "_________________________________________________________________\n",
      "activation_101 (Activation)  (None, 58, 58, 32)        0         \n",
      "_________________________________________________________________\n",
      "max_pooling2d_41 (MaxPooling (None, 29, 29, 32)        0         \n",
      "_________________________________________________________________\n",
      "dropout_41 (Dropout)         (None, 29, 29, 32)        0         \n",
      "_________________________________________________________________\n",
      "conv2d_68 (Conv2D)           (None, 27, 27, 24)        6936      \n",
      "_________________________________________________________________\n",
      "batch_normalization_68 (Batc (None, 27, 27, 24)        96        \n",
      "_________________________________________________________________\n",
      "activation_102 (Activation)  (None, 27, 27, 24)        0         \n",
      "_________________________________________________________________\n",
      "conv2d_69 (Conv2D)           (None, 25, 25, 16)        3472      \n",
      "_________________________________________________________________\n",
      "batch_normalization_69 (Batc (None, 25, 25, 16)        64        \n",
      "_________________________________________________________________\n",
      "activation_103 (Activation)  (None, 25, 25, 16)        0         \n",
      "_________________________________________________________________\n",
      "max_pooling2d_42 (MaxPooling (None, 12, 12, 16)        0         \n",
      "_________________________________________________________________\n",
      "dropout_42 (Dropout)         (None, 12, 12, 16)        0         \n",
      "_________________________________________________________________\n",
      "flatten_17 (Flatten)         (None, 2304)              0         \n",
      "_________________________________________________________________\n",
      "dense_34 (Dense)             (None, 128)               295040    \n",
      "_________________________________________________________________\n",
      "activation_104 (Activation)  (None, 128)               0         \n",
      "_________________________________________________________________\n",
      "dense_35 (Dense)             (None, 4)                 516       \n",
      "_________________________________________________________________\n",
      "activation_105 (Activation)  (None, 4)                 0         \n",
      "=================================================================\n",
      "Total params: 326,660\n",
      "Trainable params: 326,372\n",
      "Non-trainable params: 288\n",
      "_________________________________________________________________\n"
     ]
    }
   ],
   "source": [
    "model_11 = Sequential([\n",
    "    Conv2D(16, (3, 3), strides=(1, 1), input_shape=(128, 128, 3), data_format=\"channels_last\", padding='valid'),   # RGB\n",
    "    BatchNormalization(),\n",
    "    Activation('relu'),\n",
    "    Conv2D(24, (3, 3), strides=(1, 1), padding='valid'),\n",
    "    BatchNormalization(),\n",
    "    Activation('relu'),\n",
    "    MaxPooling2D(pool_size=(2, 2)),\n",
    "    Dropout(0.3),\n",
    "    \n",
    "    Conv2D(32, (3, 3), strides=(1, 1), input_shape=(128, 128, 3), data_format=\"channels_last\", padding='valid'),   # RGB\n",
    "    BatchNormalization(),\n",
    "    Activation('relu'),\n",
    "    Conv2D(32, (3, 3), strides=(1, 1), padding='valid'),\n",
    "    BatchNormalization(),\n",
    "    Activation('relu'),\n",
    "    MaxPooling2D(pool_size=(2, 2)),\n",
    "    Dropout(0.3),\n",
    "    \n",
    "    Conv2D(24, (3, 3), strides=(1, 1), input_shape=(128, 128, 3), data_format=\"channels_last\", padding='valid'),   # RGB\n",
    "    BatchNormalization(),\n",
    "    Activation('relu'),\n",
    "    Conv2D(16, (3, 3), strides=(1, 1), padding='valid'),\n",
    "    BatchNormalization(),\n",
    "    Activation('relu'),\n",
    "    MaxPooling2D(pool_size=(2, 2)),\n",
    "    Dropout(0.3),\n",
    "    \n",
    "    Flatten(),\n",
    "    Dense(128),\n",
    "    Activation('relu'),\n",
    "    Dense(num_classes),\n",
    "    Activation('softmax')\n",
    "])\n",
    "model_11.summary()"
   ]
  },
  {
   "cell_type": "markdown",
   "metadata": {
    "hidden": true
   },
   "source": [
    "#### Execute Training"
   ]
  },
  {
   "cell_type": "code",
   "execution_count": 43,
   "metadata": {
    "ExecuteTime": {
     "end_time": "2019-08-24T00:32:15.117830Z",
     "start_time": "2019-08-24T00:23:43.560011Z"
    },
    "collapsed": true,
    "hidden": true
   },
   "outputs": [
    {
     "name": "stdout",
     "output_type": "stream",
     "text": [
      "Epoch 1/100\n",
      "63/63 [==============================] - 11s 167ms/step - loss: 1.6212 - acc: 0.3277 - val_loss: 1.3849 - val_acc: 0.2508\n",
      "Epoch 2/100\n",
      "63/63 [==============================] - 6s 93ms/step - loss: 1.1788 - acc: 0.4868 - val_loss: 1.3834 - val_acc: 0.2833\n",
      "Epoch 3/100\n",
      "63/63 [==============================] - 6s 94ms/step - loss: 0.9728 - acc: 0.6028 - val_loss: 1.3487 - val_acc: 0.3371\n",
      "Epoch 4/100\n",
      "63/63 [==============================] - 6s 94ms/step - loss: 0.7689 - acc: 0.6946 - val_loss: 1.2224 - val_acc: 0.5038\n",
      "Epoch 5/100\n",
      "63/63 [==============================] - 6s 95ms/step - loss: 0.5795 - acc: 0.7747 - val_loss: 0.8567 - val_acc: 0.6955\n",
      "Epoch 6/100\n",
      "63/63 [==============================] - 6s 95ms/step - loss: 0.4451 - acc: 0.8389 - val_loss: 0.4774 - val_acc: 0.8333\n",
      "Epoch 7/100\n",
      "63/63 [==============================] - 6s 93ms/step - loss: 0.3595 - acc: 0.8686 - val_loss: 0.3883 - val_acc: 0.8538\n",
      "Epoch 8/100\n",
      "63/63 [==============================] - 6s 93ms/step - loss: 0.2925 - acc: 0.8945 - val_loss: 0.3075 - val_acc: 0.8788\n",
      "Epoch 9/100\n",
      "63/63 [==============================] - 6s 95ms/step - loss: 0.2451 - acc: 0.9136 - val_loss: 0.3648 - val_acc: 0.8682\n",
      "Epoch 10/100\n",
      "63/63 [==============================] - 6s 95ms/step - loss: 0.2056 - acc: 0.9273 - val_loss: 0.1766 - val_acc: 0.9371\n",
      "Epoch 11/100\n",
      "63/63 [==============================] - 6s 93ms/step - loss: 0.1748 - acc: 0.9388 - val_loss: 0.1840 - val_acc: 0.9348\n",
      "Epoch 12/100\n",
      "63/63 [==============================] - 6s 93ms/step - loss: 0.1442 - acc: 0.9489 - val_loss: 0.1587 - val_acc: 0.9470\n",
      "Epoch 13/100\n",
      "63/63 [==============================] - 6s 92ms/step - loss: 0.1224 - acc: 0.9575 - val_loss: 0.1251 - val_acc: 0.9485\n",
      "Epoch 14/100\n",
      "63/63 [==============================] - 6s 93ms/step - loss: 0.1014 - acc: 0.9657 - val_loss: 0.1397 - val_acc: 0.9508\n",
      "Epoch 15/100\n",
      "63/63 [==============================] - 6s 92ms/step - loss: 0.0823 - acc: 0.9729 - val_loss: 0.1566 - val_acc: 0.9364\n",
      "Epoch 16/100\n",
      "63/63 [==============================] - 6s 94ms/step - loss: 0.0755 - acc: 0.9722 - val_loss: 0.1299 - val_acc: 0.9545\n",
      "Epoch 17/100\n",
      "63/63 [==============================] - 6s 94ms/step - loss: 0.0643 - acc: 0.9781 - val_loss: 0.0890 - val_acc: 0.9667\n",
      "Epoch 18/100\n",
      "63/63 [==============================] - 6s 97ms/step - loss: 0.0548 - acc: 0.9810 - val_loss: 0.1007 - val_acc: 0.9598\n",
      "Epoch 19/100\n",
      "63/63 [==============================] - 6s 96ms/step - loss: 0.0461 - acc: 0.9843 - val_loss: 0.0878 - val_acc: 0.9636\n",
      "Epoch 20/100\n",
      "63/63 [==============================] - 6s 96ms/step - loss: 0.0463 - acc: 0.9839 - val_loss: 0.0722 - val_acc: 0.9705\n",
      "Epoch 21/100\n",
      "63/63 [==============================] - 6s 92ms/step - loss: 0.0338 - acc: 0.9887 - val_loss: 0.0689 - val_acc: 0.9697\n",
      "Epoch 22/100\n",
      "63/63 [==============================] - 6s 92ms/step - loss: 0.0373 - acc: 0.9876 - val_loss: 0.1037 - val_acc: 0.9606\n",
      "Epoch 23/100\n",
      "63/63 [==============================] - 6s 92ms/step - loss: 0.0361 - acc: 0.9875 - val_loss: 0.0972 - val_acc: 0.9667\n",
      "Epoch 24/100\n",
      "63/63 [==============================] - 6s 92ms/step - loss: 0.0261 - acc: 0.9918 - val_loss: 0.0781 - val_acc: 0.9720\n",
      "Epoch 25/100\n",
      "63/63 [==============================] - 6s 93ms/step - loss: 0.0306 - acc: 0.9893 - val_loss: 0.0731 - val_acc: 0.9735\n",
      "Epoch 26/100\n",
      "63/63 [==============================] - 6s 92ms/step - loss: 0.0247 - acc: 0.9925 - val_loss: 0.0796 - val_acc: 0.9705\n",
      "Epoch 27/100\n",
      "63/63 [==============================] - 6s 92ms/step - loss: 0.0246 - acc: 0.9920 - val_loss: 0.0913 - val_acc: 0.9735\n",
      "Epoch 28/100\n",
      "63/63 [==============================] - 6s 93ms/step - loss: 0.0269 - acc: 0.9914 - val_loss: 0.0927 - val_acc: 0.9705\n",
      "Epoch 29/100\n",
      "63/63 [==============================] - 6s 92ms/step - loss: 0.0279 - acc: 0.9910 - val_loss: 0.0917 - val_acc: 0.9773\n",
      "Epoch 30/100\n",
      "63/63 [==============================] - 6s 92ms/step - loss: 0.0171 - acc: 0.9946 - val_loss: 0.0617 - val_acc: 0.9765\n",
      "Epoch 31/100\n",
      "63/63 [==============================] - 6s 92ms/step - loss: 0.0190 - acc: 0.9934 - val_loss: 0.0746 - val_acc: 0.9773\n",
      "Epoch 32/100\n",
      "63/63 [==============================] - 6s 92ms/step - loss: 0.0160 - acc: 0.9952 - val_loss: 0.0463 - val_acc: 0.9818\n",
      "Epoch 33/100\n",
      "63/63 [==============================] - 6s 92ms/step - loss: 0.0124 - acc: 0.9956 - val_loss: 0.0697 - val_acc: 0.9803\n",
      "Epoch 34/100\n",
      "63/63 [==============================] - 6s 92ms/step - loss: 0.0180 - acc: 0.9940 - val_loss: 0.0899 - val_acc: 0.9795\n",
      "Epoch 35/100\n",
      "63/63 [==============================] - 6s 93ms/step - loss: 0.0157 - acc: 0.9936 - val_loss: 0.0717 - val_acc: 0.9833\n",
      "Epoch 36/100\n",
      "63/63 [==============================] - 6s 93ms/step - loss: 0.0118 - acc: 0.9965 - val_loss: 0.0752 - val_acc: 0.9795\n",
      "Epoch 37/100\n",
      "63/63 [==============================] - 6s 92ms/step - loss: 0.0237 - acc: 0.9914 - val_loss: 0.0884 - val_acc: 0.9735\n",
      "Epoch 38/100\n",
      "63/63 [==============================] - 6s 93ms/step - loss: 0.0165 - acc: 0.9946 - val_loss: 0.1484 - val_acc: 0.9636\n",
      "Epoch 39/100\n",
      "62/63 [============================>.] - ETA: 0s - loss: 0.0139 - acc: 0.9958\n",
      "Epoch 00039: ReduceLROnPlateau reducing learning rate to 0.0005000000237487257.\n",
      "63/63 [==============================] - 6s 100ms/step - loss: 0.0137 - acc: 0.9959 - val_loss: 0.0840 - val_acc: 0.9765\n",
      "Epoch 40/100\n",
      "63/63 [==============================] - 6s 92ms/step - loss: 0.0070 - acc: 0.9979 - val_loss: 0.0554 - val_acc: 0.9833\n",
      "Epoch 41/100\n",
      "63/63 [==============================] - 6s 95ms/step - loss: 0.0078 - acc: 0.9977 - val_loss: 0.0572 - val_acc: 0.9841\n",
      "Epoch 42/100\n",
      "63/63 [==============================] - 6s 93ms/step - loss: 0.0055 - acc: 0.9983 - val_loss: 0.0531 - val_acc: 0.9811\n",
      "Epoch 43/100\n",
      "63/63 [==============================] - 6s 94ms/step - loss: 0.0062 - acc: 0.9979 - val_loss: 0.0549 - val_acc: 0.9833\n",
      "Epoch 44/100\n",
      "63/63 [==============================] - 6s 92ms/step - loss: 0.0053 - acc: 0.9989 - val_loss: 0.0555 - val_acc: 0.9833\n",
      "Epoch 45/100\n",
      "63/63 [==============================] - 6s 92ms/step - loss: 0.0033 - acc: 0.9994 - val_loss: 0.0427 - val_acc: 0.9871\n",
      "Epoch 46/100\n",
      "63/63 [==============================] - 6s 92ms/step - loss: 0.0047 - acc: 0.9989 - val_loss: 0.0476 - val_acc: 0.9879\n",
      "Epoch 47/100\n",
      "63/63 [==============================] - 6s 92ms/step - loss: 0.0036 - acc: 0.9989 - val_loss: 0.0315 - val_acc: 0.9879\n",
      "Epoch 48/100\n",
      "63/63 [==============================] - 6s 92ms/step - loss: 0.0053 - acc: 0.9981 - val_loss: 0.0295 - val_acc: 0.9871\n",
      "Epoch 49/100\n",
      "63/63 [==============================] - 6s 92ms/step - loss: 0.0050 - acc: 0.9985 - val_loss: 0.0455 - val_acc: 0.9856\n",
      "Epoch 50/100\n",
      "62/63 [============================>.] - ETA: 0s - loss: 0.0041 - acc: 0.9986\n",
      "Epoch 00050: ReduceLROnPlateau reducing learning rate to 0.0002500000118743628.\n",
      "63/63 [==============================] - 6s 93ms/step - loss: 0.0041 - acc: 0.9986 - val_loss: 0.0337 - val_acc: 0.9871\n",
      "Epoch 51/100\n",
      "63/63 [==============================] - 6s 94ms/step - loss: 0.0038 - acc: 0.9992 - val_loss: 0.0312 - val_acc: 0.9864\n",
      "Epoch 52/100\n",
      "63/63 [==============================] - 6s 93ms/step - loss: 0.0023 - acc: 0.9998 - val_loss: 0.0350 - val_acc: 0.9886\n",
      "Epoch 53/100\n",
      "63/63 [==============================] - 6s 92ms/step - loss: 0.0027 - acc: 0.9994 - val_loss: 0.0424 - val_acc: 0.9864\n",
      "Epoch 54/100\n",
      "63/63 [==============================] - 6s 92ms/step - loss: 0.0034 - acc: 0.9989 - val_loss: 0.0299 - val_acc: 0.9909\n",
      "Epoch 55/100\n",
      "63/63 [==============================] - 6s 92ms/step - loss: 0.0020 - acc: 0.9994 - val_loss: 0.0287 - val_acc: 0.9894\n",
      "Epoch 56/100\n",
      "63/63 [==============================] - 6s 93ms/step - loss: 0.0023 - acc: 0.9994 - val_loss: 0.0293 - val_acc: 0.9917\n",
      "Epoch 57/100\n",
      "63/63 [==============================] - 6s 94ms/step - loss: 0.0025 - acc: 0.9994 - val_loss: 0.0300 - val_acc: 0.9894\n",
      "Epoch 58/100\n",
      "63/63 [==============================] - 6s 92ms/step - loss: 0.0030 - acc: 0.9992 - val_loss: 0.0425 - val_acc: 0.9879\n",
      "Epoch 59/100\n",
      "63/63 [==============================] - 6s 92ms/step - loss: 0.0023 - acc: 0.9998 - val_loss: 0.0327 - val_acc: 0.9902\n",
      "Epoch 60/100\n",
      "62/63 [============================>.] - ETA: 0s - loss: 0.0016 - acc: 0.9996\n",
      "Epoch 00060: ReduceLROnPlateau reducing learning rate to 0.0001250000059371814.\n",
      "63/63 [==============================] - 6s 94ms/step - loss: 0.0016 - acc: 0.9996 - val_loss: 0.0374 - val_acc: 0.9902\n",
      "Epoch 61/100\n",
      "63/63 [==============================] - 6s 94ms/step - loss: 0.0016 - acc: 0.9998 - val_loss: 0.0334 - val_acc: 0.9902\n",
      "Epoch 62/100\n",
      "63/63 [==============================] - 6s 98ms/step - loss: 0.0024 - acc: 0.9994 - val_loss: 0.0342 - val_acc: 0.9902\n",
      "Epoch 63/100\n",
      "63/63 [==============================] - 6s 95ms/step - loss: 0.0017 - acc: 0.9996 - val_loss: 0.0325 - val_acc: 0.9894\n",
      "Epoch 64/100\n",
      "62/63 [============================>.] - ETA: 0s - loss: 0.0029 - acc: 0.9990\n",
      "Epoch 00064: ReduceLROnPlateau reducing learning rate to 6.25000029685907e-05.\n",
      "63/63 [==============================] - 6s 94ms/step - loss: 0.0029 - acc: 0.9990 - val_loss: 0.0286 - val_acc: 0.9886\n",
      "Epoch 65/100\n",
      "63/63 [==============================] - 6s 94ms/step - loss: 0.0021 - acc: 0.9996 - val_loss: 0.0295 - val_acc: 0.9909\n",
      "Epoch 66/100\n",
      "63/63 [==============================] - 6s 93ms/step - loss: 0.0018 - acc: 0.9994 - val_loss: 0.0317 - val_acc: 0.9917\n",
      "Epoch 67/100\n",
      "63/63 [==============================] - 6s 95ms/step - loss: 0.0018 - acc: 0.9996 - val_loss: 0.0325 - val_acc: 0.9924\n",
      "Epoch 68/100\n",
      "63/63 [==============================] - 6s 94ms/step - loss: 0.0016 - acc: 0.9995 - val_loss: 0.0330 - val_acc: 0.9902\n",
      "Epoch 69/100\n",
      "63/63 [==============================] - 6s 93ms/step - loss: 0.0015 - acc: 0.9996 - val_loss: 0.0327 - val_acc: 0.9894\n",
      "Epoch 70/100\n",
      "63/63 [==============================] - 6s 92ms/step - loss: 0.0015 - acc: 0.9998 - val_loss: 0.0305 - val_acc: 0.9902\n",
      "Epoch 71/100\n",
      "62/63 [============================>.] - ETA: 0s - loss: 0.0014 - acc: 0.9997\n",
      "Epoch 00071: ReduceLROnPlateau reducing learning rate to 3.125000148429535e-05.\n",
      "63/63 [==============================] - 6s 94ms/step - loss: 0.0014 - acc: 0.9998 - val_loss: 0.0287 - val_acc: 0.9924\n",
      "Epoch 72/100\n",
      "63/63 [==============================] - 6s 93ms/step - loss: 0.0019 - acc: 0.9994 - val_loss: 0.0310 - val_acc: 0.9902\n",
      "Epoch 73/100\n",
      "63/63 [==============================] - 6s 93ms/step - loss: 0.0015 - acc: 0.9996 - val_loss: 0.0297 - val_acc: 0.9917\n",
      "Epoch 74/100\n",
      "63/63 [==============================] - 6s 94ms/step - loss: 8.7262e-04 - acc: 1.0000 - val_loss: 0.0286 - val_acc: 0.9924\n",
      "Epoch 75/100\n",
      "62/63 [============================>.] - ETA: 0s - loss: 0.0011 - acc: 0.9999\n",
      "Epoch 00075: ReduceLROnPlateau reducing learning rate to 1.5625000742147677e-05.\n",
      "63/63 [==============================] - 6s 94ms/step - loss: 0.0011 - acc: 0.9999 - val_loss: 0.0277 - val_acc: 0.9924\n",
      "Epoch 76/100\n",
      "63/63 [==============================] - 6s 96ms/step - loss: 0.0018 - acc: 0.9994 - val_loss: 0.0263 - val_acc: 0.9924\n",
      "Epoch 77/100\n",
      "63/63 [==============================] - 6s 95ms/step - loss: 0.0016 - acc: 0.9996 - val_loss: 0.0274 - val_acc: 0.9924\n",
      "Epoch 78/100\n",
      "63/63 [==============================] - 6s 97ms/step - loss: 0.0010 - acc: 0.9999 - val_loss: 0.0274 - val_acc: 0.9924\n",
      "Epoch 79/100\n",
      "62/63 [============================>.] - ETA: 0s - loss: 0.0012 - acc: 0.9997\n",
      "Epoch 00079: ReduceLROnPlateau reducing learning rate to 7.812500371073838e-06.\n",
      "63/63 [==============================] - 6s 95ms/step - loss: 0.0012 - acc: 0.9998 - val_loss: 0.0278 - val_acc: 0.9924\n",
      "Epoch 80/100\n",
      "63/63 [==============================] - 6s 97ms/step - loss: 0.0016 - acc: 0.9996 - val_loss: 0.0284 - val_acc: 0.9924\n",
      "Epoch 81/100\n",
      "63/63 [==============================] - 6s 98ms/step - loss: 0.0013 - acc: 0.9996 - val_loss: 0.0283 - val_acc: 0.9924\n",
      "Epoch 82/100\n",
      "62/63 [============================>.] - ETA: 0s - loss: 0.0012 - acc: 0.9997Restoring model weights from the end of the best epoch.\n",
      "63/63 [==============================] - 7s 105ms/step - loss: 0.0012 - acc: 0.9998 - val_loss: 0.0257 - val_acc: 0.9924\n",
      "Epoch 00082: early stopping\n"
     ]
    },
    {
     "data": {
      "image/png": "[encoded data removed]",
      "text/plain": [
       "<Figure size 432x288 with 2 Axes>"
      ]
     },
     "metadata": {
      "needs_background": "light"
     },
     "output_type": "display_data"
    },
    {
     "name": "stdout",
     "output_type": "stream",
     "text": [
      "Best val_acc - 0.9924 (epoch 67)\n"
     ]
    }
   ],
   "source": [
    "history, model_11 = train(model_11, opt=opt)"
   ]
  },
  {
   "cell_type": "markdown",
   "metadata": {
    "heading_collapsed": true
   },
   "source": [
    "## Model 12: m11 - Dense(32)  - 0.9871 (epoch 39)\n",
    "Repeat the above process"
   ]
  },
  {
   "cell_type": "markdown",
   "metadata": {
    "hidden": true
   },
   "source": [
    "#### Define Model"
   ]
  },
  {
   "cell_type": "code",
   "execution_count": 48,
   "metadata": {
    "ExecuteTime": {
     "end_time": "2019-08-24T01:17:54.573118Z",
     "start_time": "2019-08-24T01:17:54.059491Z"
    },
    "code_folding": [],
    "hidden": true
   },
   "outputs": [
    {
     "name": "stdout",
     "output_type": "stream",
     "text": [
      "Model: \"sequential_21\"\n",
      "_________________________________________________________________\n",
      "Layer (type)                 Output Shape              Param #   \n",
      "=================================================================\n",
      "conv2d_88 (Conv2D)           (None, 126, 126, 16)      448       \n",
      "_________________________________________________________________\n",
      "batch_normalization_88 (Batc (None, 126, 126, 16)      64        \n",
      "_________________________________________________________________\n",
      "activation_130 (Activation)  (None, 126, 126, 16)      0         \n",
      "_________________________________________________________________\n",
      "conv2d_89 (Conv2D)           (None, 124, 124, 24)      3480      \n",
      "_________________________________________________________________\n",
      "batch_normalization_89 (Batc (None, 124, 124, 24)      96        \n",
      "_________________________________________________________________\n",
      "activation_131 (Activation)  (None, 124, 124, 24)      0         \n",
      "_________________________________________________________________\n",
      "max_pooling2d_52 (MaxPooling (None, 62, 62, 24)        0         \n",
      "_________________________________________________________________\n",
      "dropout_52 (Dropout)         (None, 62, 62, 24)        0         \n",
      "_________________________________________________________________\n",
      "conv2d_90 (Conv2D)           (None, 60, 60, 32)        6944      \n",
      "_________________________________________________________________\n",
      "batch_normalization_90 (Batc (None, 60, 60, 32)        128       \n",
      "_________________________________________________________________\n",
      "activation_132 (Activation)  (None, 60, 60, 32)        0         \n",
      "_________________________________________________________________\n",
      "conv2d_91 (Conv2D)           (None, 58, 58, 32)        9248      \n",
      "_________________________________________________________________\n",
      "batch_normalization_91 (Batc (None, 58, 58, 32)        128       \n",
      "_________________________________________________________________\n",
      "activation_133 (Activation)  (None, 58, 58, 32)        0         \n",
      "_________________________________________________________________\n",
      "max_pooling2d_53 (MaxPooling (None, 29, 29, 32)        0         \n",
      "_________________________________________________________________\n",
      "dropout_53 (Dropout)         (None, 29, 29, 32)        0         \n",
      "_________________________________________________________________\n",
      "conv2d_92 (Conv2D)           (None, 27, 27, 24)        6936      \n",
      "_________________________________________________________________\n",
      "batch_normalization_92 (Batc (None, 27, 27, 24)        96        \n",
      "_________________________________________________________________\n",
      "activation_134 (Activation)  (None, 27, 27, 24)        0         \n",
      "_________________________________________________________________\n",
      "conv2d_93 (Conv2D)           (None, 25, 25, 16)        3472      \n",
      "_________________________________________________________________\n",
      "batch_normalization_93 (Batc (None, 25, 25, 16)        64        \n",
      "_________________________________________________________________\n",
      "activation_135 (Activation)  (None, 25, 25, 16)        0         \n",
      "_________________________________________________________________\n",
      "max_pooling2d_54 (MaxPooling (None, 12, 12, 16)        0         \n",
      "_________________________________________________________________\n",
      "dropout_54 (Dropout)         (None, 12, 12, 16)        0         \n",
      "_________________________________________________________________\n",
      "flatten_21 (Flatten)         (None, 2304)              0         \n",
      "_________________________________________________________________\n",
      "dense_42 (Dense)             (None, 32)                73760     \n",
      "_________________________________________________________________\n",
      "activation_136 (Activation)  (None, 32)                0         \n",
      "_________________________________________________________________\n",
      "dense_43 (Dense)             (None, 4)                 132       \n",
      "_________________________________________________________________\n",
      "activation_137 (Activation)  (None, 4)                 0         \n",
      "=================================================================\n",
      "Total params: 104,996\n",
      "Trainable params: 104,708\n",
      "Non-trainable params: 288\n",
      "_________________________________________________________________\n"
     ]
    }
   ],
   "source": [
    "model_12 = Sequential([\n",
    "    Conv2D(16, (3, 3), strides=(1, 1), input_shape=(128, 128, 3), data_format=\"channels_last\", padding='valid'),   # RGB\n",
    "    BatchNormalization(),\n",
    "    Activation('relu'),\n",
    "    Conv2D(24, (3, 3), strides=(1, 1), padding='valid'),\n",
    "    BatchNormalization(),\n",
    "    Activation('relu'),\n",
    "    MaxPooling2D(pool_size=(2, 2)),\n",
    "    Dropout(0.3),\n",
    "    \n",
    "    Conv2D(32, (3, 3), strides=(1, 1), input_shape=(128, 128, 3), data_format=\"channels_last\", padding='valid'),   # RGB\n",
    "    BatchNormalization(),\n",
    "    Activation('relu'),\n",
    "    Conv2D(32, (3, 3), strides=(1, 1), padding='valid'),\n",
    "    BatchNormalization(),\n",
    "    Activation('relu'),\n",
    "    MaxPooling2D(pool_size=(2, 2)),\n",
    "    Dropout(0.3),\n",
    "    \n",
    "    Conv2D(24, (3, 3), strides=(1, 1), input_shape=(128, 128, 3), data_format=\"channels_last\", padding='valid'),   # RGB\n",
    "    BatchNormalization(),\n",
    "    Activation('relu'),\n",
    "    Conv2D(16, (3, 3), strides=(1, 1), padding='valid'),\n",
    "    BatchNormalization(),\n",
    "    Activation('relu'),\n",
    "    MaxPooling2D(pool_size=(2, 2)),\n",
    "    Dropout(0.3),\n",
    "    \n",
    "    Flatten(),\n",
    "    Dense(32),\n",
    "    Activation('relu'),\n",
    "    Dense(num_classes),\n",
    "    Activation('softmax')\n",
    "])\n",
    "model_12.summary()"
   ]
  },
  {
   "cell_type": "markdown",
   "metadata": {
    "hidden": true
   },
   "source": [
    "#### Execute Training"
   ]
  },
  {
   "cell_type": "code",
   "execution_count": 49,
   "metadata": {
    "ExecuteTime": {
     "end_time": "2019-08-24T01:23:46.887302Z",
     "start_time": "2019-08-24T01:18:00.689973Z"
    },
    "hidden": true
   },
   "outputs": [
    {
     "name": "stdout",
     "output_type": "stream",
     "text": [
      "Epoch 1/100\n",
      "63/63 [==============================] - 10s 154ms/step - loss: 1.4503 - acc: 0.2505 - val_loss: 1.3859 - val_acc: 0.2515\n",
      "Epoch 2/100\n",
      "63/63 [==============================] - 6s 94ms/step - loss: 1.3516 - acc: 0.3114 - val_loss: 1.3647 - val_acc: 0.2515\n",
      "Epoch 3/100\n",
      "63/63 [==============================] - 6s 94ms/step - loss: 1.1655 - acc: 0.4499 - val_loss: 1.2365 - val_acc: 0.3886\n",
      "Epoch 4/100\n",
      "63/63 [==============================] - 6s 95ms/step - loss: 0.9368 - acc: 0.5886 - val_loss: 1.0630 - val_acc: 0.5341\n",
      "Epoch 5/100\n",
      "63/63 [==============================] - 6s 98ms/step - loss: 0.7255 - acc: 0.7056 - val_loss: 0.7613 - val_acc: 0.6955\n",
      "Epoch 6/100\n",
      "63/63 [==============================] - 6s 95ms/step - loss: 0.5441 - acc: 0.7866 - val_loss: 0.5096 - val_acc: 0.8038\n",
      "Epoch 7/100\n",
      "63/63 [==============================] - 6s 97ms/step - loss: 0.4457 - acc: 0.8269 - val_loss: 0.3409 - val_acc: 0.8773\n",
      "Epoch 8/100\n",
      "63/63 [==============================] - 6s 95ms/step - loss: 0.3575 - acc: 0.8622 - val_loss: 0.3189 - val_acc: 0.8871\n",
      "Epoch 9/100\n",
      "63/63 [==============================] - 6s 93ms/step - loss: 0.2806 - acc: 0.8978 - val_loss: 0.2677 - val_acc: 0.8985\n",
      "Epoch 10/100\n",
      "63/63 [==============================] - 6s 93ms/step - loss: 0.2294 - acc: 0.9134 - val_loss: 0.3680 - val_acc: 0.8705\n",
      "Epoch 11/100\n",
      "63/63 [==============================] - 6s 95ms/step - loss: 0.1827 - acc: 0.9336 - val_loss: 0.3819 - val_acc: 0.8621\n",
      "Epoch 12/100\n",
      "63/63 [==============================] - 6s 93ms/step - loss: 0.1578 - acc: 0.9451 - val_loss: 0.1921 - val_acc: 0.9432\n",
      "Epoch 13/100\n",
      "63/63 [==============================] - 6s 93ms/step - loss: 0.1408 - acc: 0.9489 - val_loss: 0.3221 - val_acc: 0.9000\n",
      "Epoch 14/100\n",
      "63/63 [==============================] - 6s 93ms/step - loss: 0.1286 - acc: 0.9517 - val_loss: 0.1000 - val_acc: 0.9629\n",
      "Epoch 15/100\n",
      "63/63 [==============================] - 6s 93ms/step - loss: 0.1043 - acc: 0.9617 - val_loss: 0.0781 - val_acc: 0.9697\n",
      "Epoch 16/100\n",
      "63/63 [==============================] - 6s 94ms/step - loss: 0.0941 - acc: 0.9657 - val_loss: 0.1421 - val_acc: 0.9523\n",
      "Epoch 17/100\n",
      "63/63 [==============================] - 6s 95ms/step - loss: 0.0814 - acc: 0.9720 - val_loss: 0.1079 - val_acc: 0.9591\n",
      "Epoch 18/100\n",
      "63/63 [==============================] - 6s 93ms/step - loss: 0.0746 - acc: 0.9726 - val_loss: 0.1119 - val_acc: 0.9591\n",
      "Epoch 19/100\n",
      "63/63 [==============================] - 6s 93ms/step - loss: 0.0689 - acc: 0.9762 - val_loss: 0.0834 - val_acc: 0.9712\n",
      "Epoch 20/100\n",
      "63/63 [==============================] - 6s 93ms/step - loss: 0.0592 - acc: 0.9787 - val_loss: 0.1177 - val_acc: 0.9598\n",
      "Epoch 21/100\n",
      "63/63 [==============================] - 6s 94ms/step - loss: 0.0606 - acc: 0.9770 - val_loss: 0.1141 - val_acc: 0.9667\n",
      "Epoch 22/100\n",
      "63/63 [==============================] - 6s 95ms/step - loss: 0.0520 - acc: 0.9822 - val_loss: 0.1061 - val_acc: 0.9614\n",
      "Epoch 23/100\n",
      "63/63 [==============================] - 6s 96ms/step - loss: 0.0556 - acc: 0.9796 - val_loss: 0.0661 - val_acc: 0.9795\n",
      "Epoch 24/100\n",
      "63/63 [==============================] - 6s 95ms/step - loss: 0.0488 - acc: 0.9827 - val_loss: 0.1971 - val_acc: 0.9477\n",
      "Epoch 25/100\n",
      "63/63 [==============================] - 6s 94ms/step - loss: 0.0433 - acc: 0.9856 - val_loss: 0.0825 - val_acc: 0.9697\n",
      "Epoch 26/100\n",
      "63/63 [==============================] - 6s 93ms/step - loss: 0.0379 - acc: 0.9865 - val_loss: 0.0691 - val_acc: 0.9788\n",
      "Epoch 27/100\n",
      "62/63 [============================>.] - ETA: 0s - loss: 0.0406 - acc: 0.9853\n",
      "Epoch 00027: ReduceLROnPlateau reducing learning rate to 0.0005000000237487257.\n",
      "63/63 [==============================] - 7s 103ms/step - loss: 0.0404 - acc: 0.9854 - val_loss: 0.1069 - val_acc: 0.9682\n",
      "Epoch 28/100\n",
      "63/63 [==============================] - 6s 93ms/step - loss: 0.0350 - acc: 0.9871 - val_loss: 0.0464 - val_acc: 0.9818\n",
      "Epoch 29/100\n",
      "63/63 [==============================] - 6s 94ms/step - loss: 0.0242 - acc: 0.9918 - val_loss: 0.0425 - val_acc: 0.9833\n",
      "Epoch 30/100\n",
      "63/63 [==============================] - 6s 93ms/step - loss: 0.0217 - acc: 0.9924 - val_loss: 0.0562 - val_acc: 0.9795\n",
      "Epoch 31/100\n",
      "63/63 [==============================] - 6s 93ms/step - loss: 0.0216 - acc: 0.9926 - val_loss: 0.0511 - val_acc: 0.9833\n",
      "Epoch 32/100\n",
      "63/63 [==============================] - 6s 93ms/step - loss: 0.0232 - acc: 0.9920 - val_loss: 0.0466 - val_acc: 0.9818\n",
      "Epoch 33/100\n",
      "62/63 [============================>.] - ETA: 0s - loss: 0.0194 - acc: 0.9931\n",
      "Epoch 00033: ReduceLROnPlateau reducing learning rate to 0.0002500000118743628.\n",
      "63/63 [==============================] - 6s 94ms/step - loss: 0.0199 - acc: 0.9930 - val_loss: 0.0501 - val_acc: 0.9803\n",
      "Epoch 34/100\n",
      "63/63 [==============================] - 6s 93ms/step - loss: 0.0163 - acc: 0.9946 - val_loss: 0.0467 - val_acc: 0.9856\n",
      "Epoch 35/100\n",
      "63/63 [==============================] - 6s 93ms/step - loss: 0.0153 - acc: 0.9952 - val_loss: 0.0460 - val_acc: 0.9818\n",
      "Epoch 36/100\n",
      "63/63 [==============================] - 6s 93ms/step - loss: 0.0148 - acc: 0.9950 - val_loss: 0.0454 - val_acc: 0.9856\n",
      "Epoch 37/100\n",
      "63/63 [==============================] - 6s 93ms/step - loss: 0.0138 - acc: 0.9959 - val_loss: 0.0434 - val_acc: 0.9848\n",
      "Epoch 38/100\n",
      "62/63 [============================>.] - ETA: 0s - loss: 0.0134 - acc: 0.9961\n",
      "Epoch 00038: ReduceLROnPlateau reducing learning rate to 0.0001250000059371814.\n",
      "63/63 [==============================] - 6s 93ms/step - loss: 0.0132 - acc: 0.9961 - val_loss: 0.0481 - val_acc: 0.9848\n",
      "Epoch 39/100\n",
      "63/63 [==============================] - 6s 93ms/step - loss: 0.0120 - acc: 0.9961 - val_loss: 0.0400 - val_acc: 0.9871\n",
      "Epoch 40/100\n",
      "63/63 [==============================] - 6s 93ms/step - loss: 0.0117 - acc: 0.9969 - val_loss: 0.0448 - val_acc: 0.9856\n",
      "Epoch 41/100\n",
      "63/63 [==============================] - 6s 94ms/step - loss: 0.0146 - acc: 0.9950 - val_loss: 0.0417 - val_acc: 0.9856\n",
      "Epoch 42/100\n",
      "63/63 [==============================] - 6s 93ms/step - loss: 0.0109 - acc: 0.9971 - val_loss: 0.0405 - val_acc: 0.9856\n",
      "Epoch 43/100\n",
      "62/63 [============================>.] - ETA: 0s - loss: 0.0103 - acc: 0.9971\n",
      "Epoch 00043: ReduceLROnPlateau reducing learning rate to 6.25000029685907e-05.\n",
      "63/63 [==============================] - 6s 93ms/step - loss: 0.0104 - acc: 0.9970 - val_loss: 0.0407 - val_acc: 0.9848\n",
      "Epoch 44/100\n",
      "63/63 [==============================] - 6s 93ms/step - loss: 0.0098 - acc: 0.9971 - val_loss: 0.0422 - val_acc: 0.9856\n",
      "Epoch 45/100\n",
      "63/63 [==============================] - 6s 94ms/step - loss: 0.0110 - acc: 0.9966 - val_loss: 0.0420 - val_acc: 0.9864\n",
      "Epoch 46/100\n",
      "63/63 [==============================] - 6s 94ms/step - loss: 0.0119 - acc: 0.9960 - val_loss: 0.0427 - val_acc: 0.9864\n",
      "Epoch 47/100\n",
      "62/63 [============================>.] - ETA: 0s - loss: 0.0092 - acc: 0.9974\n",
      "Epoch 00047: ReduceLROnPlateau reducing learning rate to 3.125000148429535e-05.\n",
      "63/63 [==============================] - 6s 94ms/step - loss: 0.0090 - acc: 0.9974 - val_loss: 0.0420 - val_acc: 0.9871\n",
      "Epoch 48/100\n",
      "63/63 [==============================] - 6s 93ms/step - loss: 0.0099 - acc: 0.9975 - val_loss: 0.0439 - val_acc: 0.9864\n",
      "Epoch 49/100\n",
      "63/63 [==============================] - 6s 93ms/step - loss: 0.0092 - acc: 0.9975 - val_loss: 0.0401 - val_acc: 0.9848\n",
      "Epoch 50/100\n",
      "63/63 [==============================] - 6s 95ms/step - loss: 0.0099 - acc: 0.9971 - val_loss: 0.0436 - val_acc: 0.9864\n",
      "Epoch 51/100\n",
      "62/63 [============================>.] - ETA: 0s - loss: 0.0101 - acc: 0.9976\n",
      "Epoch 00051: ReduceLROnPlateau reducing learning rate to 1.5625000742147677e-05.\n",
      "63/63 [==============================] - 6s 94ms/step - loss: 0.0101 - acc: 0.9975 - val_loss: 0.0456 - val_acc: 0.9848\n",
      "Epoch 52/100\n",
      "63/63 [==============================] - 6s 93ms/step - loss: 0.0102 - acc: 0.9973 - val_loss: 0.0445 - val_acc: 0.9848\n",
      "Epoch 53/100\n",
      "63/63 [==============================] - 6s 94ms/step - loss: 0.0078 - acc: 0.9977 - val_loss: 0.0406 - val_acc: 0.9848\n",
      "Epoch 54/100\n",
      "62/63 [============================>.] - ETA: 0s - loss: 0.0101 - acc: 0.9963Restoring model weights from the end of the best epoch.\n",
      "63/63 [==============================] - 7s 106ms/step - loss: 0.0102 - acc: 0.9962 - val_loss: 0.0408 - val_acc: 0.9848\n"
     ]
    },
    {
     "name": "stdout",
     "output_type": "stream",
     "text": [
      "Epoch 00054: early stopping\n"
     ]
    },
    {
     "data": {
      "image/png": "[encoded data removed]",
      "text/plain": [
       "<Figure size 432x288 with 2 Axes>"
      ]
     },
     "metadata": {
      "needs_background": "light"
     },
     "output_type": "display_data"
    },
    {
     "name": "stdout",
     "output_type": "stream",
     "text": [
      "Best val_acc - 0.9871 (epoch 39)\n"
     ]
    }
   ],
   "source": [
    "opt = optimizers.Adam(lr=0.001, beta_1=0.9, beta_2=0.999, epsilon=None, decay=0.0, amsgrad=False)\n",
    "history, model_12 = train(model_12, opt=opt)"
   ]
  },
  {
   "cell_type": "markdown",
   "metadata": {
    "heading_collapsed": true
   },
   "source": [
    "# Results\n",
    "The fastest optimizer was Adam, achieving a val_acc of 0.9682 at epoch 28.\n",
    "The best performing optimizer is also Adam, with a val_acc of 0.9697 at epoch 56 :)"
   ]
  },
  {
   "cell_type": "code",
   "execution_count": null,
   "metadata": {
    "hidden": true
   },
   "outputs": [],
   "source": []
  }
 ],
 "metadata": {
  "kernelspec": {
   "display_name": "Keras GPU",
   "language": "python",
   "name": "keras-gpu"
  },
  "language_info": {
   "codemirror_mode": {
    "name": "ipython",
    "version": 3
   },
   "file_extension": ".py",
   "mimetype": "text/x-python",
   "name": "python",
   "nbconvert_exporter": "python",
   "pygments_lexer": "ipython3",
   "version": "3.7.4"
  },
  "varInspector": {
   "cols": {
    "lenName": 16,
    "lenType": 16,
    "lenVar": 40
   },
   "kernels_config": {
    "python": {
     "delete_cmd_postfix": "",
     "delete_cmd_prefix": "del ",
     "library": "var_list.py",
     "varRefreshCmd": "print(var_dic_list())"
    },
    "r": {
     "delete_cmd_postfix": ") ",
     "delete_cmd_prefix": "rm(",
     "library": "var_list.r",
     "varRefreshCmd": "cat(var_dic_list()) "
    }
   },
   "position": {
    "height": "771px",
    "left": "11px",
    "right": "20px",
    "top": "122px",
    "width": "323px"
   },
   "types_to_exclude": [
    "module",
    "function",
    "builtin_function_or_method",
    "instance",
    "_Feature"
   ],
   "window_display": true
  }
 },
 "nbformat": 4,
 "nbformat_minor": 2
}
