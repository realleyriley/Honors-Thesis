{
 "cells": [
  {
   "cell_type": "markdown",
   "metadata": {},
   "source": [
    "# Create Keras Model\n",
    "CoreMLTools needs a keras model to convert instead of a tensorflow.keras model😒 so this notebook is for creating a keras model."
   ]
  },
  {
   "cell_type": "markdown",
   "metadata": {},
   "source": [
    "#### Imports and functions"
   ]
  },
  {
   "cell_type": "code",
   "execution_count": 1,
   "metadata": {
    "ExecuteTime": {
     "end_time": "2019-09-23T16:46:37.330206Z",
     "start_time": "2019-09-23T16:46:15.906263Z"
    }
   },
   "outputs": [
    {
     "name": "stderr",
     "output_type": "stream",
     "text": [
      "Using TensorFlow backend.\n"
     ]
    }
   ],
   "source": [
    "from keras import optimizers\n",
    "from keras.layers import Conv2D, MaxPooling2D, AveragePooling2D, BatchNormalization\n",
    "from keras.layers import Input, Dense, Flatten, Dropout, BatchNormalization, Activation\n",
    "from keras import layers\n",
    "from keras.models import Sequential\n",
    "from keras import callbacks\n",
    "from keras.preprocessing import image\n",
    "from keras.preprocessing.image import ImageDataGenerator\n",
    "import numpy as np\n",
    "import matplotlib.pyplot as plt\n",
    "from PIL import Image\n",
    "import os\n",
    "import pdb\n",
    "\n",
    "train_path = '..//data//helen//train_rotated//'\n",
    "test_path = '..//data//helen//test_rotated//'\n",
    "num_classes = 4\n",
    "\n",
    "\n",
    "def plot_figures(figures, nrows=1, ncols=1, size=8):\n",
    "    \"\"\"Plot a dictionary of figures.\n",
    "\n",
    "    Parameters\n",
    "    ----------\n",
    "    figures : <title, figure> dictionary\n",
    "    ncols : number of columns of subplots wanted in the display\n",
    "    nrows : number of rows of subplots wanted in the figure\n",
    "    \"\"\"\n",
    "\n",
    "    fig, axeslist = plt.subplots(\n",
    "        ncols=ncols, nrows=nrows, figsize=(size, size))\n",
    "    for ind, title in enumerate(figures):\n",
    "        axeslist[ind].imshow(figures[title], cmap=plt.gray())\n",
    "        axeslist[ind].set_title(title)\n",
    "        axeslist[ind].set_axis_off()\n",
    "    plt.tight_layout()  # optional\n",
    "\n",
    "\n",
    "def plot_train_history(history):\n",
    "    plt.subplot(1, 2, 1)\n",
    "    plt.plot(history.history['acc'])\n",
    "    plt.plot(history.history['val_acc'])\n",
    "    plt.title('Model accuracy')\n",
    "    plt.ylabel('Accuracy')\n",
    "    plt.xlabel('Epoch')\n",
    "    plt.legend(['Train', 'Test'], loc='upper left')\n",
    "\n",
    "    plt.subplot(1, 2, 2)\n",
    "    plt.plot(history.history['loss'])\n",
    "    plt.plot(history.history['val_loss'])\n",
    "    plt.title('Model loss')\n",
    "    plt.ylabel('Loss')\n",
    "    plt.xlabel('Epoch')\n",
    "    plt.legend(['Train', 'Test'], loc='upper left')\n",
    "    plt.show()\n",
    "\n",
    "\n",
    "x_train = np.load(train_path+'x_train_rotated_bilinear.npy')\n",
    "y_train = np.load(train_path+'y_train_rotated_bilinear.npy')\n",
    "x_test = np.load(test_path+'x_test_rotated_bilinear.npy')\n",
    "y_test = np.load(test_path+'y_test_rotated_bilinear.npy')"
   ]
  },
  {
   "cell_type": "markdown",
   "metadata": {},
   "source": [
    "# Current Best - VGG (standardized, Adam) - 33,512 - 0.9652 (epoch 167)\n",
    "Scaling - Standardize (subtract mean pixel value and divide by standard deviation)\n",
    "\n",
    "Optimizer - Adam"
   ]
  },
  {
   "cell_type": "markdown",
   "metadata": {
    "heading_collapsed": true
   },
   "source": [
    "#### Define Train function"
   ]
  },
  {
   "cell_type": "code",
   "execution_count": 2,
   "metadata": {
    "ExecuteTime": {
     "end_time": "2019-09-09T17:59:35.673692Z",
     "start_time": "2019-09-09T17:59:35.660701Z"
    },
    "code_folding": [],
    "hidden": true
   },
   "outputs": [],
   "source": [
    "my_callbacks = [callbacks.EarlyStopping(monitor='val_acc', patience=18, verbose=1, restore_best_weights=True),\n",
    "                callbacks.ReduceLROnPlateau(monitor='val_acc', factor=0.5, patience=5, min_lr=1e-9, mode='auto', verbose=1)]\n",
    "\n",
    "def train(model, epochs=100, initial_epoch=0, batch_size=128, lr=0.01, opt=None, plot_hist='True'):\n",
    "    if not opt:   # if opt is None,\n",
    "        opt = optimizers.Adam(lr=lr, beta_1=0.9, beta_2=0.999, epsilon=None, decay=0.0, amsgrad=False)\n",
    "        \n",
    "    model.compile(loss='sparse_categorical_crossentropy',\n",
    "                  optimizer=opt,\n",
    "                  metrics=['accuracy'])\n",
    "\n",
    "#     can test augmentation techniques like brightness and rotation\n",
    "    train_generator = ImageDataGenerator(featurewise_center=True, featurewise_std_normalization=True)\n",
    "    train_generator.fit(x_train)\n",
    "    train_generator = train_generator.flow(x_train, y_train, seed=11, batch_size=batch_size, shuffle=True)\n",
    "    validation_generator = ImageDataGenerator(featurewise_center=True, featurewise_std_normalization=True)\n",
    "    validation_generator.fit(x_train)\n",
    "    validation_generator = validation_generator.flow(x_test, y_test, seed=11, batch_size=batch_size, shuffle=True)\n",
    "\n",
    "    history = model.fit_generator(generator=train_generator,\n",
    "                                  epochs=epochs+initial_epoch,\n",
    "                                  verbose=1,\n",
    "                                  callbacks=my_callbacks,\n",
    "                                  validation_data=validation_generator,\n",
    "                                  shuffle=True,\n",
    "                                  initial_epoch=initial_epoch)\n",
    "    if(plot_hist):\n",
    "        plot_train_history(history)\n",
    "                \n",
    "    index = history.history['val_acc'].index(max(history.history['val_acc']))\n",
    "    print('Best val_acc - {:.4} (epoch {:})'.format(history.history['val_acc'][index], index+1))\n",
    "    return history, model"
   ]
  },
  {
   "cell_type": "markdown",
   "metadata": {
    "heading_collapsed": true
   },
   "source": [
    "#### Define Model"
   ]
  },
  {
   "cell_type": "code",
   "execution_count": 3,
   "metadata": {
    "ExecuteTime": {
     "end_time": "2019-09-09T17:59:39.745725Z",
     "start_time": "2019-09-09T17:59:37.588874Z"
    },
    "code_folding": [],
    "hidden": true,
    "scrolled": true
   },
   "outputs": [
    {
     "name": "stderr",
     "output_type": "stream",
     "text": [
      "WARNING: Logging before flag parsing goes to stderr.\n",
      "W0909 10:59:37.596852 13988 deprecation_wrapper.py:119] From C:\\Users\\kendy\\Anaconda3\\envs\\keras-gpu\\lib\\site-packages\\keras\\backend\\tensorflow_backend.py:66: The name tf.get_default_graph is deprecated. Please use tf.compat.v1.get_default_graph instead.\n",
      "\n",
      "W0909 10:59:37.611840 13988 deprecation_wrapper.py:119] From C:\\Users\\kendy\\Anaconda3\\envs\\keras-gpu\\lib\\site-packages\\keras\\backend\\tensorflow_backend.py:541: The name tf.placeholder is deprecated. Please use tf.compat.v1.placeholder instead.\n",
      "\n",
      "W0909 10:59:37.614804 13988 deprecation_wrapper.py:119] From C:\\Users\\kendy\\Anaconda3\\envs\\keras-gpu\\lib\\site-packages\\keras\\backend\\tensorflow_backend.py:4432: The name tf.random_uniform is deprecated. Please use tf.random.uniform instead.\n",
      "\n",
      "W0909 10:59:37.643727 13988 deprecation_wrapper.py:119] From C:\\Users\\kendy\\Anaconda3\\envs\\keras-gpu\\lib\\site-packages\\keras\\backend\\tensorflow_backend.py:190: The name tf.get_default_session is deprecated. Please use tf.compat.v1.get_default_session instead.\n",
      "\n",
      "W0909 10:59:37.644724 13988 deprecation_wrapper.py:119] From C:\\Users\\kendy\\Anaconda3\\envs\\keras-gpu\\lib\\site-packages\\keras\\backend\\tensorflow_backend.py:197: The name tf.ConfigProto is deprecated. Please use tf.compat.v1.ConfigProto instead.\n",
      "\n",
      "W0909 10:59:38.991708 13988 deprecation_wrapper.py:119] From C:\\Users\\kendy\\Anaconda3\\envs\\keras-gpu\\lib\\site-packages\\keras\\backend\\tensorflow_backend.py:2041: The name tf.nn.fused_batch_norm is deprecated. Please use tf.compat.v1.nn.fused_batch_norm instead.\n",
      "\n",
      "W0909 10:59:39.158262 13988 deprecation_wrapper.py:119] From C:\\Users\\kendy\\Anaconda3\\envs\\keras-gpu\\lib\\site-packages\\keras\\backend\\tensorflow_backend.py:4267: The name tf.nn.max_pool is deprecated. Please use tf.nn.max_pool2d instead.\n",
      "\n",
      "W0909 10:59:39.164274 13988 deprecation.py:506] From C:\\Users\\kendy\\Anaconda3\\envs\\keras-gpu\\lib\\site-packages\\keras\\backend\\tensorflow_backend.py:3733: calling dropout (from tensorflow.python.ops.nn_ops) with keep_prob is deprecated and will be removed in a future version.\n",
      "Instructions for updating:\n",
      "Please use `rate` instead of `keep_prob`. Rate should be set to `rate = 1 - keep_prob`.\n"
     ]
    },
    {
     "name": "stdout",
     "output_type": "stream",
     "text": [
      "Model: \"sequential_1\"\n",
      "_________________________________________________________________\n",
      "Layer (type)                 Output Shape              Param #   \n",
      "=================================================================\n",
      "conv2d_1 (Conv2D)            (None, 126, 126, 16)      448       \n",
      "_________________________________________________________________\n",
      "batch_normalization_1 (Batch (None, 126, 126, 16)      64        \n",
      "_________________________________________________________________\n",
      "activation_1 (Activation)    (None, 126, 126, 16)      0         \n",
      "_________________________________________________________________\n",
      "conv2d_2 (Conv2D)            (None, 124, 124, 20)      2900      \n",
      "_________________________________________________________________\n",
      "batch_normalization_2 (Batch (None, 124, 124, 20)      80        \n",
      "_________________________________________________________________\n",
      "activation_2 (Activation)    (None, 124, 124, 20)      0         \n",
      "_________________________________________________________________\n",
      "max_pooling2d_1 (MaxPooling2 (None, 62, 62, 20)        0         \n",
      "_________________________________________________________________\n",
      "dropout_1 (Dropout)          (None, 62, 62, 20)        0         \n",
      "_________________________________________________________________\n",
      "conv2d_3 (Conv2D)            (None, 60, 60, 20)        3620      \n",
      "_________________________________________________________________\n",
      "batch_normalization_3 (Batch (None, 60, 60, 20)        80        \n",
      "_________________________________________________________________\n",
      "activation_3 (Activation)    (None, 60, 60, 20)        0         \n",
      "_________________________________________________________________\n",
      "conv2d_4 (Conv2D)            (None, 58, 58, 32)        5792      \n",
      "_________________________________________________________________\n",
      "batch_normalization_4 (Batch (None, 58, 58, 32)        128       \n",
      "_________________________________________________________________\n",
      "activation_4 (Activation)    (None, 58, 58, 32)        0         \n",
      "_________________________________________________________________\n",
      "max_pooling2d_2 (MaxPooling2 (None, 29, 29, 32)        0         \n",
      "_________________________________________________________________\n",
      "dropout_2 (Dropout)          (None, 29, 29, 32)        0         \n",
      "_________________________________________________________________\n",
      "conv2d_5 (Conv2D)            (None, 27, 27, 20)        5780      \n",
      "_________________________________________________________________\n",
      "batch_normalization_5 (Batch (None, 27, 27, 20)        80        \n",
      "_________________________________________________________________\n",
      "activation_5 (Activation)    (None, 27, 27, 20)        0         \n",
      "_________________________________________________________________\n",
      "conv2d_6 (Conv2D)            (None, 25, 25, 20)        3620      \n",
      "_________________________________________________________________\n",
      "batch_normalization_6 (Batch (None, 25, 25, 20)        80        \n",
      "_________________________________________________________________\n",
      "activation_6 (Activation)    (None, 25, 25, 20)        0         \n",
      "_________________________________________________________________\n",
      "max_pooling2d_3 (MaxPooling2 (None, 12, 12, 20)        0         \n",
      "_________________________________________________________________\n",
      "dropout_3 (Dropout)          (None, 12, 12, 20)        0         \n",
      "_________________________________________________________________\n",
      "conv2d_7 (Conv2D)            (None, 10, 10, 20)        3620      \n",
      "_________________________________________________________________\n",
      "batch_normalization_7 (Batch (None, 10, 10, 20)        80        \n",
      "_________________________________________________________________\n",
      "activation_7 (Activation)    (None, 10, 10, 20)        0         \n",
      "_________________________________________________________________\n",
      "conv2d_8 (Conv2D)            (None, 8, 8, 16)          2896      \n",
      "_________________________________________________________________\n",
      "batch_normalization_8 (Batch (None, 8, 8, 16)          64        \n",
      "_________________________________________________________________\n",
      "activation_8 (Activation)    (None, 8, 8, 16)          0         \n",
      "_________________________________________________________________\n",
      "max_pooling2d_4 (MaxPooling2 (None, 4, 4, 16)          0         \n",
      "_________________________________________________________________\n",
      "dropout_4 (Dropout)          (None, 4, 4, 16)          0         \n",
      "_________________________________________________________________\n",
      "flatten_1 (Flatten)          (None, 256)               0         \n",
      "_________________________________________________________________\n",
      "dense_1 (Dense)              (None, 16)                4112      \n",
      "_________________________________________________________________\n",
      "activation_9 (Activation)    (None, 16)                0         \n",
      "_________________________________________________________________\n",
      "dense_2 (Dense)              (None, 4)                 68        \n",
      "_________________________________________________________________\n",
      "activation_10 (Activation)   (None, 4)                 0         \n",
      "=================================================================\n",
      "Total params: 33,512\n",
      "Trainable params: 33,184\n",
      "Non-trainable params: 328\n",
      "_________________________________________________________________\n"
     ]
    }
   ],
   "source": [
    "model_6 = Sequential([\n",
    "    Conv2D(16, (3, 3), strides=(1, 1), input_shape=(128, 128, 3), data_format=\"channels_last\", padding='valid'),   # RGB\n",
    "    BatchNormalization(),\n",
    "    Activation('relu'),\n",
    "    Conv2D(20, (3, 3), strides=(1, 1), padding='valid'),\n",
    "    BatchNormalization(),\n",
    "    Activation('relu'),\n",
    "    MaxPooling2D(pool_size=(2, 2)),\n",
    "    Dropout(0.3),\n",
    "    \n",
    "    Conv2D(20, (3, 3), strides=(1, 1), input_shape=(128, 128, 3), data_format=\"channels_last\", padding='valid'),   # RGB\n",
    "    BatchNormalization(),\n",
    "    Activation('relu'),\n",
    "    Conv2D(32, (3, 3), strides=(1, 1), padding='valid'),\n",
    "    BatchNormalization(),\n",
    "    Activation('relu'),\n",
    "    MaxPooling2D(pool_size=(2, 2)),\n",
    "    Dropout(0.3),\n",
    "    \n",
    "    Conv2D(20, (3, 3), strides=(1, 1), input_shape=(128, 128, 3), data_format=\"channels_last\", padding='valid'),   # RGB\n",
    "    BatchNormalization(),\n",
    "    Activation('relu'),\n",
    "    Conv2D(20, (3, 3), strides=(1, 1), padding='valid'),\n",
    "    BatchNormalization(),\n",
    "    Activation('relu'),\n",
    "    MaxPooling2D(pool_size=(2, 2)),\n",
    "    Dropout(0.3),\n",
    "    \n",
    "    Conv2D(20, (3, 3), strides=(1, 1), input_shape=(128, 128, 3), data_format=\"channels_last\", padding='valid'),   # RGB\n",
    "    BatchNormalization(),\n",
    "    Activation('relu'),\n",
    "    Conv2D(16, (3, 3), strides=(1, 1), padding='valid'),\n",
    "    BatchNormalization(),\n",
    "    Activation('relu'),\n",
    "    MaxPooling2D(pool_size=(2, 2)),\n",
    "    Dropout(0.3),\n",
    "    \n",
    "    Flatten(),\n",
    "    Dense(16),\n",
    "    Activation('relu'),\n",
    "    Dense(num_classes),\n",
    "    Activation('softmax')\n",
    "])\n",
    "model_6.summary()"
   ]
  },
  {
   "cell_type": "markdown",
   "metadata": {
    "heading_collapsed": true
   },
   "source": [
    "#### Execute Training"
   ]
  },
  {
   "cell_type": "code",
   "execution_count": 5,
   "metadata": {
    "ExecuteTime": {
     "end_time": "2019-09-06T21:54:54.398230Z",
     "start_time": "2019-09-06T21:46:08.152629Z"
    },
    "hidden": true,
    "scrolled": true
   },
   "outputs": [
    {
     "name": "stderr",
     "output_type": "stream",
     "text": [
      "W0906 14:46:08.168560  8664 deprecation_wrapper.py:119] From C:\\Users\\kendy\\Anaconda3\\envs\\keras-gpu\\lib\\site-packages\\keras\\optimizers.py:793: The name tf.train.Optimizer is deprecated. Please use tf.compat.v1.train.Optimizer instead.\n",
      "\n",
      "W0906 14:46:27.730760  8664 deprecation.py:323] From C:\\Users\\kendy\\Anaconda3\\envs\\keras-gpu\\lib\\site-packages\\tensorflow\\python\\ops\\math_grad.py:1250: add_dispatch_support.<locals>.wrapper (from tensorflow.python.ops.array_ops) is deprecated and will be removed in a future version.\n",
      "Instructions for updating:\n",
      "Use tf.where in 2.0, which has the same broadcast rule as np.where\n"
     ]
    },
    {
     "name": "stdout",
     "output_type": "stream",
     "text": [
      "Epoch 1/100\n",
      "63/63 [==============================] - 9s 136ms/step - loss: 1.9528 - acc: 0.2542 - val_loss: 1.3934 - val_acc: 0.2856\n",
      "Epoch 2/100\n",
      "63/63 [==============================] - 5s 80ms/step - loss: 1.6521 - acc: 0.2716 - val_loss: 1.3732 - val_acc: 0.3152\n",
      "Epoch 3/100\n",
      "63/63 [==============================] - 5s 81ms/step - loss: 1.5294 - acc: 0.2847 - val_loss: 1.3702 - val_acc: 0.3311\n",
      "Epoch 4/100\n",
      "63/63 [==============================] - 5s 80ms/step - loss: 1.4647 - acc: 0.2822 - val_loss: 1.3744 - val_acc: 0.3288\n",
      "Epoch 5/100\n",
      "63/63 [==============================] - 5s 80ms/step - loss: 1.4271 - acc: 0.2954 - val_loss: 1.3774 - val_acc: 0.3023\n",
      "Epoch 6/100\n",
      "63/63 [==============================] - 5s 80ms/step - loss: 1.4067 - acc: 0.2934 - val_loss: 1.3784 - val_acc: 0.3008\n",
      "Epoch 7/100\n",
      "63/63 [==============================] - 5s 80ms/step - loss: 1.3981 - acc: 0.2844 - val_loss: 1.3768 - val_acc: 0.2917\n",
      "Epoch 8/100\n",
      "63/63 [==============================] - 5s 80ms/step - loss: 1.3815 - acc: 0.2959 - val_loss: 1.3732 - val_acc: 0.3098\n",
      "\n",
      "Epoch 00008: ReduceLROnPlateau reducing learning rate to 4.999999873689376e-05.\n",
      "Epoch 9/100\n",
      "63/63 [==============================] - 5s 80ms/step - loss: 1.3725 - acc: 0.2980 - val_loss: 1.3707 - val_acc: 0.3144\n",
      "Epoch 10/100\n",
      "63/63 [==============================] - 5s 82ms/step - loss: 1.3712 - acc: 0.3105 - val_loss: 1.3687 - val_acc: 0.3174\n",
      "Epoch 11/100\n",
      "63/63 [==============================] - 5s 80ms/step - loss: 1.3678 - acc: 0.3079 - val_loss: 1.3656 - val_acc: 0.3098\n",
      "Epoch 12/100\n",
      "63/63 [==============================] - 5s 80ms/step - loss: 1.3629 - acc: 0.3156 - val_loss: 1.3624 - val_acc: 0.3045\n",
      "Epoch 13/100\n",
      "63/63 [==============================] - 5s 80ms/step - loss: 1.3596 - acc: 0.3096 - val_loss: 1.3602 - val_acc: 0.3265\n",
      "\n",
      "Epoch 00013: ReduceLROnPlateau reducing learning rate to 2.499999936844688e-05.\n",
      "Epoch 14/100\n",
      "63/63 [==============================] - 5s 80ms/step - loss: 1.3597 - acc: 0.3018 - val_loss: 1.3582 - val_acc: 0.3280\n",
      "Epoch 15/100\n",
      "63/63 [==============================] - 5s 80ms/step - loss: 1.3554 - acc: 0.3171 - val_loss: 1.3555 - val_acc: 0.3386\n",
      "Epoch 16/100\n",
      "63/63 [==============================] - 5s 80ms/step - loss: 1.3565 - acc: 0.3100 - val_loss: 1.3531 - val_acc: 0.3462\n",
      "Epoch 17/100\n",
      "63/63 [==============================] - 5s 79ms/step - loss: 1.3561 - acc: 0.3101 - val_loss: 1.3501 - val_acc: 0.3485\n",
      "Epoch 18/100\n",
      "63/63 [==============================] - 5s 80ms/step - loss: 1.3439 - acc: 0.3249 - val_loss: 1.3490 - val_acc: 0.3561\n",
      "Epoch 19/100\n",
      "63/63 [==============================] - 5s 80ms/step - loss: 1.3476 - acc: 0.3228 - val_loss: 1.3461 - val_acc: 0.3614\n",
      "Epoch 20/100\n",
      "63/63 [==============================] - 5s 79ms/step - loss: 1.3466 - acc: 0.3265 - val_loss: 1.3434 - val_acc: 0.3667\n",
      "Epoch 21/100\n",
      "63/63 [==============================] - 5s 80ms/step - loss: 1.3464 - acc: 0.3306 - val_loss: 1.3402 - val_acc: 0.3644\n",
      "Epoch 22/100\n",
      "63/63 [==============================] - 5s 80ms/step - loss: 1.3370 - acc: 0.3357 - val_loss: 1.3364 - val_acc: 0.3712\n",
      "Epoch 23/100\n",
      "63/63 [==============================] - 5s 80ms/step - loss: 1.3336 - acc: 0.3502 - val_loss: 1.3338 - val_acc: 0.3811\n",
      "Epoch 24/100\n",
      "63/63 [==============================] - 5s 80ms/step - loss: 1.3304 - acc: 0.3502 - val_loss: 1.3301 - val_acc: 0.3826\n",
      "Epoch 25/100\n",
      "63/63 [==============================] - 5s 80ms/step - loss: 1.3270 - acc: 0.3544 - val_loss: 1.3284 - val_acc: 0.3841\n",
      "Epoch 26/100\n",
      "63/63 [==============================] - 5s 80ms/step - loss: 1.3220 - acc: 0.3589 - val_loss: 1.3208 - val_acc: 0.3879\n",
      "Epoch 27/100\n",
      "63/63 [==============================] - 5s 80ms/step - loss: 1.3174 - acc: 0.3627 - val_loss: 1.3148 - val_acc: 0.3917\n",
      "Epoch 28/100\n",
      "63/63 [==============================] - 5s 79ms/step - loss: 1.3161 - acc: 0.3719 - val_loss: 1.3108 - val_acc: 0.3955\n",
      "Epoch 29/100\n",
      "63/63 [==============================] - 5s 80ms/step - loss: 1.3145 - acc: 0.3678 - val_loss: 1.3070 - val_acc: 0.3917\n",
      "Epoch 30/100\n",
      "63/63 [==============================] - 5s 80ms/step - loss: 1.3071 - acc: 0.3673 - val_loss: 1.3012 - val_acc: 0.3992\n",
      "Epoch 31/100\n",
      "63/63 [==============================] - 5s 79ms/step - loss: 1.3062 - acc: 0.3760 - val_loss: 1.2946 - val_acc: 0.4098\n",
      "Epoch 32/100\n",
      "63/63 [==============================] - 5s 79ms/step - loss: 1.3058 - acc: 0.3687 - val_loss: 1.2915 - val_acc: 0.4091\n",
      "Epoch 33/100\n",
      "63/63 [==============================] - 5s 80ms/step - loss: 1.3013 - acc: 0.3802 - val_loss: 1.2872 - val_acc: 0.4159\n",
      "Epoch 34/100\n",
      "63/63 [==============================] - 5s 80ms/step - loss: 1.2938 - acc: 0.3896 - val_loss: 1.2815 - val_acc: 0.4167\n",
      "Epoch 35/100\n",
      "63/63 [==============================] - 5s 79ms/step - loss: 1.2848 - acc: 0.3950 - val_loss: 1.2768 - val_acc: 0.4182\n",
      "Epoch 36/100\n",
      "63/63 [==============================] - 5s 80ms/step - loss: 1.2718 - acc: 0.3983 - val_loss: 1.2700 - val_acc: 0.4174\n",
      "Epoch 37/100\n",
      "63/63 [==============================] - 5s 79ms/step - loss: 1.2712 - acc: 0.4054 - val_loss: 1.2594 - val_acc: 0.4250\n",
      "Epoch 38/100\n",
      "63/63 [==============================] - 5s 79ms/step - loss: 1.2708 - acc: 0.4130 - val_loss: 1.2559 - val_acc: 0.4424\n",
      "Epoch 39/100\n",
      "63/63 [==============================] - 5s 79ms/step - loss: 1.2558 - acc: 0.4189 - val_loss: 1.2465 - val_acc: 0.4485\n",
      "Epoch 40/100\n",
      "63/63 [==============================] - 5s 80ms/step - loss: 1.2518 - acc: 0.4190 - val_loss: 1.2403 - val_acc: 0.4492\n",
      "Epoch 41/100\n",
      "63/63 [==============================] - 5s 80ms/step - loss: 1.2457 - acc: 0.4267 - val_loss: 1.2353 - val_acc: 0.4530\n",
      "Epoch 42/100\n",
      "63/63 [==============================] - 5s 80ms/step - loss: 1.2384 - acc: 0.4286 - val_loss: 1.2202 - val_acc: 0.4644\n",
      "Epoch 43/100\n",
      "63/63 [==============================] - 5s 79ms/step - loss: 1.2243 - acc: 0.4390 - val_loss: 1.2138 - val_acc: 0.4689\n",
      "Epoch 44/100\n",
      "63/63 [==============================] - 5s 79ms/step - loss: 1.2247 - acc: 0.4406 - val_loss: 1.2058 - val_acc: 0.4742\n",
      "Epoch 45/100\n",
      "63/63 [==============================] - 5s 80ms/step - loss: 1.2215 - acc: 0.4460 - val_loss: 1.2033 - val_acc: 0.4788\n",
      "Epoch 46/100\n",
      "63/63 [==============================] - 5s 79ms/step - loss: 1.2193 - acc: 0.4400 - val_loss: 1.1928 - val_acc: 0.4894\n",
      "Epoch 47/100\n",
      "63/63 [==============================] - 5s 80ms/step - loss: 1.2052 - acc: 0.4520 - val_loss: 1.1765 - val_acc: 0.5083\n",
      "Epoch 48/100\n",
      "63/63 [==============================] - 5s 79ms/step - loss: 1.2012 - acc: 0.4539 - val_loss: 1.1672 - val_acc: 0.5189\n",
      "Epoch 49/100\n",
      "63/63 [==============================] - 5s 80ms/step - loss: 1.1842 - acc: 0.4695 - val_loss: 1.1622 - val_acc: 0.5220\n",
      "Epoch 50/100\n",
      "63/63 [==============================] - 5s 80ms/step - loss: 1.1914 - acc: 0.4625 - val_loss: 1.1513 - val_acc: 0.5303\n",
      "Epoch 51/100\n",
      "63/63 [==============================] - 5s 80ms/step - loss: 1.1812 - acc: 0.4683 - val_loss: 1.1375 - val_acc: 0.5402\n",
      "Epoch 52/100\n",
      "63/63 [==============================] - 5s 81ms/step - loss: 1.1745 - acc: 0.4704 - val_loss: 1.1306 - val_acc: 0.5447\n",
      "Epoch 53/100\n",
      "63/63 [==============================] - 5s 80ms/step - loss: 1.1625 - acc: 0.4743 - val_loss: 1.1270 - val_acc: 0.5500\n",
      "Epoch 54/100\n",
      "63/63 [==============================] - 5s 79ms/step - loss: 1.1693 - acc: 0.4773 - val_loss: 1.1166 - val_acc: 0.5523\n",
      "Epoch 55/100\n",
      "63/63 [==============================] - 5s 82ms/step - loss: 1.1667 - acc: 0.4764 - val_loss: 1.1106 - val_acc: 0.5614\n",
      "Epoch 56/100\n",
      "63/63 [==============================] - 5s 80ms/step - loss: 1.1582 - acc: 0.4824 - val_loss: 1.0992 - val_acc: 0.5674\n",
      "Epoch 57/100\n",
      "63/63 [==============================] - 5s 79ms/step - loss: 1.1415 - acc: 0.4907 - val_loss: 1.0951 - val_acc: 0.5636\n",
      "Epoch 58/100\n",
      "63/63 [==============================] - 5s 79ms/step - loss: 1.1365 - acc: 0.4928 - val_loss: 1.0755 - val_acc: 0.5712\n",
      "Epoch 59/100\n",
      "63/63 [==============================] - 5s 79ms/step - loss: 1.1265 - acc: 0.5037 - val_loss: 1.0720 - val_acc: 0.5765\n",
      "Epoch 60/100\n",
      "63/63 [==============================] - 5s 78ms/step - loss: 1.1344 - acc: 0.4974 - val_loss: 1.0640 - val_acc: 0.5795\n",
      "Epoch 61/100\n",
      "63/63 [==============================] - 5s 78ms/step - loss: 1.1164 - acc: 0.5053 - val_loss: 1.0416 - val_acc: 0.5811\n",
      "Epoch 62/100\n",
      "63/63 [==============================] - 5s 78ms/step - loss: 1.1138 - acc: 0.5038 - val_loss: 1.0419 - val_acc: 0.5811\n",
      "Epoch 63/100\n",
      "63/63 [==============================] - 5s 78ms/step - loss: 1.1031 - acc: 0.5219 - val_loss: 1.0269 - val_acc: 0.5864\n",
      "Epoch 64/100\n",
      "63/63 [==============================] - 5s 78ms/step - loss: 1.0903 - acc: 0.5252 - val_loss: 1.0263 - val_acc: 0.6000\n",
      "Epoch 65/100\n",
      "63/63 [==============================] - 5s 79ms/step - loss: 1.0858 - acc: 0.5256 - val_loss: 1.0056 - val_acc: 0.5970\n",
      "Epoch 66/100\n",
      "63/63 [==============================] - 5s 78ms/step - loss: 1.0880 - acc: 0.5316 - val_loss: 0.9945 - val_acc: 0.5985\n",
      "Epoch 67/100\n",
      "63/63 [==============================] - 5s 78ms/step - loss: 1.0709 - acc: 0.5391 - val_loss: 0.9877 - val_acc: 0.6053\n",
      "Epoch 68/100\n",
      "63/63 [==============================] - 5s 79ms/step - loss: 1.0675 - acc: 0.5347 - val_loss: 0.9826 - val_acc: 0.6038\n",
      "Epoch 69/100\n",
      "63/63 [==============================] - 5s 78ms/step - loss: 1.0622 - acc: 0.5455 - val_loss: 0.9746 - val_acc: 0.6121\n",
      "Epoch 70/100\n",
      "63/63 [==============================] - 5s 79ms/step - loss: 1.0483 - acc: 0.5489 - val_loss: 0.9577 - val_acc: 0.6083\n",
      "Epoch 71/100\n",
      "63/63 [==============================] - 5s 78ms/step - loss: 1.0521 - acc: 0.5472 - val_loss: 0.9582 - val_acc: 0.6091\n",
      "Epoch 72/100\n",
      "63/63 [==============================] - 5s 78ms/step - loss: 1.0468 - acc: 0.5521 - val_loss: 0.9423 - val_acc: 0.6167\n",
      "Epoch 73/100\n",
      "63/63 [==============================] - 5s 79ms/step - loss: 1.0347 - acc: 0.5523 - val_loss: 0.9287 - val_acc: 0.6220\n",
      "Epoch 74/100\n",
      "63/63 [==============================] - 5s 78ms/step - loss: 1.0247 - acc: 0.5674 - val_loss: 0.9251 - val_acc: 0.6174\n",
      "Epoch 75/100\n",
      "63/63 [==============================] - 5s 78ms/step - loss: 1.0195 - acc: 0.5614 - val_loss: 0.9078 - val_acc: 0.6333\n",
      "Epoch 76/100\n",
      "63/63 [==============================] - 5s 78ms/step - loss: 1.0170 - acc: 0.5641 - val_loss: 0.9062 - val_acc: 0.6348\n",
      "Epoch 77/100\n",
      "63/63 [==============================] - 5s 79ms/step - loss: 1.0046 - acc: 0.5791 - val_loss: 0.8941 - val_acc: 0.6356\n",
      "Epoch 78/100\n",
      "63/63 [==============================] - 5s 78ms/step - loss: 0.9936 - acc: 0.5784 - val_loss: 0.8765 - val_acc: 0.6470\n",
      "Epoch 79/100\n",
      "63/63 [==============================] - 5s 79ms/step - loss: 0.9911 - acc: 0.5741 - val_loss: 0.8826 - val_acc: 0.6455\n",
      "Epoch 80/100\n",
      "63/63 [==============================] - 5s 79ms/step - loss: 0.9849 - acc: 0.5795 - val_loss: 0.8620 - val_acc: 0.6576\n",
      "Epoch 81/100\n",
      "63/63 [==============================] - 5s 79ms/step - loss: 0.9751 - acc: 0.5833 - val_loss: 0.8533 - val_acc: 0.6553\n",
      "Epoch 82/100\n",
      "63/63 [==============================] - 5s 81ms/step - loss: 0.9595 - acc: 0.5866 - val_loss: 0.8500 - val_acc: 0.6508\n",
      "Epoch 83/100\n",
      "63/63 [==============================] - 5s 80ms/step - loss: 0.9638 - acc: 0.5929 - val_loss: 0.8404 - val_acc: 0.6621\n",
      "Epoch 84/100\n",
      "63/63 [==============================] - 5s 80ms/step - loss: 0.9654 - acc: 0.5888 - val_loss: 0.8222 - val_acc: 0.6735\n",
      "Epoch 85/100\n",
      "63/63 [==============================] - 5s 79ms/step - loss: 0.9439 - acc: 0.6038 - val_loss: 0.8165 - val_acc: 0.6765\n",
      "Epoch 86/100\n",
      "63/63 [==============================] - 5s 80ms/step - loss: 0.9543 - acc: 0.5981 - val_loss: 0.8073 - val_acc: 0.6841\n",
      "Epoch 87/100\n",
      "63/63 [==============================] - 5s 79ms/step - loss: 0.9390 - acc: 0.6033 - val_loss: 0.7919 - val_acc: 0.6894\n",
      "Epoch 88/100\n",
      "63/63 [==============================] - 5s 80ms/step - loss: 0.9249 - acc: 0.6136 - val_loss: 0.7835 - val_acc: 0.6947\n",
      "Epoch 89/100\n",
      "63/63 [==============================] - 5s 79ms/step - loss: 0.9165 - acc: 0.6209 - val_loss: 0.7767 - val_acc: 0.6970\n",
      "Epoch 90/100\n",
      "63/63 [==============================] - 5s 79ms/step - loss: 0.9103 - acc: 0.6142 - val_loss: 0.7746 - val_acc: 0.7023\n",
      "Epoch 91/100\n",
      "63/63 [==============================] - 5s 80ms/step - loss: 0.9143 - acc: 0.6163 - val_loss: 0.7498 - val_acc: 0.7061\n",
      "Epoch 92/100\n",
      "63/63 [==============================] - 5s 80ms/step - loss: 0.9089 - acc: 0.6142 - val_loss: 0.7499 - val_acc: 0.7083\n",
      "Epoch 93/100\n",
      "63/63 [==============================] - 5s 80ms/step - loss: 0.8892 - acc: 0.6241 - val_loss: 0.7519 - val_acc: 0.7030\n",
      "Epoch 94/100\n",
      "63/63 [==============================] - 5s 80ms/step - loss: 0.8861 - acc: 0.6281 - val_loss: 0.7320 - val_acc: 0.7189\n",
      "Epoch 95/100\n",
      "63/63 [==============================] - 5s 79ms/step - loss: 0.8843 - acc: 0.6308 - val_loss: 0.7289 - val_acc: 0.7159\n",
      "Epoch 96/100\n",
      "63/63 [==============================] - 5s 80ms/step - loss: 0.8771 - acc: 0.6399 - val_loss: 0.7221 - val_acc: 0.7152\n",
      "Epoch 97/100\n",
      "63/63 [==============================] - 5s 79ms/step - loss: 0.8707 - acc: 0.6410 - val_loss: 0.7165 - val_acc: 0.7189\n",
      "Epoch 98/100\n",
      "63/63 [==============================] - 5s 79ms/step - loss: 0.8562 - acc: 0.6496 - val_loss: 0.7057 - val_acc: 0.7288\n",
      "Epoch 99/100\n",
      "63/63 [==============================] - 5s 79ms/step - loss: 0.8444 - acc: 0.6507 - val_loss: 0.6936 - val_acc: 0.7303\n",
      "Epoch 100/100\n",
      "63/63 [==============================] - 5s 79ms/step - loss: 0.8554 - acc: 0.6412 - val_loss: 0.6887 - val_acc: 0.7356\n"
     ]
    },
    {
     "data": {
      "image/png": "[encoded data removed]",
      "text/plain": [
       "<Figure size 432x288 with 2 Axes>"
      ]
     },
     "metadata": {
      "needs_background": "light"
     },
     "output_type": "display_data"
    },
    {
     "name": "stdout",
     "output_type": "stream",
     "text": [
      "Best val_acc - 0.7356 (epoch 100)\n"
     ]
    }
   ],
   "source": [
    "# lower the learning rate by a factor of 10\n",
    "history, model_6 = train(model_6, lr=0.0001)"
   ]
  },
  {
   "cell_type": "code",
   "execution_count": 6,
   "metadata": {
    "ExecuteTime": {
     "end_time": "2019-09-06T22:03:23.578174Z",
     "start_time": "2019-09-06T21:55:54.615081Z"
    },
    "hidden": true,
    "scrolled": true
   },
   "outputs": [
    {
     "name": "stdout",
     "output_type": "stream",
     "text": [
      "Epoch 102/201\n",
      "63/63 [==============================] - 6s 102ms/step - loss: 0.8329 - acc: 0.6550 - val_loss: 0.6780 - val_acc: 0.7311\n",
      "Epoch 103/201\n",
      "63/63 [==============================] - 5s 79ms/step - loss: 0.8170 - acc: 0.6621 - val_loss: 0.6384 - val_acc: 0.7598\n",
      "Epoch 104/201\n",
      "63/63 [==============================] - 5s 79ms/step - loss: 0.7724 - acc: 0.6827 - val_loss: 0.6317 - val_acc: 0.7591\n",
      "Epoch 105/201\n",
      "63/63 [==============================] - 5s 79ms/step - loss: 0.7664 - acc: 0.6902 - val_loss: 0.5923 - val_acc: 0.7795\n",
      "Epoch 106/201\n",
      "63/63 [==============================] - 5s 79ms/step - loss: 0.7426 - acc: 0.6983 - val_loss: 0.5640 - val_acc: 0.7894\n",
      "Epoch 107/201\n",
      "63/63 [==============================] - 5s 79ms/step - loss: 0.7045 - acc: 0.7102 - val_loss: 0.5599 - val_acc: 0.7795\n",
      "Epoch 108/201\n",
      "63/63 [==============================] - 5s 79ms/step - loss: 0.6800 - acc: 0.7290 - val_loss: 0.5261 - val_acc: 0.8023\n",
      "Epoch 109/201\n",
      "63/63 [==============================] - 5s 79ms/step - loss: 0.6496 - acc: 0.7433 - val_loss: 0.4878 - val_acc: 0.8280\n",
      "Epoch 110/201\n",
      "63/63 [==============================] - 5s 79ms/step - loss: 0.6339 - acc: 0.7536 - val_loss: 0.4736 - val_acc: 0.8258\n",
      "Epoch 111/201\n",
      "63/63 [==============================] - 5s 79ms/step - loss: 0.6079 - acc: 0.7578 - val_loss: 0.4708 - val_acc: 0.8258\n",
      "Epoch 112/201\n",
      "63/63 [==============================] - 5s 79ms/step - loss: 0.5864 - acc: 0.7715 - val_loss: 0.4505 - val_acc: 0.8356\n",
      "Epoch 113/201\n",
      "63/63 [==============================] - 5s 79ms/step - loss: 0.5634 - acc: 0.7781 - val_loss: 0.4187 - val_acc: 0.8462\n",
      "Epoch 114/201\n",
      "63/63 [==============================] - 5s 80ms/step - loss: 0.5344 - acc: 0.7908 - val_loss: 0.3878 - val_acc: 0.8561\n",
      "Epoch 115/201\n",
      "63/63 [==============================] - 5s 80ms/step - loss: 0.5179 - acc: 0.7970 - val_loss: 0.4087 - val_acc: 0.8439\n",
      "Epoch 116/201\n",
      "63/63 [==============================] - 5s 79ms/step - loss: 0.4833 - acc: 0.8157 - val_loss: 0.3412 - val_acc: 0.8750\n",
      "Epoch 117/201\n",
      "63/63 [==============================] - 5s 79ms/step - loss: 0.4730 - acc: 0.8175 - val_loss: 0.3328 - val_acc: 0.8735\n",
      "Epoch 118/201\n",
      "63/63 [==============================] - 5s 79ms/step - loss: 0.4569 - acc: 0.8221 - val_loss: 0.2970 - val_acc: 0.8917\n",
      "Epoch 119/201\n",
      "63/63 [==============================] - 5s 79ms/step - loss: 0.4283 - acc: 0.8384 - val_loss: 0.2907 - val_acc: 0.8962\n",
      "Epoch 120/201\n",
      "63/63 [==============================] - 5s 80ms/step - loss: 0.4164 - acc: 0.8481 - val_loss: 0.2940 - val_acc: 0.8894\n",
      "Epoch 121/201\n",
      "63/63 [==============================] - 5s 80ms/step - loss: 0.4041 - acc: 0.8483 - val_loss: 0.2742 - val_acc: 0.8977\n",
      "Epoch 122/201\n",
      "63/63 [==============================] - 5s 79ms/step - loss: 0.3920 - acc: 0.8516 - val_loss: 0.2642 - val_acc: 0.9030\n",
      "Epoch 123/201\n",
      "63/63 [==============================] - 5s 79ms/step - loss: 0.3632 - acc: 0.8646 - val_loss: 0.2367 - val_acc: 0.9121\n",
      "Epoch 124/201\n",
      "63/63 [==============================] - 5s 79ms/step - loss: 0.3528 - acc: 0.8684 - val_loss: 0.2279 - val_acc: 0.9144\n",
      "Epoch 125/201\n",
      "63/63 [==============================] - 5s 79ms/step - loss: 0.3594 - acc: 0.8648 - val_loss: 0.2102 - val_acc: 0.9220\n",
      "Epoch 126/201\n",
      "63/63 [==============================] - 5s 80ms/step - loss: 0.3245 - acc: 0.8837 - val_loss: 0.2070 - val_acc: 0.9197\n",
      "Epoch 127/201\n",
      "63/63 [==============================] - 5s 80ms/step - loss: 0.3195 - acc: 0.8786 - val_loss: 0.1989 - val_acc: 0.9273\n",
      "Epoch 128/201\n",
      "63/63 [==============================] - 5s 79ms/step - loss: 0.3097 - acc: 0.8897 - val_loss: 0.1902 - val_acc: 0.9265\n",
      "Epoch 129/201\n",
      "63/63 [==============================] - 5s 80ms/step - loss: 0.3031 - acc: 0.8884 - val_loss: 0.1827 - val_acc: 0.9348\n",
      "Epoch 130/201\n",
      "63/63 [==============================] - 5s 80ms/step - loss: 0.2938 - acc: 0.8952 - val_loss: 0.1938 - val_acc: 0.9250\n",
      "Epoch 131/201\n",
      "63/63 [==============================] - 5s 80ms/step - loss: 0.2798 - acc: 0.8964 - val_loss: 0.1719 - val_acc: 0.9364\n",
      "Epoch 132/201\n",
      "63/63 [==============================] - 5s 79ms/step - loss: 0.2744 - acc: 0.9012 - val_loss: 0.1664 - val_acc: 0.9432\n",
      "Epoch 133/201\n",
      "63/63 [==============================] - 5s 79ms/step - loss: 0.2772 - acc: 0.9007 - val_loss: 0.1610 - val_acc: 0.9394\n",
      "Epoch 134/201\n",
      "63/63 [==============================] - 5s 80ms/step - loss: 0.2687 - acc: 0.9025 - val_loss: 0.1650 - val_acc: 0.9447\n",
      "Epoch 135/201\n",
      "63/63 [==============================] - 5s 80ms/step - loss: 0.2500 - acc: 0.9134 - val_loss: 0.1558 - val_acc: 0.9455\n",
      "Epoch 136/201\n",
      "63/63 [==============================] - 5s 79ms/step - loss: 0.2500 - acc: 0.9085 - val_loss: 0.1513 - val_acc: 0.9470\n",
      "Epoch 137/201\n",
      "63/63 [==============================] - 5s 79ms/step - loss: 0.2397 - acc: 0.9134 - val_loss: 0.1572 - val_acc: 0.9447\n",
      "Epoch 138/201\n",
      "63/63 [==============================] - 5s 80ms/step - loss: 0.2357 - acc: 0.9146 - val_loss: 0.1484 - val_acc: 0.9447\n",
      "Epoch 139/201\n",
      "63/63 [==============================] - 5s 80ms/step - loss: 0.2255 - acc: 0.9188 - val_loss: 0.1363 - val_acc: 0.9538\n",
      "Epoch 140/201\n",
      "63/63 [==============================] - 5s 80ms/step - loss: 0.2209 - acc: 0.9199 - val_loss: 0.1345 - val_acc: 0.9530\n",
      "Epoch 141/201\n",
      "63/63 [==============================] - 5s 80ms/step - loss: 0.2171 - acc: 0.9229 - val_loss: 0.1361 - val_acc: 0.9523\n",
      "Epoch 142/201\n",
      "63/63 [==============================] - 5s 80ms/step - loss: 0.2202 - acc: 0.9231 - val_loss: 0.1398 - val_acc: 0.9470\n",
      "Epoch 143/201\n",
      "63/63 [==============================] - 5s 80ms/step - loss: 0.2180 - acc: 0.9241 - val_loss: 0.1376 - val_acc: 0.9500\n",
      "Epoch 144/201\n",
      "63/63 [==============================] - 5s 79ms/step - loss: 0.2023 - acc: 0.9283 - val_loss: 0.1292 - val_acc: 0.9508\n",
      "\n",
      "Epoch 00144: ReduceLROnPlateau reducing learning rate to 4.999999873689376e-05.\n",
      "Epoch 145/201\n",
      "63/63 [==============================] - 5s 80ms/step - loss: 0.2076 - acc: 0.9251 - val_loss: 0.1314 - val_acc: 0.9583\n",
      "Epoch 146/201\n",
      "63/63 [==============================] - 5s 80ms/step - loss: 0.2058 - acc: 0.9239 - val_loss: 0.1299 - val_acc: 0.9561\n",
      "Epoch 147/201\n",
      "63/63 [==============================] - 5s 80ms/step - loss: 0.2022 - acc: 0.9262 - val_loss: 0.1309 - val_acc: 0.9538\n",
      "Epoch 148/201\n",
      "63/63 [==============================] - 5s 80ms/step - loss: 0.1913 - acc: 0.9306 - val_loss: 0.1312 - val_acc: 0.9591\n",
      "Epoch 149/201\n",
      "63/63 [==============================] - 5s 80ms/step - loss: 0.1901 - acc: 0.9314 - val_loss: 0.1292 - val_acc: 0.9576\n",
      "Epoch 150/201\n",
      "63/63 [==============================] - 5s 79ms/step - loss: 0.1892 - acc: 0.9281 - val_loss: 0.1279 - val_acc: 0.9568\n",
      "Epoch 151/201\n",
      "63/63 [==============================] - 5s 80ms/step - loss: 0.1923 - acc: 0.9303 - val_loss: 0.1299 - val_acc: 0.9591\n",
      "Epoch 152/201\n",
      "63/63 [==============================] - 5s 79ms/step - loss: 0.1894 - acc: 0.9342 - val_loss: 0.1276 - val_acc: 0.9598\n",
      "Epoch 153/201\n",
      "63/63 [==============================] - 5s 80ms/step - loss: 0.1841 - acc: 0.9328 - val_loss: 0.1267 - val_acc: 0.9614\n",
      "Epoch 154/201\n",
      "63/63 [==============================] - 5s 80ms/step - loss: 0.1936 - acc: 0.9268 - val_loss: 0.1282 - val_acc: 0.9583\n",
      "Epoch 155/201\n",
      "63/63 [==============================] - 5s 79ms/step - loss: 0.1965 - acc: 0.9293 - val_loss: 0.1319 - val_acc: 0.9576\n",
      "Epoch 156/201\n",
      "63/63 [==============================] - 5s 80ms/step - loss: 0.1744 - acc: 0.9364 - val_loss: 0.1280 - val_acc: 0.9545\n",
      "Epoch 157/201\n",
      "63/63 [==============================] - 5s 80ms/step - loss: 0.1740 - acc: 0.9391 - val_loss: 0.1312 - val_acc: 0.9553\n",
      "Epoch 158/201\n",
      "63/63 [==============================] - 5s 80ms/step - loss: 0.1799 - acc: 0.9317 - val_loss: 0.1224 - val_acc: 0.9629\n",
      "Epoch 159/201\n",
      "63/63 [==============================] - 5s 80ms/step - loss: 0.1756 - acc: 0.9384 - val_loss: 0.1212 - val_acc: 0.9621\n",
      "Epoch 160/201\n",
      "63/63 [==============================] - 5s 80ms/step - loss: 0.1754 - acc: 0.9356 - val_loss: 0.1195 - val_acc: 0.9606\n",
      "Epoch 161/201\n",
      "63/63 [==============================] - 5s 80ms/step - loss: 0.1692 - acc: 0.9384 - val_loss: 0.1239 - val_acc: 0.9583\n",
      "Epoch 162/201\n",
      "63/63 [==============================] - 5s 79ms/step - loss: 0.1685 - acc: 0.9412 - val_loss: 0.1232 - val_acc: 0.9598\n",
      "Epoch 163/201\n",
      "63/63 [==============================] - 5s 79ms/step - loss: 0.1669 - acc: 0.9420 - val_loss: 0.1231 - val_acc: 0.9591\n",
      "\n",
      "Epoch 00163: ReduceLROnPlateau reducing learning rate to 2.499999936844688e-05.\n",
      "Epoch 164/201\n",
      "63/63 [==============================] - 5s 80ms/step - loss: 0.1692 - acc: 0.9389 - val_loss: 0.1234 - val_acc: 0.9629\n",
      "Epoch 165/201\n",
      "63/63 [==============================] - 5s 80ms/step - loss: 0.1666 - acc: 0.9399 - val_loss: 0.1246 - val_acc: 0.9621\n",
      "Epoch 166/201\n",
      "63/63 [==============================] - 5s 79ms/step - loss: 0.1655 - acc: 0.9396 - val_loss: 0.1244 - val_acc: 0.9629\n",
      "Epoch 167/201\n",
      "63/63 [==============================] - 5s 80ms/step - loss: 0.1658 - acc: 0.9369 - val_loss: 0.1246 - val_acc: 0.9614\n",
      "Epoch 168/201\n",
      "63/63 [==============================] - 5s 80ms/step - loss: 0.1639 - acc: 0.9387 - val_loss: 0.1227 - val_acc: 0.9652\n",
      "Epoch 169/201\n",
      "63/63 [==============================] - 5s 79ms/step - loss: 0.1573 - acc: 0.9437 - val_loss: 0.1228 - val_acc: 0.9614\n",
      "Epoch 170/201\n",
      "63/63 [==============================] - 5s 79ms/step - loss: 0.1601 - acc: 0.9418 - val_loss: 0.1205 - val_acc: 0.9621\n",
      "Epoch 171/201\n",
      "63/63 [==============================] - 5s 79ms/step - loss: 0.1616 - acc: 0.9444 - val_loss: 0.1235 - val_acc: 0.9629\n",
      "Epoch 172/201\n",
      "63/63 [==============================] - 5s 79ms/step - loss: 0.1617 - acc: 0.9449 - val_loss: 0.1225 - val_acc: 0.9629\n",
      "Epoch 173/201\n",
      "63/63 [==============================] - 5s 79ms/step - loss: 0.1540 - acc: 0.9456 - val_loss: 0.1244 - val_acc: 0.9614\n",
      "\n",
      "Epoch 00173: ReduceLROnPlateau reducing learning rate to 1.249999968422344e-05.\n",
      "Epoch 174/201\n",
      "63/63 [==============================] - 5s 79ms/step - loss: 0.1540 - acc: 0.9474 - val_loss: 0.1226 - val_acc: 0.9614\n",
      "Epoch 175/201\n",
      "63/63 [==============================] - 5s 79ms/step - loss: 0.1663 - acc: 0.9379 - val_loss: 0.1219 - val_acc: 0.9614\n",
      "Epoch 176/201\n",
      "63/63 [==============================] - 5s 80ms/step - loss: 0.1538 - acc: 0.9448 - val_loss: 0.1224 - val_acc: 0.9629\n",
      "Epoch 177/201\n",
      "63/63 [==============================] - 5s 80ms/step - loss: 0.1560 - acc: 0.9457 - val_loss: 0.1224 - val_acc: 0.9629\n",
      "Epoch 178/201\n",
      "63/63 [==============================] - 5s 79ms/step - loss: 0.1602 - acc: 0.9410 - val_loss: 0.1224 - val_acc: 0.9621\n",
      "\n",
      "Epoch 00178: ReduceLROnPlateau reducing learning rate to 6.24999984211172e-06.\n",
      "Epoch 179/201\n",
      "63/63 [==============================] - 5s 79ms/step - loss: 0.1633 - acc: 0.9420 - val_loss: 0.1227 - val_acc: 0.9621\n",
      "Epoch 180/201\n",
      "63/63 [==============================] - 5s 80ms/step - loss: 0.1584 - acc: 0.9449 - val_loss: 0.1222 - val_acc: 0.9621\n",
      "Epoch 181/201\n",
      "63/63 [==============================] - 5s 79ms/step - loss: 0.1583 - acc: 0.9417 - val_loss: 0.1208 - val_acc: 0.9636\n",
      "Epoch 182/201\n",
      "63/63 [==============================] - 5s 80ms/step - loss: 0.1596 - acc: 0.9431 - val_loss: 0.1205 - val_acc: 0.9636\n",
      "Epoch 183/201\n",
      "63/63 [==============================] - 5s 79ms/step - loss: 0.1570 - acc: 0.9406 - val_loss: 0.1216 - val_acc: 0.9621\n",
      "\n",
      "Epoch 00183: ReduceLROnPlateau reducing learning rate to 3.12499992105586e-06.\n",
      "Epoch 184/201\n",
      "63/63 [==============================] - 5s 79ms/step - loss: 0.1531 - acc: 0.9440 - val_loss: 0.1212 - val_acc: 0.9621\n",
      "Epoch 185/201\n",
      "63/63 [==============================] - 5s 80ms/step - loss: 0.1525 - acc: 0.9446 - val_loss: 0.1202 - val_acc: 0.9629\n",
      "Epoch 186/201\n",
      "63/63 [==============================] - 5s 80ms/step - loss: 0.1601 - acc: 0.9406 - val_loss: 0.1207 - val_acc: 0.9621\n",
      "Restoring model weights from the end of the best epoch\n",
      "Epoch 00186: early stopping\n"
     ]
    },
    {
     "data": {
      "image/png": "[encoded data removed]",
      "text/plain": [
       "<Figure size 432x288 with 2 Axes>"
      ]
     },
     "metadata": {
      "needs_background": "light"
     },
     "output_type": "display_data"
    },
    {
     "name": "stdout",
     "output_type": "stream",
     "text": [
      "Best val_acc - 0.9652 (epoch 67)\n"
     ]
    }
   ],
   "source": [
    "history, model_6 = train(model_6, initial_epoch=101, lr=0.0001)"
   ]
  },
  {
   "cell_type": "code",
   "execution_count": 7,
   "metadata": {
    "ExecuteTime": {
     "end_time": "2019-09-06T22:05:48.761427Z",
     "start_time": "2019-09-06T22:05:47.416150Z"
    },
    "hidden": true
   },
   "outputs": [],
   "source": [
    "# save with the convention 'm[model number]_[# parameters]_[best val_acc].h5'\n",
    "model_6.save('..//models//m6_33512_9652.h5')"
   ]
  },
  {
   "cell_type": "markdown",
   "metadata": {},
   "source": [
    "# Test scaling"
   ]
  },
  {
   "cell_type": "markdown",
   "metadata": {
    "heading_collapsed": true
   },
   "source": [
    "## Model 1: No scaling  - 0.9795 (epoch 42)"
   ]
  },
  {
   "cell_type": "markdown",
   "metadata": {
    "heading_collapsed": true,
    "hidden": true
   },
   "source": [
    "#### Define Train function"
   ]
  },
  {
   "cell_type": "code",
   "execution_count": 7,
   "metadata": {
    "ExecuteTime": {
     "end_time": "2019-09-09T18:16:24.973630Z",
     "start_time": "2019-09-09T18:16:24.965642Z"
    },
    "code_folding": [],
    "hidden": true
   },
   "outputs": [],
   "source": [
    "my_callbacks = [callbacks.EarlyStopping(monitor='val_acc', patience=15, verbose=1, restore_best_weights=True),\n",
    "                callbacks.ReduceLROnPlateau(monitor='val_acc', factor=0.5, patience=4, min_lr=1e-6, mode='auto', verbose=1)]\n",
    "\n",
    "def train(model, epochs=200, initial_epoch=0, batch_size=128, lr=0.01, opt='adadelta', plot_hist='True'):\n",
    "    model.compile(loss='sparse_categorical_crossentropy',\n",
    "                  optimizer=opt,\n",
    "                  metrics=['accuracy'])\n",
    "\n",
    "#     can test augmentation techniques like brightness and rotation\n",
    "    train_generator = ImageDataGenerator().flow(x_train, y_train, batch_size=batch_size, seed=11)\n",
    "\n",
    "    validation_generator = ImageDataGenerator().flow(x_test, y_test, batch_size=batch_size, seed=11)\n",
    "#     train_generator = ImageDataGenerator(featurewise_center=True, featurewise_std_normalization=True)\n",
    "#     train_generator.fit(x_train)\n",
    "#     train_generator = train_generator.flow(x_train, y_train, seed=11, batch_size=batch_size)\n",
    "#     validation_generator = ImageDataGenerator(featurewise_center=True, featurewise_std_normalization=True)\n",
    "#     validation_generator.fit(x_train)\n",
    "#     validation_generator = validation_generator.flow(x_test, y_test, seed=11, batch_size=batch_size)\n",
    "\n",
    "    history = model.fit_generator(generator=train_generator,\n",
    "                                  epochs=epochs+initial_epoch,\n",
    "                                  verbose=1,\n",
    "                                  callbacks=my_callbacks,\n",
    "                                  validation_data=validation_generator,\n",
    "                                  shuffle=True,\n",
    "                                  initial_epoch=initial_epoch)\n",
    "    if(plot_hist):\n",
    "        plot_train_history(history)\n",
    "                \n",
    "    index = history.history['val_acc'].index(max(history.history['val_acc']))\n",
    "    print('Best val_acc - {:.4} (epoch {:})'.format(history.history['val_acc'][index], index+1))\n",
    "    return history, model"
   ]
  },
  {
   "cell_type": "markdown",
   "metadata": {
    "heading_collapsed": true,
    "hidden": true
   },
   "source": [
    "#### Define Model"
   ]
  },
  {
   "cell_type": "code",
   "execution_count": 6,
   "metadata": {
    "ExecuteTime": {
     "end_time": "2019-09-09T18:15:28.090470Z",
     "start_time": "2019-09-09T18:15:27.259691Z"
    },
    "code_folding": [],
    "hidden": true,
    "scrolled": true
   },
   "outputs": [
    {
     "name": "stdout",
     "output_type": "stream",
     "text": [
      "Model: \"sequential_2\"\n",
      "_________________________________________________________________\n",
      "Layer (type)                 Output Shape              Param #   \n",
      "=================================================================\n",
      "conv2d_9 (Conv2D)            (None, 126, 126, 16)      448       \n",
      "_________________________________________________________________\n",
      "batch_normalization_9 (Batch (None, 126, 126, 16)      64        \n",
      "_________________________________________________________________\n",
      "activation_11 (Activation)   (None, 126, 126, 16)      0         \n",
      "_________________________________________________________________\n",
      "conv2d_10 (Conv2D)           (None, 124, 124, 20)      2900      \n",
      "_________________________________________________________________\n",
      "batch_normalization_10 (Batc (None, 124, 124, 20)      80        \n",
      "_________________________________________________________________\n",
      "activation_12 (Activation)   (None, 124, 124, 20)      0         \n",
      "_________________________________________________________________\n",
      "max_pooling2d_5 (MaxPooling2 (None, 62, 62, 20)        0         \n",
      "_________________________________________________________________\n",
      "dropout_5 (Dropout)          (None, 62, 62, 20)        0         \n",
      "_________________________________________________________________\n",
      "conv2d_11 (Conv2D)           (None, 60, 60, 20)        3620      \n",
      "_________________________________________________________________\n",
      "batch_normalization_11 (Batc (None, 60, 60, 20)        80        \n",
      "_________________________________________________________________\n",
      "activation_13 (Activation)   (None, 60, 60, 20)        0         \n",
      "_________________________________________________________________\n",
      "conv2d_12 (Conv2D)           (None, 58, 58, 32)        5792      \n",
      "_________________________________________________________________\n",
      "batch_normalization_12 (Batc (None, 58, 58, 32)        128       \n",
      "_________________________________________________________________\n",
      "activation_14 (Activation)   (None, 58, 58, 32)        0         \n",
      "_________________________________________________________________\n",
      "max_pooling2d_6 (MaxPooling2 (None, 29, 29, 32)        0         \n",
      "_________________________________________________________________\n",
      "dropout_6 (Dropout)          (None, 29, 29, 32)        0         \n",
      "_________________________________________________________________\n",
      "conv2d_13 (Conv2D)           (None, 27, 27, 20)        5780      \n",
      "_________________________________________________________________\n",
      "batch_normalization_13 (Batc (None, 27, 27, 20)        80        \n",
      "_________________________________________________________________\n",
      "activation_15 (Activation)   (None, 27, 27, 20)        0         \n",
      "_________________________________________________________________\n",
      "conv2d_14 (Conv2D)           (None, 25, 25, 20)        3620      \n",
      "_________________________________________________________________\n",
      "batch_normalization_14 (Batc (None, 25, 25, 20)        80        \n",
      "_________________________________________________________________\n",
      "activation_16 (Activation)   (None, 25, 25, 20)        0         \n",
      "_________________________________________________________________\n",
      "max_pooling2d_7 (MaxPooling2 (None, 12, 12, 20)        0         \n",
      "_________________________________________________________________\n",
      "dropout_7 (Dropout)          (None, 12, 12, 20)        0         \n",
      "_________________________________________________________________\n",
      "conv2d_15 (Conv2D)           (None, 10, 10, 20)        3620      \n",
      "_________________________________________________________________\n",
      "batch_normalization_15 (Batc (None, 10, 10, 20)        80        \n",
      "_________________________________________________________________\n",
      "activation_17 (Activation)   (None, 10, 10, 20)        0         \n",
      "_________________________________________________________________\n",
      "conv2d_16 (Conv2D)           (None, 8, 8, 16)          2896      \n",
      "_________________________________________________________________\n",
      "batch_normalization_16 (Batc (None, 8, 8, 16)          64        \n",
      "_________________________________________________________________\n",
      "activation_18 (Activation)   (None, 8, 8, 16)          0         \n",
      "_________________________________________________________________\n",
      "max_pooling2d_8 (MaxPooling2 (None, 4, 4, 16)          0         \n",
      "_________________________________________________________________\n",
      "dropout_8 (Dropout)          (None, 4, 4, 16)          0         \n",
      "_________________________________________________________________\n",
      "flatten_2 (Flatten)          (None, 256)               0         \n",
      "_________________________________________________________________\n",
      "dense_3 (Dense)              (None, 16)                4112      \n",
      "_________________________________________________________________\n",
      "activation_19 (Activation)   (None, 16)                0         \n",
      "_________________________________________________________________\n",
      "dense_4 (Dense)              (None, 4)                 68        \n",
      "_________________________________________________________________\n",
      "activation_20 (Activation)   (None, 4)                 0         \n",
      "=================================================================\n",
      "Total params: 33,512\n",
      "Trainable params: 33,184\n",
      "Non-trainable params: 328\n",
      "_________________________________________________________________\n"
     ]
    }
   ],
   "source": [
    "model_1 = Sequential([\n",
    "    Conv2D(16, (3, 3), strides=(1, 1), input_shape=(128, 128, 3), data_format=\"channels_last\", padding='valid'),   # RGB\n",
    "    BatchNormalization(),\n",
    "    Activation('relu'),\n",
    "    Conv2D(20, (3, 3), strides=(1, 1), padding='valid'),\n",
    "    BatchNormalization(),\n",
    "    Activation('relu'),\n",
    "    MaxPooling2D(pool_size=(2, 2)),\n",
    "    Dropout(0.3),\n",
    "    \n",
    "    Conv2D(20, (3, 3), strides=(1, 1), input_shape=(128, 128, 3), data_format=\"channels_last\", padding='valid'),   # RGB\n",
    "    BatchNormalization(),\n",
    "    Activation('relu'),\n",
    "    Conv2D(32, (3, 3), strides=(1, 1), padding='valid'),\n",
    "    BatchNormalization(),\n",
    "    Activation('relu'),\n",
    "    MaxPooling2D(pool_size=(2, 2)),\n",
    "    Dropout(0.3),\n",
    "    \n",
    "    Conv2D(20, (3, 3), strides=(1, 1), input_shape=(128, 128, 3), data_format=\"channels_last\", padding='valid'),   # RGB\n",
    "    BatchNormalization(),\n",
    "    Activation('relu'),\n",
    "    Conv2D(20, (3, 3), strides=(1, 1), padding='valid'),\n",
    "    BatchNormalization(),\n",
    "    Activation('relu'),\n",
    "    MaxPooling2D(pool_size=(2, 2)),\n",
    "    Dropout(0.3),\n",
    "    \n",
    "    Conv2D(20, (3, 3), strides=(1, 1), input_shape=(128, 128, 3), data_format=\"channels_last\", padding='valid'),   # RGB\n",
    "    BatchNormalization(),\n",
    "    Activation('relu'),\n",
    "    Conv2D(16, (3, 3), strides=(1, 1), padding='valid'),\n",
    "    BatchNormalization(),\n",
    "    Activation('relu'),\n",
    "    MaxPooling2D(pool_size=(2, 2)),\n",
    "    Dropout(0.3),\n",
    "    \n",
    "    Flatten(),\n",
    "    Dense(16),\n",
    "    Activation('relu'),\n",
    "    Dense(num_classes),\n",
    "    Activation('softmax')\n",
    "])\n",
    "model_1.summary()"
   ]
  },
  {
   "cell_type": "markdown",
   "metadata": {
    "heading_collapsed": true,
    "hidden": true
   },
   "source": [
    "#### Execute Training"
   ]
  },
  {
   "cell_type": "code",
   "execution_count": 8,
   "metadata": {
    "ExecuteTime": {
     "end_time": "2019-09-09T18:21:17.813097Z",
     "start_time": "2019-09-09T18:16:27.134765Z"
    },
    "hidden": true,
    "scrolled": true
   },
   "outputs": [
    {
     "name": "stderr",
     "output_type": "stream",
     "text": [
      "W0909 11:16:27.152717 13988 deprecation_wrapper.py:119] From C:\\Users\\kendy\\Anaconda3\\envs\\keras-gpu\\lib\\site-packages\\keras\\optimizers.py:793: The name tf.train.Optimizer is deprecated. Please use tf.compat.v1.train.Optimizer instead.\n",
      "\n",
      "W0909 11:16:28.282097 13988 deprecation.py:323] From C:\\Users\\kendy\\Anaconda3\\envs\\keras-gpu\\lib\\site-packages\\tensorflow\\python\\ops\\math_grad.py:1250: add_dispatch_support.<locals>.wrapper (from tensorflow.python.ops.array_ops) is deprecated and will be removed in a future version.\n",
      "Instructions for updating:\n",
      "Use tf.where in 2.0, which has the same broadcast rule as np.where\n"
     ]
    },
    {
     "name": "stdout",
     "output_type": "stream",
     "text": [
      "Epoch 1/200\n",
      "63/63 [==============================] - 9s 139ms/step - loss: 1.4401 - acc: 0.2649 - val_loss: 1.3662 - val_acc: 0.2765\n",
      "Epoch 2/200\n",
      "63/63 [==============================] - 5s 79ms/step - loss: 1.3530 - acc: 0.3043 - val_loss: 1.2303 - val_acc: 0.3583\n",
      "Epoch 3/200\n",
      "63/63 [==============================] - 5s 78ms/step - loss: 1.2282 - acc: 0.3757 - val_loss: 1.1238 - val_acc: 0.3992\n",
      "Epoch 4/200\n",
      "63/63 [==============================] - 5s 79ms/step - loss: 1.1284 - acc: 0.4173 - val_loss: 1.1097 - val_acc: 0.4402\n",
      "Epoch 5/200\n",
      "63/63 [==============================] - 5s 78ms/step - loss: 1.0436 - acc: 0.4886 - val_loss: 1.0151 - val_acc: 0.5508\n",
      "Epoch 6/200\n",
      "63/63 [==============================] - 5s 78ms/step - loss: 0.9264 - acc: 0.5569 - val_loss: 0.8087 - val_acc: 0.6636\n",
      "Epoch 7/200\n",
      "63/63 [==============================] - 5s 79ms/step - loss: 0.7866 - acc: 0.6388 - val_loss: 1.0718 - val_acc: 0.5492\n",
      "Epoch 8/200\n",
      "63/63 [==============================] - 5s 79ms/step - loss: 0.6614 - acc: 0.7047 - val_loss: 0.6183 - val_acc: 0.7735\n",
      "Epoch 9/200\n",
      "63/63 [==============================] - 5s 79ms/step - loss: 0.5382 - acc: 0.7727 - val_loss: 0.8052 - val_acc: 0.7023\n",
      "Epoch 10/200\n",
      "63/63 [==============================] - 5s 78ms/step - loss: 0.4259 - acc: 0.8299 - val_loss: 0.4172 - val_acc: 0.8598\n",
      "Epoch 11/200\n",
      "63/63 [==============================] - 5s 78ms/step - loss: 0.3419 - acc: 0.8702 - val_loss: 0.3147 - val_acc: 0.8818\n",
      "Epoch 12/200\n",
      "63/63 [==============================] - 5s 78ms/step - loss: 0.2705 - acc: 0.9010 - val_loss: 0.3174 - val_acc: 0.8977\n",
      "Epoch 13/200\n",
      "63/63 [==============================] - 5s 78ms/step - loss: 0.2264 - acc: 0.9175 - val_loss: 0.1288 - val_acc: 0.9523\n",
      "Epoch 14/200\n",
      "63/63 [==============================] - 5s 78ms/step - loss: 0.2131 - acc: 0.9231 - val_loss: 0.1278 - val_acc: 0.9515\n",
      "Epoch 15/200\n",
      "63/63 [==============================] - 5s 79ms/step - loss: 0.1740 - acc: 0.9381 - val_loss: 0.1566 - val_acc: 0.9348\n",
      "Epoch 16/200\n",
      "63/63 [==============================] - 5s 78ms/step - loss: 0.1826 - acc: 0.9332 - val_loss: 0.2328 - val_acc: 0.9083\n",
      "Epoch 17/200\n",
      "63/63 [==============================] - 5s 78ms/step - loss: 0.1636 - acc: 0.9406 - val_loss: 0.2054 - val_acc: 0.9250\n",
      "\n",
      "Epoch 00017: ReduceLROnPlateau reducing learning rate to 0.0005000000237487257.\n",
      "Epoch 18/200\n",
      "63/63 [==============================] - 5s 78ms/step - loss: 0.1403 - acc: 0.9499 - val_loss: 0.1094 - val_acc: 0.9583\n",
      "Epoch 19/200\n",
      "63/63 [==============================] - 5s 78ms/step - loss: 0.1260 - acc: 0.9531 - val_loss: 0.0858 - val_acc: 0.9674\n",
      "Epoch 20/200\n",
      "63/63 [==============================] - 5s 79ms/step - loss: 0.1283 - acc: 0.9539 - val_loss: 0.0949 - val_acc: 0.9636\n",
      "Epoch 21/200\n",
      "63/63 [==============================] - 5s 79ms/step - loss: 0.1166 - acc: 0.9588 - val_loss: 0.1190 - val_acc: 0.9538\n",
      "Epoch 22/200\n",
      "63/63 [==============================] - 5s 79ms/step - loss: 0.1170 - acc: 0.9582 - val_loss: 0.0857 - val_acc: 0.9659\n",
      "Epoch 23/200\n",
      "63/63 [==============================] - 5s 79ms/step - loss: 0.1078 - acc: 0.9635 - val_loss: 0.0980 - val_acc: 0.9644\n",
      "\n",
      "Epoch 00023: ReduceLROnPlateau reducing learning rate to 0.0002500000118743628.\n",
      "Epoch 24/200\n",
      "63/63 [==============================] - 5s 79ms/step - loss: 0.0966 - acc: 0.9664 - val_loss: 0.0697 - val_acc: 0.9758\n",
      "Epoch 25/200\n",
      "63/63 [==============================] - 5s 79ms/step - loss: 0.0892 - acc: 0.9701 - val_loss: 0.0703 - val_acc: 0.9720\n",
      "Epoch 26/200\n",
      "63/63 [==============================] - 5s 79ms/step - loss: 0.0953 - acc: 0.9665 - val_loss: 0.0767 - val_acc: 0.9667\n",
      "Epoch 27/200\n",
      "63/63 [==============================] - 5s 79ms/step - loss: 0.0873 - acc: 0.9707 - val_loss: 0.0748 - val_acc: 0.9742\n",
      "Epoch 28/200\n",
      "63/63 [==============================] - 5s 79ms/step - loss: 0.0923 - acc: 0.9680 - val_loss: 0.0717 - val_acc: 0.9712\n",
      "\n",
      "Epoch 00028: ReduceLROnPlateau reducing learning rate to 0.0001250000059371814.\n",
      "Epoch 29/200\n",
      "63/63 [==============================] - 5s 79ms/step - loss: 0.0819 - acc: 0.9721 - val_loss: 0.0605 - val_acc: 0.9788\n",
      "Epoch 30/200\n",
      "63/63 [==============================] - 5s 79ms/step - loss: 0.0866 - acc: 0.9716 - val_loss: 0.0661 - val_acc: 0.9765\n",
      "Epoch 31/200\n",
      "63/63 [==============================] - 5s 79ms/step - loss: 0.0834 - acc: 0.9737 - val_loss: 0.0641 - val_acc: 0.9780\n",
      "Epoch 32/200\n",
      "63/63 [==============================] - 5s 79ms/step - loss: 0.0849 - acc: 0.9702 - val_loss: 0.0645 - val_acc: 0.9773\n",
      "Epoch 33/200\n",
      "63/63 [==============================] - 5s 79ms/step - loss: 0.0762 - acc: 0.9742 - val_loss: 0.0582 - val_acc: 0.9780\n",
      "\n",
      "Epoch 00033: ReduceLROnPlateau reducing learning rate to 6.25000029685907e-05.\n",
      "Epoch 34/200\n",
      "63/63 [==============================] - 5s 78ms/step - loss: 0.0790 - acc: 0.9719 - val_loss: 0.0599 - val_acc: 0.9788\n",
      "Epoch 35/200\n",
      "63/63 [==============================] - 5s 79ms/step - loss: 0.0747 - acc: 0.9728 - val_loss: 0.0602 - val_acc: 0.9788\n",
      "Epoch 36/200\n",
      "63/63 [==============================] - 5s 79ms/step - loss: 0.0741 - acc: 0.9751 - val_loss: 0.0655 - val_acc: 0.9780\n",
      "Epoch 37/200\n",
      "63/63 [==============================] - 5s 79ms/step - loss: 0.0750 - acc: 0.9747 - val_loss: 0.0658 - val_acc: 0.9705\n",
      "\n",
      "Epoch 00037: ReduceLROnPlateau reducing learning rate to 3.125000148429535e-05.\n",
      "Epoch 38/200\n",
      "63/63 [==============================] - 5s 79ms/step - loss: 0.0713 - acc: 0.9749 - val_loss: 0.0599 - val_acc: 0.9795\n",
      "Epoch 39/200\n",
      "63/63 [==============================] - 5s 79ms/step - loss: 0.0707 - acc: 0.9742 - val_loss: 0.0607 - val_acc: 0.9773\n",
      "Epoch 40/200\n",
      "63/63 [==============================] - 5s 79ms/step - loss: 0.0697 - acc: 0.9759 - val_loss: 0.0593 - val_acc: 0.9788\n",
      "Epoch 41/200\n",
      "63/63 [==============================] - 5s 80ms/step - loss: 0.0706 - acc: 0.9772 - val_loss: 0.0579 - val_acc: 0.9795\n",
      "Epoch 42/200\n",
      "63/63 [==============================] - 5s 79ms/step - loss: 0.0745 - acc: 0.9747 - val_loss: 0.0566 - val_acc: 0.9795\n",
      "\n",
      "Epoch 00042: ReduceLROnPlateau reducing learning rate to 1.5625000742147677e-05.\n",
      "Epoch 43/200\n",
      "63/63 [==============================] - 5s 80ms/step - loss: 0.0702 - acc: 0.9763 - val_loss: 0.0576 - val_acc: 0.9795\n",
      "Epoch 44/200\n",
      "63/63 [==============================] - 5s 81ms/step - loss: 0.0733 - acc: 0.9735 - val_loss: 0.0573 - val_acc: 0.9795\n",
      "Epoch 45/200\n",
      "63/63 [==============================] - 5s 80ms/step - loss: 0.0727 - acc: 0.9738 - val_loss: 0.0602 - val_acc: 0.9765\n",
      "Epoch 46/200\n",
      "63/63 [==============================] - 5s 79ms/step - loss: 0.0747 - acc: 0.9742 - val_loss: 0.0607 - val_acc: 0.9758\n",
      "\n",
      "Epoch 00046: ReduceLROnPlateau reducing learning rate to 7.812500371073838e-06.\n",
      "Epoch 47/200\n",
      "63/63 [==============================] - 5s 80ms/step - loss: 0.0703 - acc: 0.9763 - val_loss: 0.0606 - val_acc: 0.9750\n",
      "Epoch 48/200\n",
      "63/63 [==============================] - 5s 80ms/step - loss: 0.0694 - acc: 0.9766 - val_loss: 0.0595 - val_acc: 0.9780\n",
      "Epoch 49/200\n",
      "63/63 [==============================] - 5s 79ms/step - loss: 0.0708 - acc: 0.9761 - val_loss: 0.0594 - val_acc: 0.9780\n",
      "Epoch 50/200\n",
      "63/63 [==============================] - 5s 79ms/step - loss: 0.0729 - acc: 0.9738 - val_loss: 0.0593 - val_acc: 0.9780\n",
      "\n",
      "Epoch 00050: ReduceLROnPlateau reducing learning rate to 3.906250185536919e-06.\n",
      "Epoch 51/200\n",
      "63/63 [==============================] - 5s 79ms/step - loss: 0.0711 - acc: 0.9750 - val_loss: 0.0595 - val_acc: 0.9788\n",
      "Epoch 52/200\n",
      "63/63 [==============================] - 5s 79ms/step - loss: 0.0698 - acc: 0.9759 - val_loss: 0.0595 - val_acc: 0.9780\n",
      "Epoch 53/200\n",
      "63/63 [==============================] - 5s 79ms/step - loss: 0.0676 - acc: 0.9753 - val_loss: 0.0597 - val_acc: 0.9773\n",
      "Epoch 54/200\n",
      "63/63 [==============================] - 5s 80ms/step - loss: 0.0754 - acc: 0.9725 - val_loss: 0.0596 - val_acc: 0.9773\n",
      "\n",
      "Epoch 00054: ReduceLROnPlateau reducing learning rate to 1.9531250927684596e-06.\n",
      "Epoch 55/200\n",
      "63/63 [==============================] - 5s 79ms/step - loss: 0.0736 - acc: 0.9753 - val_loss: 0.0597 - val_acc: 0.9773\n",
      "Epoch 56/200\n",
      "63/63 [==============================] - 5s 79ms/step - loss: 0.0664 - acc: 0.9764 - val_loss: 0.0598 - val_acc: 0.9765\n",
      "Epoch 57/200\n",
      "63/63 [==============================] - 5s 79ms/step - loss: 0.0701 - acc: 0.9747 - val_loss: 0.0597 - val_acc: 0.9773\n",
      "Restoring model weights from the end of the best epoch\n",
      "Epoch 00057: early stopping\n"
     ]
    },
    {
     "data": {
      "image/png": "[encoded data removed]",
      "text/plain": [
       "<Figure size 432x288 with 2 Axes>"
      ]
     },
     "metadata": {
      "needs_background": "light"
     },
     "output_type": "display_data"
    },
    {
     "name": "stdout",
     "output_type": "stream",
     "text": [
      "Best val_acc - 0.9795 (epoch 42)\n"
     ]
    }
   ],
   "source": [
    "opt = optimizers.Adam(lr=0.001, beta_1=0.9, beta_2=0.999, epsilon=None, decay=0.0, amsgrad=False)\n",
    "history, model_1 = train(model_1, opt=opt)"
   ]
  },
  {
   "cell_type": "code",
   "execution_count": 9,
   "metadata": {
    "ExecuteTime": {
     "end_time": "2019-09-09T18:21:32.657439Z",
     "start_time": "2019-09-09T18:21:31.549033Z"
    },
    "hidden": true
   },
   "outputs": [],
   "source": [
    "# save with the convention 'm[model number]_[# parameters]_[best val_acc].h5'\n",
    "model_1.save('..//models//m1_33512_9652.h5')"
   ]
  },
  {
   "cell_type": "markdown",
   "metadata": {
    "heading_collapsed": true,
    "hidden": true
   },
   "source": [
    "#### Predict validation set\n",
    "Everything looks good. The predictions sum to one and it is predicting the correct class"
   ]
  },
  {
   "cell_type": "code",
   "execution_count": null,
   "metadata": {
    "ExecuteTime": {
     "end_time": "2019-09-09T18:34:13.832588Z",
     "start_time": "2019-09-09T18:34:12.613386Z"
    },
    "hidden": true
   },
   "outputs": [],
   "source": [
    "train_generator = ImageDataGenerator().flow(x_train, y_train, batch_size=32)\n",
    "\n",
    "validation_generator = ImageDataGenerator().flow(x_test, y_test, batch_size=32)\n",
    "batchx, batchy = validation_generator.next()"
   ]
  },
  {
   "cell_type": "code",
   "execution_count": 23,
   "metadata": {
    "ExecuteTime": {
     "end_time": "2019-09-09T18:39:50.790496Z",
     "start_time": "2019-09-09T18:39:50.644884Z"
    },
    "hidden": true
   },
   "outputs": [
    {
     "data": {
      "text/plain": [
       "<matplotlib.image.AxesImage at 0x143bccbc288>"
      ]
     },
     "execution_count": 23,
     "metadata": {},
     "output_type": "execute_result"
    },
    {
     "data": {
      "image/png": "[encoded data removed]",
      "text/plain": [
       "<Figure size 432x288 with 1 Axes>"
      ]
     },
     "metadata": {
      "needs_background": "light"
     },
     "output_type": "display_data"
    }
   ],
   "source": [
    "plt.imshow(batchx[3].astype(np.uint8))"
   ]
  },
  {
   "cell_type": "code",
   "execution_count": 24,
   "metadata": {
    "ExecuteTime": {
     "end_time": "2019-09-09T18:40:39.123400Z",
     "start_time": "2019-09-09T18:40:38.835960Z"
    },
    "hidden": true
   },
   "outputs": [
    {
     "data": {
      "text/plain": [
       "(32, 4)"
      ]
     },
     "execution_count": 24,
     "metadata": {},
     "output_type": "execute_result"
    }
   ],
   "source": [
    "batchx_pred = model_1.predict(batchx)\n",
    "batchx_pred.shape"
   ]
  },
  {
   "cell_type": "code",
   "execution_count": 25,
   "metadata": {
    "ExecuteTime": {
     "end_time": "2019-09-09T18:40:44.692969Z",
     "start_time": "2019-09-09T18:40:44.684964Z"
    },
    "hidden": true
   },
   "outputs": [
    {
     "data": {
      "text/plain": [
       "2"
      ]
     },
     "execution_count": 25,
     "metadata": {},
     "output_type": "execute_result"
    }
   ],
   "source": [
    "batchx_pred[3].argmax()"
   ]
  },
  {
   "cell_type": "code",
   "execution_count": 27,
   "metadata": {
    "ExecuteTime": {
     "end_time": "2019-09-09T18:41:24.595815Z",
     "start_time": "2019-09-09T18:41:24.453196Z"
    },
    "hidden": true
   },
   "outputs": [
    {
     "data": {
      "text/plain": [
       "<matplotlib.image.AxesImage at 0x143bcd93648>"
      ]
     },
     "execution_count": 27,
     "metadata": {},
     "output_type": "execute_result"
    },
    {
     "data": {
      "image/png": "[encoded data removed]",
      "text/plain": [
       "<Figure size 432x288 with 1 Axes>"
      ]
     },
     "metadata": {
      "needs_background": "light"
     },
     "output_type": "display_data"
    }
   ],
   "source": [
    "plt.imshow(batchx[0].astype(np.uint8))"
   ]
  },
  {
   "cell_type": "code",
   "execution_count": 29,
   "metadata": {
    "ExecuteTime": {
     "end_time": "2019-09-09T18:41:37.433817Z",
     "start_time": "2019-09-09T18:41:37.429831Z"
    },
    "hidden": true
   },
   "outputs": [
    {
     "data": {
      "text/plain": [
       "0"
      ]
     },
     "execution_count": 29,
     "metadata": {},
     "output_type": "execute_result"
    }
   ],
   "source": [
    "batchx_pred[0].argmax()"
   ]
  },
  {
   "cell_type": "code",
   "execution_count": 31,
   "metadata": {
    "ExecuteTime": {
     "end_time": "2019-09-09T18:42:26.406224Z",
     "start_time": "2019-09-09T18:42:26.261578Z"
    },
    "hidden": true
   },
   "outputs": [
    {
     "data": {
      "text/plain": [
       "<matplotlib.image.AxesImage at 0x143bcdf5dc8>"
      ]
     },
     "execution_count": 31,
     "metadata": {},
     "output_type": "execute_result"
    },
    {
     "data": {
      "image/png": "[encoded data removed]",
      "text/plain": [
       "<Figure size 432x288 with 1 Axes>"
      ]
     },
     "metadata": {
      "needs_background": "light"
     },
     "output_type": "display_data"
    }
   ],
   "source": [
    "plt.imshow(batchx[1].astype(np.uint8))"
   ]
  },
  {
   "cell_type": "code",
   "execution_count": 32,
   "metadata": {
    "ExecuteTime": {
     "end_time": "2019-09-09T18:42:30.249767Z",
     "start_time": "2019-09-09T18:42:30.245751Z"
    },
    "hidden": true
   },
   "outputs": [
    {
     "data": {
      "text/plain": [
       "0"
      ]
     },
     "execution_count": 32,
     "metadata": {},
     "output_type": "execute_result"
    }
   ],
   "source": [
    "batchx_pred[1].argmax()"
   ]
  },
  {
   "cell_type": "code",
   "execution_count": 33,
   "metadata": {
    "ExecuteTime": {
     "end_time": "2019-09-09T18:42:26.406224Z",
     "start_time": "2019-09-09T18:42:26.261578Z"
    },
    "hidden": true
   },
   "outputs": [
    {
     "data": {
      "text/plain": [
       "<matplotlib.image.AxesImage at 0x143bb2c3788>"
      ]
     },
     "execution_count": 33,
     "metadata": {},
     "output_type": "execute_result"
    },
    {
     "data": {
      "image/png": "[encoded data removed]",
      "text/plain": [
       "<Figure size 432x288 with 1 Axes>"
      ]
     },
     "metadata": {
      "needs_background": "light"
     },
     "output_type": "display_data"
    }
   ],
   "source": [
    "plt.imshow(batchx[2].astype(np.uint8))"
   ]
  },
  {
   "cell_type": "code",
   "execution_count": 34,
   "metadata": {
    "ExecuteTime": {
     "end_time": "2019-09-09T18:42:30.249767Z",
     "start_time": "2019-09-09T18:42:30.245751Z"
    },
    "hidden": true
   },
   "outputs": [
    {
     "data": {
      "text/plain": [
       "3"
      ]
     },
     "execution_count": 34,
     "metadata": {},
     "output_type": "execute_result"
    }
   ],
   "source": [
    "batchx_pred[2].argmax()"
   ]
  },
  {
   "cell_type": "code",
   "execution_count": 36,
   "metadata": {
    "ExecuteTime": {
     "end_time": "2019-09-09T18:42:26.406224Z",
     "start_time": "2019-09-09T18:42:26.261578Z"
    },
    "hidden": true
   },
   "outputs": [
    {
     "data": {
      "text/plain": [
       "<matplotlib.image.AxesImage at 0x143bce55288>"
      ]
     },
     "execution_count": 36,
     "metadata": {},
     "output_type": "execute_result"
    },
    {
     "data": {
      "image/png": "[encoded data removed]",
      "text/plain": [
       "<Figure size 432x288 with 1 Axes>"
      ]
     },
     "metadata": {
      "needs_background": "light"
     },
     "output_type": "display_data"
    }
   ],
   "source": [
    "plt.imshow(batchx[5].astype(np.uint8))"
   ]
  },
  {
   "cell_type": "code",
   "execution_count": 37,
   "metadata": {
    "ExecuteTime": {
     "end_time": "2019-09-09T18:42:30.249767Z",
     "start_time": "2019-09-09T18:42:30.245751Z"
    },
    "hidden": true
   },
   "outputs": [
    {
     "data": {
      "text/plain": [
       "1"
      ]
     },
     "execution_count": 37,
     "metadata": {},
     "output_type": "execute_result"
    }
   ],
   "source": [
    "batchx_pred[5].argmax()"
   ]
  },
  {
   "cell_type": "code",
   "execution_count": 30,
   "metadata": {
    "ExecuteTime": {
     "end_time": "2019-09-09T18:41:54.562389Z",
     "start_time": "2019-09-09T18:41:54.558427Z"
    },
    "hidden": true
   },
   "outputs": [
    {
     "data": {
      "text/plain": [
       "1.0000001"
      ]
     },
     "execution_count": 30,
     "metadata": {},
     "output_type": "execute_result"
    }
   ],
   "source": [
    "batchx_pred[0].sum()"
   ]
  },
  {
   "cell_type": "markdown",
   "metadata": {
    "heading_collapsed": true
   },
   "source": [
    "## Model 2: 1/255 scaling - 0.9909 (epoch 54)"
   ]
  },
  {
   "cell_type": "markdown",
   "metadata": {
    "hidden": true
   },
   "source": [
    "#### Define Train function"
   ]
  },
  {
   "cell_type": "code",
   "execution_count": 39,
   "metadata": {
    "ExecuteTime": {
     "end_time": "2019-09-09T19:25:09.864027Z",
     "start_time": "2019-09-09T19:25:09.852060Z"
    },
    "code_folding": [],
    "hidden": true
   },
   "outputs": [],
   "source": [
    "my_callbacks = [callbacks.EarlyStopping(monitor='val_acc', patience=15, verbose=1, restore_best_weights=True),\n",
    "                callbacks.ReduceLROnPlateau(monitor='val_acc', factor=0.5, patience=4, min_lr=1e-6, mode='auto', verbose=1)]\n",
    "\n",
    "\n",
    "def train(model, epochs=200, initial_epoch=0, batch_size=128, lr=0.01, opt='adadelta', plot_hist='True'):\n",
    "    model.compile(loss='sparse_categorical_crossentropy',\n",
    "                  optimizer=opt,\n",
    "                  metrics=['accuracy'])\n",
    "\n",
    "#     can test augmentation techniques like brightness and rotation\n",
    "    train_generator = ImageDataGenerator(zca_whitening=False, zca_epsilon=1e-06, rotation_range=0, width_shift_range=0.0, height_shift_range=0.0, brightness_range=None, shear_range=0.0, zoom_range=0.0,\n",
    "                                         channel_shift_range=0.0, fill_mode='nearest', cval=0.0, horizontal_flip=False, vertical_flip=False, rescale=1/255, preprocessing_function=None, data_format=None, validation_split=0.0, dtype=None).flow(x_train, y_train, batch_size=batch_size, seed=11)\n",
    "\n",
    "    validation_generator = ImageDataGenerator(zca_whitening=False, zca_epsilon=1e-06, rotation_range=0, width_shift_range=0.0, height_shift_range=0.0, brightness_range=None, shear_range=0.0, zoom_range=0.0,\n",
    "                                              channel_shift_range=0.0, fill_mode='nearest', cval=0.0, horizontal_flip=False, vertical_flip=False, rescale=1/255, preprocessing_function=None, data_format=None, validation_split=0.0, dtype=None).flow(\n",
    "        x_test, y_test, batch_size=batch_size, seed=11)\n",
    "\n",
    "    history = model.fit_generator(generator=train_generator,\n",
    "                                  epochs=epochs+initial_epoch,\n",
    "                                  verbose=1,\n",
    "                                  callbacks=my_callbacks,\n",
    "                                  validation_data=validation_generator,\n",
    "                                  shuffle=True,\n",
    "                                  initial_epoch=initial_epoch)\n",
    "    if(plot_hist):\n",
    "        plot_train_history(history)\n",
    "\n",
    "    index = history.history['val_acc'].index(max(history.history['val_acc']))\n",
    "    print(\n",
    "        'Best val_acc - {:.4} (epoch {:})'.format(history.history['val_acc'][index], index+1))\n",
    "    return history, model"
   ]
  },
  {
   "cell_type": "markdown",
   "metadata": {
    "heading_collapsed": true,
    "hidden": true
   },
   "source": [
    "#### Define Model"
   ]
  },
  {
   "cell_type": "code",
   "execution_count": 40,
   "metadata": {
    "ExecuteTime": {
     "end_time": "2019-09-09T19:25:23.906339Z",
     "start_time": "2019-09-09T19:25:23.141386Z"
    },
    "code_folding": [],
    "hidden": true,
    "scrolled": true
   },
   "outputs": [
    {
     "name": "stdout",
     "output_type": "stream",
     "text": [
      "Model: \"sequential_3\"\n",
      "_________________________________________________________________\n",
      "Layer (type)                 Output Shape              Param #   \n",
      "=================================================================\n",
      "conv2d_17 (Conv2D)           (None, 126, 126, 16)      448       \n",
      "_________________________________________________________________\n",
      "batch_normalization_17 (Batc (None, 126, 126, 16)      64        \n",
      "_________________________________________________________________\n",
      "activation_21 (Activation)   (None, 126, 126, 16)      0         \n",
      "_________________________________________________________________\n",
      "conv2d_18 (Conv2D)           (None, 124, 124, 20)      2900      \n",
      "_________________________________________________________________\n",
      "batch_normalization_18 (Batc (None, 124, 124, 20)      80        \n",
      "_________________________________________________________________\n",
      "activation_22 (Activation)   (None, 124, 124, 20)      0         \n",
      "_________________________________________________________________\n",
      "max_pooling2d_9 (MaxPooling2 (None, 62, 62, 20)        0         \n",
      "_________________________________________________________________\n",
      "dropout_9 (Dropout)          (None, 62, 62, 20)        0         \n",
      "_________________________________________________________________\n",
      "conv2d_19 (Conv2D)           (None, 60, 60, 20)        3620      \n",
      "_________________________________________________________________\n",
      "batch_normalization_19 (Batc (None, 60, 60, 20)        80        \n",
      "_________________________________________________________________\n",
      "activation_23 (Activation)   (None, 60, 60, 20)        0         \n",
      "_________________________________________________________________\n",
      "conv2d_20 (Conv2D)           (None, 58, 58, 32)        5792      \n",
      "_________________________________________________________________\n",
      "batch_normalization_20 (Batc (None, 58, 58, 32)        128       \n",
      "_________________________________________________________________\n",
      "activation_24 (Activation)   (None, 58, 58, 32)        0         \n",
      "_________________________________________________________________\n",
      "max_pooling2d_10 (MaxPooling (None, 29, 29, 32)        0         \n",
      "_________________________________________________________________\n",
      "dropout_10 (Dropout)         (None, 29, 29, 32)        0         \n",
      "_________________________________________________________________\n",
      "conv2d_21 (Conv2D)           (None, 27, 27, 20)        5780      \n",
      "_________________________________________________________________\n",
      "batch_normalization_21 (Batc (None, 27, 27, 20)        80        \n",
      "_________________________________________________________________\n",
      "activation_25 (Activation)   (None, 27, 27, 20)        0         \n",
      "_________________________________________________________________\n",
      "conv2d_22 (Conv2D)           (None, 25, 25, 20)        3620      \n",
      "_________________________________________________________________\n",
      "batch_normalization_22 (Batc (None, 25, 25, 20)        80        \n",
      "_________________________________________________________________\n",
      "activation_26 (Activation)   (None, 25, 25, 20)        0         \n",
      "_________________________________________________________________\n",
      "max_pooling2d_11 (MaxPooling (None, 12, 12, 20)        0         \n",
      "_________________________________________________________________\n",
      "dropout_11 (Dropout)         (None, 12, 12, 20)        0         \n",
      "_________________________________________________________________\n",
      "conv2d_23 (Conv2D)           (None, 10, 10, 20)        3620      \n",
      "_________________________________________________________________\n",
      "batch_normalization_23 (Batc (None, 10, 10, 20)        80        \n",
      "_________________________________________________________________\n",
      "activation_27 (Activation)   (None, 10, 10, 20)        0         \n",
      "_________________________________________________________________\n",
      "conv2d_24 (Conv2D)           (None, 8, 8, 16)          2896      \n",
      "_________________________________________________________________\n",
      "batch_normalization_24 (Batc (None, 8, 8, 16)          64        \n",
      "_________________________________________________________________\n",
      "activation_28 (Activation)   (None, 8, 8, 16)          0         \n",
      "_________________________________________________________________\n",
      "max_pooling2d_12 (MaxPooling (None, 4, 4, 16)          0         \n",
      "_________________________________________________________________\n",
      "dropout_12 (Dropout)         (None, 4, 4, 16)          0         \n",
      "_________________________________________________________________\n",
      "flatten_3 (Flatten)          (None, 256)               0         \n",
      "_________________________________________________________________\n",
      "dense_5 (Dense)              (None, 16)                4112      \n",
      "_________________________________________________________________\n",
      "activation_29 (Activation)   (None, 16)                0         \n",
      "_________________________________________________________________\n",
      "dense_6 (Dense)              (None, 4)                 68        \n",
      "_________________________________________________________________\n",
      "activation_30 (Activation)   (None, 4)                 0         \n",
      "=================================================================\n",
      "Total params: 33,512\n",
      "Trainable params: 33,184\n",
      "Non-trainable params: 328\n",
      "_________________________________________________________________\n"
     ]
    }
   ],
   "source": [
    "model_2 = Sequential([\n",
    "    Conv2D(16, (3, 3), strides=(1, 1), input_shape=(128, 128, 3), data_format=\"channels_last\", padding='valid'),   # RGB\n",
    "    BatchNormalization(),\n",
    "    Activation('relu'),\n",
    "    Conv2D(20, (3, 3), strides=(1, 1), padding='valid'),\n",
    "    BatchNormalization(),\n",
    "    Activation('relu'),\n",
    "    MaxPooling2D(pool_size=(2, 2)),\n",
    "    Dropout(0.3),\n",
    "    \n",
    "    Conv2D(20, (3, 3), strides=(1, 1), input_shape=(128, 128, 3), data_format=\"channels_last\", padding='valid'),   # RGB\n",
    "    BatchNormalization(),\n",
    "    Activation('relu'),\n",
    "    Conv2D(32, (3, 3), strides=(1, 1), padding='valid'),\n",
    "    BatchNormalization(),\n",
    "    Activation('relu'),\n",
    "    MaxPooling2D(pool_size=(2, 2)),\n",
    "    Dropout(0.3),\n",
    "    \n",
    "    Conv2D(20, (3, 3), strides=(1, 1), input_shape=(128, 128, 3), data_format=\"channels_last\", padding='valid'),   # RGB\n",
    "    BatchNormalization(),\n",
    "    Activation('relu'),\n",
    "    Conv2D(20, (3, 3), strides=(1, 1), padding='valid'),\n",
    "    BatchNormalization(),\n",
    "    Activation('relu'),\n",
    "    MaxPooling2D(pool_size=(2, 2)),\n",
    "    Dropout(0.3),\n",
    "    \n",
    "    Conv2D(20, (3, 3), strides=(1, 1), input_shape=(128, 128, 3), data_format=\"channels_last\", padding='valid'),   # RGB\n",
    "    BatchNormalization(),\n",
    "    Activation('relu'),\n",
    "    Conv2D(16, (3, 3), strides=(1, 1), padding='valid'),\n",
    "    BatchNormalization(),\n",
    "    Activation('relu'),\n",
    "    MaxPooling2D(pool_size=(2, 2)),\n",
    "    Dropout(0.3),\n",
    "    \n",
    "    Flatten(),\n",
    "    Dense(16),\n",
    "    Activation('relu'),\n",
    "    Dense(num_classes),\n",
    "    Activation('softmax')\n",
    "])\n",
    "model_2.summary()"
   ]
  },
  {
   "cell_type": "markdown",
   "metadata": {
    "hidden": true
   },
   "source": [
    "#### Execute Training"
   ]
  },
  {
   "cell_type": "code",
   "execution_count": 41,
   "metadata": {
    "ExecuteTime": {
     "end_time": "2019-09-09T19:31:23.538347Z",
     "start_time": "2019-09-09T19:25:33.365178Z"
    },
    "hidden": true,
    "scrolled": true
   },
   "outputs": [
    {
     "name": "stdout",
     "output_type": "stream",
     "text": [
      "Epoch 1/200\n",
      "63/63 [==============================] - 7s 108ms/step - loss: 1.5040 - acc: 0.2770 - val_loss: 1.3793 - val_acc: 0.2977\n",
      "Epoch 2/200\n",
      "63/63 [==============================] - 5s 79ms/step - loss: 1.3797 - acc: 0.2836 - val_loss: 1.3535 - val_acc: 0.3606\n",
      "Epoch 3/200\n",
      "63/63 [==============================] - 5s 78ms/step - loss: 1.3243 - acc: 0.3624 - val_loss: 1.2518 - val_acc: 0.3894\n",
      "Epoch 4/200\n",
      "63/63 [==============================] - 5s 78ms/step - loss: 1.2281 - acc: 0.4119 - val_loss: 1.2377 - val_acc: 0.4379\n",
      "Epoch 5/200\n",
      "63/63 [==============================] - 5s 78ms/step - loss: 1.1276 - acc: 0.4705 - val_loss: 1.0940 - val_acc: 0.5492\n",
      "Epoch 6/200\n",
      "63/63 [==============================] - 5s 79ms/step - loss: 1.0298 - acc: 0.5355 - val_loss: 0.9799 - val_acc: 0.5962\n",
      "Epoch 7/200\n",
      "63/63 [==============================] - 5s 79ms/step - loss: 0.8671 - acc: 0.6324 - val_loss: 1.3028 - val_acc: 0.5167\n",
      "Epoch 8/200\n",
      "63/63 [==============================] - 5s 79ms/step - loss: 0.7009 - acc: 0.7054 - val_loss: 1.0200 - val_acc: 0.6500\n",
      "Epoch 9/200\n",
      "63/63 [==============================] - 5s 78ms/step - loss: 0.5657 - acc: 0.7687 - val_loss: 0.9614 - val_acc: 0.6826\n",
      "Epoch 10/200\n",
      "63/63 [==============================] - 5s 79ms/step - loss: 0.4668 - acc: 0.8156 - val_loss: 0.4754 - val_acc: 0.8386\n",
      "Epoch 11/200\n",
      "63/63 [==============================] - 5s 78ms/step - loss: 0.3884 - acc: 0.8504 - val_loss: 0.3397 - val_acc: 0.8856\n",
      "Epoch 12/200\n",
      "63/63 [==============================] - 5s 79ms/step - loss: 0.3169 - acc: 0.8813 - val_loss: 0.3554 - val_acc: 0.8795\n",
      "Epoch 13/200\n",
      "63/63 [==============================] - 5s 79ms/step - loss: 0.2837 - acc: 0.8956 - val_loss: 0.2132 - val_acc: 0.9311\n",
      "Epoch 14/200\n",
      "63/63 [==============================] - 5s 80ms/step - loss: 0.2388 - acc: 0.9128 - val_loss: 0.2508 - val_acc: 0.9136\n",
      "Epoch 15/200\n",
      "63/63 [==============================] - 5s 80ms/step - loss: 0.2129 - acc: 0.9251 - val_loss: 0.1389 - val_acc: 0.9477\n",
      "Epoch 16/200\n",
      "63/63 [==============================] - 5s 80ms/step - loss: 0.1904 - acc: 0.9308 - val_loss: 0.2061 - val_acc: 0.9242\n",
      "Epoch 17/200\n",
      "63/63 [==============================] - 5s 80ms/step - loss: 0.1702 - acc: 0.9365 - val_loss: 0.2524 - val_acc: 0.9144\n",
      "Epoch 18/200\n",
      "63/63 [==============================] - 5s 80ms/step - loss: 0.1657 - acc: 0.9397 - val_loss: 0.1406 - val_acc: 0.9485\n",
      "Epoch 19/200\n",
      "63/63 [==============================] - 5s 80ms/step - loss: 0.1562 - acc: 0.9433 - val_loss: 0.1007 - val_acc: 0.9606\n",
      "Epoch 20/200\n",
      "63/63 [==============================] - 5s 79ms/step - loss: 0.1412 - acc: 0.9485 - val_loss: 0.1380 - val_acc: 0.9530\n",
      "Epoch 21/200\n",
      "63/63 [==============================] - 5s 79ms/step - loss: 0.1304 - acc: 0.9546 - val_loss: 0.0900 - val_acc: 0.9652\n",
      "Epoch 22/200\n",
      "63/63 [==============================] - 5s 80ms/step - loss: 0.1312 - acc: 0.9534 - val_loss: 0.1125 - val_acc: 0.9606\n",
      "Epoch 23/200\n",
      "63/63 [==============================] - 5s 80ms/step - loss: 0.1148 - acc: 0.9576 - val_loss: 0.1181 - val_acc: 0.9530\n",
      "Epoch 24/200\n",
      "63/63 [==============================] - 5s 79ms/step - loss: 0.1146 - acc: 0.9588 - val_loss: 0.0747 - val_acc: 0.9659\n",
      "Epoch 25/200\n",
      "63/63 [==============================] - 5s 79ms/step - loss: 0.1119 - acc: 0.9596 - val_loss: 0.1140 - val_acc: 0.9568\n",
      "Epoch 26/200\n",
      "63/63 [==============================] - 5s 79ms/step - loss: 0.1059 - acc: 0.9597 - val_loss: 0.0895 - val_acc: 0.9674\n",
      "Epoch 27/200\n",
      "63/63 [==============================] - 5s 80ms/step - loss: 0.0958 - acc: 0.9658 - val_loss: 0.1039 - val_acc: 0.9652\n",
      "Epoch 28/200\n",
      "63/63 [==============================] - 5s 80ms/step - loss: 0.0931 - acc: 0.9684 - val_loss: 0.1264 - val_acc: 0.9508\n",
      "Epoch 29/200\n",
      "63/63 [==============================] - 5s 80ms/step - loss: 0.0869 - acc: 0.9675 - val_loss: 0.0861 - val_acc: 0.9652\n",
      "Epoch 30/200\n",
      "63/63 [==============================] - 5s 79ms/step - loss: 0.0835 - acc: 0.9696 - val_loss: 0.0746 - val_acc: 0.9735\n",
      "Epoch 31/200\n",
      "63/63 [==============================] - 5s 80ms/step - loss: 0.0782 - acc: 0.9707 - val_loss: 0.0755 - val_acc: 0.9742\n",
      "Epoch 32/200\n",
      "63/63 [==============================] - 5s 79ms/step - loss: 0.0733 - acc: 0.9730 - val_loss: 0.0610 - val_acc: 0.9742\n",
      "Epoch 33/200\n",
      "63/63 [==============================] - 5s 79ms/step - loss: 0.0709 - acc: 0.9749 - val_loss: 0.0672 - val_acc: 0.9773\n",
      "Epoch 34/200\n",
      "63/63 [==============================] - 5s 79ms/step - loss: 0.0691 - acc: 0.9735 - val_loss: 0.1095 - val_acc: 0.9576\n",
      "Epoch 35/200\n",
      "63/63 [==============================] - 5s 79ms/step - loss: 0.0641 - acc: 0.9753 - val_loss: 0.0746 - val_acc: 0.9735\n",
      "Epoch 36/200\n",
      "63/63 [==============================] - 5s 79ms/step - loss: 0.0586 - acc: 0.9802 - val_loss: 0.0632 - val_acc: 0.9765\n",
      "Epoch 37/200\n",
      "63/63 [==============================] - 5s 80ms/step - loss: 0.0660 - acc: 0.9740 - val_loss: 0.0714 - val_acc: 0.9735\n",
      "\n",
      "Epoch 00037: ReduceLROnPlateau reducing learning rate to 0.0005000000237487257.\n",
      "Epoch 38/200\n",
      "63/63 [==============================] - 5s 80ms/step - loss: 0.0568 - acc: 0.9798 - val_loss: 0.0348 - val_acc: 0.9879\n",
      "Epoch 39/200\n",
      "63/63 [==============================] - 5s 79ms/step - loss: 0.0432 - acc: 0.9850 - val_loss: 0.0456 - val_acc: 0.9826\n",
      "Epoch 40/200\n",
      "63/63 [==============================] - 5s 79ms/step - loss: 0.0463 - acc: 0.9840 - val_loss: 0.0305 - val_acc: 0.9879\n",
      "Epoch 41/200\n",
      "63/63 [==============================] - 5s 80ms/step - loss: 0.0459 - acc: 0.9821 - val_loss: 0.0757 - val_acc: 0.9689\n",
      "Epoch 42/200\n",
      "63/63 [==============================] - 5s 79ms/step - loss: 0.0468 - acc: 0.9829 - val_loss: 0.0583 - val_acc: 0.9773\n",
      "\n",
      "Epoch 00042: ReduceLROnPlateau reducing learning rate to 0.0002500000118743628.\n",
      "Epoch 43/200\n",
      "63/63 [==============================] - 5s 79ms/step - loss: 0.0421 - acc: 0.9855 - val_loss: 0.0498 - val_acc: 0.9803\n",
      "Epoch 44/200\n",
      "63/63 [==============================] - 5s 80ms/step - loss: 0.0357 - acc: 0.9878 - val_loss: 0.0339 - val_acc: 0.9879\n",
      "Epoch 45/200\n",
      "63/63 [==============================] - 5s 79ms/step - loss: 0.0365 - acc: 0.9870 - val_loss: 0.0328 - val_acc: 0.9886\n",
      "Epoch 46/200\n",
      "63/63 [==============================] - 5s 79ms/step - loss: 0.0314 - acc: 0.9886 - val_loss: 0.0365 - val_acc: 0.9886\n",
      "Epoch 47/200\n",
      "63/63 [==============================] - 5s 79ms/step - loss: 0.0325 - acc: 0.9893 - val_loss: 0.0301 - val_acc: 0.9886\n",
      "Epoch 48/200\n",
      "63/63 [==============================] - 5s 80ms/step - loss: 0.0280 - acc: 0.9905 - val_loss: 0.0366 - val_acc: 0.9886\n",
      "Epoch 49/200\n",
      "63/63 [==============================] - 5s 81ms/step - loss: 0.0359 - acc: 0.9869 - val_loss: 0.0381 - val_acc: 0.9833\n",
      "\n",
      "Epoch 00049: ReduceLROnPlateau reducing learning rate to 0.0001250000059371814.\n",
      "Epoch 50/200\n",
      "63/63 [==============================] - 5s 79ms/step - loss: 0.0314 - acc: 0.9890 - val_loss: 0.0324 - val_acc: 0.9886\n",
      "Epoch 51/200\n",
      "63/63 [==============================] - 5s 79ms/step - loss: 0.0266 - acc: 0.9905 - val_loss: 0.0371 - val_acc: 0.9864\n",
      "Epoch 52/200\n",
      "63/63 [==============================] - 5s 79ms/step - loss: 0.0303 - acc: 0.9898 - val_loss: 0.0317 - val_acc: 0.9886\n",
      "Epoch 53/200\n",
      "63/63 [==============================] - 5s 79ms/step - loss: 0.0296 - acc: 0.9895 - val_loss: 0.0330 - val_acc: 0.9886\n",
      "\n",
      "Epoch 00053: ReduceLROnPlateau reducing learning rate to 6.25000029685907e-05.\n",
      "Epoch 54/200\n",
      "63/63 [==============================] - 5s 79ms/step - loss: 0.0283 - acc: 0.9905 - val_loss: 0.0329 - val_acc: 0.9909\n",
      "Epoch 55/200\n",
      "63/63 [==============================] - 5s 79ms/step - loss: 0.0263 - acc: 0.9908 - val_loss: 0.0321 - val_acc: 0.9886\n",
      "Epoch 56/200\n",
      "63/63 [==============================] - 5s 79ms/step - loss: 0.0252 - acc: 0.9926 - val_loss: 0.0314 - val_acc: 0.9879\n",
      "Epoch 57/200\n",
      "63/63 [==============================] - 5s 80ms/step - loss: 0.0254 - acc: 0.9905 - val_loss: 0.0348 - val_acc: 0.9886\n",
      "Epoch 58/200\n",
      "63/63 [==============================] - 5s 79ms/step - loss: 0.0257 - acc: 0.9901 - val_loss: 0.0320 - val_acc: 0.9894\n",
      "\n",
      "Epoch 00058: ReduceLROnPlateau reducing learning rate to 3.125000148429535e-05.\n",
      "Epoch 59/200\n",
      "63/63 [==============================] - 5s 80ms/step - loss: 0.0253 - acc: 0.9919 - val_loss: 0.0317 - val_acc: 0.9902\n",
      "Epoch 60/200\n",
      "63/63 [==============================] - 5s 80ms/step - loss: 0.0233 - acc: 0.9907 - val_loss: 0.0320 - val_acc: 0.9902\n",
      "Epoch 61/200\n",
      "63/63 [==============================] - 5s 79ms/step - loss: 0.0267 - acc: 0.9911 - val_loss: 0.0332 - val_acc: 0.9886\n",
      "Epoch 62/200\n",
      "63/63 [==============================] - 5s 79ms/step - loss: 0.0232 - acc: 0.9916 - val_loss: 0.0319 - val_acc: 0.9894\n",
      "\n",
      "Epoch 00062: ReduceLROnPlateau reducing learning rate to 1.5625000742147677e-05.\n",
      "Epoch 63/200\n",
      "63/63 [==============================] - 5s 79ms/step - loss: 0.0271 - acc: 0.9901 - val_loss: 0.0326 - val_acc: 0.9886\n",
      "Epoch 64/200\n",
      "63/63 [==============================] - 5s 80ms/step - loss: 0.0247 - acc: 0.9924 - val_loss: 0.0327 - val_acc: 0.9886\n",
      "Epoch 65/200\n",
      "63/63 [==============================] - 5s 79ms/step - loss: 0.0262 - acc: 0.9905 - val_loss: 0.0315 - val_acc: 0.9894\n",
      "Epoch 66/200\n",
      "63/63 [==============================] - 5s 79ms/step - loss: 0.0244 - acc: 0.9937 - val_loss: 0.0323 - val_acc: 0.9894\n",
      "\n",
      "Epoch 00066: ReduceLROnPlateau reducing learning rate to 7.812500371073838e-06.\n",
      "Epoch 67/200\n",
      "63/63 [==============================] - 5s 79ms/step - loss: 0.0262 - acc: 0.9911 - val_loss: 0.0328 - val_acc: 0.9894\n",
      "Epoch 68/200\n",
      "63/63 [==============================] - 5s 79ms/step - loss: 0.0239 - acc: 0.9917 - val_loss: 0.0320 - val_acc: 0.9902\n",
      "Epoch 69/200\n",
      "63/63 [==============================] - 5s 79ms/step - loss: 0.0249 - acc: 0.9914 - val_loss: 0.0323 - val_acc: 0.9902\n",
      "Restoring model weights from the end of the best epoch\n",
      "Epoch 00069: early stopping\n"
     ]
    },
    {
     "data": {
      "image/png": "[encoded data removed]",
      "text/plain": [
       "<Figure size 432x288 with 2 Axes>"
      ]
     },
     "metadata": {
      "needs_background": "light"
     },
     "output_type": "display_data"
    },
    {
     "name": "stdout",
     "output_type": "stream",
     "text": [
      "Best val_acc - 0.9909 (epoch 54)\n"
     ]
    }
   ],
   "source": [
    "opt = optimizers.Adam(lr=0.001, beta_1=0.9, beta_2=0.999, epsilon=None, decay=0.0, amsgrad=False)\n",
    "history, model_2 = train(model_2, opt=opt)"
   ]
  },
  {
   "cell_type": "code",
   "execution_count": 42,
   "metadata": {
    "ExecuteTime": {
     "end_time": "2019-09-09T19:35:19.259471Z",
     "start_time": "2019-09-09T19:35:17.606039Z"
    },
    "hidden": true
   },
   "outputs": [],
   "source": [
    "# save with the convention 'm[model number]_[# parameters]_[best val_acc].h5'\n",
    "model_2.save('..//models//m2_33512_9652.h5')"
   ]
  },
  {
   "cell_type": "markdown",
   "metadata": {
    "hidden": true
   },
   "source": [
    "I have tested this bitch on an iPhone XS and it works beautifully 👌🔥"
   ]
  },
  {
   "cell_type": "markdown",
   "metadata": {
    "heading_collapsed": true
   },
   "source": [
    "## Model 3: SHRINK IT 26,078 - 0.9879 (epoch 35)"
   ]
  },
  {
   "cell_type": "markdown",
   "metadata": {
    "hidden": true
   },
   "source": [
    "#### Define Model"
   ]
  },
  {
   "cell_type": "code",
   "execution_count": 43,
   "metadata": {
    "ExecuteTime": {
     "end_time": "2019-09-09T19:49:02.412138Z",
     "start_time": "2019-09-09T19:49:01.622248Z"
    },
    "code_folding": [],
    "hidden": true,
    "scrolled": true
   },
   "outputs": [
    {
     "name": "stdout",
     "output_type": "stream",
     "text": [
      "Model: \"sequential_4\"\n",
      "_________________________________________________________________\n",
      "Layer (type)                 Output Shape              Param #   \n",
      "=================================================================\n",
      "conv2d_25 (Conv2D)           (None, 126, 126, 16)      448       \n",
      "_________________________________________________________________\n",
      "batch_normalization_25 (Batc (None, 126, 126, 16)      64        \n",
      "_________________________________________________________________\n",
      "activation_31 (Activation)   (None, 126, 126, 16)      0         \n",
      "_________________________________________________________________\n",
      "conv2d_26 (Conv2D)           (None, 124, 124, 18)      2610      \n",
      "_________________________________________________________________\n",
      "batch_normalization_26 (Batc (None, 124, 124, 18)      72        \n",
      "_________________________________________________________________\n",
      "activation_32 (Activation)   (None, 124, 124, 18)      0         \n",
      "_________________________________________________________________\n",
      "max_pooling2d_13 (MaxPooling (None, 62, 62, 18)        0         \n",
      "_________________________________________________________________\n",
      "dropout_13 (Dropout)         (None, 62, 62, 18)        0         \n",
      "_________________________________________________________________\n",
      "conv2d_27 (Conv2D)           (None, 60, 60, 18)        2934      \n",
      "_________________________________________________________________\n",
      "batch_normalization_27 (Batc (None, 60, 60, 18)        72        \n",
      "_________________________________________________________________\n",
      "activation_33 (Activation)   (None, 60, 60, 18)        0         \n",
      "_________________________________________________________________\n",
      "conv2d_28 (Conv2D)           (None, 58, 58, 20)        3260      \n",
      "_________________________________________________________________\n",
      "batch_normalization_28 (Batc (None, 58, 58, 20)        80        \n",
      "_________________________________________________________________\n",
      "activation_34 (Activation)   (None, 58, 58, 20)        0         \n",
      "_________________________________________________________________\n",
      "max_pooling2d_14 (MaxPooling (None, 29, 29, 20)        0         \n",
      "_________________________________________________________________\n",
      "dropout_14 (Dropout)         (None, 29, 29, 20)        0         \n",
      "_________________________________________________________________\n",
      "conv2d_29 (Conv2D)           (None, 27, 27, 20)        3620      \n",
      "_________________________________________________________________\n",
      "batch_normalization_29 (Batc (None, 27, 27, 20)        80        \n",
      "_________________________________________________________________\n",
      "activation_35 (Activation)   (None, 27, 27, 20)        0         \n",
      "_________________________________________________________________\n",
      "conv2d_30 (Conv2D)           (None, 25, 25, 20)        3620      \n",
      "_________________________________________________________________\n",
      "batch_normalization_30 (Batc (None, 25, 25, 20)        80        \n",
      "_________________________________________________________________\n",
      "activation_36 (Activation)   (None, 25, 25, 20)        0         \n",
      "_________________________________________________________________\n",
      "max_pooling2d_15 (MaxPooling (None, 12, 12, 20)        0         \n",
      "_________________________________________________________________\n",
      "dropout_15 (Dropout)         (None, 12, 12, 20)        0         \n",
      "_________________________________________________________________\n",
      "conv2d_31 (Conv2D)           (None, 10, 10, 18)        3258      \n",
      "_________________________________________________________________\n",
      "batch_normalization_31 (Batc (None, 10, 10, 18)        72        \n",
      "_________________________________________________________________\n",
      "activation_37 (Activation)   (None, 10, 10, 18)        0         \n",
      "_________________________________________________________________\n",
      "conv2d_32 (Conv2D)           (None, 8, 8, 16)          2608      \n",
      "_________________________________________________________________\n",
      "batch_normalization_32 (Batc (None, 8, 8, 16)          64        \n",
      "_________________________________________________________________\n",
      "activation_38 (Activation)   (None, 8, 8, 16)          0         \n",
      "_________________________________________________________________\n",
      "max_pooling2d_16 (MaxPooling (None, 4, 4, 16)          0         \n",
      "_________________________________________________________________\n",
      "dropout_16 (Dropout)         (None, 4, 4, 16)          0         \n",
      "_________________________________________________________________\n",
      "flatten_4 (Flatten)          (None, 256)               0         \n",
      "_________________________________________________________________\n",
      "dense_7 (Dense)              (None, 12)                3084      \n",
      "_________________________________________________________________\n",
      "activation_39 (Activation)   (None, 12)                0         \n",
      "_________________________________________________________________\n",
      "dense_8 (Dense)              (None, 4)                 52        \n",
      "_________________________________________________________________\n",
      "activation_40 (Activation)   (None, 4)                 0         \n",
      "=================================================================\n",
      "Total params: 26,078\n",
      "Trainable params: 25,786\n",
      "Non-trainable params: 292\n",
      "_________________________________________________________________\n"
     ]
    }
   ],
   "source": [
    "model_3 = Sequential([\n",
    "    Conv2D(16, (3, 3), strides=(1, 1), input_shape=(128, 128, 3), data_format=\"channels_last\", padding='valid'),   # RGB\n",
    "    BatchNormalization(),\n",
    "    Activation('relu'),\n",
    "    Conv2D(18, (3, 3), strides=(1, 1), padding='valid'),\n",
    "    BatchNormalization(),\n",
    "    Activation('relu'),\n",
    "    MaxPooling2D(pool_size=(2, 2)),\n",
    "    Dropout(0.3),\n",
    "    \n",
    "    Conv2D(18, (3, 3), strides=(1, 1), input_shape=(128, 128, 3), data_format=\"channels_last\", padding='valid'),   # RGB\n",
    "    BatchNormalization(),\n",
    "    Activation('relu'),\n",
    "    Conv2D(20, (3, 3), strides=(1, 1), padding='valid'),\n",
    "    BatchNormalization(),\n",
    "    Activation('relu'),\n",
    "    MaxPooling2D(pool_size=(2, 2)),\n",
    "    Dropout(0.3),\n",
    "    \n",
    "    Conv2D(20, (3, 3), strides=(1, 1), input_shape=(128, 128, 3), data_format=\"channels_last\", padding='valid'),   # RGB\n",
    "    BatchNormalization(),\n",
    "    Activation('relu'),\n",
    "    Conv2D(20, (3, 3), strides=(1, 1), padding='valid'),\n",
    "    BatchNormalization(),\n",
    "    Activation('relu'),\n",
    "    MaxPooling2D(pool_size=(2, 2)),\n",
    "    Dropout(0.3),\n",
    "    \n",
    "    Conv2D(18, (3, 3), strides=(1, 1), input_shape=(128, 128, 3), data_format=\"channels_last\", padding='valid'),   # RGB\n",
    "    BatchNormalization(),\n",
    "    Activation('relu'),\n",
    "    Conv2D(16, (3, 3), strides=(1, 1), padding='valid'),\n",
    "    BatchNormalization(),\n",
    "    Activation('relu'),\n",
    "    MaxPooling2D(pool_size=(2, 2)),\n",
    "    Dropout(0.3),\n",
    "    \n",
    "    Flatten(),\n",
    "    Dense(12),\n",
    "    Activation('relu'),\n",
    "    Dense(num_classes),\n",
    "    Activation('softmax')\n",
    "])\n",
    "model_3.summary()"
   ]
  },
  {
   "cell_type": "markdown",
   "metadata": {
    "hidden": true
   },
   "source": [
    "#### Execute Training"
   ]
  },
  {
   "cell_type": "code",
   "execution_count": 44,
   "metadata": {
    "ExecuteTime": {
     "end_time": "2019-09-09T19:53:26.372677Z",
     "start_time": "2019-09-09T19:49:23.463758Z"
    },
    "hidden": true,
    "scrolled": true
   },
   "outputs": [
    {
     "name": "stdout",
     "output_type": "stream",
     "text": [
      "Epoch 1/200\n",
      "63/63 [==============================] - 7s 112ms/step - loss: 1.4558 - acc: 0.2610 - val_loss: 1.3841 - val_acc: 0.2667\n",
      "Epoch 2/200\n",
      "63/63 [==============================] - 5s 75ms/step - loss: 1.3786 - acc: 0.2793 - val_loss: 1.3810 - val_acc: 0.2758\n",
      "Epoch 3/200\n",
      "63/63 [==============================] - 5s 75ms/step - loss: 1.3624 - acc: 0.3125 - val_loss: 1.3674 - val_acc: 0.3152\n",
      "Epoch 4/200\n",
      "63/63 [==============================] - 5s 75ms/step - loss: 1.3266 - acc: 0.3655 - val_loss: 1.2933 - val_acc: 0.4189\n",
      "Epoch 5/200\n",
      "63/63 [==============================] - 5s 76ms/step - loss: 1.2600 - acc: 0.4282 - val_loss: 1.2915 - val_acc: 0.4205\n",
      "Epoch 6/200\n",
      "63/63 [==============================] - 5s 75ms/step - loss: 1.1498 - acc: 0.5091 - val_loss: 1.2012 - val_acc: 0.4682\n",
      "Epoch 7/200\n",
      "63/63 [==============================] - 5s 75ms/step - loss: 1.0045 - acc: 0.5868 - val_loss: 1.1472 - val_acc: 0.5318\n",
      "Epoch 8/200\n",
      "63/63 [==============================] - 5s 75ms/step - loss: 0.8198 - acc: 0.6746 - val_loss: 0.7920 - val_acc: 0.6992\n",
      "Epoch 9/200\n",
      "63/63 [==============================] - 5s 75ms/step - loss: 0.6672 - acc: 0.7467 - val_loss: 0.5667 - val_acc: 0.7932\n",
      "Epoch 10/200\n",
      "63/63 [==============================] - 5s 75ms/step - loss: 0.5536 - acc: 0.7873 - val_loss: 0.5242 - val_acc: 0.8038\n",
      "Epoch 11/200\n",
      "63/63 [==============================] - 5s 75ms/step - loss: 0.4948 - acc: 0.8187 - val_loss: 0.3986 - val_acc: 0.8553\n",
      "Epoch 12/200\n",
      "63/63 [==============================] - 5s 75ms/step - loss: 0.4197 - acc: 0.8477 - val_loss: 0.5622 - val_acc: 0.7894\n",
      "Epoch 13/200\n",
      "63/63 [==============================] - 5s 75ms/step - loss: 0.3379 - acc: 0.8786 - val_loss: 0.5824 - val_acc: 0.7939\n",
      "Epoch 14/200\n",
      "63/63 [==============================] - 5s 75ms/step - loss: 0.2770 - acc: 0.8997 - val_loss: 0.3138 - val_acc: 0.8848\n",
      "Epoch 15/200\n",
      "63/63 [==============================] - 5s 75ms/step - loss: 0.2410 - acc: 0.9132 - val_loss: 0.1973 - val_acc: 0.9250\n",
      "Epoch 16/200\n",
      "63/63 [==============================] - 5s 75ms/step - loss: 0.2130 - acc: 0.9201 - val_loss: 0.1620 - val_acc: 0.9364\n",
      "Epoch 17/200\n",
      "63/63 [==============================] - 5s 76ms/step - loss: 0.1912 - acc: 0.9348 - val_loss: 0.1477 - val_acc: 0.9386\n",
      "Epoch 18/200\n",
      "63/63 [==============================] - 5s 75ms/step - loss: 0.1693 - acc: 0.9400 - val_loss: 0.1429 - val_acc: 0.9485\n",
      "Epoch 19/200\n",
      "63/63 [==============================] - 5s 75ms/step - loss: 0.1468 - acc: 0.9471 - val_loss: 0.1209 - val_acc: 0.9553\n",
      "Epoch 20/200\n",
      "63/63 [==============================] - 5s 75ms/step - loss: 0.1474 - acc: 0.9490 - val_loss: 0.1135 - val_acc: 0.9583\n",
      "Epoch 21/200\n",
      "63/63 [==============================] - 5s 75ms/step - loss: 0.1412 - acc: 0.9502 - val_loss: 0.0920 - val_acc: 0.9621\n",
      "Epoch 22/200\n",
      "63/63 [==============================] - 5s 75ms/step - loss: 0.1312 - acc: 0.9521 - val_loss: 0.0957 - val_acc: 0.9621\n",
      "Epoch 23/200\n",
      "63/63 [==============================] - 5s 75ms/step - loss: 0.1157 - acc: 0.9586 - val_loss: 0.0836 - val_acc: 0.9682\n",
      "Epoch 24/200\n",
      "63/63 [==============================] - 5s 75ms/step - loss: 0.1138 - acc: 0.9598 - val_loss: 0.0886 - val_acc: 0.9667\n",
      "Epoch 25/200\n",
      "63/63 [==============================] - 5s 75ms/step - loss: 0.1146 - acc: 0.9613 - val_loss: 0.1261 - val_acc: 0.9485\n",
      "Epoch 26/200\n",
      "63/63 [==============================] - 5s 75ms/step - loss: 0.0992 - acc: 0.9637 - val_loss: 0.1080 - val_acc: 0.9598\n",
      "Epoch 27/200\n",
      "63/63 [==============================] - 5s 75ms/step - loss: 0.1023 - acc: 0.9623 - val_loss: 0.5678 - val_acc: 0.8424\n",
      "\n",
      "Epoch 00027: ReduceLROnPlateau reducing learning rate to 0.0005000000237487257.\n",
      "Epoch 28/200\n",
      "63/63 [==============================] - 5s 75ms/step - loss: 0.0870 - acc: 0.9671 - val_loss: 0.0523 - val_acc: 0.9811\n",
      "Epoch 29/200\n",
      "63/63 [==============================] - 5s 75ms/step - loss: 0.0739 - acc: 0.9745 - val_loss: 0.0638 - val_acc: 0.9742\n",
      "Epoch 30/200\n",
      "63/63 [==============================] - 5s 75ms/step - loss: 0.0776 - acc: 0.9706 - val_loss: 0.0567 - val_acc: 0.9826\n",
      "Epoch 31/200\n",
      "63/63 [==============================] - 5s 75ms/step - loss: 0.0771 - acc: 0.9724 - val_loss: 0.0568 - val_acc: 0.9773\n",
      "Epoch 32/200\n",
      "63/63 [==============================] - 5s 75ms/step - loss: 0.0655 - acc: 0.9753 - val_loss: 0.0496 - val_acc: 0.9818\n",
      "Epoch 33/200\n",
      "63/63 [==============================] - 5s 75ms/step - loss: 0.0698 - acc: 0.9768 - val_loss: 0.0489 - val_acc: 0.9818\n",
      "Epoch 34/200\n",
      "63/63 [==============================] - 5s 75ms/step - loss: 0.0584 - acc: 0.9798 - val_loss: 0.0571 - val_acc: 0.9780\n",
      "\n",
      "Epoch 00034: ReduceLROnPlateau reducing learning rate to 0.0002500000118743628.\n",
      "Epoch 35/200\n",
      "63/63 [==============================] - 5s 75ms/step - loss: 0.0536 - acc: 0.9804 - val_loss: 0.0376 - val_acc: 0.9879\n",
      "Epoch 36/200\n",
      "63/63 [==============================] - 5s 75ms/step - loss: 0.0594 - acc: 0.9793 - val_loss: 0.0392 - val_acc: 0.9833\n",
      "Epoch 37/200\n",
      "63/63 [==============================] - 5s 75ms/step - loss: 0.0524 - acc: 0.9809 - val_loss: 0.0393 - val_acc: 0.9818\n",
      "Epoch 38/200\n",
      "63/63 [==============================] - 5s 75ms/step - loss: 0.0587 - acc: 0.9799 - val_loss: 0.0404 - val_acc: 0.9864\n",
      "Epoch 39/200\n",
      "63/63 [==============================] - 5s 75ms/step - loss: 0.0530 - acc: 0.9819 - val_loss: 0.0449 - val_acc: 0.9841\n",
      "\n",
      "Epoch 00039: ReduceLROnPlateau reducing learning rate to 0.0001250000059371814.\n",
      "Epoch 40/200\n",
      "63/63 [==============================] - 5s 75ms/step - loss: 0.0510 - acc: 0.9830 - val_loss: 0.0412 - val_acc: 0.9833\n",
      "Epoch 41/200\n",
      "63/63 [==============================] - 5s 75ms/step - loss: 0.0524 - acc: 0.9810 - val_loss: 0.0381 - val_acc: 0.9864\n",
      "Epoch 42/200\n",
      "63/63 [==============================] - 5s 75ms/step - loss: 0.0479 - acc: 0.9838 - val_loss: 0.0438 - val_acc: 0.9811\n",
      "Epoch 43/200\n",
      "63/63 [==============================] - 5s 75ms/step - loss: 0.0469 - acc: 0.9833 - val_loss: 0.0362 - val_acc: 0.9841\n",
      "\n",
      "Epoch 00043: ReduceLROnPlateau reducing learning rate to 6.25000029685907e-05.\n",
      "Epoch 44/200\n",
      "63/63 [==============================] - 5s 75ms/step - loss: 0.0494 - acc: 0.9823 - val_loss: 0.0345 - val_acc: 0.9871\n",
      "Epoch 45/200\n",
      "63/63 [==============================] - 5s 75ms/step - loss: 0.0489 - acc: 0.9825 - val_loss: 0.0375 - val_acc: 0.9848\n",
      "Epoch 46/200\n",
      "63/63 [==============================] - 5s 75ms/step - loss: 0.0501 - acc: 0.9816 - val_loss: 0.0350 - val_acc: 0.9871\n",
      "Epoch 47/200\n",
      "63/63 [==============================] - 5s 75ms/step - loss: 0.0411 - acc: 0.9859 - val_loss: 0.0359 - val_acc: 0.9864\n",
      "\n",
      "Epoch 00047: ReduceLROnPlateau reducing learning rate to 3.125000148429535e-05.\n",
      "Epoch 48/200\n",
      "63/63 [==============================] - 5s 75ms/step - loss: 0.0413 - acc: 0.9870 - val_loss: 0.0358 - val_acc: 0.9864\n",
      "Epoch 49/200\n",
      "63/63 [==============================] - 5s 75ms/step - loss: 0.0459 - acc: 0.9842 - val_loss: 0.0355 - val_acc: 0.9864\n",
      "Epoch 50/200\n",
      "63/63 [==============================] - 5s 75ms/step - loss: 0.0435 - acc: 0.9846 - val_loss: 0.0351 - val_acc: 0.9871\n",
      "Restoring model weights from the end of the best epoch\n",
      "Epoch 00050: early stopping\n"
     ]
    },
    {
     "data": {
      "image/png": "[encoded data removed]",
      "text/plain": [
       "<Figure size 432x288 with 2 Axes>"
      ]
     },
     "metadata": {
      "needs_background": "light"
     },
     "output_type": "display_data"
    },
    {
     "name": "stdout",
     "output_type": "stream",
     "text": [
      "Best val_acc - 0.9879 (epoch 35)\n"
     ]
    }
   ],
   "source": [
    "opt = optimizers.Adam(lr=0.001, beta_1=0.9, beta_2=0.999, epsilon=None, decay=0.0, amsgrad=False)\n",
    "history, model_3 = train(model_3, opt=opt)"
   ]
  },
  {
   "cell_type": "markdown",
   "metadata": {
    "heading_collapsed": true
   },
   "source": [
    "## Model 4: Robust 26,078 \n",
    "I tested model 2 on my iPhone XS and I noticed that it would only get it right if the subject's face was in the middle of the view. Adding in random rotation and random horizontal and vertical shifts. Same model as m3"
   ]
  },
  {
   "cell_type": "markdown",
   "metadata": {
    "hidden": true
   },
   "source": [
    "#### Define Train function"
   ]
  },
  {
   "cell_type": "code",
   "execution_count": 49,
   "metadata": {
    "ExecuteTime": {
     "end_time": "2019-09-09T20:02:21.418269Z",
     "start_time": "2019-09-09T20:02:21.408292Z"
    },
    "code_folding": [],
    "hidden": true
   },
   "outputs": [],
   "source": [
    "my_callbacks = [callbacks.EarlyStopping(monitor='val_acc', patience=10, verbose=1, restore_best_weights=True),\n",
    "                callbacks.ReduceLROnPlateau(monitor='val_acc', factor=0.5, patience=4, min_lr=1e-6, mode='auto', verbose=1)]\n",
    "\n",
    "\n",
    "def train(model, epochs=200, initial_epoch=0, batch_size=128, lr=0.01, opt='adadelta', plot_hist='True'):\n",
    "    model.compile(loss='sparse_categorical_crossentropy',\n",
    "                  optimizer=opt,\n",
    "                  metrics=['accuracy'])\n",
    "\n",
    "#     can test augmentation techniques like brightness and rotation\n",
    "    train_generator = ImageDataGenerator(zca_whitening=False, zca_epsilon=1e-06, rotation_range=5, width_shift_range=0.01, height_shift_range=0.01, brightness_range=None, shear_range=0.0, zoom_range=0.0,\n",
    "                                         channel_shift_range=0.0, fill_mode='nearest', cval=0.0, horizontal_flip=False, vertical_flip=False, rescale=1/255, preprocessing_function=None, data_format=None, validation_split=0.0, dtype=None).flow(x_train, y_train, batch_size=batch_size, seed=11)\n",
    "\n",
    "    validation_generator = ImageDataGenerator(zca_whitening=False, zca_epsilon=1e-06, rotation_range=5, width_shift_range=0.01, height_shift_range=0.01, brightness_range=None, shear_range=0.0, zoom_range=0.0,\n",
    "                                              channel_shift_range=0.0, fill_mode='nearest', cval=0.0, horizontal_flip=False, vertical_flip=False, rescale=1/255, preprocessing_function=None, data_format=None, validation_split=0.0, dtype=None).flow(\n",
    "        x_test, y_test, batch_size=batch_size, seed=11)\n",
    "\n",
    "    history = model.fit_generator(generator=train_generator,\n",
    "                                  epochs=epochs+initial_epoch,\n",
    "                                  verbose=1,\n",
    "                                  callbacks=my_callbacks,\n",
    "                                  validation_data=validation_generator,\n",
    "                                  shuffle=True,\n",
    "                                  initial_epoch=initial_epoch)\n",
    "    if(plot_hist):\n",
    "        plot_train_history(history)\n",
    "\n",
    "    index = history.history['val_acc'].index(max(history.history['val_acc']))\n",
    "    print(\n",
    "        'Best val_acc - {:.4} (epoch {:})'.format(history.history['val_acc'][index], index+1))\n",
    "    return history, model"
   ]
  },
  {
   "cell_type": "markdown",
   "metadata": {
    "heading_collapsed": true,
    "hidden": true
   },
   "source": [
    "#### Define Model"
   ]
  },
  {
   "cell_type": "code",
   "execution_count": 50,
   "metadata": {
    "ExecuteTime": {
     "end_time": "2019-09-09T20:02:26.622377Z",
     "start_time": "2019-09-09T20:02:25.824510Z"
    },
    "code_folding": [],
    "hidden": true,
    "scrolled": true
   },
   "outputs": [
    {
     "name": "stdout",
     "output_type": "stream",
     "text": [
      "Model: \"sequential_7\"\n",
      "_________________________________________________________________\n",
      "Layer (type)                 Output Shape              Param #   \n",
      "=================================================================\n",
      "conv2d_49 (Conv2D)           (None, 126, 126, 16)      448       \n",
      "_________________________________________________________________\n",
      "batch_normalization_49 (Batc (None, 126, 126, 16)      64        \n",
      "_________________________________________________________________\n",
      "activation_61 (Activation)   (None, 126, 126, 16)      0         \n",
      "_________________________________________________________________\n",
      "conv2d_50 (Conv2D)           (None, 124, 124, 18)      2610      \n",
      "_________________________________________________________________\n",
      "batch_normalization_50 (Batc (None, 124, 124, 18)      72        \n",
      "_________________________________________________________________\n",
      "activation_62 (Activation)   (None, 124, 124, 18)      0         \n",
      "_________________________________________________________________\n",
      "max_pooling2d_25 (MaxPooling (None, 62, 62, 18)        0         \n",
      "_________________________________________________________________\n",
      "dropout_25 (Dropout)         (None, 62, 62, 18)        0         \n",
      "_________________________________________________________________\n",
      "conv2d_51 (Conv2D)           (None, 60, 60, 18)        2934      \n",
      "_________________________________________________________________\n",
      "batch_normalization_51 (Batc (None, 60, 60, 18)        72        \n",
      "_________________________________________________________________\n",
      "activation_63 (Activation)   (None, 60, 60, 18)        0         \n",
      "_________________________________________________________________\n",
      "conv2d_52 (Conv2D)           (None, 58, 58, 20)        3260      \n",
      "_________________________________________________________________\n",
      "batch_normalization_52 (Batc (None, 58, 58, 20)        80        \n",
      "_________________________________________________________________\n",
      "activation_64 (Activation)   (None, 58, 58, 20)        0         \n",
      "_________________________________________________________________\n",
      "max_pooling2d_26 (MaxPooling (None, 29, 29, 20)        0         \n",
      "_________________________________________________________________\n",
      "dropout_26 (Dropout)         (None, 29, 29, 20)        0         \n",
      "_________________________________________________________________\n",
      "conv2d_53 (Conv2D)           (None, 27, 27, 20)        3620      \n",
      "_________________________________________________________________\n",
      "batch_normalization_53 (Batc (None, 27, 27, 20)        80        \n",
      "_________________________________________________________________\n",
      "activation_65 (Activation)   (None, 27, 27, 20)        0         \n",
      "_________________________________________________________________\n",
      "conv2d_54 (Conv2D)           (None, 25, 25, 20)        3620      \n",
      "_________________________________________________________________\n",
      "batch_normalization_54 (Batc (None, 25, 25, 20)        80        \n",
      "_________________________________________________________________\n",
      "activation_66 (Activation)   (None, 25, 25, 20)        0         \n",
      "_________________________________________________________________\n",
      "max_pooling2d_27 (MaxPooling (None, 12, 12, 20)        0         \n",
      "_________________________________________________________________\n",
      "dropout_27 (Dropout)         (None, 12, 12, 20)        0         \n",
      "_________________________________________________________________\n",
      "conv2d_55 (Conv2D)           (None, 10, 10, 18)        3258      \n",
      "_________________________________________________________________\n",
      "batch_normalization_55 (Batc (None, 10, 10, 18)        72        \n",
      "_________________________________________________________________\n",
      "activation_67 (Activation)   (None, 10, 10, 18)        0         \n",
      "_________________________________________________________________\n",
      "conv2d_56 (Conv2D)           (None, 8, 8, 16)          2608      \n",
      "_________________________________________________________________\n",
      "batch_normalization_56 (Batc (None, 8, 8, 16)          64        \n",
      "_________________________________________________________________\n",
      "activation_68 (Activation)   (None, 8, 8, 16)          0         \n",
      "_________________________________________________________________\n",
      "max_pooling2d_28 (MaxPooling (None, 4, 4, 16)          0         \n",
      "_________________________________________________________________\n",
      "dropout_28 (Dropout)         (None, 4, 4, 16)          0         \n",
      "_________________________________________________________________\n",
      "flatten_7 (Flatten)          (None, 256)               0         \n",
      "_________________________________________________________________\n",
      "dense_13 (Dense)             (None, 12)                3084      \n",
      "_________________________________________________________________\n",
      "activation_69 (Activation)   (None, 12)                0         \n",
      "_________________________________________________________________\n",
      "dense_14 (Dense)             (None, 4)                 52        \n",
      "_________________________________________________________________\n",
      "activation_70 (Activation)   (None, 4)                 0         \n",
      "=================================================================\n",
      "Total params: 26,078\n",
      "Trainable params: 25,786\n",
      "Non-trainable params: 292\n",
      "_________________________________________________________________\n"
     ]
    }
   ],
   "source": [
    "model_4 = Sequential([\n",
    "    Conv2D(16, (3, 3), strides=(1, 1), input_shape=(128, 128, 3), data_format=\"channels_last\", padding='valid'),   # RGB\n",
    "    BatchNormalization(),\n",
    "    Activation('relu'),\n",
    "    Conv2D(18, (3, 3), strides=(1, 1), padding='valid'),\n",
    "    BatchNormalization(),\n",
    "    Activation('relu'),\n",
    "    MaxPooling2D(pool_size=(2, 2)),\n",
    "    Dropout(0.3),\n",
    "    \n",
    "    Conv2D(18, (3, 3), strides=(1, 1), input_shape=(128, 128, 3), data_format=\"channels_last\", padding='valid'),   # RGB\n",
    "    BatchNormalization(),\n",
    "    Activation('relu'),\n",
    "    Conv2D(20, (3, 3), strides=(1, 1), padding='valid'),\n",
    "    BatchNormalization(),\n",
    "    Activation('relu'),\n",
    "    MaxPooling2D(pool_size=(2, 2)),\n",
    "    Dropout(0.3),\n",
    "    \n",
    "    Conv2D(20, (3, 3), strides=(1, 1), input_shape=(128, 128, 3), data_format=\"channels_last\", padding='valid'),   # RGB\n",
    "    BatchNormalization(),\n",
    "    Activation('relu'),\n",
    "    Conv2D(20, (3, 3), strides=(1, 1), padding='valid'),\n",
    "    BatchNormalization(),\n",
    "    Activation('relu'),\n",
    "    MaxPooling2D(pool_size=(2, 2)),\n",
    "    Dropout(0.3),\n",
    "    \n",
    "    Conv2D(18, (3, 3), strides=(1, 1), input_shape=(128, 128, 3), data_format=\"channels_last\", padding='valid'),   # RGB\n",
    "    BatchNormalization(),\n",
    "    Activation('relu'),\n",
    "    Conv2D(16, (3, 3), strides=(1, 1), padding='valid'),\n",
    "    BatchNormalization(),\n",
    "    Activation('relu'),\n",
    "    MaxPooling2D(pool_size=(2, 2)),\n",
    "    Dropout(0.3),\n",
    "    \n",
    "    Flatten(),\n",
    "    Dense(12),\n",
    "    Activation('relu'),\n",
    "    Dense(num_classes),\n",
    "    Activation('softmax')\n",
    "])\n",
    "model_4.summary()"
   ]
  },
  {
   "cell_type": "markdown",
   "metadata": {
    "hidden": true
   },
   "source": [
    "#### Execute Training"
   ]
  },
  {
   "cell_type": "code",
   "execution_count": 51,
   "metadata": {
    "ExecuteTime": {
     "end_time": "2019-09-09T20:33:31.670162Z",
     "start_time": "2019-09-09T20:02:27.769157Z"
    },
    "hidden": true,
    "scrolled": true
   },
   "outputs": [
    {
     "name": "stdout",
     "output_type": "stream",
     "text": [
      "Epoch 1/200\n",
      "63/63 [==============================] - 22s 353ms/step - loss: 1.4400 - acc: 0.2546 - val_loss: 1.3861 - val_acc: 0.2523\n",
      "Epoch 2/200\n",
      "63/63 [==============================] - 22s 343ms/step - loss: 1.3877 - acc: 0.2452 - val_loss: 1.3861 - val_acc: 0.2530\n",
      "Epoch 3/200\n",
      "63/63 [==============================] - 22s 348ms/step - loss: 1.3874 - acc: 0.2511 - val_loss: 1.3863 - val_acc: 0.2500\n",
      "Epoch 4/200\n",
      "63/63 [==============================] - 22s 351ms/step - loss: 1.3866 - acc: 0.2464 - val_loss: 1.3863 - val_acc: 0.2492\n",
      "Epoch 5/200\n",
      "63/63 [==============================] - 22s 348ms/step - loss: 1.3857 - acc: 0.2551 - val_loss: 1.3862 - val_acc: 0.2492\n",
      "Epoch 6/200\n",
      "63/63 [==============================] - 24s 384ms/step - loss: 1.3860 - acc: 0.2550 - val_loss: 1.3856 - val_acc: 0.2545\n",
      "Epoch 7/200\n",
      "63/63 [==============================] - 23s 359ms/step - loss: 1.3861 - acc: 0.2545 - val_loss: 1.3845 - val_acc: 0.2727\n",
      "Epoch 8/200\n",
      "63/63 [==============================] - 22s 347ms/step - loss: 1.3863 - acc: 0.2516 - val_loss: 1.3844 - val_acc: 0.2697\n",
      "Epoch 9/200\n",
      "63/63 [==============================] - 23s 359ms/step - loss: 1.3862 - acc: 0.2545 - val_loss: 1.3804 - val_acc: 0.3023\n",
      "Epoch 10/200\n",
      "63/63 [==============================] - 22s 353ms/step - loss: 1.3784 - acc: 0.2769 - val_loss: 1.3618 - val_acc: 0.3295\n",
      "Epoch 11/200\n",
      "63/63 [==============================] - 22s 351ms/step - loss: 1.3420 - acc: 0.3385 - val_loss: 1.3339 - val_acc: 0.3492\n",
      "Epoch 12/200\n",
      "63/63 [==============================] - 24s 374ms/step - loss: 1.2868 - acc: 0.3755 - val_loss: 1.2831 - val_acc: 0.3311\n",
      "Epoch 13/200\n",
      "63/63 [==============================] - 23s 370ms/step - loss: 1.2092 - acc: 0.4098 - val_loss: 1.3641 - val_acc: 0.2848\n",
      "Epoch 14/200\n",
      "63/63 [==============================] - 23s 362ms/step - loss: 1.1197 - acc: 0.4358 - val_loss: 1.4338 - val_acc: 0.2727\n",
      "Epoch 15/200\n",
      "63/63 [==============================] - 22s 354ms/step - loss: 1.0329 - acc: 0.4741 - val_loss: 1.0547 - val_acc: 0.4659\n",
      "Epoch 16/200\n",
      "63/63 [==============================] - 23s 365ms/step - loss: 0.8723 - acc: 0.5481 - val_loss: 1.1107 - val_acc: 0.4826\n",
      "Epoch 17/200\n",
      "63/63 [==============================] - 22s 350ms/step - loss: 0.6897 - acc: 0.6215 - val_loss: 0.7092 - val_acc: 0.6303\n",
      "Epoch 18/200\n",
      "63/63 [==============================] - 23s 370ms/step - loss: 0.6056 - acc: 0.6933 - val_loss: 0.4902 - val_acc: 0.7939\n",
      "Epoch 19/200\n",
      "63/63 [==============================] - 24s 373ms/step - loss: 0.4965 - acc: 0.7784 - val_loss: 0.3441 - val_acc: 0.8636\n",
      "Epoch 20/200\n",
      "63/63 [==============================] - 22s 354ms/step - loss: 0.3827 - acc: 0.8395 - val_loss: 0.3116 - val_acc: 0.8750\n",
      "Epoch 21/200\n",
      "63/63 [==============================] - 24s 385ms/step - loss: 0.3096 - acc: 0.8824 - val_loss: 0.1882 - val_acc: 0.9212\n",
      "Epoch 22/200\n",
      "63/63 [==============================] - 23s 372ms/step - loss: 0.2566 - acc: 0.9001 - val_loss: 0.1806 - val_acc: 0.9288\n",
      "Epoch 23/200\n",
      "63/63 [==============================] - 22s 357ms/step - loss: 0.2299 - acc: 0.9149 - val_loss: 0.1500 - val_acc: 0.9447\n",
      "Epoch 24/200\n",
      "63/63 [==============================] - 24s 388ms/step - loss: 0.2113 - acc: 0.9193 - val_loss: 0.3530 - val_acc: 0.8614\n",
      "Epoch 25/200\n",
      "63/63 [==============================] - 23s 359ms/step - loss: 0.1898 - acc: 0.9288 - val_loss: 0.1739 - val_acc: 0.9386\n",
      "Epoch 26/200\n",
      "63/63 [==============================] - 22s 353ms/step - loss: 0.1767 - acc: 0.9359 - val_loss: 0.1244 - val_acc: 0.9500\n",
      "Epoch 27/200\n",
      "63/63 [==============================] - 22s 355ms/step - loss: 0.1646 - acc: 0.9395 - val_loss: 0.1137 - val_acc: 0.9568\n",
      "Epoch 28/200\n",
      "63/63 [==============================] - 23s 362ms/step - loss: 0.1456 - acc: 0.9479 - val_loss: 0.1110 - val_acc: 0.9614\n",
      "Epoch 29/200\n",
      "63/63 [==============================] - 22s 350ms/step - loss: 0.1386 - acc: 0.9480 - val_loss: 0.0937 - val_acc: 0.9705\n",
      "Epoch 30/200\n",
      "63/63 [==============================] - 22s 351ms/step - loss: 0.1358 - acc: 0.9492 - val_loss: 0.0959 - val_acc: 0.9621\n",
      "Epoch 31/200\n",
      "63/63 [==============================] - 22s 352ms/step - loss: 0.1198 - acc: 0.9581 - val_loss: 0.1136 - val_acc: 0.9591\n",
      "Epoch 32/200\n",
      "63/63 [==============================] - 22s 348ms/step - loss: 0.1198 - acc: 0.9567 - val_loss: 0.1530 - val_acc: 0.9432\n",
      "Epoch 33/200\n",
      "63/63 [==============================] - 22s 352ms/step - loss: 0.1113 - acc: 0.9583 - val_loss: 0.1124 - val_acc: 0.9568\n",
      "\n",
      "Epoch 00033: ReduceLROnPlateau reducing learning rate to 0.0005000000237487257.\n",
      "Epoch 34/200\n",
      "63/63 [==============================] - 22s 346ms/step - loss: 0.0942 - acc: 0.9652 - val_loss: 0.0901 - val_acc: 0.9667\n",
      "Epoch 35/200\n",
      "63/63 [==============================] - 23s 358ms/step - loss: 0.0929 - acc: 0.9654 - val_loss: 0.0842 - val_acc: 0.9674\n",
      "Epoch 36/200\n",
      "63/63 [==============================] - 22s 353ms/step - loss: 0.0968 - acc: 0.9643 - val_loss: 0.0779 - val_acc: 0.9712\n",
      "Epoch 37/200\n",
      "63/63 [==============================] - 22s 354ms/step - loss: 0.0870 - acc: 0.9694 - val_loss: 0.0779 - val_acc: 0.9705\n",
      "Epoch 38/200\n",
      "63/63 [==============================] - 22s 350ms/step - loss: 0.0800 - acc: 0.9720 - val_loss: 0.0677 - val_acc: 0.9773\n",
      "Epoch 39/200\n",
      "63/63 [==============================] - 22s 357ms/step - loss: 0.0818 - acc: 0.9702 - val_loss: 0.0756 - val_acc: 0.9727\n",
      "Epoch 40/200\n",
      "63/63 [==============================] - 22s 351ms/step - loss: 0.0861 - acc: 0.9690 - val_loss: 0.0708 - val_acc: 0.9735\n",
      "Epoch 41/200\n",
      "63/63 [==============================] - 22s 350ms/step - loss: 0.0817 - acc: 0.9716 - val_loss: 0.0786 - val_acc: 0.9735\n",
      "Epoch 42/200\n",
      "63/63 [==============================] - 23s 359ms/step - loss: 0.0792 - acc: 0.9705 - val_loss: 0.0632 - val_acc: 0.9788\n",
      "Epoch 43/200\n",
      "63/63 [==============================] - 22s 354ms/step - loss: 0.0750 - acc: 0.9738 - val_loss: 0.0741 - val_acc: 0.9742\n",
      "Epoch 44/200\n",
      "63/63 [==============================] - 22s 349ms/step - loss: 0.0764 - acc: 0.9728 - val_loss: 0.0654 - val_acc: 0.9750\n",
      "Epoch 45/200\n",
      "63/63 [==============================] - 22s 349ms/step - loss: 0.0730 - acc: 0.9743 - val_loss: 0.0727 - val_acc: 0.9727\n",
      "Epoch 46/200\n",
      "63/63 [==============================] - 22s 357ms/step - loss: 0.0699 - acc: 0.9758 - val_loss: 0.0731 - val_acc: 0.9758\n",
      "\n",
      "Epoch 00046: ReduceLROnPlateau reducing learning rate to 0.0002500000118743628.\n",
      "Epoch 47/200\n",
      "63/63 [==============================] - 23s 361ms/step - loss: 0.0662 - acc: 0.9783 - val_loss: 0.0678 - val_acc: 0.9742\n",
      "Epoch 48/200\n",
      "63/63 [==============================] - 22s 353ms/step - loss: 0.0653 - acc: 0.9758 - val_loss: 0.0605 - val_acc: 0.9773\n",
      "Epoch 49/200\n",
      "63/63 [==============================] - 23s 369ms/step - loss: 0.0600 - acc: 0.9815 - val_loss: 0.0678 - val_acc: 0.9735\n",
      "Epoch 50/200\n",
      "63/63 [==============================] - 22s 352ms/step - loss: 0.0630 - acc: 0.9778 - val_loss: 0.0677 - val_acc: 0.9735\n",
      "\n",
      "Epoch 00050: ReduceLROnPlateau reducing learning rate to 0.0001250000059371814.\n",
      "Epoch 51/200\n",
      "63/63 [==============================] - 22s 354ms/step - loss: 0.0603 - acc: 0.9798 - val_loss: 0.0704 - val_acc: 0.9742\n",
      "Epoch 52/200\n",
      "63/63 [==============================] - 23s 359ms/step - loss: 0.0572 - acc: 0.9789 - val_loss: 0.0679 - val_acc: 0.9773\n",
      "Epoch 53/200\n",
      "63/63 [==============================] - 22s 354ms/step - loss: 0.0546 - acc: 0.9804 - val_loss: 0.0630 - val_acc: 0.9780\n",
      "Epoch 54/200\n",
      "63/63 [==============================] - 22s 349ms/step - loss: 0.0566 - acc: 0.9795 - val_loss: 0.0558 - val_acc: 0.9795\n",
      "Epoch 55/200\n",
      "63/63 [==============================] - 23s 364ms/step - loss: 0.0523 - acc: 0.9820 - val_loss: 0.0593 - val_acc: 0.9780\n",
      "Epoch 56/200\n",
      "63/63 [==============================] - 23s 362ms/step - loss: 0.0551 - acc: 0.9809 - val_loss: 0.0500 - val_acc: 0.9795\n",
      "Epoch 57/200\n",
      "63/63 [==============================] - 22s 354ms/step - loss: 0.0568 - acc: 0.9798 - val_loss: 0.0647 - val_acc: 0.9758\n",
      "Epoch 58/200\n",
      "63/63 [==============================] - 22s 350ms/step - loss: 0.0581 - acc: 0.9785 - val_loss: 0.0668 - val_acc: 0.9750\n",
      "\n",
      "Epoch 00058: ReduceLROnPlateau reducing learning rate to 6.25000029685907e-05.\n",
      "Epoch 59/200\n",
      "63/63 [==============================] - 23s 363ms/step - loss: 0.0539 - acc: 0.9809 - val_loss: 0.0596 - val_acc: 0.9788\n",
      "Epoch 60/200\n",
      "63/63 [==============================] - 22s 355ms/step - loss: 0.0517 - acc: 0.9840 - val_loss: 0.0633 - val_acc: 0.9795\n",
      "Epoch 61/200\n",
      "63/63 [==============================] - 22s 356ms/step - loss: 0.0491 - acc: 0.9838 - val_loss: 0.0627 - val_acc: 0.9750\n",
      "Epoch 62/200\n",
      "63/63 [==============================] - 22s 350ms/step - loss: 0.0502 - acc: 0.9834 - val_loss: 0.0588 - val_acc: 0.9758\n",
      "\n",
      "Epoch 00062: ReduceLROnPlateau reducing learning rate to 3.125000148429535e-05.\n",
      "Epoch 63/200\n",
      "63/63 [==============================] - 22s 343ms/step - loss: 0.0530 - acc: 0.9808 - val_loss: 0.0632 - val_acc: 0.9750\n",
      "Epoch 64/200\n",
      "63/63 [==============================] - 22s 348ms/step - loss: 0.0511 - acc: 0.9841 - val_loss: 0.0605 - val_acc: 0.9803\n",
      "Epoch 65/200\n",
      "63/63 [==============================] - 22s 347ms/step - loss: 0.0524 - acc: 0.9804 - val_loss: 0.0648 - val_acc: 0.9742\n",
      "Epoch 66/200\n",
      "63/63 [==============================] - 23s 370ms/step - loss: 0.0479 - acc: 0.9829 - val_loss: 0.0644 - val_acc: 0.9788\n",
      "Epoch 67/200\n",
      "63/63 [==============================] - 22s 355ms/step - loss: 0.0515 - acc: 0.9831 - val_loss: 0.0645 - val_acc: 0.9788\n",
      "Epoch 68/200\n",
      "63/63 [==============================] - 22s 353ms/step - loss: 0.0552 - acc: 0.9814 - val_loss: 0.0548 - val_acc: 0.9803\n",
      "\n",
      "Epoch 00068: ReduceLROnPlateau reducing learning rate to 1.5625000742147677e-05.\n",
      "Epoch 69/200\n",
      "63/63 [==============================] - 22s 356ms/step - loss: 0.0516 - acc: 0.9818 - val_loss: 0.0650 - val_acc: 0.9750\n",
      "Epoch 70/200\n",
      "63/63 [==============================] - 22s 344ms/step - loss: 0.0551 - acc: 0.9800 - val_loss: 0.0617 - val_acc: 0.9773\n",
      "Epoch 71/200\n",
      "63/63 [==============================] - 22s 344ms/step - loss: 0.0515 - acc: 0.9815 - val_loss: 0.0673 - val_acc: 0.9742\n",
      "Epoch 72/200\n",
      "63/63 [==============================] - 22s 345ms/step - loss: 0.0545 - acc: 0.9809 - val_loss: 0.0607 - val_acc: 0.9788\n",
      "\n",
      "Epoch 00072: ReduceLROnPlateau reducing learning rate to 7.812500371073838e-06.\n",
      "Epoch 73/200\n",
      "63/63 [==============================] - 22s 347ms/step - loss: 0.0496 - acc: 0.9820 - val_loss: 0.0650 - val_acc: 0.9765\n",
      "Epoch 74/200\n",
      "63/63 [==============================] - 22s 344ms/step - loss: 0.0496 - acc: 0.9815 - val_loss: 0.0612 - val_acc: 0.9795\n",
      "Epoch 75/200\n",
      "63/63 [==============================] - 22s 351ms/step - loss: 0.0468 - acc: 0.9834 - val_loss: 0.0627 - val_acc: 0.9742\n",
      "Epoch 76/200\n",
      "63/63 [==============================] - 22s 345ms/step - loss: 0.0494 - acc: 0.9831 - val_loss: 0.0614 - val_acc: 0.9773\n",
      "\n",
      "Epoch 00076: ReduceLROnPlateau reducing learning rate to 3.906250185536919e-06.\n",
      "Epoch 77/200\n",
      "63/63 [==============================] - 22s 344ms/step - loss: 0.0542 - acc: 0.9824 - val_loss: 0.0652 - val_acc: 0.9788\n",
      "Epoch 78/200\n",
      "63/63 [==============================] - 22s 356ms/step - loss: 0.0484 - acc: 0.9819 - val_loss: 0.0616 - val_acc: 0.9765\n",
      "Epoch 79/200\n",
      "63/63 [==============================] - 23s 369ms/step - loss: 0.0470 - acc: 0.9840 - val_loss: 0.0664 - val_acc: 0.9758\n",
      "Epoch 80/200\n",
      "63/63 [==============================] - 23s 363ms/step - loss: 0.0488 - acc: 0.9821 - val_loss: 0.0621 - val_acc: 0.9780\n",
      "\n",
      "Epoch 00080: ReduceLROnPlateau reducing learning rate to 1.9531250927684596e-06.\n",
      "Epoch 81/200\n",
      "63/63 [==============================] - 22s 350ms/step - loss: 0.0480 - acc: 0.9831 - val_loss: 0.0615 - val_acc: 0.9765\n",
      "Epoch 82/200\n",
      "63/63 [==============================] - 22s 346ms/step - loss: 0.0482 - acc: 0.9831 - val_loss: 0.0648 - val_acc: 0.9765\n",
      "Epoch 83/200\n",
      "63/63 [==============================] - 22s 347ms/step - loss: 0.0507 - acc: 0.9807 - val_loss: 0.0648 - val_acc: 0.9742\n",
      "Restoring model weights from the end of the best epoch\n",
      "Epoch 00083: early stopping\n"
     ]
    },
    {
     "data": {
      "image/png": "[encoded data removed]",
      "text/plain": [
       "<Figure size 432x288 with 2 Axes>"
      ]
     },
     "metadata": {
      "needs_background": "light"
     },
     "output_type": "display_data"
    },
    {
     "name": "stdout",
     "output_type": "stream",
     "text": [
      "Best val_acc - 0.9803 (epoch 68)\n"
     ]
    }
   ],
   "source": [
    "opt = optimizers.Adam(lr=0.001, beta_1=0.9, beta_2=0.999, epsilon=None, decay=0.0, amsgrad=False)\n",
    "history, model_4 = train(model_4, opt=opt)"
   ]
  },
  {
   "cell_type": "code",
   "execution_count": 52,
   "metadata": {
    "ExecuteTime": {
     "end_time": "2019-09-09T20:33:35.176104Z",
     "start_time": "2019-09-09T20:33:31.703074Z"
    },
    "hidden": true
   },
   "outputs": [],
   "source": [
    "# save with the convention 'm[model number]_[# parameters]_[best val_acc].h5'\n",
    "model_4.save('..//models//m4_26078_0.9803.h5')"
   ]
  },
  {
   "cell_type": "markdown",
   "metadata": {
    "heading_collapsed": true
   },
   "source": [
    "## Model 5: Robust 26,078 \n",
    "Adding more range to the randomness"
   ]
  },
  {
   "cell_type": "markdown",
   "metadata": {
    "heading_collapsed": true,
    "hidden": true
   },
   "source": [
    "#### Define Train function"
   ]
  },
  {
   "cell_type": "code",
   "execution_count": 53,
   "metadata": {
    "ExecuteTime": {
     "end_time": "2019-09-09T20:33:35.209988Z",
     "start_time": "2019-09-09T20:33:35.196024Z"
    },
    "code_folding": [],
    "hidden": true
   },
   "outputs": [],
   "source": [
    "my_callbacks = [callbacks.EarlyStopping(monitor='val_acc', patience=10, verbose=1, restore_best_weights=True),\n",
    "                callbacks.ReduceLROnPlateau(monitor='val_acc', factor=0.5, patience=4, min_lr=1e-6, mode='auto', verbose=1)]\n",
    "\n",
    "\n",
    "def train(model, epochs=200, initial_epoch=0, batch_size=128, lr=0.01, opt='adadelta', plot_hist='True'):\n",
    "    model.compile(loss='sparse_categorical_crossentropy',\n",
    "                  optimizer=opt,\n",
    "                  metrics=['accuracy'])\n",
    "\n",
    "#     can test augmentation techniques like brightness and rotation\n",
    "    train_generator = ImageDataGenerator(zca_whitening=False, zca_epsilon=1e-06, rotation_range=10, width_shift_range=0.1, height_shift_range=0.1, brightness_range=None, shear_range=0.0, zoom_range=0.0,\n",
    "                                         channel_shift_range=0.0, fill_mode='nearest', cval=0.0, horizontal_flip=False, vertical_flip=False, rescale=1/255, preprocessing_function=None, data_format=None, validation_split=0.0, dtype=None).flow(x_train, y_train, batch_size=batch_size, seed=11)\n",
    "\n",
    "    validation_generator = ImageDataGenerator(zca_whitening=False, zca_epsilon=1e-06, rotation_range=5, width_shift_range=0.01, height_shift_range=0.01, brightness_range=None, shear_range=0.0, zoom_range=0.0,\n",
    "                                              channel_shift_range=0.0, fill_mode='nearest', cval=0.0, horizontal_flip=False, vertical_flip=False, rescale=1/255, preprocessing_function=None, data_format=None, validation_split=0.0, dtype=None).flow(\n",
    "        x_test, y_test, batch_size=batch_size, seed=11)\n",
    "\n",
    "    history = model.fit_generator(generator=train_generator,\n",
    "                                  epochs=epochs+initial_epoch,\n",
    "                                  verbose=1,\n",
    "                                  callbacks=my_callbacks,\n",
    "                                  validation_data=validation_generator,\n",
    "                                  shuffle=True,\n",
    "                                  initial_epoch=initial_epoch)\n",
    "    if(plot_hist):\n",
    "        plot_train_history(history)\n",
    "\n",
    "    index = history.history['val_acc'].index(max(history.history['val_acc']))\n",
    "    print(\n",
    "        'Best val_acc - {:.4} (epoch {:})'.format(history.history['val_acc'][index], index+1))\n",
    "    return history, model"
   ]
  },
  {
   "cell_type": "markdown",
   "metadata": {
    "heading_collapsed": true,
    "hidden": true
   },
   "source": [
    "#### Define Model"
   ]
  },
  {
   "cell_type": "code",
   "execution_count": 54,
   "metadata": {
    "ExecuteTime": {
     "end_time": "2019-09-09T20:33:36.173666Z",
     "start_time": "2019-09-09T20:33:35.227940Z"
    },
    "code_folding": [],
    "hidden": true,
    "scrolled": true
   },
   "outputs": [
    {
     "name": "stdout",
     "output_type": "stream",
     "text": [
      "Model: \"sequential_8\"\n",
      "_________________________________________________________________\n",
      "Layer (type)                 Output Shape              Param #   \n",
      "=================================================================\n",
      "conv2d_57 (Conv2D)           (None, 126, 126, 16)      448       \n",
      "_________________________________________________________________\n",
      "batch_normalization_57 (Batc (None, 126, 126, 16)      64        \n",
      "_________________________________________________________________\n",
      "activation_71 (Activation)   (None, 126, 126, 16)      0         \n",
      "_________________________________________________________________\n",
      "conv2d_58 (Conv2D)           (None, 124, 124, 18)      2610      \n",
      "_________________________________________________________________\n",
      "batch_normalization_58 (Batc (None, 124, 124, 18)      72        \n",
      "_________________________________________________________________\n",
      "activation_72 (Activation)   (None, 124, 124, 18)      0         \n",
      "_________________________________________________________________\n",
      "max_pooling2d_29 (MaxPooling (None, 62, 62, 18)        0         \n",
      "_________________________________________________________________\n",
      "dropout_29 (Dropout)         (None, 62, 62, 18)        0         \n",
      "_________________________________________________________________\n",
      "conv2d_59 (Conv2D)           (None, 60, 60, 18)        2934      \n",
      "_________________________________________________________________\n",
      "batch_normalization_59 (Batc (None, 60, 60, 18)        72        \n",
      "_________________________________________________________________\n",
      "activation_73 (Activation)   (None, 60, 60, 18)        0         \n",
      "_________________________________________________________________\n",
      "conv2d_60 (Conv2D)           (None, 58, 58, 20)        3260      \n",
      "_________________________________________________________________\n",
      "batch_normalization_60 (Batc (None, 58, 58, 20)        80        \n",
      "_________________________________________________________________\n",
      "activation_74 (Activation)   (None, 58, 58, 20)        0         \n",
      "_________________________________________________________________\n",
      "max_pooling2d_30 (MaxPooling (None, 29, 29, 20)        0         \n",
      "_________________________________________________________________\n",
      "dropout_30 (Dropout)         (None, 29, 29, 20)        0         \n",
      "_________________________________________________________________\n",
      "conv2d_61 (Conv2D)           (None, 27, 27, 20)        3620      \n",
      "_________________________________________________________________\n",
      "batch_normalization_61 (Batc (None, 27, 27, 20)        80        \n",
      "_________________________________________________________________\n",
      "activation_75 (Activation)   (None, 27, 27, 20)        0         \n",
      "_________________________________________________________________\n",
      "conv2d_62 (Conv2D)           (None, 25, 25, 20)        3620      \n",
      "_________________________________________________________________\n",
      "batch_normalization_62 (Batc (None, 25, 25, 20)        80        \n",
      "_________________________________________________________________\n",
      "activation_76 (Activation)   (None, 25, 25, 20)        0         \n",
      "_________________________________________________________________\n",
      "max_pooling2d_31 (MaxPooling (None, 12, 12, 20)        0         \n",
      "_________________________________________________________________\n",
      "dropout_31 (Dropout)         (None, 12, 12, 20)        0         \n",
      "_________________________________________________________________\n",
      "conv2d_63 (Conv2D)           (None, 10, 10, 18)        3258      \n",
      "_________________________________________________________________\n",
      "batch_normalization_63 (Batc (None, 10, 10, 18)        72        \n",
      "_________________________________________________________________\n",
      "activation_77 (Activation)   (None, 10, 10, 18)        0         \n",
      "_________________________________________________________________\n",
      "conv2d_64 (Conv2D)           (None, 8, 8, 16)          2608      \n",
      "_________________________________________________________________\n",
      "batch_normalization_64 (Batc (None, 8, 8, 16)          64        \n",
      "_________________________________________________________________\n",
      "activation_78 (Activation)   (None, 8, 8, 16)          0         \n",
      "_________________________________________________________________\n",
      "max_pooling2d_32 (MaxPooling (None, 4, 4, 16)          0         \n",
      "_________________________________________________________________\n",
      "dropout_32 (Dropout)         (None, 4, 4, 16)          0         \n",
      "_________________________________________________________________\n",
      "flatten_8 (Flatten)          (None, 256)               0         \n",
      "_________________________________________________________________\n",
      "dense_15 (Dense)             (None, 12)                3084      \n",
      "_________________________________________________________________\n",
      "activation_79 (Activation)   (None, 12)                0         \n",
      "_________________________________________________________________\n",
      "dense_16 (Dense)             (None, 4)                 52        \n",
      "_________________________________________________________________\n",
      "activation_80 (Activation)   (None, 4)                 0         \n",
      "=================================================================\n",
      "Total params: 26,078\n",
      "Trainable params: 25,786\n",
      "Non-trainable params: 292\n",
      "_________________________________________________________________\n"
     ]
    }
   ],
   "source": [
    "model_5 = Sequential([\n",
    "    Conv2D(16, (3, 3), strides=(1, 1), input_shape=(128, 128, 3), data_format=\"channels_last\", padding='valid'),   # RGB\n",
    "    BatchNormalization(),\n",
    "    Activation('relu'),\n",
    "    Conv2D(18, (3, 3), strides=(1, 1), padding='valid'),\n",
    "    BatchNormalization(),\n",
    "    Activation('relu'),\n",
    "    MaxPooling2D(pool_size=(2, 2)),\n",
    "    Dropout(0.3),\n",
    "    \n",
    "    Conv2D(18, (3, 3), strides=(1, 1), input_shape=(128, 128, 3), data_format=\"channels_last\", padding='valid'),   # RGB\n",
    "    BatchNormalization(),\n",
    "    Activation('relu'),\n",
    "    Conv2D(20, (3, 3), strides=(1, 1), padding='valid'),\n",
    "    BatchNormalization(),\n",
    "    Activation('relu'),\n",
    "    MaxPooling2D(pool_size=(2, 2)),\n",
    "    Dropout(0.3),\n",
    "    \n",
    "    Conv2D(20, (3, 3), strides=(1, 1), input_shape=(128, 128, 3), data_format=\"channels_last\", padding='valid'),   # RGB\n",
    "    BatchNormalization(),\n",
    "    Activation('relu'),\n",
    "    Conv2D(20, (3, 3), strides=(1, 1), padding='valid'),\n",
    "    BatchNormalization(),\n",
    "    Activation('relu'),\n",
    "    MaxPooling2D(pool_size=(2, 2)),\n",
    "    Dropout(0.3),\n",
    "    \n",
    "    Conv2D(18, (3, 3), strides=(1, 1), input_shape=(128, 128, 3), data_format=\"channels_last\", padding='valid'),   # RGB\n",
    "    BatchNormalization(),\n",
    "    Activation('relu'),\n",
    "    Conv2D(16, (3, 3), strides=(1, 1), padding='valid'),\n",
    "    BatchNormalization(),\n",
    "    Activation('relu'),\n",
    "    MaxPooling2D(pool_size=(2, 2)),\n",
    "    Dropout(0.3),\n",
    "    \n",
    "    Flatten(),\n",
    "    Dense(12),\n",
    "    Activation('relu'),\n",
    "    Dense(num_classes),\n",
    "    Activation('softmax')\n",
    "])\n",
    "model_5.summary()"
   ]
  },
  {
   "cell_type": "markdown",
   "metadata": {
    "hidden": true
   },
   "source": [
    "#### Execute Training"
   ]
  },
  {
   "cell_type": "code",
   "execution_count": 55,
   "metadata": {
    "ExecuteTime": {
     "end_time": "2019-09-09T21:04:36.781055Z",
     "start_time": "2019-09-09T20:33:36.196617Z"
    },
    "hidden": true,
    "scrolled": true
   },
   "outputs": [
    {
     "name": "stdout",
     "output_type": "stream",
     "text": [
      "Epoch 1/200\n",
      "63/63 [==============================] - 23s 371ms/step - loss: 1.6501 - acc: 0.2701 - val_loss: 1.3779 - val_acc: 0.2795\n",
      "Epoch 2/200\n",
      "63/63 [==============================] - 22s 347ms/step - loss: 1.3981 - acc: 0.2651 - val_loss: 1.3825 - val_acc: 0.2606\n",
      "Epoch 3/200\n",
      "63/63 [==============================] - 23s 367ms/step - loss: 1.3912 - acc: 0.2574 - val_loss: 1.3846 - val_acc: 0.2735\n",
      "Epoch 4/200\n",
      "63/63 [==============================] - 22s 354ms/step - loss: 1.3870 - acc: 0.2582 - val_loss: 1.3868 - val_acc: 0.2674\n",
      "Epoch 5/200\n",
      "63/63 [==============================] - 23s 358ms/step - loss: 1.3840 - acc: 0.2615 - val_loss: 1.3827 - val_acc: 0.2682\n",
      "\n",
      "Epoch 00005: ReduceLROnPlateau reducing learning rate to 0.0005000000237487257.\n",
      "Epoch 6/200\n",
      "63/63 [==============================] - 23s 363ms/step - loss: 1.3744 - acc: 0.2848 - val_loss: 1.3763 - val_acc: 0.2985\n",
      "Epoch 7/200\n",
      "63/63 [==============================] - 24s 384ms/step - loss: 1.3666 - acc: 0.3036 - val_loss: 1.3691 - val_acc: 0.3227\n",
      "Epoch 8/200\n",
      "63/63 [==============================] - 23s 369ms/step - loss: 1.3592 - acc: 0.3292 - val_loss: 1.3707 - val_acc: 0.3182\n",
      "Epoch 9/200\n",
      "63/63 [==============================] - 23s 368ms/step - loss: 1.3447 - acc: 0.3493 - val_loss: 1.3431 - val_acc: 0.3818\n",
      "Epoch 10/200\n",
      "63/63 [==============================] - 22s 354ms/step - loss: 1.3239 - acc: 0.3762 - val_loss: 1.3521 - val_acc: 0.3424\n",
      "Epoch 11/200\n",
      "63/63 [==============================] - 22s 355ms/step - loss: 1.2870 - acc: 0.4015 - val_loss: 1.3556 - val_acc: 0.3167\n",
      "Epoch 12/200\n",
      "63/63 [==============================] - 23s 360ms/step - loss: 1.2560 - acc: 0.4278 - val_loss: 1.2925 - val_acc: 0.4083\n",
      "Epoch 13/200\n",
      "63/63 [==============================] - 22s 354ms/step - loss: 1.2044 - acc: 0.4642 - val_loss: 1.2718 - val_acc: 0.3985\n",
      "Epoch 14/200\n",
      "63/63 [==============================] - 22s 354ms/step - loss: 1.1348 - acc: 0.5067 - val_loss: 1.2515 - val_acc: 0.4455\n",
      "Epoch 15/200\n",
      "63/63 [==============================] - 22s 351ms/step - loss: 1.0788 - acc: 0.5376 - val_loss: 1.1443 - val_acc: 0.5470\n",
      "Epoch 16/200\n",
      "63/63 [==============================] - 22s 355ms/step - loss: 1.0051 - acc: 0.5816 - val_loss: 1.2030 - val_acc: 0.4614\n",
      "Epoch 17/200\n",
      "63/63 [==============================] - 22s 356ms/step - loss: 0.9485 - acc: 0.6111 - val_loss: 1.1938 - val_acc: 0.4409\n",
      "Epoch 18/200\n",
      "63/63 [==============================] - 22s 354ms/step - loss: 0.9133 - acc: 0.6287 - val_loss: 1.1147 - val_acc: 0.5068\n",
      "Epoch 19/200\n",
      "63/63 [==============================] - 22s 352ms/step - loss: 0.8788 - acc: 0.6411 - val_loss: 1.0600 - val_acc: 0.5508\n",
      "Epoch 20/200\n",
      "63/63 [==============================] - 22s 354ms/step - loss: 0.8492 - acc: 0.6581 - val_loss: 1.0161 - val_acc: 0.5924\n",
      "Epoch 21/200\n",
      "63/63 [==============================] - 22s 354ms/step - loss: 0.8207 - acc: 0.6774 - val_loss: 0.9596 - val_acc: 0.5955\n",
      "Epoch 22/200\n",
      "63/63 [==============================] - 22s 352ms/step - loss: 0.7945 - acc: 0.6863 - val_loss: 0.8742 - val_acc: 0.6689\n",
      "Epoch 23/200\n",
      "63/63 [==============================] - 23s 358ms/step - loss: 0.7534 - acc: 0.7009 - val_loss: 0.7336 - val_acc: 0.7364\n",
      "Epoch 24/200\n",
      "63/63 [==============================] - 22s 353ms/step - loss: 0.7325 - acc: 0.7175 - val_loss: 0.6429 - val_acc: 0.7780\n",
      "Epoch 25/200\n",
      "63/63 [==============================] - 22s 355ms/step - loss: 0.7010 - acc: 0.7289 - val_loss: 0.5857 - val_acc: 0.7962\n",
      "Epoch 26/200\n",
      "63/63 [==============================] - 22s 352ms/step - loss: 0.6835 - acc: 0.7354 - val_loss: 0.6793 - val_acc: 0.7636\n",
      "Epoch 27/200\n",
      "63/63 [==============================] - 22s 353ms/step - loss: 0.6432 - acc: 0.7514 - val_loss: 0.6696 - val_acc: 0.7561\n",
      "Epoch 28/200\n",
      "63/63 [==============================] - 22s 353ms/step - loss: 0.6161 - acc: 0.7674 - val_loss: 0.7367 - val_acc: 0.7333\n",
      "Epoch 29/200\n",
      "63/63 [==============================] - 24s 376ms/step - loss: 0.5759 - acc: 0.7845 - val_loss: 0.5390 - val_acc: 0.8371\n",
      "Epoch 30/200\n",
      "63/63 [==============================] - 24s 376ms/step - loss: 0.5543 - acc: 0.7964 - val_loss: 0.4278 - val_acc: 0.8576\n",
      "Epoch 31/200\n",
      "63/63 [==============================] - 24s 380ms/step - loss: 0.5073 - acc: 0.8151 - val_loss: 0.3971 - val_acc: 0.8659\n",
      "Epoch 32/200\n",
      "63/63 [==============================] - 23s 360ms/step - loss: 0.4864 - acc: 0.8173 - val_loss: 0.3869 - val_acc: 0.8803\n",
      "Epoch 33/200\n",
      "63/63 [==============================] - 22s 352ms/step - loss: 0.4546 - acc: 0.8302 - val_loss: 0.5625 - val_acc: 0.7917\n",
      "Epoch 34/200\n",
      "63/63 [==============================] - 22s 353ms/step - loss: 0.4102 - acc: 0.8499 - val_loss: 0.3309 - val_acc: 0.9038\n",
      "Epoch 35/200\n",
      "63/63 [==============================] - 22s 350ms/step - loss: 0.3935 - acc: 0.8588 - val_loss: 0.3172 - val_acc: 0.9030\n",
      "Epoch 36/200\n",
      "63/63 [==============================] - 22s 353ms/step - loss: 0.3682 - acc: 0.8684 - val_loss: 0.3718 - val_acc: 0.8765\n",
      "Epoch 37/200\n",
      "63/63 [==============================] - 22s 349ms/step - loss: 0.3303 - acc: 0.8797 - val_loss: 0.2191 - val_acc: 0.9333\n",
      "Epoch 38/200\n",
      "63/63 [==============================] - 23s 360ms/step - loss: 0.3028 - acc: 0.8911 - val_loss: 0.1804 - val_acc: 0.9386\n",
      "Epoch 39/200\n",
      "63/63 [==============================] - 22s 352ms/step - loss: 0.2911 - acc: 0.8956 - val_loss: 0.1546 - val_acc: 0.9470\n",
      "Epoch 40/200\n",
      "63/63 [==============================] - 22s 351ms/step - loss: 0.2723 - acc: 0.9030 - val_loss: 0.1800 - val_acc: 0.9500\n",
      "Epoch 41/200\n",
      "63/63 [==============================] - 22s 351ms/step - loss: 0.2489 - acc: 0.9122 - val_loss: 0.1287 - val_acc: 0.9689\n",
      "Epoch 42/200\n",
      "63/63 [==============================] - 22s 352ms/step - loss: 0.2357 - acc: 0.9170 - val_loss: 0.1121 - val_acc: 0.9644\n",
      "Epoch 43/200\n",
      "63/63 [==============================] - 22s 354ms/step - loss: 0.2211 - acc: 0.9226 - val_loss: 0.1083 - val_acc: 0.9659\n",
      "Epoch 44/200\n",
      "63/63 [==============================] - 22s 349ms/step - loss: 0.2220 - acc: 0.9200 - val_loss: 0.1800 - val_acc: 0.9417\n",
      "Epoch 45/200\n",
      "63/63 [==============================] - 22s 352ms/step - loss: 0.2159 - acc: 0.9219 - val_loss: 0.1157 - val_acc: 0.9659\n",
      "\n",
      "Epoch 00045: ReduceLROnPlateau reducing learning rate to 0.0002500000118743628.\n",
      "Epoch 46/200\n",
      "63/63 [==============================] - 22s 351ms/step - loss: 0.2020 - acc: 0.9246 - val_loss: 0.1032 - val_acc: 0.9689\n",
      "Epoch 47/200\n",
      "63/63 [==============================] - 22s 350ms/step - loss: 0.1857 - acc: 0.9336 - val_loss: 0.0858 - val_acc: 0.9742\n",
      "Epoch 48/200\n",
      "63/63 [==============================] - 22s 353ms/step - loss: 0.1906 - acc: 0.9303 - val_loss: 0.0714 - val_acc: 0.9780\n",
      "Epoch 49/200\n",
      "63/63 [==============================] - 22s 354ms/step - loss: 0.1815 - acc: 0.9333 - val_loss: 0.0757 - val_acc: 0.9750\n",
      "Epoch 50/200\n",
      "63/63 [==============================] - 22s 357ms/step - loss: 0.1793 - acc: 0.9340 - val_loss: 0.0862 - val_acc: 0.9727\n",
      "Epoch 51/200\n",
      "63/63 [==============================] - 22s 353ms/step - loss: 0.1803 - acc: 0.9340 - val_loss: 0.0763 - val_acc: 0.9826\n",
      "Epoch 52/200\n",
      "63/63 [==============================] - 22s 352ms/step - loss: 0.1696 - acc: 0.9387 - val_loss: 0.0713 - val_acc: 0.9780\n",
      "Epoch 53/200\n",
      "63/63 [==============================] - 22s 355ms/step - loss: 0.1700 - acc: 0.9390 - val_loss: 0.0707 - val_acc: 0.9750\n",
      "Epoch 54/200\n",
      "63/63 [==============================] - 22s 350ms/step - loss: 0.1668 - acc: 0.9409 - val_loss: 0.0631 - val_acc: 0.9803\n",
      "Epoch 55/200\n",
      "63/63 [==============================] - 22s 355ms/step - loss: 0.1622 - acc: 0.9413 - val_loss: 0.0660 - val_acc: 0.9811\n",
      "\n",
      "Epoch 00055: ReduceLROnPlateau reducing learning rate to 0.0001250000059371814.\n",
      "Epoch 56/200\n",
      "63/63 [==============================] - 23s 360ms/step - loss: 0.1534 - acc: 0.9459 - val_loss: 0.0657 - val_acc: 0.9795\n",
      "Epoch 57/200\n",
      "63/63 [==============================] - 23s 363ms/step - loss: 0.1547 - acc: 0.9453 - val_loss: 0.0589 - val_acc: 0.9841\n",
      "Epoch 58/200\n",
      "63/63 [==============================] - 22s 353ms/step - loss: 0.1571 - acc: 0.9442 - val_loss: 0.0671 - val_acc: 0.9803\n",
      "Epoch 59/200\n",
      "63/63 [==============================] - 22s 347ms/step - loss: 0.1520 - acc: 0.9421 - val_loss: 0.0589 - val_acc: 0.9826\n"
     ]
    },
    {
     "name": "stdout",
     "output_type": "stream",
     "text": [
      "Epoch 60/200\n",
      "63/63 [==============================] - 22s 353ms/step - loss: 0.1524 - acc: 0.9447 - val_loss: 0.0566 - val_acc: 0.9833\n",
      "Epoch 61/200\n",
      "63/63 [==============================] - 23s 361ms/step - loss: 0.1465 - acc: 0.9456 - val_loss: 0.0577 - val_acc: 0.9848\n",
      "Epoch 62/200\n",
      "63/63 [==============================] - 22s 350ms/step - loss: 0.1391 - acc: 0.9494 - val_loss: 0.0564 - val_acc: 0.9833\n",
      "Epoch 63/200\n",
      "63/63 [==============================] - 23s 373ms/step - loss: 0.1457 - acc: 0.9489 - val_loss: 0.0584 - val_acc: 0.9826\n",
      "Epoch 64/200\n",
      "63/63 [==============================] - 22s 351ms/step - loss: 0.1502 - acc: 0.9431 - val_loss: 0.0604 - val_acc: 0.9811\n",
      "Epoch 65/200\n",
      "63/63 [==============================] - 23s 373ms/step - loss: 0.1422 - acc: 0.9478 - val_loss: 0.0538 - val_acc: 0.9818\n",
      "\n",
      "Epoch 00065: ReduceLROnPlateau reducing learning rate to 6.25000029685907e-05.\n",
      "Epoch 66/200\n",
      "63/63 [==============================] - 23s 358ms/step - loss: 0.1453 - acc: 0.9470 - val_loss: 0.0496 - val_acc: 0.9818\n",
      "Epoch 67/200\n",
      "63/63 [==============================] - 22s 350ms/step - loss: 0.1392 - acc: 0.9504 - val_loss: 0.0506 - val_acc: 0.9848\n",
      "Epoch 68/200\n",
      "63/63 [==============================] - 22s 349ms/step - loss: 0.1343 - acc: 0.9531 - val_loss: 0.0494 - val_acc: 0.9848\n",
      "Epoch 69/200\n",
      "63/63 [==============================] - 22s 352ms/step - loss: 0.1340 - acc: 0.9537 - val_loss: 0.0542 - val_acc: 0.9803\n",
      "\n",
      "Epoch 00069: ReduceLROnPlateau reducing learning rate to 3.125000148429535e-05.\n",
      "Epoch 70/200\n",
      "63/63 [==============================] - 22s 357ms/step - loss: 0.1323 - acc: 0.9545 - val_loss: 0.0472 - val_acc: 0.9871\n",
      "Epoch 71/200\n",
      "63/63 [==============================] - 22s 350ms/step - loss: 0.1358 - acc: 0.9483 - val_loss: 0.0471 - val_acc: 0.9848\n",
      "Epoch 72/200\n",
      "63/63 [==============================] - 23s 368ms/step - loss: 0.1230 - acc: 0.9580 - val_loss: 0.0494 - val_acc: 0.9879\n",
      "Epoch 73/200\n",
      "63/63 [==============================] - 24s 373ms/step - loss: 0.1364 - acc: 0.9503 - val_loss: 0.0508 - val_acc: 0.9826\n",
      "Epoch 74/200\n",
      "63/63 [==============================] - 24s 376ms/step - loss: 0.1352 - acc: 0.9521 - val_loss: 0.0505 - val_acc: 0.9841\n",
      "Epoch 75/200\n",
      "63/63 [==============================] - 22s 351ms/step - loss: 0.1357 - acc: 0.9505 - val_loss: 0.0485 - val_acc: 0.9841\n",
      "Epoch 76/200\n",
      "63/63 [==============================] - 27s 428ms/step - loss: 0.1304 - acc: 0.9530 - val_loss: 0.0521 - val_acc: 0.9826\n",
      "\n",
      "Epoch 00076: ReduceLROnPlateau reducing learning rate to 1.5625000742147677e-05.\n",
      "Epoch 77/200\n",
      "63/63 [==============================] - 24s 375ms/step - loss: 0.1248 - acc: 0.9562 - val_loss: 0.0479 - val_acc: 0.9833\n",
      "Epoch 78/200\n",
      "63/63 [==============================] - 22s 354ms/step - loss: 0.1309 - acc: 0.9564 - val_loss: 0.0498 - val_acc: 0.9811\n",
      "Epoch 79/200\n",
      "63/63 [==============================] - 25s 391ms/step - loss: 0.1332 - acc: 0.9499 - val_loss: 0.0521 - val_acc: 0.9841\n",
      "Epoch 80/200\n",
      "63/63 [==============================] - 23s 372ms/step - loss: 0.1311 - acc: 0.9532 - val_loss: 0.0504 - val_acc: 0.9841\n",
      "\n",
      "Epoch 00080: ReduceLROnPlateau reducing learning rate to 7.812500371073838e-06.\n",
      "Epoch 81/200\n",
      "63/63 [==============================] - 25s 396ms/step - loss: 0.1221 - acc: 0.9568 - val_loss: 0.0526 - val_acc: 0.9818\n",
      "Epoch 82/200\n",
      "63/63 [==============================] - 22s 356ms/step - loss: 0.1377 - acc: 0.9493 - val_loss: 0.0473 - val_acc: 0.9856\n",
      "Restoring model weights from the end of the best epoch\n",
      "Epoch 00082: early stopping\n"
     ]
    },
    {
     "data": {
      "image/png": "[encoded data removed]",
      "text/plain": [
       "<Figure size 432x288 with 2 Axes>"
      ]
     },
     "metadata": {
      "needs_background": "light"
     },
     "output_type": "display_data"
    },
    {
     "name": "stdout",
     "output_type": "stream",
     "text": [
      "Best val_acc - 0.9879 (epoch 72)\n"
     ]
    }
   ],
   "source": [
    "opt = optimizers.Adam(lr=0.001, beta_1=0.9, beta_2=0.999, epsilon=None, decay=0.0, amsgrad=False)\n",
    "history, model_5 = train(model_5, opt=opt)"
   ]
  },
  {
   "cell_type": "code",
   "execution_count": 56,
   "metadata": {
    "ExecuteTime": {
     "end_time": "2019-09-09T21:06:57.759022Z",
     "start_time": "2019-09-09T21:06:53.606125Z"
    },
    "hidden": true
   },
   "outputs": [],
   "source": [
    "# save with the convention 'm[model number]_[# parameters]_[best val_acc].h5'\n",
    "model_5.save('..//models//m5_26078_9879.h5')"
   ]
  },
  {
   "cell_type": "markdown",
   "metadata": {},
   "source": [
    "## Model 6: Brightness range 23,090 - 0.997 (epoch 80)"
   ]
  },
  {
   "cell_type": "markdown",
   "metadata": {
    "heading_collapsed": true
   },
   "source": [
    "#### Define Train function"
   ]
  },
  {
   "cell_type": "code",
   "execution_count": 2,
   "metadata": {
    "ExecuteTime": {
     "end_time": "2019-09-23T16:53:18.794548Z",
     "start_time": "2019-09-23T16:53:18.783546Z"
    },
    "code_folding": [],
    "hidden": true
   },
   "outputs": [],
   "source": [
    "my_callbacks = [callbacks.EarlyStopping(monitor='val_acc', patience=10, verbose=1, restore_best_weights=True),\n",
    "                callbacks.ReduceLROnPlateau(monitor='val_acc', factor=0.5, patience=4, min_lr=1e-6, mode='auto', verbose=1)]\n",
    "\n",
    "\n",
    "def train(model, epochs=200, initial_epoch=0, batch_size=128, lr=0.01, opt='adadelta', plot_hist='True'):\n",
    "    model.compile(loss='sparse_categorical_crossentropy',\n",
    "                  optimizer=opt,\n",
    "                  metrics=['accuracy'])\n",
    "\n",
    "#     can test augmentation techniques like brightness and rotation\n",
    "    train_generator = ImageDataGenerator(rotation_range=10, width_shift_range=0.15, height_shift_range=0.15, brightness_range=[0.2, 1.2], shear_range=0.0, zoom_range=0.2, channel_shift_range=0.0, fill_mode='nearest', \n",
    "                                         horizontal_flip=False, vertical_flip=False, rescale=1/255, preprocessing_function=None, data_format=None, validation_split=0.0, dtype=None).flow(x_train, y_train, batch_size=batch_size, seed=11)\n",
    "\n",
    "    validation_generator = ImageDataGenerator(rotation_range=10, width_shift_range=0.15, height_shift_range=0.15, brightness_range=[0.2, 1.2], shear_range=0.0, zoom_range=0.2,\n",
    "                                              channel_shift_range=0.0, fill_mode='nearest', horizontal_flip=False, vertical_flip=False, rescale=1/255, preprocessing_function=None, data_format=None, validation_split=0.0, dtype=None).flow(\n",
    "        x_test, y_test, batch_size=batch_size, seed=11)\n",
    "\n",
    "    history = model.fit_generator(generator=train_generator,\n",
    "                                  epochs=epochs+initial_epoch,\n",
    "                                  verbose=1,\n",
    "                                  callbacks=my_callbacks,\n",
    "                                  validation_data=validation_generator,\n",
    "                                  shuffle=True,\n",
    "                                  initial_epoch=initial_epoch)\n",
    "    if(plot_hist):\n",
    "        plot_train_history(history)\n",
    "\n",
    "    index = history.history['val_acc'].index(max(history.history['val_acc']))\n",
    "    print(\n",
    "        'Best val_acc - {:.4} (epoch {:})'.format(history.history['val_acc'][index], index+1))\n",
    "    return history, model"
   ]
  },
  {
   "cell_type": "markdown",
   "metadata": {
    "heading_collapsed": true
   },
   "source": [
    "#### Define Model"
   ]
  },
  {
   "cell_type": "code",
   "execution_count": 3,
   "metadata": {
    "ExecuteTime": {
     "end_time": "2019-09-23T16:54:11.084740Z",
     "start_time": "2019-09-23T16:54:08.904151Z"
    },
    "code_folding": [],
    "hidden": true,
    "scrolled": true
   },
   "outputs": [
    {
     "name": "stderr",
     "output_type": "stream",
     "text": [
      "WARNING: Logging before flag parsing goes to stderr.\n",
      "W0923 09:54:08.913126  8240 deprecation_wrapper.py:119] From C:\\Users\\kendy\\Anaconda3\\envs\\keras-gpu\\lib\\site-packages\\keras\\backend\\tensorflow_backend.py:66: The name tf.get_default_graph is deprecated. Please use tf.compat.v1.get_default_graph instead.\n",
      "\n",
      "W0923 09:54:08.929116  8240 deprecation_wrapper.py:119] From C:\\Users\\kendy\\Anaconda3\\envs\\keras-gpu\\lib\\site-packages\\keras\\backend\\tensorflow_backend.py:541: The name tf.placeholder is deprecated. Please use tf.compat.v1.placeholder instead.\n",
      "\n",
      "W0923 09:54:08.932082  8240 deprecation_wrapper.py:119] From C:\\Users\\kendy\\Anaconda3\\envs\\keras-gpu\\lib\\site-packages\\keras\\backend\\tensorflow_backend.py:4432: The name tf.random_uniform is deprecated. Please use tf.random.uniform instead.\n",
      "\n",
      "W0923 09:54:08.961020  8240 deprecation_wrapper.py:119] From C:\\Users\\kendy\\Anaconda3\\envs\\keras-gpu\\lib\\site-packages\\keras\\backend\\tensorflow_backend.py:190: The name tf.get_default_session is deprecated. Please use tf.compat.v1.get_default_session instead.\n",
      "\n",
      "W0923 09:54:08.961020  8240 deprecation_wrapper.py:119] From C:\\Users\\kendy\\Anaconda3\\envs\\keras-gpu\\lib\\site-packages\\keras\\backend\\tensorflow_backend.py:197: The name tf.ConfigProto is deprecated. Please use tf.compat.v1.ConfigProto instead.\n",
      "\n",
      "W0923 09:54:10.329781  8240 deprecation_wrapper.py:119] From C:\\Users\\kendy\\Anaconda3\\envs\\keras-gpu\\lib\\site-packages\\keras\\backend\\tensorflow_backend.py:2041: The name tf.nn.fused_batch_norm is deprecated. Please use tf.compat.v1.nn.fused_batch_norm instead.\n",
      "\n",
      "W0923 09:54:10.471412  8240 deprecation_wrapper.py:119] From C:\\Users\\kendy\\Anaconda3\\envs\\keras-gpu\\lib\\site-packages\\keras\\backend\\tensorflow_backend.py:4267: The name tf.nn.max_pool is deprecated. Please use tf.nn.max_pool2d instead.\n",
      "\n",
      "W0923 09:54:10.477383  8240 deprecation.py:506] From C:\\Users\\kendy\\Anaconda3\\envs\\keras-gpu\\lib\\site-packages\\keras\\backend\\tensorflow_backend.py:3733: calling dropout (from tensorflow.python.ops.nn_ops) with keep_prob is deprecated and will be removed in a future version.\n",
      "Instructions for updating:\n",
      "Please use `rate` instead of `keep_prob`. Rate should be set to `rate = 1 - keep_prob`.\n"
     ]
    },
    {
     "name": "stdout",
     "output_type": "stream",
     "text": [
      "Model: \"sequential_1\"\n",
      "_________________________________________________________________\n",
      "Layer (type)                 Output Shape              Param #   \n",
      "=================================================================\n",
      "conv2d_1 (Conv2D)            (None, 126, 126, 16)      448       \n",
      "_________________________________________________________________\n",
      "batch_normalization_1 (Batch (None, 126, 126, 16)      64        \n",
      "_________________________________________________________________\n",
      "activation_1 (Activation)    (None, 126, 126, 16)      0         \n",
      "_________________________________________________________________\n",
      "conv2d_2 (Conv2D)            (None, 124, 124, 17)      2465      \n",
      "_________________________________________________________________\n",
      "batch_normalization_2 (Batch (None, 124, 124, 17)      68        \n",
      "_________________________________________________________________\n",
      "activation_2 (Activation)    (None, 124, 124, 17)      0         \n",
      "_________________________________________________________________\n",
      "max_pooling2d_1 (MaxPooling2 (None, 62, 62, 17)        0         \n",
      "_________________________________________________________________\n",
      "dropout_1 (Dropout)          (None, 62, 62, 17)        0         \n",
      "_________________________________________________________________\n",
      "conv2d_3 (Conv2D)            (None, 60, 60, 17)        2618      \n",
      "_________________________________________________________________\n",
      "batch_normalization_3 (Batch (None, 60, 60, 17)        68        \n",
      "_________________________________________________________________\n",
      "activation_3 (Activation)    (None, 60, 60, 17)        0         \n",
      "_________________________________________________________________\n",
      "conv2d_4 (Conv2D)            (None, 58, 58, 18)        2772      \n",
      "_________________________________________________________________\n",
      "batch_normalization_4 (Batch (None, 58, 58, 18)        72        \n",
      "_________________________________________________________________\n",
      "activation_4 (Activation)    (None, 58, 58, 18)        0         \n",
      "_________________________________________________________________\n",
      "max_pooling2d_2 (MaxPooling2 (None, 29, 29, 18)        0         \n",
      "_________________________________________________________________\n",
      "dropout_2 (Dropout)          (None, 29, 29, 18)        0         \n",
      "_________________________________________________________________\n",
      "conv2d_5 (Conv2D)            (None, 27, 27, 18)        2934      \n",
      "_________________________________________________________________\n",
      "batch_normalization_5 (Batch (None, 27, 27, 18)        72        \n",
      "_________________________________________________________________\n",
      "activation_5 (Activation)    (None, 27, 27, 18)        0         \n",
      "_________________________________________________________________\n",
      "conv2d_6 (Conv2D)            (None, 25, 25, 18)        2934      \n",
      "_________________________________________________________________\n",
      "batch_normalization_6 (Batch (None, 25, 25, 18)        72        \n",
      "_________________________________________________________________\n",
      "activation_6 (Activation)    (None, 25, 25, 18)        0         \n",
      "_________________________________________________________________\n",
      "max_pooling2d_3 (MaxPooling2 (None, 12, 12, 18)        0         \n",
      "_________________________________________________________________\n",
      "dropout_3 (Dropout)          (None, 12, 12, 18)        0         \n",
      "_________________________________________________________________\n",
      "conv2d_7 (Conv2D)            (None, 10, 10, 17)        2771      \n",
      "_________________________________________________________________\n",
      "batch_normalization_7 (Batch (None, 10, 10, 17)        68        \n",
      "_________________________________________________________________\n",
      "activation_7 (Activation)    (None, 10, 10, 17)        0         \n",
      "_________________________________________________________________\n",
      "conv2d_8 (Conv2D)            (None, 8, 8, 16)          2464      \n",
      "_________________________________________________________________\n",
      "batch_normalization_8 (Batch (None, 8, 8, 16)          64        \n",
      "_________________________________________________________________\n",
      "activation_8 (Activation)    (None, 8, 8, 16)          0         \n",
      "_________________________________________________________________\n",
      "max_pooling2d_4 (MaxPooling2 (None, 4, 4, 16)          0         \n",
      "_________________________________________________________________\n",
      "dropout_4 (Dropout)          (None, 4, 4, 16)          0         \n",
      "_________________________________________________________________\n",
      "flatten_1 (Flatten)          (None, 256)               0         \n",
      "_________________________________________________________________\n",
      "dense_1 (Dense)              (None, 12)                3084      \n",
      "_________________________________________________________________\n",
      "activation_9 (Activation)    (None, 12)                0         \n",
      "_________________________________________________________________\n",
      "dense_2 (Dense)              (None, 4)                 52        \n",
      "_________________________________________________________________\n",
      "activation_10 (Activation)   (None, 4)                 0         \n",
      "=================================================================\n",
      "Total params: 23,090\n",
      "Trainable params: 22,816\n",
      "Non-trainable params: 274\n",
      "_________________________________________________________________\n"
     ]
    }
   ],
   "source": [
    "model_6 = Sequential([\n",
    "    Conv2D(16, (3, 3), strides=(1, 1), input_shape=(128, 128, 3), data_format=\"channels_last\", padding='valid'),   # RGB\n",
    "    BatchNormalization(),\n",
    "    Activation('relu'),\n",
    "    Conv2D(17, (3, 3), strides=(1, 1), padding='valid'),\n",
    "    BatchNormalization(),\n",
    "    Activation('relu'),\n",
    "    MaxPooling2D(pool_size=(2, 2)),\n",
    "    Dropout(0.3),\n",
    "    \n",
    "    Conv2D(17, (3, 3), strides=(1, 1), input_shape=(128, 128, 3), data_format=\"channels_last\", padding='valid'),   # RGB\n",
    "    BatchNormalization(),\n",
    "    Activation('relu'),\n",
    "    Conv2D(18, (3, 3), strides=(1, 1), padding='valid'),\n",
    "    BatchNormalization(),\n",
    "    Activation('relu'),\n",
    "    MaxPooling2D(pool_size=(2, 2)),\n",
    "    Dropout(0.3),\n",
    "    \n",
    "    Conv2D(18, (3, 3), strides=(1, 1), input_shape=(128, 128, 3), data_format=\"channels_last\", padding='valid'),   # RGB\n",
    "    BatchNormalization(),\n",
    "    Activation('relu'),\n",
    "    Conv2D(18, (3, 3), strides=(1, 1), padding='valid'),\n",
    "    BatchNormalization(),\n",
    "    Activation('relu'),\n",
    "    MaxPooling2D(pool_size=(2, 2)),\n",
    "    Dropout(0.3),\n",
    "    \n",
    "    Conv2D(17, (3, 3), strides=(1, 1), input_shape=(128, 128, 3), data_format=\"channels_last\", padding='valid'),   # RGB\n",
    "    BatchNormalization(),\n",
    "    Activation('relu'),\n",
    "    Conv2D(16, (3, 3), strides=(1, 1), padding='valid'),\n",
    "    BatchNormalization(),\n",
    "    Activation('relu'),\n",
    "    MaxPooling2D(pool_size=(2, 2)),\n",
    "    Dropout(0.3),\n",
    "    \n",
    "    Flatten(),\n",
    "    Dense(12),\n",
    "    Activation('relu'),\n",
    "    Dense(num_classes),\n",
    "    Activation('softmax')\n",
    "])\n",
    "model_6.summary()"
   ]
  },
  {
   "cell_type": "markdown",
   "metadata": {},
   "source": [
    "#### Execute Training"
   ]
  },
  {
   "cell_type": "code",
   "execution_count": 4,
   "metadata": {
    "ExecuteTime": {
     "end_time": "2019-09-23T17:36:41.073309Z",
     "start_time": "2019-09-23T16:54:15.943023Z"
    },
    "scrolled": true
   },
   "outputs": [
    {
     "name": "stderr",
     "output_type": "stream",
     "text": [
      "W0923 09:54:15.959978  8240 deprecation_wrapper.py:119] From C:\\Users\\kendy\\Anaconda3\\envs\\keras-gpu\\lib\\site-packages\\keras\\optimizers.py:793: The name tf.train.Optimizer is deprecated. Please use tf.compat.v1.train.Optimizer instead.\n",
      "\n",
      "W0923 09:54:17.117884  8240 deprecation.py:323] From C:\\Users\\kendy\\Anaconda3\\envs\\keras-gpu\\lib\\site-packages\\tensorflow\\python\\ops\\math_grad.py:1250: add_dispatch_support.<locals>.wrapper (from tensorflow.python.ops.array_ops) is deprecated and will be removed in a future version.\n",
      "Instructions for updating:\n",
      "Use tf.where in 2.0, which has the same broadcast rule as np.where\n"
     ]
    },
    {
     "name": "stdout",
     "output_type": "stream",
     "text": [
      "Epoch 1/200\n",
      "63/63 [==============================] - 31s 496ms/step - loss: 1.4303 - acc: 0.2493 - val_loss: 1.3853 - val_acc: 0.2674\n",
      "Epoch 2/200\n",
      "63/63 [==============================] - 28s 439ms/step - loss: 1.3870 - acc: 0.2567 - val_loss: 1.3862 - val_acc: 0.2568\n",
      "Epoch 3/200\n",
      "63/63 [==============================] - 28s 443ms/step - loss: 1.3873 - acc: 0.2522 - val_loss: 1.3859 - val_acc: 0.2568\n",
      "Epoch 4/200\n",
      "63/63 [==============================] - 28s 445ms/step - loss: 1.3849 - acc: 0.2625 - val_loss: 1.3859 - val_acc: 0.2530\n",
      "Epoch 5/200\n",
      "63/63 [==============================] - 29s 456ms/step - loss: 1.3837 - acc: 0.2724 - val_loss: 1.3827 - val_acc: 0.2848\n",
      "Epoch 6/200\n",
      "63/63 [==============================] - 29s 467ms/step - loss: 1.3799 - acc: 0.2804 - val_loss: 1.3719 - val_acc: 0.3129\n",
      "Epoch 7/200\n",
      "63/63 [==============================] - 28s 448ms/step - loss: 1.3724 - acc: 0.3100 - val_loss: 1.3479 - val_acc: 0.3326\n",
      "Epoch 8/200\n",
      "63/63 [==============================] - 28s 446ms/step - loss: 1.3531 - acc: 0.3307 - val_loss: 1.3287 - val_acc: 0.3470\n",
      "Epoch 9/200\n",
      "63/63 [==============================] - 28s 443ms/step - loss: 1.3123 - acc: 0.3617 - val_loss: 1.3216 - val_acc: 0.3455\n",
      "Epoch 10/200\n",
      "63/63 [==============================] - 28s 445ms/step - loss: 1.2113 - acc: 0.3993 - val_loss: 1.2173 - val_acc: 0.3803\n",
      "Epoch 11/200\n",
      "63/63 [==============================] - 28s 444ms/step - loss: 1.0560 - acc: 0.4519 - val_loss: 1.9472 - val_acc: 0.2947\n",
      "Epoch 12/200\n",
      "63/63 [==============================] - 28s 442ms/step - loss: 0.9448 - acc: 0.4662 - val_loss: 1.4724 - val_acc: 0.3508\n",
      "Epoch 13/200\n",
      "63/63 [==============================] - 28s 445ms/step - loss: 0.8961 - acc: 0.4912 - val_loss: 1.1639 - val_acc: 0.4068\n",
      "Epoch 14/200\n",
      "63/63 [==============================] - 28s 443ms/step - loss: 0.8621 - acc: 0.5212 - val_loss: 0.8900 - val_acc: 0.5091\n",
      "Epoch 15/200\n",
      "63/63 [==============================] - 28s 442ms/step - loss: 0.8294 - acc: 0.5283 - val_loss: 0.7779 - val_acc: 0.5470\n",
      "Epoch 16/200\n",
      "63/63 [==============================] - 28s 445ms/step - loss: 0.7977 - acc: 0.5544 - val_loss: 0.7498 - val_acc: 0.6030\n",
      "Epoch 17/200\n",
      "63/63 [==============================] - 28s 450ms/step - loss: 0.7732 - acc: 0.5678 - val_loss: 0.7189 - val_acc: 0.6280\n",
      "Epoch 18/200\n",
      "63/63 [==============================] - 28s 450ms/step - loss: 0.7388 - acc: 0.6060 - val_loss: 0.7222 - val_acc: 0.6242\n",
      "Epoch 19/200\n",
      "63/63 [==============================] - 28s 441ms/step - loss: 0.7313 - acc: 0.6095 - val_loss: 0.6643 - val_acc: 0.6568\n",
      "Epoch 20/200\n",
      "63/63 [==============================] - 28s 444ms/step - loss: 0.7140 - acc: 0.6339 - val_loss: 0.6948 - val_acc: 0.6871\n",
      "Epoch 21/200\n",
      "63/63 [==============================] - 28s 442ms/step - loss: 0.6705 - acc: 0.6647 - val_loss: 0.6096 - val_acc: 0.7091\n",
      "Epoch 22/200\n",
      "63/63 [==============================] - 28s 443ms/step - loss: 0.6349 - acc: 0.6846 - val_loss: 0.6416 - val_acc: 0.6659\n",
      "Epoch 23/200\n",
      "63/63 [==============================] - 28s 441ms/step - loss: 0.6186 - acc: 0.7002 - val_loss: 0.5389 - val_acc: 0.7629\n",
      "Epoch 24/200\n",
      "63/63 [==============================] - 28s 441ms/step - loss: 0.5792 - acc: 0.7305 - val_loss: 0.5172 - val_acc: 0.7886\n",
      "Epoch 25/200\n",
      "63/63 [==============================] - 28s 442ms/step - loss: 0.5338 - acc: 0.7593 - val_loss: 0.4018 - val_acc: 0.8333\n",
      "Epoch 26/200\n",
      "63/63 [==============================] - 28s 442ms/step - loss: 0.4846 - acc: 0.7940 - val_loss: 0.3974 - val_acc: 0.8371\n",
      "Epoch 27/200\n",
      "63/63 [==============================] - 30s 469ms/step - loss: 0.4669 - acc: 0.8021 - val_loss: 0.3321 - val_acc: 0.8788\n",
      "Epoch 28/200\n",
      "63/63 [==============================] - 30s 476ms/step - loss: 0.3961 - acc: 0.8363 - val_loss: 0.2662 - val_acc: 0.9053\n",
      "Epoch 29/200\n",
      "63/63 [==============================] - 29s 458ms/step - loss: 0.3715 - acc: 0.8483 - val_loss: 0.2478 - val_acc: 0.8992\n",
      "Epoch 30/200\n",
      "63/63 [==============================] - 28s 442ms/step - loss: 0.3610 - acc: 0.8555 - val_loss: 0.2396 - val_acc: 0.9061\n",
      "Epoch 31/200\n",
      "63/63 [==============================] - 28s 442ms/step - loss: 0.3149 - acc: 0.8749 - val_loss: 0.2379 - val_acc: 0.9182\n",
      "Epoch 32/200\n",
      "63/63 [==============================] - 28s 444ms/step - loss: 0.3069 - acc: 0.8808 - val_loss: 0.2090 - val_acc: 0.9205\n",
      "Epoch 33/200\n",
      "63/63 [==============================] - 28s 442ms/step - loss: 0.2807 - acc: 0.8925 - val_loss: 0.1531 - val_acc: 0.9470\n",
      "Epoch 34/200\n",
      "63/63 [==============================] - 28s 441ms/step - loss: 0.2487 - acc: 0.9049 - val_loss: 0.1787 - val_acc: 0.9265\n",
      "Epoch 35/200\n",
      "63/63 [==============================] - 28s 443ms/step - loss: 0.2498 - acc: 0.9044 - val_loss: 0.1644 - val_acc: 0.9417\n",
      "Epoch 36/200\n",
      "63/63 [==============================] - 28s 443ms/step - loss: 0.2318 - acc: 0.9127 - val_loss: 0.1252 - val_acc: 0.9621\n",
      "Epoch 37/200\n",
      "63/63 [==============================] - 29s 465ms/step - loss: 0.2270 - acc: 0.9157 - val_loss: 0.1121 - val_acc: 0.9659\n",
      "Epoch 38/200\n",
      "63/63 [==============================] - 29s 468ms/step - loss: 0.2064 - acc: 0.9252 - val_loss: 0.2077 - val_acc: 0.9212\n",
      "Epoch 39/200\n",
      "63/63 [==============================] - 30s 470ms/step - loss: 0.1911 - acc: 0.9314 - val_loss: 0.1111 - val_acc: 0.9561\n",
      "Epoch 40/200\n",
      "63/63 [==============================] - 30s 476ms/step - loss: 0.1915 - acc: 0.9267 - val_loss: 0.0853 - val_acc: 0.9697\n",
      "Epoch 41/200\n",
      "63/63 [==============================] - 29s 468ms/step - loss: 0.1742 - acc: 0.9394 - val_loss: 0.1160 - val_acc: 0.9561\n",
      "Epoch 42/200\n",
      "63/63 [==============================] - 28s 446ms/step - loss: 0.1925 - acc: 0.9297 - val_loss: 0.0861 - val_acc: 0.9758\n",
      "Epoch 43/200\n",
      "63/63 [==============================] - 28s 444ms/step - loss: 0.1761 - acc: 0.9354 - val_loss: 0.0856 - val_acc: 0.9712\n",
      "Epoch 44/200\n",
      "63/63 [==============================] - 28s 441ms/step - loss: 0.1638 - acc: 0.9395 - val_loss: 0.0782 - val_acc: 0.9765\n",
      "Epoch 45/200\n",
      "63/63 [==============================] - 28s 440ms/step - loss: 0.1640 - acc: 0.9427 - val_loss: 0.0759 - val_acc: 0.9780\n",
      "Epoch 46/200\n",
      "63/63 [==============================] - 28s 444ms/step - loss: 0.1529 - acc: 0.9431 - val_loss: 0.0704 - val_acc: 0.9765\n",
      "Epoch 47/200\n",
      "63/63 [==============================] - 28s 444ms/step - loss: 0.1451 - acc: 0.9479 - val_loss: 0.1227 - val_acc: 0.9538\n",
      "Epoch 48/200\n",
      "63/63 [==============================] - 28s 443ms/step - loss: 0.1340 - acc: 0.9516 - val_loss: 0.0776 - val_acc: 0.9773\n",
      "Epoch 49/200\n",
      "63/63 [==============================] - 28s 444ms/step - loss: 0.1341 - acc: 0.9519 - val_loss: 0.0833 - val_acc: 0.9689\n",
      "\n",
      "Epoch 00049: ReduceLROnPlateau reducing learning rate to 0.0005000000237487257.\n",
      "Epoch 50/200\n",
      "63/63 [==============================] - 29s 459ms/step - loss: 0.1205 - acc: 0.9572 - val_loss: 0.0423 - val_acc: 0.9856\n",
      "Epoch 51/200\n",
      "63/63 [==============================] - 29s 467ms/step - loss: 0.1204 - acc: 0.9575 - val_loss: 0.0382 - val_acc: 0.9871\n",
      "Epoch 52/200\n",
      "63/63 [==============================] - 29s 460ms/step - loss: 0.1159 - acc: 0.9596 - val_loss: 0.0457 - val_acc: 0.9856\n",
      "Epoch 53/200\n",
      "63/63 [==============================] - 28s 446ms/step - loss: 0.1115 - acc: 0.9607 - val_loss: 0.0417 - val_acc: 0.9879\n",
      "Epoch 54/200\n",
      "63/63 [==============================] - 28s 442ms/step - loss: 0.1081 - acc: 0.9619 - val_loss: 0.0501 - val_acc: 0.9811\n",
      "Epoch 55/200\n",
      "63/63 [==============================] - 28s 442ms/step - loss: 0.1108 - acc: 0.9607 - val_loss: 0.0424 - val_acc: 0.9871\n",
      "Epoch 56/200\n",
      "63/63 [==============================] - 28s 443ms/step - loss: 0.1029 - acc: 0.9618 - val_loss: 0.0432 - val_acc: 0.9856\n",
      "Epoch 57/200\n",
      "63/63 [==============================] - 28s 441ms/step - loss: 0.0995 - acc: 0.9659 - val_loss: 0.0382 - val_acc: 0.9886\n",
      "Epoch 58/200\n",
      "63/63 [==============================] - 28s 441ms/step - loss: 0.1134 - acc: 0.9582 - val_loss: 0.0543 - val_acc: 0.9848\n",
      "Epoch 59/200\n",
      "63/63 [==============================] - 28s 447ms/step - loss: 0.1011 - acc: 0.9640 - val_loss: 0.0317 - val_acc: 0.9909\n",
      "Epoch 60/200\n",
      "63/63 [==============================] - 28s 444ms/step - loss: 0.0942 - acc: 0.9637 - val_loss: 0.0360 - val_acc: 0.9886\n",
      "Epoch 61/200\n"
     ]
    },
    {
     "name": "stdout",
     "output_type": "stream",
     "text": [
      "63/63 [==============================] - 29s 456ms/step - loss: 0.0936 - acc: 0.9668 - val_loss: 0.0347 - val_acc: 0.9924\n",
      "Epoch 62/200\n",
      "63/63 [==============================] - 28s 443ms/step - loss: 0.0975 - acc: 0.9654 - val_loss: 0.0377 - val_acc: 0.9833\n",
      "Epoch 63/200\n",
      "63/63 [==============================] - 28s 444ms/step - loss: 0.1060 - acc: 0.9623 - val_loss: 0.0380 - val_acc: 0.9909\n",
      "Epoch 64/200\n",
      "63/63 [==============================] - 28s 444ms/step - loss: 0.1057 - acc: 0.9626 - val_loss: 0.0271 - val_acc: 0.9917\n",
      "Epoch 65/200\n",
      "63/63 [==============================] - 28s 441ms/step - loss: 0.0899 - acc: 0.9679 - val_loss: 0.0356 - val_acc: 0.9924\n",
      "\n",
      "Epoch 00065: ReduceLROnPlateau reducing learning rate to 0.0002500000118743628.\n",
      "Epoch 66/200\n",
      "63/63 [==============================] - 28s 443ms/step - loss: 0.0865 - acc: 0.9716 - val_loss: 0.0368 - val_acc: 0.9902\n",
      "Epoch 67/200\n",
      "63/63 [==============================] - 28s 445ms/step - loss: 0.0866 - acc: 0.9671 - val_loss: 0.0260 - val_acc: 0.9917\n",
      "Epoch 68/200\n",
      "63/63 [==============================] - 28s 444ms/step - loss: 0.0881 - acc: 0.9686 - val_loss: 0.0247 - val_acc: 0.9932\n",
      "Epoch 69/200\n",
      "63/63 [==============================] - 29s 463ms/step - loss: 0.0801 - acc: 0.9706 - val_loss: 0.0275 - val_acc: 0.9924\n",
      "Epoch 70/200\n",
      "63/63 [==============================] - 30s 477ms/step - loss: 0.0829 - acc: 0.9706 - val_loss: 0.0266 - val_acc: 0.9886\n",
      "Epoch 71/200\n",
      "63/63 [==============================] - 28s 449ms/step - loss: 0.0861 - acc: 0.9709 - val_loss: 0.0392 - val_acc: 0.9871\n",
      "Epoch 72/200\n",
      "63/63 [==============================] - 28s 443ms/step - loss: 0.0764 - acc: 0.9711 - val_loss: 0.0349 - val_acc: 0.9886\n",
      "\n",
      "Epoch 00072: ReduceLROnPlateau reducing learning rate to 0.0001250000059371814.\n",
      "Epoch 73/200\n",
      "63/63 [==============================] - 28s 440ms/step - loss: 0.0825 - acc: 0.9716 - val_loss: 0.0258 - val_acc: 0.9924\n",
      "Epoch 74/200\n",
      "63/63 [==============================] - 28s 443ms/step - loss: 0.0818 - acc: 0.9720 - val_loss: 0.0203 - val_acc: 0.9962\n",
      "Epoch 75/200\n",
      "63/63 [==============================] - 28s 447ms/step - loss: 0.0796 - acc: 0.9711 - val_loss: 0.0313 - val_acc: 0.9879\n",
      "Epoch 76/200\n",
      "63/63 [==============================] - 28s 444ms/step - loss: 0.0799 - acc: 0.9704 - val_loss: 0.0300 - val_acc: 0.9917\n",
      "Epoch 77/200\n",
      "63/63 [==============================] - 28s 444ms/step - loss: 0.0734 - acc: 0.9730 - val_loss: 0.0273 - val_acc: 0.9909\n",
      "Epoch 78/200\n",
      "63/63 [==============================] - 28s 446ms/step - loss: 0.0811 - acc: 0.9727 - val_loss: 0.0306 - val_acc: 0.9902\n",
      "\n",
      "Epoch 00078: ReduceLROnPlateau reducing learning rate to 6.25000029685907e-05.\n",
      "Epoch 79/200\n",
      "63/63 [==============================] - 28s 445ms/step - loss: 0.0737 - acc: 0.9735 - val_loss: 0.0190 - val_acc: 0.9932\n",
      "Epoch 80/200\n",
      "63/63 [==============================] - 28s 445ms/step - loss: 0.0718 - acc: 0.9772 - val_loss: 0.0178 - val_acc: 0.9970\n",
      "Epoch 81/200\n",
      "63/63 [==============================] - 28s 445ms/step - loss: 0.0750 - acc: 0.9718 - val_loss: 0.0242 - val_acc: 0.9947\n",
      "Epoch 82/200\n",
      "63/63 [==============================] - 28s 444ms/step - loss: 0.0702 - acc: 0.9748 - val_loss: 0.0270 - val_acc: 0.9909\n",
      "Epoch 83/200\n",
      "63/63 [==============================] - 28s 442ms/step - loss: 0.0742 - acc: 0.9747 - val_loss: 0.0261 - val_acc: 0.9917\n",
      "Epoch 84/200\n",
      "63/63 [==============================] - 28s 441ms/step - loss: 0.0719 - acc: 0.9741 - val_loss: 0.0215 - val_acc: 0.9932\n",
      "\n",
      "Epoch 00084: ReduceLROnPlateau reducing learning rate to 3.125000148429535e-05.\n",
      "Epoch 85/200\n",
      "63/63 [==============================] - 28s 444ms/step - loss: 0.0852 - acc: 0.9709 - val_loss: 0.0236 - val_acc: 0.9939\n",
      "Epoch 86/200\n",
      "63/63 [==============================] - 28s 443ms/step - loss: 0.0763 - acc: 0.9752 - val_loss: 0.0258 - val_acc: 0.9894\n",
      "Epoch 87/200\n",
      "63/63 [==============================] - 28s 446ms/step - loss: 0.0689 - acc: 0.9771 - val_loss: 0.0235 - val_acc: 0.9962\n",
      "Epoch 88/200\n",
      "63/63 [==============================] - 28s 448ms/step - loss: 0.0757 - acc: 0.9728 - val_loss: 0.0276 - val_acc: 0.9924\n",
      "\n",
      "Epoch 00088: ReduceLROnPlateau reducing learning rate to 1.5625000742147677e-05.\n",
      "Epoch 89/200\n",
      "63/63 [==============================] - 28s 445ms/step - loss: 0.0710 - acc: 0.9743 - val_loss: 0.0224 - val_acc: 0.9924\n",
      "Epoch 90/200\n",
      "63/63 [==============================] - 28s 442ms/step - loss: 0.0682 - acc: 0.9762 - val_loss: 0.0236 - val_acc: 0.9924\n",
      "Restoring model weights from the end of the best epoch\n",
      "Epoch 00090: early stopping\n"
     ]
    },
    {
     "data": {
      "image/png": "[encoded data removed]",
      "text/plain": [
       "<Figure size 432x288 with 2 Axes>"
      ]
     },
     "metadata": {
      "needs_background": "light"
     },
     "output_type": "display_data"
    },
    {
     "name": "stdout",
     "output_type": "stream",
     "text": [
      "Best val_acc - 0.997 (epoch 80)\n"
     ]
    }
   ],
   "source": [
    "opt = optimizers.Adam(lr=0.001, beta_1=0.9, beta_2=0.999, epsilon=None, decay=0.0, amsgrad=False)\n",
    "history, model_6 = train(model_6, opt=opt)"
   ]
  },
  {
   "cell_type": "code",
   "execution_count": 5,
   "metadata": {
    "ExecuteTime": {
     "end_time": "2019-09-23T17:41:54.691304Z",
     "start_time": "2019-09-23T17:41:53.853798Z"
    }
   },
   "outputs": [],
   "source": [
    "# save with the convention 'm[model number]_[# parameters]_[best val_acc].h5'\n",
    "model_6.save('..//models//m6_23090_9970.h5')"
   ]
  },
  {
   "cell_type": "markdown",
   "metadata": {},
   "source": [
    "## Model 7: Smaller? 23,090 "
   ]
  },
  {
   "cell_type": "markdown",
   "metadata": {
    "heading_collapsed": true
   },
   "source": [
    "#### Define Train function"
   ]
  },
  {
   "cell_type": "code",
   "execution_count": 2,
   "metadata": {
    "ExecuteTime": {
     "end_time": "2019-09-23T16:53:18.794548Z",
     "start_time": "2019-09-23T16:53:18.783546Z"
    },
    "code_folding": [],
    "hidden": true
   },
   "outputs": [],
   "source": [
    "my_callbacks = [callbacks.EarlyStopping(monitor='val_acc', patience=10, verbose=1, restore_best_weights=True),\n",
    "                callbacks.ReduceLROnPlateau(monitor='val_acc', factor=0.5, patience=4, min_lr=1e-6, mode='auto', verbose=1)]\n",
    "\n",
    "\n",
    "def train(model, epochs=200, initial_epoch=0, batch_size=128, lr=0.01, opt='adadelta', plot_hist='True'):\n",
    "    model.compile(loss='sparse_categorical_crossentropy',\n",
    "                  optimizer=opt,\n",
    "                  metrics=['accuracy'])\n",
    "\n",
    "#     can test augmentation techniques like brightness and rotation\n",
    "    train_generator = ImageDataGenerator(rotation_range=10, width_shift_range=0.15, height_shift_range=0.15, brightness_range=[0.2, 1.2], shear_range=0.0, zoom_range=0.2, channel_shift_range=0.0, fill_mode='nearest', \n",
    "                                         horizontal_flip=False, vertical_flip=False, rescale=1/255, preprocessing_function=None, data_format=None, validation_split=0.0, dtype=None).flow(x_train, y_train, batch_size=batch_size, seed=11)\n",
    "\n",
    "    validation_generator = ImageDataGenerator(rotation_range=10, width_shift_range=0.15, height_shift_range=0.15, brightness_range=[0.2, 1.2], shear_range=0.0, zoom_range=0.2,\n",
    "                                              channel_shift_range=0.0, fill_mode='nearest', horizontal_flip=False, vertical_flip=False, rescale=1/255, preprocessing_function=None, data_format=None, validation_split=0.0, dtype=None).flow(\n",
    "        x_test, y_test, batch_size=batch_size, seed=11)\n",
    "\n",
    "    history = model.fit_generator(generator=train_generator,\n",
    "                                  epochs=epochs+initial_epoch,\n",
    "                                  verbose=1,\n",
    "                                  callbacks=my_callbacks,\n",
    "                                  validation_data=validation_generator,\n",
    "                                  shuffle=True,\n",
    "                                  initial_epoch=initial_epoch)\n",
    "    if(plot_hist):\n",
    "        plot_train_history(history)\n",
    "\n",
    "    index = history.history['val_acc'].index(max(history.history['val_acc']))\n",
    "    print(\n",
    "        'Best val_acc - {:.4} (epoch {:})'.format(history.history['val_acc'][index], index+1))\n",
    "    return history, model"
   ]
  },
  {
   "cell_type": "markdown",
   "metadata": {},
   "source": [
    "#### Define Model"
   ]
  },
  {
   "cell_type": "code",
   "execution_count": 10,
   "metadata": {
    "ExecuteTime": {
     "end_time": "2019-09-23T18:25:02.746626Z",
     "start_time": "2019-09-23T18:25:01.921801Z"
    },
    "code_folding": [],
    "scrolled": true
   },
   "outputs": [
    {
     "name": "stdout",
     "output_type": "stream",
     "text": [
      "Model: \"sequential_3\"\n",
      "_________________________________________________________________\n",
      "Layer (type)                 Output Shape              Param #   \n",
      "=================================================================\n",
      "conv2d_17 (Conv2D)           (None, 126, 126, 15)      420       \n",
      "_________________________________________________________________\n",
      "batch_normalization_17 (Batc (None, 126, 126, 15)      60        \n",
      "_________________________________________________________________\n",
      "activation_21 (Activation)   (None, 126, 126, 15)      0         \n",
      "_________________________________________________________________\n",
      "conv2d_18 (Conv2D)           (None, 124, 124, 15)      2040      \n",
      "_________________________________________________________________\n",
      "batch_normalization_18 (Batc (None, 124, 124, 15)      60        \n",
      "_________________________________________________________________\n",
      "activation_22 (Activation)   (None, 124, 124, 15)      0         \n",
      "_________________________________________________________________\n",
      "max_pooling2d_9 (MaxPooling2 (None, 62, 62, 15)        0         \n",
      "_________________________________________________________________\n",
      "dropout_9 (Dropout)          (None, 62, 62, 15)        0         \n",
      "_________________________________________________________________\n",
      "conv2d_19 (Conv2D)           (None, 60, 60, 15)        2040      \n",
      "_________________________________________________________________\n",
      "batch_normalization_19 (Batc (None, 60, 60, 15)        60        \n",
      "_________________________________________________________________\n",
      "activation_23 (Activation)   (None, 60, 60, 15)        0         \n",
      "_________________________________________________________________\n",
      "conv2d_20 (Conv2D)           (None, 58, 58, 16)        2176      \n",
      "_________________________________________________________________\n",
      "batch_normalization_20 (Batc (None, 58, 58, 16)        64        \n",
      "_________________________________________________________________\n",
      "activation_24 (Activation)   (None, 58, 58, 16)        0         \n",
      "_________________________________________________________________\n",
      "max_pooling2d_10 (MaxPooling (None, 29, 29, 16)        0         \n",
      "_________________________________________________________________\n",
      "dropout_10 (Dropout)         (None, 29, 29, 16)        0         \n",
      "_________________________________________________________________\n",
      "conv2d_21 (Conv2D)           (None, 27, 27, 17)        2465      \n",
      "_________________________________________________________________\n",
      "batch_normalization_21 (Batc (None, 27, 27, 17)        68        \n",
      "_________________________________________________________________\n",
      "activation_25 (Activation)   (None, 27, 27, 17)        0         \n",
      "_________________________________________________________________\n",
      "conv2d_22 (Conv2D)           (None, 25, 25, 16)        2464      \n",
      "_________________________________________________________________\n",
      "batch_normalization_22 (Batc (None, 25, 25, 16)        64        \n",
      "_________________________________________________________________\n",
      "activation_26 (Activation)   (None, 25, 25, 16)        0         \n",
      "_________________________________________________________________\n",
      "max_pooling2d_11 (MaxPooling (None, 12, 12, 16)        0         \n",
      "_________________________________________________________________\n",
      "dropout_11 (Dropout)         (None, 12, 12, 16)        0         \n",
      "_________________________________________________________________\n",
      "conv2d_23 (Conv2D)           (None, 10, 10, 15)        2175      \n",
      "_________________________________________________________________\n",
      "batch_normalization_23 (Batc (None, 10, 10, 15)        60        \n",
      "_________________________________________________________________\n",
      "activation_27 (Activation)   (None, 10, 10, 15)        0         \n",
      "_________________________________________________________________\n",
      "conv2d_24 (Conv2D)           (None, 8, 8, 15)          2040      \n",
      "_________________________________________________________________\n",
      "batch_normalization_24 (Batc (None, 8, 8, 15)          60        \n",
      "_________________________________________________________________\n",
      "activation_28 (Activation)   (None, 8, 8, 15)          0         \n",
      "_________________________________________________________________\n",
      "max_pooling2d_12 (MaxPooling (None, 4, 4, 15)          0         \n",
      "_________________________________________________________________\n",
      "dropout_12 (Dropout)         (None, 4, 4, 15)          0         \n",
      "_________________________________________________________________\n",
      "flatten_3 (Flatten)          (None, 240)               0         \n",
      "_________________________________________________________________\n",
      "dense_5 (Dense)              (None, 11)                2651      \n",
      "_________________________________________________________________\n",
      "activation_29 (Activation)   (None, 11)                0         \n",
      "_________________________________________________________________\n",
      "dense_6 (Dense)              (None, 4)                 48        \n",
      "_________________________________________________________________\n",
      "activation_30 (Activation)   (None, 4)                 0         \n",
      "=================================================================\n",
      "Total params: 19,015\n",
      "Trainable params: 18,767\n",
      "Non-trainable params: 248\n",
      "_________________________________________________________________\n"
     ]
    }
   ],
   "source": [
    "model_7 = Sequential([\n",
    "    Conv2D(15, (3, 3), strides=(1, 1), input_shape=(128, 128, 3), data_format=\"channels_last\", padding='valid'),   # RGB\n",
    "    BatchNormalization(),\n",
    "    Activation('relu'),\n",
    "    Conv2D(15, (3, 3), strides=(1, 1), padding='valid'),\n",
    "    BatchNormalization(),\n",
    "    Activation('relu'),\n",
    "    MaxPooling2D(pool_size=(2, 2)),\n",
    "    Dropout(0.3),\n",
    "    \n",
    "    Conv2D(15, (3, 3), strides=(1, 1), input_shape=(128, 128, 3), data_format=\"channels_last\", padding='valid'),   # RGB\n",
    "    BatchNormalization(),\n",
    "    Activation('relu'),\n",
    "    Conv2D(16, (3, 3), strides=(1, 1), padding='valid'),\n",
    "    BatchNormalization(),\n",
    "    Activation('relu'),\n",
    "    MaxPooling2D(pool_size=(2, 2)),\n",
    "    Dropout(0.3),\n",
    "    \n",
    "    Conv2D(17, (3, 3), strides=(1, 1), input_shape=(128, 128, 3), data_format=\"channels_last\", padding='valid'),   # RGB\n",
    "    BatchNormalization(),\n",
    "    Activation('relu'),\n",
    "    Conv2D(16, (3, 3), strides=(1, 1), padding='valid'),\n",
    "    BatchNormalization(),\n",
    "    Activation('relu'),\n",
    "    MaxPooling2D(pool_size=(2, 2)),\n",
    "    Dropout(0.3),\n",
    "    \n",
    "    Conv2D(15, (3, 3), strides=(1, 1), input_shape=(128, 128, 3), data_format=\"channels_last\", padding='valid'),   # RGB\n",
    "    BatchNormalization(),\n",
    "    Activation('relu'),\n",
    "    Conv2D(15, (3, 3), strides=(1, 1), padding='valid'),\n",
    "    BatchNormalization(),\n",
    "    Activation('relu'),\n",
    "    MaxPooling2D(pool_size=(2, 2)),\n",
    "    Dropout(0.3),\n",
    "    \n",
    "    Flatten(),\n",
    "    Dense(11),\n",
    "    Activation('relu'),\n",
    "    Dense(num_classes),\n",
    "    Activation('softmax')\n",
    "])\n",
    "model_7.summary()"
   ]
  },
  {
   "cell_type": "markdown",
   "metadata": {},
   "source": [
    "#### Execute Training"
   ]
  },
  {
   "cell_type": "code",
   "execution_count": 11,
   "metadata": {
    "ExecuteTime": {
     "end_time": "2019-09-23T18:31:09.516785Z",
     "start_time": "2019-09-23T18:25:15.217516Z"
    },
    "scrolled": true
   },
   "outputs": [
    {
     "name": "stdout",
     "output_type": "stream",
     "text": [
      "Epoch 1/200\n",
      "63/63 [==============================] - 30s 478ms/step - loss: 1.5259 - acc: 0.2512 - val_loss: 1.3923 - val_acc: 0.2432\n",
      "Epoch 2/200\n",
      "63/63 [==============================] - 28s 452ms/step - loss: 1.3911 - acc: 0.2493 - val_loss: 1.3852 - val_acc: 0.2621\n",
      "Epoch 3/200\n",
      "63/63 [==============================] - 29s 456ms/step - loss: 1.3882 - acc: 0.2514 - val_loss: 1.3860 - val_acc: 0.2553\n",
      "Epoch 4/200\n",
      "63/63 [==============================] - 29s 459ms/step - loss: 1.3875 - acc: 0.2495 - val_loss: 1.3853 - val_acc: 0.2492\n",
      "Epoch 5/200\n",
      "63/63 [==============================] - 30s 479ms/step - loss: 1.3862 - acc: 0.2512 - val_loss: 1.3857 - val_acc: 0.2530\n",
      "Epoch 6/200\n",
      "63/63 [==============================] - 29s 467ms/step - loss: 1.3863 - acc: 0.2499 - val_loss: 1.3856 - val_acc: 0.2500\n",
      "\n",
      "Epoch 00006: ReduceLROnPlateau reducing learning rate to 0.0005000000237487257.\n",
      "Epoch 7/200\n",
      "63/63 [==============================] - 28s 452ms/step - loss: 1.3866 - acc: 0.2458 - val_loss: 1.3860 - val_acc: 0.2545\n",
      "Epoch 8/200\n",
      "63/63 [==============================] - 29s 459ms/step - loss: 1.3863 - acc: 0.2454 - val_loss: 1.3877 - val_acc: 0.2417\n",
      "Epoch 9/200\n",
      "63/63 [==============================] - 30s 475ms/step - loss: 1.3867 - acc: 0.2459 - val_loss: 1.3872 - val_acc: 0.2439\n",
      "Epoch 10/200\n",
      "63/63 [==============================] - 28s 452ms/step - loss: 1.3865 - acc: 0.2490 - val_loss: 1.3863 - val_acc: 0.2591\n",
      "\n",
      "Epoch 00010: ReduceLROnPlateau reducing learning rate to 0.0002500000118743628.\n",
      "Epoch 11/200\n",
      "63/63 [==============================] - 29s 463ms/step - loss: 1.3868 - acc: 0.2503 - val_loss: 1.3869 - val_acc: 0.2523\n",
      "Epoch 12/200\n",
      "63/63 [==============================] - 29s 467ms/step - loss: 1.3867 - acc: 0.2498 - val_loss: 1.3862 - val_acc: 0.2530\n",
      "Restoring model weights from the end of the best epoch\n",
      "Epoch 00012: early stopping\n"
     ]
    },
    {
     "data": {
      "image/png": "[encoded data removed]",
      "text/plain": [
       "<Figure size 432x288 with 2 Axes>"
      ]
     },
     "metadata": {
      "needs_background": "light"
     },
     "output_type": "display_data"
    },
    {
     "name": "stdout",
     "output_type": "stream",
     "text": [
      "Best val_acc - 0.2621 (epoch 2)\n"
     ]
    }
   ],
   "source": [
    "opt = optimizers.Adam(lr=0.001, beta_1=0.9, beta_2=0.999, epsilon=None, decay=0.0, amsgrad=False)\n",
    "history, model_7 = train(model_7, opt=opt)"
   ]
  },
  {
   "cell_type": "code",
   "execution_count": 5,
   "metadata": {
    "ExecuteTime": {
     "end_time": "2019-09-23T17:41:54.691304Z",
     "start_time": "2019-09-23T17:41:53.853798Z"
    }
   },
   "outputs": [],
   "source": [
    "# save with the convention 'm[model number]_[# parameters]_[best val_acc].h5'\n",
    "model_6.save('..//models//m6_23090_9970.h5')"
   ]
  },
  {
   "cell_type": "markdown",
   "metadata": {},
   "source": [
    "# Results\n",
    "The fastest optimizer was Adam, achieving a val_acc of 0.9682 at epoch 28.\n",
    "The best performing optimizer is also Adam, with a val_acc of 0.9697 at epoch 56 :)"
   ]
  },
  {
   "cell_type": "code",
   "execution_count": null,
   "metadata": {},
   "outputs": [],
   "source": []
  }
 ],
 "metadata": {
  "kernelspec": {
   "display_name": "Keras GPU",
   "language": "python",
   "name": "keras-gpu"
  },
  "language_info": {
   "codemirror_mode": {
    "name": "ipython",
    "version": 3
   },
   "file_extension": ".py",
   "mimetype": "text/x-python",
   "name": "python",
   "nbconvert_exporter": "python",
   "pygments_lexer": "ipython3",
   "version": "3.7.4"
  },
  "varInspector": {
   "cols": {
    "lenName": 16,
    "lenType": 16,
    "lenVar": 40
   },
   "kernels_config": {
    "python": {
     "delete_cmd_postfix": "",
     "delete_cmd_prefix": "del ",
     "library": "var_list.py",
     "varRefreshCmd": "print(var_dic_list())"
    },
    "r": {
     "delete_cmd_postfix": ") ",
     "delete_cmd_prefix": "rm(",
     "library": "var_list.r",
     "varRefreshCmd": "cat(var_dic_list()) "
    }
   },
   "position": {
    "height": "771px",
    "left": "11px",
    "right": "20px",
    "top": "122px",
    "width": "323px"
   },
   "types_to_exclude": [
    "module",
    "function",
    "builtin_function_or_method",
    "instance",
    "_Feature"
   ],
   "window_display": true
  }
 },
 "nbformat": 4,
 "nbformat_minor": 2
}
